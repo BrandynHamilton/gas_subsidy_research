{
 "cells": [
  {
   "cell_type": "code",
   "execution_count": 1,
   "metadata": {},
   "outputs": [],
   "source": [
    "import os\n",
    "from v3polars.v3 import state\n",
    "\n",
    "from datetime import date, timedelta, datetime, timezone\n"
   ]
  },
  {
   "cell_type": "code",
   "execution_count": 2,
   "metadata": {},
   "outputs": [],
   "source": [
    "os.environ['ALLIUM_POLARSV3_QUERY_ID'] = '1XUgLyOkkWA2ZBbruinG'\n",
    "os.environ['ALLIUM_POLARSV3_API_KEY'] = 'YnB0d4IYklTkUwiaHnpfeYagqjCAsSr2bENZOO33mlEHJbHflZpqqV-5DtCA5herYudWxW9X4AsF4xwwt0umyw'\n",
    "update_from_source = \"allium\""
   ]
  },
  {
   "cell_type": "code",
   "execution_count": 3,
   "metadata": {},
   "outputs": [
    {
     "name": "stdout",
     "output_type": "stream",
     "text": [
      "Starting table factory_pool_created\n",
      "shape: (1, 2)\n",
      "┌───────────┬───────────┐\n",
      "│ min_block ┆ max_block │\n",
      "│ ---       ┆ ---       │\n",
      "│ i64       ┆ i64       │\n",
      "╞═══════════╪═══════════╡\n",
      "│ 185       ┆ 236738315 │\n",
      "└───────────┴───────────┘\n",
      "Found 185 to 236738315\n",
      "Found data - Updated to 236660509 to 236738315\n",
      "Starting at 236660509\n",
      "Going from 236660509 to 236738314\n",
      "No data found for 236660509 to 236738314\n",
      "Starting table pool_initialize_events\n",
      "shape: (1, 2)\n",
      "┌───────────┬───────────┐\n",
      "│ min_block ┆ max_block │\n",
      "│ ---       ┆ ---       │\n",
      "│ i64       ┆ i64       │\n",
      "╞═══════════╪═══════════╡\n",
      "│ 540       ┆ 236738315 │\n",
      "└───────────┴───────────┘\n",
      "Found 540 to 236738315\n",
      "Found data - Updated to 236660509 to 236738315\n",
      "Starting at 236660509\n",
      "Going from 236660509 to 236738314\n",
      "No data found for 236660509 to 236738314\n",
      "Starting table pool_swap_events\n",
      "shape: (1, 2)\n",
      "┌───────────┬───────────┐\n",
      "│ min_block ┆ max_block │\n",
      "│ ---       ┆ ---       │\n",
      "│ i64       ┆ i64       │\n",
      "╞═══════════╪═══════════╡\n",
      "│ 227484    ┆ 236769570 │\n",
      "└───────────┴───────────┘\n",
      "Found 227484 to 236769570\n",
      "Found data - Updated to 236755622 to 236769570\n",
      "Starting at 236755622\n",
      "Going from 236755622 to 236755623\n",
      "No data found for 236755622 to 236755623\n",
      "Starting table pool_mint_burn_events\n",
      "shape: (1, 2)\n",
      "┌───────────┬───────────┐\n",
      "│ min_block ┆ max_block │\n",
      "│ ---       ┆ ---       │\n",
      "│ i64       ┆ i64       │\n",
      "╞═══════════╪═══════════╡\n",
      "│ 100909    ┆ 236769004 │\n",
      "└───────────┴───────────┘\n",
      "Found 100909 to 236769004\n",
      "Found data - Updated to 236768358 to 236769004\n",
      "Starting at 236768358\n",
      "Going from 236768358 to 236769003\n",
      "No data found for 236768358 to 236769003\n",
      "Error in readFromMemoryOrDisk: 'Expr' object has no attribute 'fill_none'\n",
      "Error in readFromMemoryOrDisk: 'Expr' object has no attribute 'fill_none'\n"
     ]
    },
    {
     "ename": "KeyError",
     "evalue": "'swaps'",
     "output_type": "error",
     "traceback": [
      "\u001b[1;31m---------------------------------------------------------------------------\u001b[0m",
      "\u001b[1;31mKeyError\u001b[0m                                  Traceback (most recent call last)",
      "Cell \u001b[1;32mIn[3], line 5\u001b[0m\n\u001b[0;32m      2\u001b[0m chain_name \u001b[38;5;241m=\u001b[39m \u001b[38;5;124m'\u001b[39m\u001b[38;5;124marbitrum\u001b[39m\u001b[38;5;124m'\u001b[39m\n\u001b[0;32m      4\u001b[0m \u001b[38;5;66;03m# Initialize the pool\u001b[39;00m\n\u001b[1;32m----> 5\u001b[0m pool \u001b[38;5;241m=\u001b[39m \u001b[43mstate\u001b[49m\u001b[38;5;241;43m.\u001b[39;49m\u001b[43mv3Pool\u001b[49m\u001b[43m(\u001b[49m\n\u001b[0;32m      6\u001b[0m \u001b[43m    \u001b[49m\u001b[43mpool\u001b[49m\u001b[38;5;241;43m=\u001b[39;49m\u001b[43mpool_address\u001b[49m\u001b[43m,\u001b[49m\n\u001b[0;32m      7\u001b[0m \u001b[43m    \u001b[49m\u001b[43mchain\u001b[49m\u001b[38;5;241;43m=\u001b[39;49m\u001b[43mchain_name\u001b[49m\u001b[43m,\u001b[49m\n\u001b[0;32m      8\u001b[0m \u001b[43m    \u001b[49m\u001b[43mupdate_from\u001b[49m\u001b[38;5;241;43m=\u001b[39;49m\u001b[38;5;124;43m'\u001b[39;49m\u001b[38;5;124;43mallium\u001b[39;49m\u001b[38;5;124;43m'\u001b[39;49m\u001b[43m,\u001b[49m\n\u001b[0;32m      9\u001b[0m \u001b[43m    \u001b[49m\u001b[43mupdate\u001b[49m\u001b[38;5;241;43m=\u001b[39;49m\u001b[38;5;28;43;01mTrue\u001b[39;49;00m\u001b[43m,\u001b[49m\n\u001b[0;32m     10\u001b[0m \u001b[43m    \u001b[49m\u001b[43mtgt_max_rows\u001b[49m\u001b[38;5;241;43m=\u001b[39;49m\u001b[38;5;241;43m1\u001b[39;49m\n\u001b[0;32m     11\u001b[0m \u001b[43m)\u001b[49m\n",
      "File \u001b[1;32me:\\Projects\\gas_subsidy\\v3polars\\v3\\state.py:99\u001b[0m, in \u001b[0;36mv3Pool.__init__\u001b[1;34m(self, pool, chain, update_from, low_memory, update, pull, tgt_max_rows, test_mode)\u001b[0m\n\u001b[0;32m     94\u001b[0m \u001b[38;5;28mself\u001b[39m\u001b[38;5;241m.\u001b[39mreadFromMemoryOrDisk(\u001b[38;5;124m\"\u001b[39m\u001b[38;5;124mpool_swap_events\u001b[39m\u001b[38;5;124m\"\u001b[39m, \u001b[38;5;28mself\u001b[39m\u001b[38;5;241m.\u001b[39mdata_path, save\u001b[38;5;241m=\u001b[39m\u001b[38;5;28;01mTrue\u001b[39;00m)\n\u001b[0;32m     95\u001b[0m \u001b[38;5;28mself\u001b[39m\u001b[38;5;241m.\u001b[39mreadFromMemoryOrDisk(\n\u001b[0;32m     96\u001b[0m     \u001b[38;5;124m\"\u001b[39m\u001b[38;5;124mpool_mint_burn_events\u001b[39m\u001b[38;5;124m\"\u001b[39m, \u001b[38;5;28mself\u001b[39m\u001b[38;5;241m.\u001b[39mdata_path, save\u001b[38;5;241m=\u001b[39m\u001b[38;5;28;01mTrue\u001b[39;00m\n\u001b[0;32m     97\u001b[0m )\n\u001b[1;32m---> 99\u001b[0m max_bn_of_swaps \u001b[38;5;241m=\u001b[39m \u001b[38;5;28;43mself\u001b[39;49m\u001b[38;5;241;43m.\u001b[39;49m\u001b[43mcache\u001b[49m\u001b[43m[\u001b[49m\u001b[38;5;124;43m\"\u001b[39;49m\u001b[38;5;124;43mswaps\u001b[39;49m\u001b[38;5;124;43m\"\u001b[39;49m\u001b[43m]\u001b[49m\u001b[38;5;241m.\u001b[39mselect(\u001b[38;5;124m\"\u001b[39m\u001b[38;5;124mblock_number\u001b[39m\u001b[38;5;124m\"\u001b[39m)\u001b[38;5;241m.\u001b[39mmax()\u001b[38;5;241m.\u001b[39mitem()\n\u001b[0;32m    100\u001b[0m max_bn_of_mb \u001b[38;5;241m=\u001b[39m \u001b[38;5;28mself\u001b[39m\u001b[38;5;241m.\u001b[39mcache[\u001b[38;5;124m\"\u001b[39m\u001b[38;5;124mmb\u001b[39m\u001b[38;5;124m\"\u001b[39m]\u001b[38;5;241m.\u001b[39mselect(\u001b[38;5;124m\"\u001b[39m\u001b[38;5;124mblock_number\u001b[39m\u001b[38;5;124m\"\u001b[39m)\u001b[38;5;241m.\u001b[39mmax()\u001b[38;5;241m.\u001b[39mitem()\n\u001b[0;32m    102\u001b[0m \u001b[38;5;28mself\u001b[39m\u001b[38;5;241m.\u001b[39mmax_supported \u001b[38;5;241m=\u001b[39m \u001b[38;5;28mmin\u001b[39m(max_bn_of_mb, max_bn_of_swaps)\n",
      "\u001b[1;31mKeyError\u001b[0m: 'swaps'"
     ]
    }
   ],
   "source": [
    "pool_address = '0xc31e54c7a869b9fcbecc14363cf510d1c41fa443' # WETH-USDC\n",
    "chain_name = 'arbitrum'\n",
    "\n",
    "# Initialize the pool\n",
    "pool = state.v3Pool(\n",
    "    pool=pool_address,\n",
    "    chain=chain_name,\n",
    "    update_from='allium',\n",
    "    update=True,\n",
    "    tgt_max_rows=100\n",
    ")"
   ]
  },
  {
   "cell_type": "code",
   "execution_count": null,
   "metadata": {},
   "outputs": [],
   "source": [
    "def simulate_subsidy(pool, subsidy_percentage, block_number):\n",
    "    \"\"\"\n",
    "    Simulates the effect of gas subsidies on swap transactions.\n",
    "\n",
    "    :param pool: v3Pool instance\n",
    "    :param subsidy_percentage: Percentage of gas subsidy\n",
    "    :param block_number: Block number to simulate\n",
    "    :return: Results of the simulation\n",
    "    \"\"\"\n",
    "    # Apply gas subsidy model (for demonstration purposes, adjust based on actual implementation)\n",
    "    calldata = {\n",
    "        'as_of': block_number,\n",
    "        'tokenIn': '0x82aF49447D8a07e3bd95BD0d56f35241523fBab1',\n",
    "        'swapIn': 1e18  # Amount of tokens to swap\n",
    "    }\n",
    "\n",
    "    # Simulate swap with the given subsidy\n",
    "    amt, fees = pool.swapIn(calldata)\n",
    "    \n",
    "    # Assuming gas subsidies would affect transaction fees, adjust fees accordingly\n",
    "    subsidized_fees = fees * (1 - subsidy_percentage)\n",
    "    \n",
    "    return amt, subsidized_fees"
   ]
  },
  {
   "cell_type": "code",
   "execution_count": null,
   "metadata": {},
   "outputs": [],
   "source": [
    "subsidies = [0, 0.5, 1.0]  # 0%, 50%, 100%\n",
    "block_number = 150000000   # Example block number\n",
    "results = {}\n",
    "\n",
    "for subsidy in subsidies:\n",
    "    amt, subsidized_fees = simulate_subsidy(pool, subsidy, block_number)\n",
    "    results[subsidy] = {\n",
    "        'amount': amt,\n",
    "        'subsidized_fees': subsidized_fees\n",
    "    }\n",
    "\n",
    "# Print results\n",
    "for subsidy, data in results.items():\n",
    "    print(f\"Subsidy: {subsidy * 100}%\")\n",
    "    print(f\"Amount: {data['amount']}\")\n",
    "    print(f\"Subsidized Fees: {data['subsidized_fees']}\")\n"
   ]
  }
 ],
 "metadata": {
  "kernelspec": {
   "display_name": "gas subsidy kernel",
   "language": "python",
   "name": "gas_subsidy"
  },
  "language_info": {
   "codemirror_mode": {
    "name": "ipython",
    "version": 3
   },
   "file_extension": ".py",
   "mimetype": "text/x-python",
   "name": "python",
   "nbconvert_exporter": "python",
   "pygments_lexer": "ipython3",
   "version": "3.11.9"
  }
 },
 "nbformat": 4,
 "nbformat_minor": 2
}
