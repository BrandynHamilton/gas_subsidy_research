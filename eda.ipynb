{
 "cells": [
  {
   "cell_type": "code",
   "execution_count": 69,
   "metadata": {},
   "outputs": [],
   "source": [
    "import pandas as pd\n",
    "import numpy as np\n",
    "from dune_client.client import DuneClient\n",
    "from flipside import Flipside\n",
    "import plotly\n",
    "import datetime as dt\n",
    "from dotenv import load_dotenv\n",
    "from prophet import Prophet\n",
    "import os\n",
    "from plotly.subplots import make_subplots\n",
    "import plotly.graph_objects as go\n",
    "import plotly.express as px\n",
    "\n",
    "\n",
    "# import yfinance as yf\n",
    "\n",
    "from utils import flipside_api_results\n",
    "from sql import trader_classifier_query"
   ]
  },
  {
   "cell_type": "code",
   "execution_count": 2,
   "metadata": {},
   "outputs": [
    {
     "data": {
      "text/plain": [
       "True"
      ]
     },
     "execution_count": 2,
     "metadata": {},
     "output_type": "execute_result"
    }
   ],
   "source": [
    "load_dotenv()"
   ]
  },
  {
   "cell_type": "code",
   "execution_count": 3,
   "metadata": {},
   "outputs": [
    {
     "name": "stdout",
     "output_type": "stream",
     "text": [
      "CPh7RV9x58ODbTuhYEA9lnpD4NkIvyEi 4604d4d2-ccf3-4864-90b4-db6bf13c663b\n"
     ]
    }
   ],
   "source": [
    "dune_api_key = os.getenv('DUNE_API_KEY')\n",
    "flipside_api_key = os.getenv('FLIPSIDE_API_KEY')\n",
    "dune = DuneClient(dune_api_key)\n",
    "print(dune_api_key, flipside_api_key)"
   ]
  },
  {
   "cell_type": "markdown",
   "metadata": {},
   "source": [
    "# Data Retrieval "
   ]
  },
  {
   "cell_type": "markdown",
   "metadata": {},
   "source": [
    "## Dune Queries"
   ]
  },
  {
   "cell_type": "markdown",
   "metadata": {},
   "source": [
    "Uniswap Arbitrum Pool Data\n",
    "https://dune.com/queries/3930878\n",
    "\n",
    "Arbitrum Gas Data\n",
    "https://dune.com/queries/3931017"
   ]
  },
  {
   "cell_type": "code",
   "execution_count": 42,
   "metadata": {},
   "outputs": [],
   "source": [
    "def dune_api_results(query_num, save_csv=False, csv_path=None):\n",
    "    results = dune.get_latest_result(query_num)\n",
    "    df = pd.DataFrame(results.result.rows)\n",
    "\n",
    "    if save_csv and csv_path:\n",
    "        df.to_csv(csv_path, index=False)\n",
    "    return df\n"
   ]
  },
  {
   "cell_type": "markdown",
   "metadata": {},
   "source": [
    "arb_pool_path = 'data/arb_pool_data.csv'\n",
    "arb_pool_df = dune_api_results(3930878, True, arb_pool_path)\n",
    "arb_pool_df"
   ]
  },
  {
   "cell_type": "code",
   "execution_count": 45,
   "metadata": {},
   "outputs": [
    {
     "name": "stdout",
     "output_type": "stream",
     "text": [
      "Index(['arbitrum_avg_liquidity', 'day', 'arbitrum_fee_apr',\n",
      "       'arbitrum_fee_tier', 'arbitrum_fees_usd', 'arbitrum_lp_addr',\n",
      "       'arbitrum_num_trades', 'arbitrum_token_pair', 'arbitrum_tvl_usd',\n",
      "       'arbitrum_volume_to_tvl', 'arbitrum_volume_usd'],\n",
      "      dtype='object')\n"
     ]
    }
   ],
   "source": [
    "arb_pool_path = 'data/arb_pool_data.csv'\n",
    "arb_pool_df = pd.read_csv(arb_pool_path)\n",
    "arb_pool_df.columns = [f'arbitrum_{col}' if col != 'day' else col for col in arb_pool_df.columns]\n",
    "print(arb_pool_df.columns)"
   ]
  },
  {
   "cell_type": "markdown",
   "metadata": {},
   "source": [
    "arbitrum_gas = dune.get_latest_result(3931017)\n",
    "arbitrum_gas_df = pd.DataFrame(arbitrum_gas.result.rows)\n",
    "arbitrum_gas_path = 'data/arb_gas.csv'\n",
    "arbitrum_gas_df.to_csv(arbitrum_gas_path, index=False)"
   ]
  },
  {
   "cell_type": "code",
   "execution_count": 25,
   "metadata": {},
   "outputs": [
    {
     "data": {
      "text/html": [
       "<div>\n",
       "<style scoped>\n",
       "    .dataframe tbody tr th:only-of-type {\n",
       "        vertical-align: middle;\n",
       "    }\n",
       "\n",
       "    .dataframe tbody tr th {\n",
       "        vertical-align: top;\n",
       "    }\n",
       "\n",
       "    .dataframe thead th {\n",
       "        text-align: right;\n",
       "    }\n",
       "</style>\n",
       "<table border=\"1\" class=\"dataframe\">\n",
       "  <thead>\n",
       "    <tr style=\"text-align: right;\">\n",
       "      <th></th>\n",
       "      <th>dt</th>\n",
       "      <th>gas_usd_per_tx</th>\n",
       "      <th>median_gas_usd</th>\n",
       "    </tr>\n",
       "  </thead>\n",
       "  <tbody>\n",
       "    <tr>\n",
       "      <th>0</th>\n",
       "      <td>2024-04-22 00:00:00.000 UTC</td>\n",
       "      <td>0.010387</td>\n",
       "      <td>0.006123</td>\n",
       "    </tr>\n",
       "    <tr>\n",
       "      <th>1</th>\n",
       "      <td>2024-04-22 01:00:00.000 UTC</td>\n",
       "      <td>0.010970</td>\n",
       "      <td>0.006445</td>\n",
       "    </tr>\n",
       "    <tr>\n",
       "      <th>2</th>\n",
       "      <td>2024-04-22 02:00:00.000 UTC</td>\n",
       "      <td>0.009510</td>\n",
       "      <td>0.005550</td>\n",
       "    </tr>\n",
       "    <tr>\n",
       "      <th>3</th>\n",
       "      <td>2024-04-22 03:00:00.000 UTC</td>\n",
       "      <td>0.010174</td>\n",
       "      <td>0.005812</td>\n",
       "    </tr>\n",
       "    <tr>\n",
       "      <th>4</th>\n",
       "      <td>2024-04-22 04:00:00.000 UTC</td>\n",
       "      <td>0.009947</td>\n",
       "      <td>0.006139</td>\n",
       "    </tr>\n",
       "    <tr>\n",
       "      <th>...</th>\n",
       "      <td>...</td>\n",
       "      <td>...</td>\n",
       "      <td>...</td>\n",
       "    </tr>\n",
       "    <tr>\n",
       "      <th>2157</th>\n",
       "      <td>2024-07-20 21:00:00.000 UTC</td>\n",
       "      <td>0.009192</td>\n",
       "      <td>0.005052</td>\n",
       "    </tr>\n",
       "    <tr>\n",
       "      <th>2158</th>\n",
       "      <td>2024-07-20 22:00:00.000 UTC</td>\n",
       "      <td>0.010094</td>\n",
       "      <td>0.005563</td>\n",
       "    </tr>\n",
       "    <tr>\n",
       "      <th>2159</th>\n",
       "      <td>2024-07-20 23:00:00.000 UTC</td>\n",
       "      <td>0.009521</td>\n",
       "      <td>0.005383</td>\n",
       "    </tr>\n",
       "    <tr>\n",
       "      <th>2160</th>\n",
       "      <td>2024-07-21 00:00:00.000 UTC</td>\n",
       "      <td>0.009502</td>\n",
       "      <td>0.005291</td>\n",
       "    </tr>\n",
       "    <tr>\n",
       "      <th>2161</th>\n",
       "      <td>2024-07-21 01:00:00.000 UTC</td>\n",
       "      <td>0.009373</td>\n",
       "      <td>0.005222</td>\n",
       "    </tr>\n",
       "  </tbody>\n",
       "</table>\n",
       "<p>2162 rows × 3 columns</p>\n",
       "</div>"
      ],
      "text/plain": [
       "                               dt  gas_usd_per_tx  median_gas_usd\n",
       "0     2024-04-22 00:00:00.000 UTC        0.010387        0.006123\n",
       "1     2024-04-22 01:00:00.000 UTC        0.010970        0.006445\n",
       "2     2024-04-22 02:00:00.000 UTC        0.009510        0.005550\n",
       "3     2024-04-22 03:00:00.000 UTC        0.010174        0.005812\n",
       "4     2024-04-22 04:00:00.000 UTC        0.009947        0.006139\n",
       "...                           ...             ...             ...\n",
       "2157  2024-07-20 21:00:00.000 UTC        0.009192        0.005052\n",
       "2158  2024-07-20 22:00:00.000 UTC        0.010094        0.005563\n",
       "2159  2024-07-20 23:00:00.000 UTC        0.009521        0.005383\n",
       "2160  2024-07-21 00:00:00.000 UTC        0.009502        0.005291\n",
       "2161  2024-07-21 01:00:00.000 UTC        0.009373        0.005222\n",
       "\n",
       "[2162 rows x 3 columns]"
      ]
     },
     "execution_count": 25,
     "metadata": {},
     "output_type": "execute_result"
    }
   ],
   "source": [
    "arbitrum_gas_path = 'data/arb_gas.csv'\n",
    "arbitrum_gas_df = pd.read_csv(arbitrum_gas_path)\n",
    "if 'Unnamed: 0' in arbitrum_gas_df.columns:\n",
    "    arbitrum_gas_df = arbitrum_gas_df.drop('Unnamed: 0', axis=1)\n",
    "arbitrum_gas_df.columns = [f'arbitrum_{col}' if col != 'dt' else col for col in arbitrum_gas_df.columns]\n",
    "arbitrum_gas_df.columns\n"
   ]
  },
  {
   "cell_type": "markdown",
   "metadata": {},
   "source": [
    "Uniswap Optimism Pool Data\n",
    "https://dune.com/queries/3930989\n",
    "\n",
    "Optimism Gas Data \n",
    "https://dune.com/queries/3930989"
   ]
  },
  {
   "cell_type": "markdown",
   "metadata": {},
   "source": [
    "op_pool_path = 'data/op_pool_data.csv'\n",
    "op_pool_df = dune_api_results(3930989, True, op_pool_path)\n",
    "op_pool_df"
   ]
  },
  {
   "cell_type": "code",
   "execution_count": 47,
   "metadata": {},
   "outputs": [
    {
     "name": "stdout",
     "output_type": "stream",
     "text": [
      "Index(['optimism_avg_liquidity', 'day', 'optimism_fee_apr',\n",
      "       'optimism_fee_tier', 'optimism_fees_usd', 'optimism_lp_addr',\n",
      "       'optimism_num_trades', 'optimism_token_pair', 'optimism_tvl_usd',\n",
      "       'optimism_volume_to_tvl', 'optimism_volume_usd'],\n",
      "      dtype='object')\n"
     ]
    }
   ],
   "source": [
    "op_pool_path = 'data/op_pool_data.csv'\n",
    "op_pool_df = pd.read_csv(op_pool_path)\n",
    "op_pool_df.columns = [f'optimism_{col}' if col != 'day' else col for col in op_pool_df.columns]\n",
    "print(op_pool_df.columns)"
   ]
  },
  {
   "cell_type": "markdown",
   "metadata": {},
   "source": [
    "optimism_gas = dune.get_latest_result_dataframe(3931019)\n",
    "optimism_gas_path = 'data/op_gas.csv'\n",
    "optimism_gas.to_csv(optimism_gas_path, index=False)"
   ]
  },
  {
   "cell_type": "code",
   "execution_count": 36,
   "metadata": {},
   "outputs": [
    {
     "data": {
      "text/plain": [
       "Index(['dt', 'optimism_gas_usd_per_tx', 'optimism_median_gas_usd'], dtype='object')"
      ]
     },
     "execution_count": 36,
     "metadata": {},
     "output_type": "execute_result"
    }
   ],
   "source": [
    "optimism_gas_path = 'data/op_gas.csv'\n",
    "optimism_gas_df = pd.read_csv(optimism_gas_path)\n",
    "optimism_gas_df = optimism_gas_df.drop('_col3', axis=1) if '_col3' in optimism_gas_df.columns else optimism_gas_df\n",
    "optimism_gas_df.columns = [f'optimism_{col}' if col != 'dt' else col for col in optimism_gas_df.columns]\n",
    "optimism_gas_df.columns"
   ]
  },
  {
   "cell_type": "markdown",
   "metadata": {},
   "source": [
    "Uniswap Base Pool Data\n",
    "https://dune.com/queries/3930954\n",
    "\n",
    "Base Gas Data\n",
    "https://dune.com/queries/3931021"
   ]
  },
  {
   "cell_type": "markdown",
   "metadata": {},
   "source": [
    "base_pool_path = 'data/base_pool_data.csv'\n",
    "base_pool_df = dune_api_results(3930954, True, base_pool_path)\n",
    "base_pool_df"
   ]
  },
  {
   "cell_type": "code",
   "execution_count": 49,
   "metadata": {},
   "outputs": [
    {
     "name": "stdout",
     "output_type": "stream",
     "text": [
      "Index(['base_avg_liquidity', 'day', 'base_fee_apr', 'base_fee_tier',\n",
      "       'base_fees_usd', 'base_lp_addr', 'base_num_trades', 'base_token_pair',\n",
      "       'base_tvl_usd', 'base_volume_to_tvl', 'base_volume_usd'],\n",
      "      dtype='object')\n"
     ]
    }
   ],
   "source": [
    "base_pool_path = 'data/base_pool_data.csv'\n",
    "base_pool_df = pd.read_csv(base_pool_path)\n",
    "base_pool_df.columns = [f'base_{col}' if col != 'day' else col for col in base_pool_df.columns]\n",
    "print(base_pool_df.columns)"
   ]
  },
  {
   "cell_type": "markdown",
   "metadata": {},
   "source": [
    "base_gas = dune.get_latest_result_dataframe(3931021)\n",
    "base_gas_path = 'data/base_gas.csv'\n",
    "base_gas.to_csv(base_gas_path, index=False)"
   ]
  },
  {
   "cell_type": "code",
   "execution_count": 39,
   "metadata": {},
   "outputs": [
    {
     "data": {
      "text/plain": [
       "Index(['dt', 'base_gas_usd_per_tx', 'base_median_gas_usd'], dtype='object')"
      ]
     },
     "execution_count": 39,
     "metadata": {},
     "output_type": "execute_result"
    }
   ],
   "source": [
    "base_gas_path = 'data/base_gas.csv'\n",
    "base_gas_df = pd.read_csv(base_gas_path)\n",
    "base_gas_df.columns = [f'base_{col}' if col != 'dt' else col for col in base_gas_df.columns]\n",
    "base_gas_df.columns"
   ]
  },
  {
   "cell_type": "markdown",
   "metadata": {},
   "source": [
    "## Flipside Queries "
   ]
  },
  {
   "cell_type": "markdown",
   "metadata": {},
   "source": [
    "Trader Classifier - Arbitrum Data\n",
    "https://flipsidecrypto.xyz/Brandyn/q/7NlPxrKU5KQb/2024-07-20-06-36-pm"
   ]
  },
  {
   "cell_type": "code",
   "execution_count": 4,
   "metadata": {},
   "outputs": [
    {
     "name": "stdout",
     "output_type": "stream",
     "text": [
      "        trader_type                        dt  tx_count  total_volume_usd  \\\n",
      "0      Professional  2024-07-21T15:00:00.000Z       928        1047810.93   \n",
      "1            Retail  2024-07-21T15:00:00.000Z       176          91856.49   \n",
      "2      Professional  2024-07-21T14:00:00.000Z      7552       12913378.38   \n",
      "3            Retail  2024-07-21T14:00:00.000Z      1790         294765.21   \n",
      "4      Professional  2024-07-21T13:00:00.000Z      4472        5883981.27   \n",
      "...             ...                       ...       ...               ...   \n",
      "18553        Retail  2023-07-01T02:00:00.000Z      1170         278669.36   \n",
      "18554  Professional  2023-07-01T01:00:00.000Z      4263       12052488.42   \n",
      "18555        Retail  2023-07-01T01:00:00.000Z      1254         301856.49   \n",
      "18556  Professional  2023-07-01T00:00:00.000Z      4124       11335892.35   \n",
      "18557        Retail  2023-07-01T00:00:00.000Z      1084         402822.79   \n",
      "\n",
      "       avg_order_size_usd  unique_contracts  __row_index  \n",
      "0             1183.967153               104            0  \n",
      "1              540.332294                60            1  \n",
      "2             1766.536030               252            2  \n",
      "3              170.680492               196            3  \n",
      "4             1367.731583               211            4  \n",
      "...                   ...               ...          ...  \n",
      "18553          432.716398               108        18553  \n",
      "18554         3328.497216               161        18554  \n",
      "18555          417.505519               110        18555  \n",
      "18556         3270.597908               176        18556  \n",
      "18557          613.124490               116        18557  \n",
      "\n",
      "[18558 rows x 7 columns]\n"
     ]
    }
   ],
   "source": [
    "classifier_data_path = 'data/classifier.csv'\n",
    "trader_classifier_data = flipside_api_results(trader_classifier_query, flipside_api_key)\n",
    "print(trader_classifier_data)\n",
    "trader_classifier_data.to_csv(classifier_data_path, index=False)"
   ]
  },
  {
   "cell_type": "code",
   "execution_count": 6,
   "metadata": {},
   "outputs": [
    {
     "data": {
      "text/html": [
       "<div>\n",
       "<style scoped>\n",
       "    .dataframe tbody tr th:only-of-type {\n",
       "        vertical-align: middle;\n",
       "    }\n",
       "\n",
       "    .dataframe tbody tr th {\n",
       "        vertical-align: top;\n",
       "    }\n",
       "\n",
       "    .dataframe thead th {\n",
       "        text-align: right;\n",
       "    }\n",
       "</style>\n",
       "<table border=\"1\" class=\"dataframe\">\n",
       "  <thead>\n",
       "    <tr style=\"text-align: right;\">\n",
       "      <th></th>\n",
       "      <th>trader_type</th>\n",
       "      <th>dt</th>\n",
       "      <th>tx_count</th>\n",
       "      <th>total_volume_usd</th>\n",
       "      <th>avg_order_size_usd</th>\n",
       "      <th>unique_contracts</th>\n",
       "    </tr>\n",
       "  </thead>\n",
       "  <tbody>\n",
       "    <tr>\n",
       "      <th>0</th>\n",
       "      <td>Professional</td>\n",
       "      <td>2024-07-21T15:00:00.000Z</td>\n",
       "      <td>928</td>\n",
       "      <td>1047810.93</td>\n",
       "      <td>1183.967153</td>\n",
       "      <td>104</td>\n",
       "    </tr>\n",
       "    <tr>\n",
       "      <th>1</th>\n",
       "      <td>Retail</td>\n",
       "      <td>2024-07-21T15:00:00.000Z</td>\n",
       "      <td>176</td>\n",
       "      <td>91856.49</td>\n",
       "      <td>540.332294</td>\n",
       "      <td>60</td>\n",
       "    </tr>\n",
       "    <tr>\n",
       "      <th>2</th>\n",
       "      <td>Professional</td>\n",
       "      <td>2024-07-21T14:00:00.000Z</td>\n",
       "      <td>7552</td>\n",
       "      <td>12913378.38</td>\n",
       "      <td>1766.536030</td>\n",
       "      <td>252</td>\n",
       "    </tr>\n",
       "    <tr>\n",
       "      <th>3</th>\n",
       "      <td>Retail</td>\n",
       "      <td>2024-07-21T14:00:00.000Z</td>\n",
       "      <td>1790</td>\n",
       "      <td>294765.21</td>\n",
       "      <td>170.680492</td>\n",
       "      <td>196</td>\n",
       "    </tr>\n",
       "    <tr>\n",
       "      <th>4</th>\n",
       "      <td>Professional</td>\n",
       "      <td>2024-07-21T13:00:00.000Z</td>\n",
       "      <td>4472</td>\n",
       "      <td>5883981.27</td>\n",
       "      <td>1367.731583</td>\n",
       "      <td>211</td>\n",
       "    </tr>\n",
       "  </tbody>\n",
       "</table>\n",
       "</div>"
      ],
      "text/plain": [
       "    trader_type                        dt  tx_count  total_volume_usd  \\\n",
       "0  Professional  2024-07-21T15:00:00.000Z       928        1047810.93   \n",
       "1        Retail  2024-07-21T15:00:00.000Z       176          91856.49   \n",
       "2  Professional  2024-07-21T14:00:00.000Z      7552       12913378.38   \n",
       "3        Retail  2024-07-21T14:00:00.000Z      1790         294765.21   \n",
       "4  Professional  2024-07-21T13:00:00.000Z      4472        5883981.27   \n",
       "\n",
       "   avg_order_size_usd  unique_contracts  \n",
       "0         1183.967153               104  \n",
       "1          540.332294                60  \n",
       "2         1766.536030               252  \n",
       "3          170.680492               196  \n",
       "4         1367.731583               211  "
      ]
     },
     "execution_count": 6,
     "metadata": {},
     "output_type": "execute_result"
    }
   ],
   "source": [
    "trader_classifier_df = pd.read_csv(classifier_data_path)\n",
    "trader_classifier_df.drop(columns=['__row_index'], inplace=True)\n",
    "trader_classifier_df.head()"
   ]
  },
  {
   "cell_type": "markdown",
   "metadata": {},
   "source": [
    "# Data Cleaning/Processing\n",
    "\n",
    "Each token pair has several fee tiers and some have differente lp addresses.  \n",
    "\n",
    "Can aggregate metrics to token pair and/or seperate each fee-tier out, aggregate by addresses"
   ]
  },
  {
   "cell_type": "code",
   "execution_count": null,
   "metadata": {},
   "outputs": [],
   "source": []
  },
  {
   "cell_type": "markdown",
   "metadata": {},
   "source": [
    "# Data Analysis"
   ]
  },
  {
   "cell_type": "markdown",
   "metadata": {},
   "source": [
    "## Arbitrum"
   ]
  },
  {
   "cell_type": "markdown",
   "metadata": {},
   "source": [
    "### Summary Statistics"
   ]
  },
  {
   "cell_type": "code",
   "execution_count": 51,
   "metadata": {},
   "outputs": [
    {
     "name": "stdout",
     "output_type": "stream",
     "text": [
      "       arbitrum_avg_liquidity  arbitrum_fee_apr  arbitrum_fees_usd  \\\n",
      "count            3.468000e+03      3.468000e+03       3.468000e+03   \n",
      "mean             1.782774e+24      1.458773e-02       2.966866e+02   \n",
      "std              7.617222e+24      5.095527e-02       7.349982e+02   \n",
      "min              9.140293e+07      3.241851e-13       6.002412e-15   \n",
      "25%              6.812052e+15      8.222112e-04       2.920990e-01   \n",
      "50%              1.903847e+18      4.227947e-03       1.321334e+01   \n",
      "75%              2.049945e+22      1.363400e-02       2.495379e+02   \n",
      "max              4.600563e+25      1.606219e+00       8.186259e+03   \n",
      "\n",
      "       arbitrum_num_trades  arbitrum_tvl_usd  arbitrum_volume_to_tvl  \\\n",
      "count          3468.000000      3.468000e+03            3.468000e+03   \n",
      "mean            190.908304      9.310402e+06            5.508794e-02   \n",
      "std             338.143117      1.496615e+07            1.409350e-01   \n",
      "min               1.000000      6.708087e+00            2.982674e-13   \n",
      "25%               8.000000      7.006416e+04            1.647830e-03   \n",
      "50%              36.000000      3.649218e+06            1.688388e-02   \n",
      "75%             215.000000      1.080055e+07            5.367048e-02   \n",
      "max            2849.000000      5.466580e+07            2.917380e+00   \n",
      "\n",
      "       arbitrum_volume_usd  \n",
      "count         3.468000e+03  \n",
      "mean          5.085545e+05  \n",
      "std           1.421365e+06  \n",
      "min           2.000804e-12  \n",
      "25%           7.454115e+02  \n",
      "50%           9.454087e+03  \n",
      "75%           2.819987e+05  \n",
      "max           1.637252e+07  \n"
     ]
    }
   ],
   "source": [
    "print(arb_pool_df.describe())"
   ]
  },
  {
   "cell_type": "code",
   "execution_count": 52,
   "metadata": {},
   "outputs": [
    {
     "name": "stdout",
     "output_type": "stream",
     "text": [
      "       arbitrum_gas_usd_per_tx  arbitrum_median_gas_usd\n",
      "count              2162.000000              2162.000000\n",
      "mean                  0.023634                 0.012860\n",
      "std                   0.221630                 0.129315\n",
      "min                   0.004397                 0.001491\n",
      "25%                   0.006888                 0.004532\n",
      "50%                   0.008472                 0.005564\n",
      "75%                   0.010704                 0.007182\n",
      "max                   6.944713                 4.181090\n"
     ]
    }
   ],
   "source": [
    "print(arbitrum_gas_df.describe())"
   ]
  },
  {
   "cell_type": "markdown",
   "metadata": {},
   "source": [
    "### Data Visualizations"
   ]
  },
  {
   "cell_type": "code",
   "execution_count": 92,
   "metadata": {},
   "outputs": [
    {
     "data": {
      "text/html": [
       "<div>\n",
       "<style scoped>\n",
       "    .dataframe tbody tr th:only-of-type {\n",
       "        vertical-align: middle;\n",
       "    }\n",
       "\n",
       "    .dataframe tbody tr th {\n",
       "        vertical-align: top;\n",
       "    }\n",
       "\n",
       "    .dataframe thead th {\n",
       "        text-align: right;\n",
       "    }\n",
       "</style>\n",
       "<table border=\"1\" class=\"dataframe\">\n",
       "  <thead>\n",
       "    <tr style=\"text-align: right;\">\n",
       "      <th></th>\n",
       "      <th>arbitrum_avg_liquidity</th>\n",
       "      <th>day</th>\n",
       "      <th>arbitrum_fee_apr</th>\n",
       "      <th>arbitrum_fee_tier</th>\n",
       "      <th>arbitrum_fees_usd</th>\n",
       "      <th>arbitrum_lp_addr</th>\n",
       "      <th>arbitrum_num_trades</th>\n",
       "      <th>arbitrum_token_pair</th>\n",
       "      <th>arbitrum_tvl_usd</th>\n",
       "      <th>arbitrum_volume_to_tvl</th>\n",
       "      <th>arbitrum_volume_usd</th>\n",
       "    </tr>\n",
       "  </thead>\n",
       "  <tbody>\n",
       "    <tr>\n",
       "      <th>0</th>\n",
       "      <td>1.854139e+23</td>\n",
       "      <td>2024-07-14 00:00:00.000 UTC</td>\n",
       "      <td>3.781496e-02</td>\n",
       "      <td>0.30%</td>\n",
       "      <td>386.685410</td>\n",
       "      <td>0x4cef551255ec96d89fec975446301b5c4e164c59</td>\n",
       "      <td>119</td>\n",
       "      <td>WETH-ZRO</td>\n",
       "      <td>3.732390e+06</td>\n",
       "      <td>3.453421e-02</td>\n",
       "      <td>1.288951e+05</td>\n",
       "    </tr>\n",
       "    <tr>\n",
       "      <th>1</th>\n",
       "      <td>2.075720e+16</td>\n",
       "      <td>2024-07-14 00:00:00.000 UTC</td>\n",
       "      <td>1.591761e-02</td>\n",
       "      <td>0.01%</td>\n",
       "      <td>3.056607</td>\n",
       "      <td>0x6f38e884725a116c9c7fbf208e79fe8828a2595f</td>\n",
       "      <td>287</td>\n",
       "      <td>USDC-WETH</td>\n",
       "      <td>7.008980e+04</td>\n",
       "      <td>4.360988e-01</td>\n",
       "      <td>3.056607e+04</td>\n",
       "    </tr>\n",
       "    <tr>\n",
       "      <th>2</th>\n",
       "      <td>1.965666e+12</td>\n",
       "      <td>2024-07-14 00:00:00.000 UTC</td>\n",
       "      <td>1.469532e-02</td>\n",
       "      <td>0.05%</td>\n",
       "      <td>412.274720</td>\n",
       "      <td>0x0e4831319a50228b9e450861297ab92dee15b44f</td>\n",
       "      <td>466</td>\n",
       "      <td>USDC-WBTC</td>\n",
       "      <td>1.024001e+07</td>\n",
       "      <td>8.052231e-02</td>\n",
       "      <td>8.245494e+05</td>\n",
       "    </tr>\n",
       "    <tr>\n",
       "      <th>3</th>\n",
       "      <td>4.911041e+18</td>\n",
       "      <td>2024-07-14 00:00:00.000 UTC</td>\n",
       "      <td>1.290974e-02</td>\n",
       "      <td>0.05%</td>\n",
       "      <td>1705.827484</td>\n",
       "      <td>0xc6962004f452be9203591991d15f6b388e09e8d0</td>\n",
       "      <td>845</td>\n",
       "      <td>USDC-WETH</td>\n",
       "      <td>4.822924e+07</td>\n",
       "      <td>7.073831e-02</td>\n",
       "      <td>3.411655e+06</td>\n",
       "    </tr>\n",
       "    <tr>\n",
       "      <th>4</th>\n",
       "      <td>4.950377e+15</td>\n",
       "      <td>2024-07-14 00:00:00.000 UTC</td>\n",
       "      <td>8.265621e-03</td>\n",
       "      <td>0.01%</td>\n",
       "      <td>0.540105</td>\n",
       "      <td>0x42161084d0672e1d3f26a9b53e653be2084ff19c</td>\n",
       "      <td>136</td>\n",
       "      <td>USDT-WETH</td>\n",
       "      <td>2.385039e+04</td>\n",
       "      <td>2.264554e-01</td>\n",
       "      <td>5.401049e+03</td>\n",
       "    </tr>\n",
       "    <tr>\n",
       "      <th>...</th>\n",
       "      <td>...</td>\n",
       "      <td>...</td>\n",
       "      <td>...</td>\n",
       "      <td>...</td>\n",
       "      <td>...</td>\n",
       "      <td>...</td>\n",
       "      <td>...</td>\n",
       "      <td>...</td>\n",
       "      <td>...</td>\n",
       "      <td>...</td>\n",
       "      <td>...</td>\n",
       "    </tr>\n",
       "    <tr>\n",
       "      <th>3463</th>\n",
       "      <td>4.005206e+14</td>\n",
       "      <td>2024-07-21 01:00:00.000 UTC</td>\n",
       "      <td>5.688889e-05</td>\n",
       "      <td>0.01%</td>\n",
       "      <td>0.002823</td>\n",
       "      <td>0x42161084d0672e1d3f26a9b53e653be2084ff19c</td>\n",
       "      <td>10</td>\n",
       "      <td>USDT-WETH</td>\n",
       "      <td>1.811063e+04</td>\n",
       "      <td>1.558600e-03</td>\n",
       "      <td>2.822722e+01</td>\n",
       "    </tr>\n",
       "    <tr>\n",
       "      <th>3464</th>\n",
       "      <td>2.830767e+17</td>\n",
       "      <td>2024-07-21 01:00:00.000 UTC</td>\n",
       "      <td>1.923425e-05</td>\n",
       "      <td>0.05%</td>\n",
       "      <td>2.789811</td>\n",
       "      <td>0x2f5e87c9312fa29aed5c179e456625d79015299c</td>\n",
       "      <td>11</td>\n",
       "      <td>WBTC-WETH</td>\n",
       "      <td>5.294103e+07</td>\n",
       "      <td>1.053932e-04</td>\n",
       "      <td>5.579623e+03</td>\n",
       "    </tr>\n",
       "    <tr>\n",
       "      <th>3465</th>\n",
       "      <td>1.792792e+14</td>\n",
       "      <td>2024-07-21 01:00:00.000 UTC</td>\n",
       "      <td>1.801927e-05</td>\n",
       "      <td>0.01%</td>\n",
       "      <td>0.001416</td>\n",
       "      <td>0x03a3be7ab4aa263d42d63b6cc594f4fb3d3f3951</td>\n",
       "      <td>2</td>\n",
       "      <td>WBTC-WETH</td>\n",
       "      <td>2.867966e+04</td>\n",
       "      <td>4.936787e-04</td>\n",
       "      <td>1.415854e+01</td>\n",
       "    </tr>\n",
       "    <tr>\n",
       "      <th>3466</th>\n",
       "      <td>2.355089e+21</td>\n",
       "      <td>2024-07-21 01:00:00.000 UTC</td>\n",
       "      <td>3.497822e-06</td>\n",
       "      <td>0.01%</td>\n",
       "      <td>0.012592</td>\n",
       "      <td>0x7cf803e8d82a50504180f417b8bc7a493c0a0503</td>\n",
       "      <td>4</td>\n",
       "      <td>DAI-USDC</td>\n",
       "      <td>1.313937e+06</td>\n",
       "      <td>9.583075e-05</td>\n",
       "      <td>1.259156e+02</td>\n",
       "    </tr>\n",
       "    <tr>\n",
       "      <th>3467</th>\n",
       "      <td>3.699913e+25</td>\n",
       "      <td>2024-07-21 01:00:00.000 UTC</td>\n",
       "      <td>2.243604e-09</td>\n",
       "      <td>0.01%</td>\n",
       "      <td>0.000074</td>\n",
       "      <td>0x35218a1cbac5bbc3e57fd9bd38219d37571b3537</td>\n",
       "      <td>1</td>\n",
       "      <td>WETH-wstETH</td>\n",
       "      <td>1.203035e+07</td>\n",
       "      <td>6.146962e-08</td>\n",
       "      <td>7.395010e-01</td>\n",
       "    </tr>\n",
       "  </tbody>\n",
       "</table>\n",
       "<p>3468 rows × 11 columns</p>\n",
       "</div>"
      ],
      "text/plain": [
       "      arbitrum_avg_liquidity                          day  arbitrum_fee_apr  \\\n",
       "0               1.854139e+23  2024-07-14 00:00:00.000 UTC      3.781496e-02   \n",
       "1               2.075720e+16  2024-07-14 00:00:00.000 UTC      1.591761e-02   \n",
       "2               1.965666e+12  2024-07-14 00:00:00.000 UTC      1.469532e-02   \n",
       "3               4.911041e+18  2024-07-14 00:00:00.000 UTC      1.290974e-02   \n",
       "4               4.950377e+15  2024-07-14 00:00:00.000 UTC      8.265621e-03   \n",
       "...                      ...                          ...               ...   \n",
       "3463            4.005206e+14  2024-07-21 01:00:00.000 UTC      5.688889e-05   \n",
       "3464            2.830767e+17  2024-07-21 01:00:00.000 UTC      1.923425e-05   \n",
       "3465            1.792792e+14  2024-07-21 01:00:00.000 UTC      1.801927e-05   \n",
       "3466            2.355089e+21  2024-07-21 01:00:00.000 UTC      3.497822e-06   \n",
       "3467            3.699913e+25  2024-07-21 01:00:00.000 UTC      2.243604e-09   \n",
       "\n",
       "     arbitrum_fee_tier  arbitrum_fees_usd  \\\n",
       "0                0.30%         386.685410   \n",
       "1                0.01%           3.056607   \n",
       "2                0.05%         412.274720   \n",
       "3                0.05%        1705.827484   \n",
       "4                0.01%           0.540105   \n",
       "...                ...                ...   \n",
       "3463             0.01%           0.002823   \n",
       "3464             0.05%           2.789811   \n",
       "3465             0.01%           0.001416   \n",
       "3466             0.01%           0.012592   \n",
       "3467             0.01%           0.000074   \n",
       "\n",
       "                                arbitrum_lp_addr  arbitrum_num_trades  \\\n",
       "0     0x4cef551255ec96d89fec975446301b5c4e164c59                  119   \n",
       "1     0x6f38e884725a116c9c7fbf208e79fe8828a2595f                  287   \n",
       "2     0x0e4831319a50228b9e450861297ab92dee15b44f                  466   \n",
       "3     0xc6962004f452be9203591991d15f6b388e09e8d0                  845   \n",
       "4     0x42161084d0672e1d3f26a9b53e653be2084ff19c                  136   \n",
       "...                                          ...                  ...   \n",
       "3463  0x42161084d0672e1d3f26a9b53e653be2084ff19c                   10   \n",
       "3464  0x2f5e87c9312fa29aed5c179e456625d79015299c                   11   \n",
       "3465  0x03a3be7ab4aa263d42d63b6cc594f4fb3d3f3951                    2   \n",
       "3466  0x7cf803e8d82a50504180f417b8bc7a493c0a0503                    4   \n",
       "3467  0x35218a1cbac5bbc3e57fd9bd38219d37571b3537                    1   \n",
       "\n",
       "     arbitrum_token_pair  arbitrum_tvl_usd  arbitrum_volume_to_tvl  \\\n",
       "0               WETH-ZRO      3.732390e+06            3.453421e-02   \n",
       "1              USDC-WETH      7.008980e+04            4.360988e-01   \n",
       "2              USDC-WBTC      1.024001e+07            8.052231e-02   \n",
       "3              USDC-WETH      4.822924e+07            7.073831e-02   \n",
       "4              USDT-WETH      2.385039e+04            2.264554e-01   \n",
       "...                  ...               ...                     ...   \n",
       "3463           USDT-WETH      1.811063e+04            1.558600e-03   \n",
       "3464           WBTC-WETH      5.294103e+07            1.053932e-04   \n",
       "3465           WBTC-WETH      2.867966e+04            4.936787e-04   \n",
       "3466            DAI-USDC      1.313937e+06            9.583075e-05   \n",
       "3467         WETH-wstETH      1.203035e+07            6.146962e-08   \n",
       "\n",
       "      arbitrum_volume_usd  \n",
       "0            1.288951e+05  \n",
       "1            3.056607e+04  \n",
       "2            8.245494e+05  \n",
       "3            3.411655e+06  \n",
       "4            5.401049e+03  \n",
       "...                   ...  \n",
       "3463         2.822722e+01  \n",
       "3464         5.579623e+03  \n",
       "3465         1.415854e+01  \n",
       "3466         1.259156e+02  \n",
       "3467         7.395010e-01  \n",
       "\n",
       "[3468 rows x 11 columns]"
      ]
     },
     "execution_count": 92,
     "metadata": {},
     "output_type": "execute_result"
    }
   ],
   "source": [
    "arb_pool_df"
   ]
  },
  {
   "cell_type": "code",
   "execution_count": 63,
   "metadata": {},
   "outputs": [],
   "source": [
    "filtered_cols = ['day','arbitrum_avg_liquidity','arbitrum_fees_usd','arbitrum_tvl_usd','arbitrum_volume_usd','arbitrum_num_trades','arbitrum_volume_to_tvl','arbitrum_token_pair']"
   ]
  },
  {
   "cell_type": "code",
   "execution_count": 100,
   "metadata": {},
   "outputs": [
    {
     "data": {
      "text/html": [
       "<div>\n",
       "<style scoped>\n",
       "    .dataframe tbody tr th:only-of-type {\n",
       "        vertical-align: middle;\n",
       "    }\n",
       "\n",
       "    .dataframe tbody tr th {\n",
       "        vertical-align: top;\n",
       "    }\n",
       "\n",
       "    .dataframe thead th {\n",
       "        text-align: right;\n",
       "    }\n",
       "</style>\n",
       "<table border=\"1\" class=\"dataframe\">\n",
       "  <thead>\n",
       "    <tr style=\"text-align: right;\">\n",
       "      <th></th>\n",
       "      <th>arbitrum_avg_liquidity</th>\n",
       "      <th>day</th>\n",
       "      <th>arbitrum_fee_apr</th>\n",
       "      <th>arbitrum_fee_tier</th>\n",
       "      <th>arbitrum_fees_usd</th>\n",
       "      <th>arbitrum_lp_addr</th>\n",
       "      <th>arbitrum_num_trades</th>\n",
       "      <th>arbitrum_token_pair</th>\n",
       "      <th>arbitrum_tvl_usd</th>\n",
       "      <th>arbitrum_volume_to_tvl</th>\n",
       "      <th>arbitrum_volume_usd</th>\n",
       "    </tr>\n",
       "  </thead>\n",
       "  <tbody>\n",
       "    <tr>\n",
       "      <th>0</th>\n",
       "      <td>1.854139e+23</td>\n",
       "      <td>2024-07-14 00:00:00.000 UTC</td>\n",
       "      <td>0.037815</td>\n",
       "      <td>0.30%</td>\n",
       "      <td>386.685410</td>\n",
       "      <td>0x4cef551255ec96d89fec975446301b5c4e164c59</td>\n",
       "      <td>119</td>\n",
       "      <td>WETH-ZRO</td>\n",
       "      <td>3.732390e+06</td>\n",
       "      <td>0.034534</td>\n",
       "      <td>1.288951e+05</td>\n",
       "    </tr>\n",
       "    <tr>\n",
       "      <th>1</th>\n",
       "      <td>2.075720e+16</td>\n",
       "      <td>2024-07-14 00:00:00.000 UTC</td>\n",
       "      <td>0.015918</td>\n",
       "      <td>0.01%</td>\n",
       "      <td>3.056607</td>\n",
       "      <td>0x6f38e884725a116c9c7fbf208e79fe8828a2595f</td>\n",
       "      <td>287</td>\n",
       "      <td>USDC-WETH</td>\n",
       "      <td>7.008980e+04</td>\n",
       "      <td>0.436099</td>\n",
       "      <td>3.056607e+04</td>\n",
       "    </tr>\n",
       "    <tr>\n",
       "      <th>2</th>\n",
       "      <td>1.965666e+12</td>\n",
       "      <td>2024-07-14 00:00:00.000 UTC</td>\n",
       "      <td>0.014695</td>\n",
       "      <td>0.05%</td>\n",
       "      <td>412.274720</td>\n",
       "      <td>0x0e4831319a50228b9e450861297ab92dee15b44f</td>\n",
       "      <td>466</td>\n",
       "      <td>USDC-WBTC</td>\n",
       "      <td>1.024001e+07</td>\n",
       "      <td>0.080522</td>\n",
       "      <td>8.245494e+05</td>\n",
       "    </tr>\n",
       "    <tr>\n",
       "      <th>3</th>\n",
       "      <td>4.911041e+18</td>\n",
       "      <td>2024-07-14 00:00:00.000 UTC</td>\n",
       "      <td>0.012910</td>\n",
       "      <td>0.05%</td>\n",
       "      <td>1705.827484</td>\n",
       "      <td>0xc6962004f452be9203591991d15f6b388e09e8d0</td>\n",
       "      <td>845</td>\n",
       "      <td>USDC-WETH</td>\n",
       "      <td>4.822924e+07</td>\n",
       "      <td>0.070738</td>\n",
       "      <td>3.411655e+06</td>\n",
       "    </tr>\n",
       "    <tr>\n",
       "      <th>4</th>\n",
       "      <td>4.950377e+15</td>\n",
       "      <td>2024-07-14 00:00:00.000 UTC</td>\n",
       "      <td>0.008266</td>\n",
       "      <td>0.01%</td>\n",
       "      <td>0.540105</td>\n",
       "      <td>0x42161084d0672e1d3f26a9b53e653be2084ff19c</td>\n",
       "      <td>136</td>\n",
       "      <td>USDT-WETH</td>\n",
       "      <td>2.385039e+04</td>\n",
       "      <td>0.226455</td>\n",
       "      <td>5.401049e+03</td>\n",
       "    </tr>\n",
       "  </tbody>\n",
       "</table>\n",
       "</div>"
      ],
      "text/plain": [
       "   arbitrum_avg_liquidity                          day  arbitrum_fee_apr  \\\n",
       "0            1.854139e+23  2024-07-14 00:00:00.000 UTC          0.037815   \n",
       "1            2.075720e+16  2024-07-14 00:00:00.000 UTC          0.015918   \n",
       "2            1.965666e+12  2024-07-14 00:00:00.000 UTC          0.014695   \n",
       "3            4.911041e+18  2024-07-14 00:00:00.000 UTC          0.012910   \n",
       "4            4.950377e+15  2024-07-14 00:00:00.000 UTC          0.008266   \n",
       "\n",
       "  arbitrum_fee_tier  arbitrum_fees_usd  \\\n",
       "0             0.30%         386.685410   \n",
       "1             0.01%           3.056607   \n",
       "2             0.05%         412.274720   \n",
       "3             0.05%        1705.827484   \n",
       "4             0.01%           0.540105   \n",
       "\n",
       "                             arbitrum_lp_addr  arbitrum_num_trades  \\\n",
       "0  0x4cef551255ec96d89fec975446301b5c4e164c59                  119   \n",
       "1  0x6f38e884725a116c9c7fbf208e79fe8828a2595f                  287   \n",
       "2  0x0e4831319a50228b9e450861297ab92dee15b44f                  466   \n",
       "3  0xc6962004f452be9203591991d15f6b388e09e8d0                  845   \n",
       "4  0x42161084d0672e1d3f26a9b53e653be2084ff19c                  136   \n",
       "\n",
       "  arbitrum_token_pair  arbitrum_tvl_usd  arbitrum_volume_to_tvl  \\\n",
       "0            WETH-ZRO      3.732390e+06                0.034534   \n",
       "1           USDC-WETH      7.008980e+04                0.436099   \n",
       "2           USDC-WBTC      1.024001e+07                0.080522   \n",
       "3           USDC-WETH      4.822924e+07                0.070738   \n",
       "4           USDT-WETH      2.385039e+04                0.226455   \n",
       "\n",
       "   arbitrum_volume_usd  \n",
       "0         1.288951e+05  \n",
       "1         3.056607e+04  \n",
       "2         8.245494e+05  \n",
       "3         3.411655e+06  \n",
       "4         5.401049e+03  "
      ]
     },
     "execution_count": 100,
     "metadata": {},
     "output_type": "execute_result"
    }
   ],
   "source": [
    "arb_pool_df.head()"
   ]
  },
  {
   "cell_type": "code",
   "execution_count": 123,
   "metadata": {},
   "outputs": [
    {
     "data": {
      "text/plain": [
       "Index(['arbitrum_avg_liquidity_.30%', 'day', 'arbitrum_fee_apr_.30%',\n",
       "       'arbitrum_fee_tier_.30%', 'arbitrum_fees_usd_.30%',\n",
       "       'arbitrum_lp_addr_.30%', 'arbitrum_num_trades_.30%',\n",
       "       'arbitrum_token_pair_.30%', 'arbitrum_tvl_usd_.30%',\n",
       "       'arbitrum_volume_to_tvl_.30%', 'arbitrum_volume_usd_.30%'],\n",
       "      dtype='object')"
      ]
     },
     "execution_count": 123,
     "metadata": {},
     "output_type": "execute_result"
    }
   ],
   "source": [
    "weth_zro_30 = arb_pool_df[(arb_pool_df['arbitrum_token_pair']=='WETH-ZRO') & (arb_pool_df['arbitrum_fee_tier']=='0.30%')]\n",
    "# weth_zro = weth_zro[filtered_cols]\n",
    "weth_zro_30.columns = [f'{col}_.30%' if col != 'day' else col for col in weth_zro_30.columns]\n",
    "weth_zro_30.columns"
   ]
  },
  {
   "cell_type": "code",
   "execution_count": 122,
   "metadata": {},
   "outputs": [
    {
     "data": {
      "application/vnd.plotly.v1+json": {
       "config": {
        "plotlyServerURL": "https://plot.ly"
       },
       "data": [
        {
         "name": "Liquidity",
         "type": "bar",
         "x": [
          "2024-07-14 00:00:00.000 UTC",
          "2024-07-14 01:00:00.000 UTC",
          "2024-07-14 02:00:00.000 UTC",
          "2024-07-14 03:00:00.000 UTC",
          "2024-07-14 04:00:00.000 UTC",
          "2024-07-14 05:00:00.000 UTC",
          "2024-07-14 06:00:00.000 UTC",
          "2024-07-14 07:00:00.000 UTC",
          "2024-07-14 08:00:00.000 UTC",
          "2024-07-14 09:00:00.000 UTC",
          "2024-07-14 10:00:00.000 UTC",
          "2024-07-14 11:00:00.000 UTC",
          "2024-07-14 12:00:00.000 UTC",
          "2024-07-14 13:00:00.000 UTC",
          "2024-07-14 14:00:00.000 UTC",
          "2024-07-14 15:00:00.000 UTC",
          "2024-07-14 16:00:00.000 UTC",
          "2024-07-14 17:00:00.000 UTC",
          "2024-07-14 18:00:00.000 UTC",
          "2024-07-14 19:00:00.000 UTC",
          "2024-07-14 20:00:00.000 UTC",
          "2024-07-14 21:00:00.000 UTC",
          "2024-07-14 22:00:00.000 UTC",
          "2024-07-14 23:00:00.000 UTC",
          "2024-07-15 00:00:00.000 UTC",
          "2024-07-15 01:00:00.000 UTC",
          "2024-07-15 02:00:00.000 UTC",
          "2024-07-15 03:00:00.000 UTC",
          "2024-07-15 04:00:00.000 UTC",
          "2024-07-15 05:00:00.000 UTC",
          "2024-07-15 06:00:00.000 UTC",
          "2024-07-15 07:00:00.000 UTC",
          "2024-07-15 08:00:00.000 UTC",
          "2024-07-15 09:00:00.000 UTC",
          "2024-07-15 10:00:00.000 UTC",
          "2024-07-15 11:00:00.000 UTC",
          "2024-07-15 12:00:00.000 UTC",
          "2024-07-15 13:00:00.000 UTC",
          "2024-07-15 14:00:00.000 UTC",
          "2024-07-15 15:00:00.000 UTC",
          "2024-07-15 16:00:00.000 UTC",
          "2024-07-15 17:00:00.000 UTC",
          "2024-07-15 18:00:00.000 UTC",
          "2024-07-15 19:00:00.000 UTC",
          "2024-07-15 20:00:00.000 UTC",
          "2024-07-15 21:00:00.000 UTC",
          "2024-07-15 22:00:00.000 UTC",
          "2024-07-15 23:00:00.000 UTC",
          "2024-07-16 00:00:00.000 UTC",
          "2024-07-16 01:00:00.000 UTC",
          "2024-07-16 02:00:00.000 UTC",
          "2024-07-16 03:00:00.000 UTC",
          "2024-07-16 04:00:00.000 UTC",
          "2024-07-16 05:00:00.000 UTC",
          "2024-07-16 06:00:00.000 UTC",
          "2024-07-16 07:00:00.000 UTC",
          "2024-07-16 08:00:00.000 UTC",
          "2024-07-16 09:00:00.000 UTC",
          "2024-07-16 10:00:00.000 UTC",
          "2024-07-16 11:00:00.000 UTC",
          "2024-07-16 12:00:00.000 UTC",
          "2024-07-16 13:00:00.000 UTC",
          "2024-07-16 14:00:00.000 UTC",
          "2024-07-16 15:00:00.000 UTC",
          "2024-07-16 16:00:00.000 UTC",
          "2024-07-16 17:00:00.000 UTC",
          "2024-07-16 18:00:00.000 UTC",
          "2024-07-16 19:00:00.000 UTC",
          "2024-07-16 20:00:00.000 UTC",
          "2024-07-16 21:00:00.000 UTC",
          "2024-07-16 22:00:00.000 UTC",
          "2024-07-16 23:00:00.000 UTC",
          "2024-07-17 00:00:00.000 UTC",
          "2024-07-17 01:00:00.000 UTC",
          "2024-07-17 02:00:00.000 UTC",
          "2024-07-17 03:00:00.000 UTC",
          "2024-07-17 04:00:00.000 UTC",
          "2024-07-17 05:00:00.000 UTC",
          "2024-07-17 06:00:00.000 UTC",
          "2024-07-17 07:00:00.000 UTC",
          "2024-07-17 08:00:00.000 UTC",
          "2024-07-17 09:00:00.000 UTC",
          "2024-07-17 10:00:00.000 UTC",
          "2024-07-17 11:00:00.000 UTC",
          "2024-07-17 12:00:00.000 UTC",
          "2024-07-17 13:00:00.000 UTC",
          "2024-07-17 14:00:00.000 UTC",
          "2024-07-17 15:00:00.000 UTC",
          "2024-07-17 16:00:00.000 UTC",
          "2024-07-17 17:00:00.000 UTC",
          "2024-07-17 18:00:00.000 UTC",
          "2024-07-17 19:00:00.000 UTC",
          "2024-07-17 20:00:00.000 UTC",
          "2024-07-17 21:00:00.000 UTC",
          "2024-07-17 22:00:00.000 UTC",
          "2024-07-17 23:00:00.000 UTC",
          "2024-07-18 00:00:00.000 UTC",
          "2024-07-18 01:00:00.000 UTC",
          "2024-07-18 02:00:00.000 UTC",
          "2024-07-18 03:00:00.000 UTC",
          "2024-07-18 04:00:00.000 UTC",
          "2024-07-18 05:00:00.000 UTC",
          "2024-07-18 06:00:00.000 UTC",
          "2024-07-18 07:00:00.000 UTC",
          "2024-07-18 08:00:00.000 UTC",
          "2024-07-18 09:00:00.000 UTC",
          "2024-07-18 10:00:00.000 UTC",
          "2024-07-18 11:00:00.000 UTC",
          "2024-07-18 12:00:00.000 UTC",
          "2024-07-18 13:00:00.000 UTC",
          "2024-07-18 14:00:00.000 UTC",
          "2024-07-18 15:00:00.000 UTC",
          "2024-07-18 16:00:00.000 UTC",
          "2024-07-18 17:00:00.000 UTC",
          "2024-07-18 18:00:00.000 UTC",
          "2024-07-18 19:00:00.000 UTC",
          "2024-07-18 20:00:00.000 UTC",
          "2024-07-18 21:00:00.000 UTC",
          "2024-07-18 22:00:00.000 UTC",
          "2024-07-18 23:00:00.000 UTC",
          "2024-07-19 00:00:00.000 UTC",
          "2024-07-19 01:00:00.000 UTC",
          "2024-07-19 02:00:00.000 UTC",
          "2024-07-19 03:00:00.000 UTC",
          "2024-07-19 04:00:00.000 UTC",
          "2024-07-19 05:00:00.000 UTC",
          "2024-07-19 06:00:00.000 UTC",
          "2024-07-19 07:00:00.000 UTC",
          "2024-07-19 08:00:00.000 UTC",
          "2024-07-19 09:00:00.000 UTC",
          "2024-07-19 10:00:00.000 UTC",
          "2024-07-19 11:00:00.000 UTC",
          "2024-07-19 12:00:00.000 UTC",
          "2024-07-19 13:00:00.000 UTC",
          "2024-07-19 14:00:00.000 UTC",
          "2024-07-19 15:00:00.000 UTC",
          "2024-07-19 16:00:00.000 UTC",
          "2024-07-19 17:00:00.000 UTC",
          "2024-07-19 18:00:00.000 UTC",
          "2024-07-19 19:00:00.000 UTC",
          "2024-07-19 20:00:00.000 UTC",
          "2024-07-19 21:00:00.000 UTC",
          "2024-07-19 22:00:00.000 UTC",
          "2024-07-19 23:00:00.000 UTC",
          "2024-07-20 00:00:00.000 UTC",
          "2024-07-20 01:00:00.000 UTC",
          "2024-07-20 02:00:00.000 UTC",
          "2024-07-20 03:00:00.000 UTC",
          "2024-07-20 04:00:00.000 UTC",
          "2024-07-20 05:00:00.000 UTC",
          "2024-07-20 06:00:00.000 UTC",
          "2024-07-20 07:00:00.000 UTC",
          "2024-07-20 08:00:00.000 UTC",
          "2024-07-20 09:00:00.000 UTC",
          "2024-07-20 10:00:00.000 UTC",
          "2024-07-20 11:00:00.000 UTC",
          "2024-07-20 12:00:00.000 UTC",
          "2024-07-20 13:00:00.000 UTC",
          "2024-07-20 14:00:00.000 UTC",
          "2024-07-20 15:00:00.000 UTC",
          "2024-07-20 16:00:00.000 UTC",
          "2024-07-20 17:00:00.000 UTC",
          "2024-07-20 18:00:00.000 UTC",
          "2024-07-20 19:00:00.000 UTC",
          "2024-07-20 20:00:00.000 UTC",
          "2024-07-20 21:00:00.000 UTC",
          "2024-07-20 22:00:00.000 UTC",
          "2024-07-20 23:00:00.000 UTC",
          "2024-07-21 00:00:00.000 UTC",
          "2024-07-21 01:00:00.000 UTC"
         ],
         "xaxis": "x",
         "y": [
          1.8541385707212253e+23,
          1.7606065581299863e+23,
          1.613444154599952e+23,
          1.508496107749762e+23,
          1.6106929283189307e+23,
          1.7445801114256885e+23,
          1.909192642386025e+23,
          1.68936116554987e+23,
          1.7904623706914918e+23,
          1.826468302053606e+23,
          1.8204429528383903e+23,
          1.852706272969499e+23,
          1.8652178312302944e+23,
          1.913912286307757e+23,
          1.8682733711064846e+23,
          1.652603496437423e+23,
          2.1046293599086347e+23,
          2.0854590621049496e+23,
          2.183538725820887e+23,
          2.0818599261782345e+23,
          2.077717488432537e+23,
          2.1215215987129725e+23,
          2.1391446508523952e+23,
          1.9344875691369886e+23,
          1.9346909112336865e+23,
          1.8652577343167308e+23,
          1.7926037706895117e+23,
          1.8124431954728876e+23,
          1.814814546764037e+23,
          1.8307393993879597e+23,
          1.866475844765118e+23,
          1.855187533203023e+23,
          1.8051855107291992e+23,
          1.8239132110818616e+23,
          1.935814444685988e+23,
          1.971913887750423e+23,
          1.949626434543228e+23,
          2.025478202221799e+23,
          1.9028314319064016e+23,
          1.95337962027546e+23,
          2.267870867502235e+23,
          2.1732586784305863e+23,
          1.9363698304111896e+23,
          2.105510432075335e+23,
          1.970306075774413e+23,
          2.218360987412899e+23,
          2.3311438896954754e+23,
          2.2716316750192105e+23,
          1.983669047255553e+23,
          2.047187556938371e+23,
          2.050770004716326e+23,
          1.9696486658001187e+23,
          1.946290631388297e+23,
          1.9251420716151008e+23,
          1.7285545110389848e+23,
          1.4130346466901558e+23,
          1.710030003536752e+23,
          1.8669349008773296e+23,
          1.8693594915593868e+23,
          1.8764440765742927e+23,
          1.941178844119372e+23,
          1.9950748666238368e+23,
          2.149377570856048e+23,
          2.2543905581389956e+23,
          2.461372538629313e+23,
          2.5543646975008944e+23,
          2.546193916367197e+23,
          2.167871460026172e+23,
          1.9409048059995666e+23,
          2.19209809851494e+23,
          3.08066105729306e+23,
          2.9034568305775475e+23,
          2.1895003151923387e+23,
          2.0412136388701807e+23,
          1.9115742492561947e+23,
          1.899271647837997e+23,
          1.9724043561644847e+23,
          1.917566839200772e+23,
          2.019514438530263e+23,
          2.0590446381378825e+23,
          2.0211072584981724e+23,
          2.0802845125298594e+23,
          2.005371411284178e+23,
          2.0510800384292863e+23,
          2.1274507132901185e+23,
          2.1497724429213123e+23,
          2.1005174761616015e+23,
          2.381952429866603e+23,
          3.4219957550087616e+23,
          3.2823200979207856e+23,
          4.4599823641404815e+23,
          2.0992185298534646e+23,
          2.677027748027912e+23,
          2.8013640738368926e+23,
          2.0625355398320725e+23,
          2.098753664022321e+23,
          2.135368788203208e+23,
          2.0795924547565728e+23,
          2.1138981806075595e+23,
          2.1475432873144292e+23,
          2.1421964970329533e+23,
          2.1295607861265785e+23,
          2.210313645532997e+23,
          2.132289914572346e+23,
          1.9583325095342543e+23,
          2.076740981848263e+23,
          2.163405338819787e+23,
          2.196944388239616e+23,
          2.272809540083478e+23,
          2.0987765172380703e+23,
          1.6595492024197438e+23,
          1.4147560261859524e+23,
          1.7333699797665804e+23,
          2.0885092528113696e+23,
          2.1212558809525177e+23,
          1.9842494933192653e+23,
          1.909119049971369e+23,
          1.867504033474439e+23,
          2.012383555407576e+23,
          2.064040769525685e+23,
          1.8612915684697647e+23,
          1.5757429045482974e+23,
          1.5615513577159574e+23,
          1.7474226278666793e+23,
          1.8106076221464627e+23,
          1.518580149923059e+23,
          1.5575199312620464e+23,
          1.5040470207236554e+23,
          1.4803229090569574e+23,
          1.73487278416874e+23,
          1.7260790152376153e+23,
          1.861036849274368e+23,
          1.925475333193859e+23,
          1.9119071163718707e+23,
          2.0625510560394185e+23,
          2.1391138290793145e+23,
          2.108663885260549e+23,
          2.0938781588250416e+23,
          1.994226945338454e+23,
          1.927224638193385e+23,
          2.0781288869270757e+23,
          2.0316612014151725e+23,
          2.0759544275327265e+23,
          2.0929478090911337e+23,
          2.114442912047942e+23,
          1.8120077275335622e+23,
          2.134409239709133e+23,
          2.243489135474025e+23,
          2.1884565015147445e+23,
          2.142697189264227e+23,
          2.211207054399032e+23,
          2.0833649402815787e+23,
          1.8969057770716927e+23,
          2.036804922798352e+23,
          1.9879248930862863e+23,
          2.028412895298103e+23,
          1.9465105927733016e+23,
          1.5778388350536512e+23,
          1.2344945600535412e+23,
          1.4536725438047465e+23,
          1.5560017852404853e+23,
          1.583480138342577e+23,
          1.3495827979176438e+23,
          1.392040611759535e+23,
          1.6535294692134813e+23,
          1.557007722066565e+23,
          1.8325273118692108e+23,
          1.394002878375437e+23,
          1.7474309058940377e+23,
          1.588969693618823e+23
         ],
         "yaxis": "y"
        },
        {
         "mode": "lines",
         "name": "# Of Trades",
         "type": "scatter",
         "x": [
          "2024-07-14 00:00:00.000 UTC",
          "2024-07-14 01:00:00.000 UTC",
          "2024-07-14 02:00:00.000 UTC",
          "2024-07-14 03:00:00.000 UTC",
          "2024-07-14 04:00:00.000 UTC",
          "2024-07-14 05:00:00.000 UTC",
          "2024-07-14 06:00:00.000 UTC",
          "2024-07-14 07:00:00.000 UTC",
          "2024-07-14 08:00:00.000 UTC",
          "2024-07-14 09:00:00.000 UTC",
          "2024-07-14 10:00:00.000 UTC",
          "2024-07-14 11:00:00.000 UTC",
          "2024-07-14 12:00:00.000 UTC",
          "2024-07-14 13:00:00.000 UTC",
          "2024-07-14 14:00:00.000 UTC",
          "2024-07-14 15:00:00.000 UTC",
          "2024-07-14 16:00:00.000 UTC",
          "2024-07-14 17:00:00.000 UTC",
          "2024-07-14 18:00:00.000 UTC",
          "2024-07-14 19:00:00.000 UTC",
          "2024-07-14 20:00:00.000 UTC",
          "2024-07-14 21:00:00.000 UTC",
          "2024-07-14 22:00:00.000 UTC",
          "2024-07-14 23:00:00.000 UTC",
          "2024-07-15 00:00:00.000 UTC",
          "2024-07-15 01:00:00.000 UTC",
          "2024-07-15 02:00:00.000 UTC",
          "2024-07-15 03:00:00.000 UTC",
          "2024-07-15 04:00:00.000 UTC",
          "2024-07-15 05:00:00.000 UTC",
          "2024-07-15 06:00:00.000 UTC",
          "2024-07-15 07:00:00.000 UTC",
          "2024-07-15 08:00:00.000 UTC",
          "2024-07-15 09:00:00.000 UTC",
          "2024-07-15 10:00:00.000 UTC",
          "2024-07-15 11:00:00.000 UTC",
          "2024-07-15 12:00:00.000 UTC",
          "2024-07-15 13:00:00.000 UTC",
          "2024-07-15 14:00:00.000 UTC",
          "2024-07-15 15:00:00.000 UTC",
          "2024-07-15 16:00:00.000 UTC",
          "2024-07-15 17:00:00.000 UTC",
          "2024-07-15 18:00:00.000 UTC",
          "2024-07-15 19:00:00.000 UTC",
          "2024-07-15 20:00:00.000 UTC",
          "2024-07-15 21:00:00.000 UTC",
          "2024-07-15 22:00:00.000 UTC",
          "2024-07-15 23:00:00.000 UTC",
          "2024-07-16 00:00:00.000 UTC",
          "2024-07-16 01:00:00.000 UTC",
          "2024-07-16 02:00:00.000 UTC",
          "2024-07-16 03:00:00.000 UTC",
          "2024-07-16 04:00:00.000 UTC",
          "2024-07-16 05:00:00.000 UTC",
          "2024-07-16 06:00:00.000 UTC",
          "2024-07-16 07:00:00.000 UTC",
          "2024-07-16 08:00:00.000 UTC",
          "2024-07-16 09:00:00.000 UTC",
          "2024-07-16 10:00:00.000 UTC",
          "2024-07-16 11:00:00.000 UTC",
          "2024-07-16 12:00:00.000 UTC",
          "2024-07-16 13:00:00.000 UTC",
          "2024-07-16 14:00:00.000 UTC",
          "2024-07-16 15:00:00.000 UTC",
          "2024-07-16 16:00:00.000 UTC",
          "2024-07-16 17:00:00.000 UTC",
          "2024-07-16 18:00:00.000 UTC",
          "2024-07-16 19:00:00.000 UTC",
          "2024-07-16 20:00:00.000 UTC",
          "2024-07-16 21:00:00.000 UTC",
          "2024-07-16 22:00:00.000 UTC",
          "2024-07-16 23:00:00.000 UTC",
          "2024-07-17 00:00:00.000 UTC",
          "2024-07-17 01:00:00.000 UTC",
          "2024-07-17 02:00:00.000 UTC",
          "2024-07-17 03:00:00.000 UTC",
          "2024-07-17 04:00:00.000 UTC",
          "2024-07-17 05:00:00.000 UTC",
          "2024-07-17 06:00:00.000 UTC",
          "2024-07-17 07:00:00.000 UTC",
          "2024-07-17 08:00:00.000 UTC",
          "2024-07-17 09:00:00.000 UTC",
          "2024-07-17 10:00:00.000 UTC",
          "2024-07-17 11:00:00.000 UTC",
          "2024-07-17 12:00:00.000 UTC",
          "2024-07-17 13:00:00.000 UTC",
          "2024-07-17 14:00:00.000 UTC",
          "2024-07-17 15:00:00.000 UTC",
          "2024-07-17 16:00:00.000 UTC",
          "2024-07-17 17:00:00.000 UTC",
          "2024-07-17 18:00:00.000 UTC",
          "2024-07-17 19:00:00.000 UTC",
          "2024-07-17 20:00:00.000 UTC",
          "2024-07-17 21:00:00.000 UTC",
          "2024-07-17 22:00:00.000 UTC",
          "2024-07-17 23:00:00.000 UTC",
          "2024-07-18 00:00:00.000 UTC",
          "2024-07-18 01:00:00.000 UTC",
          "2024-07-18 02:00:00.000 UTC",
          "2024-07-18 03:00:00.000 UTC",
          "2024-07-18 04:00:00.000 UTC",
          "2024-07-18 05:00:00.000 UTC",
          "2024-07-18 06:00:00.000 UTC",
          "2024-07-18 07:00:00.000 UTC",
          "2024-07-18 08:00:00.000 UTC",
          "2024-07-18 09:00:00.000 UTC",
          "2024-07-18 10:00:00.000 UTC",
          "2024-07-18 11:00:00.000 UTC",
          "2024-07-18 12:00:00.000 UTC",
          "2024-07-18 13:00:00.000 UTC",
          "2024-07-18 14:00:00.000 UTC",
          "2024-07-18 15:00:00.000 UTC",
          "2024-07-18 16:00:00.000 UTC",
          "2024-07-18 17:00:00.000 UTC",
          "2024-07-18 18:00:00.000 UTC",
          "2024-07-18 19:00:00.000 UTC",
          "2024-07-18 20:00:00.000 UTC",
          "2024-07-18 21:00:00.000 UTC",
          "2024-07-18 22:00:00.000 UTC",
          "2024-07-18 23:00:00.000 UTC",
          "2024-07-19 00:00:00.000 UTC",
          "2024-07-19 01:00:00.000 UTC",
          "2024-07-19 02:00:00.000 UTC",
          "2024-07-19 03:00:00.000 UTC",
          "2024-07-19 04:00:00.000 UTC",
          "2024-07-19 05:00:00.000 UTC",
          "2024-07-19 06:00:00.000 UTC",
          "2024-07-19 07:00:00.000 UTC",
          "2024-07-19 08:00:00.000 UTC",
          "2024-07-19 09:00:00.000 UTC",
          "2024-07-19 10:00:00.000 UTC",
          "2024-07-19 11:00:00.000 UTC",
          "2024-07-19 12:00:00.000 UTC",
          "2024-07-19 13:00:00.000 UTC",
          "2024-07-19 14:00:00.000 UTC",
          "2024-07-19 15:00:00.000 UTC",
          "2024-07-19 16:00:00.000 UTC",
          "2024-07-19 17:00:00.000 UTC",
          "2024-07-19 18:00:00.000 UTC",
          "2024-07-19 19:00:00.000 UTC",
          "2024-07-19 20:00:00.000 UTC",
          "2024-07-19 21:00:00.000 UTC",
          "2024-07-19 22:00:00.000 UTC",
          "2024-07-19 23:00:00.000 UTC",
          "2024-07-20 00:00:00.000 UTC",
          "2024-07-20 01:00:00.000 UTC",
          "2024-07-20 02:00:00.000 UTC",
          "2024-07-20 03:00:00.000 UTC",
          "2024-07-20 04:00:00.000 UTC",
          "2024-07-20 05:00:00.000 UTC",
          "2024-07-20 06:00:00.000 UTC",
          "2024-07-20 07:00:00.000 UTC",
          "2024-07-20 08:00:00.000 UTC",
          "2024-07-20 09:00:00.000 UTC",
          "2024-07-20 10:00:00.000 UTC",
          "2024-07-20 11:00:00.000 UTC",
          "2024-07-20 12:00:00.000 UTC",
          "2024-07-20 13:00:00.000 UTC",
          "2024-07-20 14:00:00.000 UTC",
          "2024-07-20 15:00:00.000 UTC",
          "2024-07-20 16:00:00.000 UTC",
          "2024-07-20 17:00:00.000 UTC",
          "2024-07-20 18:00:00.000 UTC",
          "2024-07-20 19:00:00.000 UTC",
          "2024-07-20 20:00:00.000 UTC",
          "2024-07-20 21:00:00.000 UTC",
          "2024-07-20 22:00:00.000 UTC",
          "2024-07-20 23:00:00.000 UTC",
          "2024-07-21 00:00:00.000 UTC",
          "2024-07-21 01:00:00.000 UTC"
         ],
         "xaxis": "x",
         "y": [
          119,
          77,
          126,
          118,
          237,
          229,
          294,
          84,
          123,
          73,
          87,
          102,
          184,
          101,
          61,
          56,
          175,
          245,
          177,
          50,
          311,
          259,
          187,
          218,
          331,
          374,
          236,
          180,
          217,
          160,
          188,
          236,
          367,
          153,
          167,
          231,
          146,
          158,
          108,
          103,
          174,
          190,
          108,
          126,
          110,
          117,
          269,
          254,
          328,
          171,
          145,
          36,
          97,
          109,
          166,
          145,
          157,
          120,
          117,
          70,
          107,
          149,
          137,
          262,
          238,
          102,
          61,
          26,
          109,
          67,
          72,
          53,
          221,
          302,
          833,
          625,
          362,
          194,
          143,
          155,
          331,
          249,
          231,
          252,
          143,
          184,
          143,
          312,
          222,
          282,
          89,
          62,
          181,
          117,
          89,
          102,
          233,
          211,
          321,
          162,
          104,
          183,
          111,
          349,
          210,
          155,
          119,
          120,
          69,
          65,
          193,
          112,
          180,
          215,
          105,
          202,
          104,
          98,
          43,
          50,
          225,
          165,
          112,
          104,
          67,
          108,
          70,
          84,
          164,
          104,
          60,
          45,
          123,
          172,
          95,
          105,
          127,
          69,
          79,
          81,
          100,
          85,
          71,
          38,
          194,
          140,
          121,
          40,
          151,
          109,
          244,
          129,
          581,
          346,
          204,
          161,
          363,
          927,
          1067,
          936,
          679,
          473,
          1249,
          1172,
          521,
          338,
          370,
          958,
          642,
          156
         ],
         "yaxis": "y2"
        }
       ],
       "layout": {
        "template": {
         "data": {
          "bar": [
           {
            "error_x": {
             "color": "#2a3f5f"
            },
            "error_y": {
             "color": "#2a3f5f"
            },
            "marker": {
             "line": {
              "color": "#E5ECF6",
              "width": 0.5
             },
             "pattern": {
              "fillmode": "overlay",
              "size": 10,
              "solidity": 0.2
             }
            },
            "type": "bar"
           }
          ],
          "barpolar": [
           {
            "marker": {
             "line": {
              "color": "#E5ECF6",
              "width": 0.5
             },
             "pattern": {
              "fillmode": "overlay",
              "size": 10,
              "solidity": 0.2
             }
            },
            "type": "barpolar"
           }
          ],
          "carpet": [
           {
            "aaxis": {
             "endlinecolor": "#2a3f5f",
             "gridcolor": "white",
             "linecolor": "white",
             "minorgridcolor": "white",
             "startlinecolor": "#2a3f5f"
            },
            "baxis": {
             "endlinecolor": "#2a3f5f",
             "gridcolor": "white",
             "linecolor": "white",
             "minorgridcolor": "white",
             "startlinecolor": "#2a3f5f"
            },
            "type": "carpet"
           }
          ],
          "choropleth": [
           {
            "colorbar": {
             "outlinewidth": 0,
             "ticks": ""
            },
            "type": "choropleth"
           }
          ],
          "contour": [
           {
            "colorbar": {
             "outlinewidth": 0,
             "ticks": ""
            },
            "colorscale": [
             [
              0,
              "#0d0887"
             ],
             [
              0.1111111111111111,
              "#46039f"
             ],
             [
              0.2222222222222222,
              "#7201a8"
             ],
             [
              0.3333333333333333,
              "#9c179e"
             ],
             [
              0.4444444444444444,
              "#bd3786"
             ],
             [
              0.5555555555555556,
              "#d8576b"
             ],
             [
              0.6666666666666666,
              "#ed7953"
             ],
             [
              0.7777777777777778,
              "#fb9f3a"
             ],
             [
              0.8888888888888888,
              "#fdca26"
             ],
             [
              1,
              "#f0f921"
             ]
            ],
            "type": "contour"
           }
          ],
          "contourcarpet": [
           {
            "colorbar": {
             "outlinewidth": 0,
             "ticks": ""
            },
            "type": "contourcarpet"
           }
          ],
          "heatmap": [
           {
            "colorbar": {
             "outlinewidth": 0,
             "ticks": ""
            },
            "colorscale": [
             [
              0,
              "#0d0887"
             ],
             [
              0.1111111111111111,
              "#46039f"
             ],
             [
              0.2222222222222222,
              "#7201a8"
             ],
             [
              0.3333333333333333,
              "#9c179e"
             ],
             [
              0.4444444444444444,
              "#bd3786"
             ],
             [
              0.5555555555555556,
              "#d8576b"
             ],
             [
              0.6666666666666666,
              "#ed7953"
             ],
             [
              0.7777777777777778,
              "#fb9f3a"
             ],
             [
              0.8888888888888888,
              "#fdca26"
             ],
             [
              1,
              "#f0f921"
             ]
            ],
            "type": "heatmap"
           }
          ],
          "heatmapgl": [
           {
            "colorbar": {
             "outlinewidth": 0,
             "ticks": ""
            },
            "colorscale": [
             [
              0,
              "#0d0887"
             ],
             [
              0.1111111111111111,
              "#46039f"
             ],
             [
              0.2222222222222222,
              "#7201a8"
             ],
             [
              0.3333333333333333,
              "#9c179e"
             ],
             [
              0.4444444444444444,
              "#bd3786"
             ],
             [
              0.5555555555555556,
              "#d8576b"
             ],
             [
              0.6666666666666666,
              "#ed7953"
             ],
             [
              0.7777777777777778,
              "#fb9f3a"
             ],
             [
              0.8888888888888888,
              "#fdca26"
             ],
             [
              1,
              "#f0f921"
             ]
            ],
            "type": "heatmapgl"
           }
          ],
          "histogram": [
           {
            "marker": {
             "pattern": {
              "fillmode": "overlay",
              "size": 10,
              "solidity": 0.2
             }
            },
            "type": "histogram"
           }
          ],
          "histogram2d": [
           {
            "colorbar": {
             "outlinewidth": 0,
             "ticks": ""
            },
            "colorscale": [
             [
              0,
              "#0d0887"
             ],
             [
              0.1111111111111111,
              "#46039f"
             ],
             [
              0.2222222222222222,
              "#7201a8"
             ],
             [
              0.3333333333333333,
              "#9c179e"
             ],
             [
              0.4444444444444444,
              "#bd3786"
             ],
             [
              0.5555555555555556,
              "#d8576b"
             ],
             [
              0.6666666666666666,
              "#ed7953"
             ],
             [
              0.7777777777777778,
              "#fb9f3a"
             ],
             [
              0.8888888888888888,
              "#fdca26"
             ],
             [
              1,
              "#f0f921"
             ]
            ],
            "type": "histogram2d"
           }
          ],
          "histogram2dcontour": [
           {
            "colorbar": {
             "outlinewidth": 0,
             "ticks": ""
            },
            "colorscale": [
             [
              0,
              "#0d0887"
             ],
             [
              0.1111111111111111,
              "#46039f"
             ],
             [
              0.2222222222222222,
              "#7201a8"
             ],
             [
              0.3333333333333333,
              "#9c179e"
             ],
             [
              0.4444444444444444,
              "#bd3786"
             ],
             [
              0.5555555555555556,
              "#d8576b"
             ],
             [
              0.6666666666666666,
              "#ed7953"
             ],
             [
              0.7777777777777778,
              "#fb9f3a"
             ],
             [
              0.8888888888888888,
              "#fdca26"
             ],
             [
              1,
              "#f0f921"
             ]
            ],
            "type": "histogram2dcontour"
           }
          ],
          "mesh3d": [
           {
            "colorbar": {
             "outlinewidth": 0,
             "ticks": ""
            },
            "type": "mesh3d"
           }
          ],
          "parcoords": [
           {
            "line": {
             "colorbar": {
              "outlinewidth": 0,
              "ticks": ""
             }
            },
            "type": "parcoords"
           }
          ],
          "pie": [
           {
            "automargin": true,
            "type": "pie"
           }
          ],
          "scatter": [
           {
            "fillpattern": {
             "fillmode": "overlay",
             "size": 10,
             "solidity": 0.2
            },
            "type": "scatter"
           }
          ],
          "scatter3d": [
           {
            "line": {
             "colorbar": {
              "outlinewidth": 0,
              "ticks": ""
             }
            },
            "marker": {
             "colorbar": {
              "outlinewidth": 0,
              "ticks": ""
             }
            },
            "type": "scatter3d"
           }
          ],
          "scattercarpet": [
           {
            "marker": {
             "colorbar": {
              "outlinewidth": 0,
              "ticks": ""
             }
            },
            "type": "scattercarpet"
           }
          ],
          "scattergeo": [
           {
            "marker": {
             "colorbar": {
              "outlinewidth": 0,
              "ticks": ""
             }
            },
            "type": "scattergeo"
           }
          ],
          "scattergl": [
           {
            "marker": {
             "colorbar": {
              "outlinewidth": 0,
              "ticks": ""
             }
            },
            "type": "scattergl"
           }
          ],
          "scattermapbox": [
           {
            "marker": {
             "colorbar": {
              "outlinewidth": 0,
              "ticks": ""
             }
            },
            "type": "scattermapbox"
           }
          ],
          "scatterpolar": [
           {
            "marker": {
             "colorbar": {
              "outlinewidth": 0,
              "ticks": ""
             }
            },
            "type": "scatterpolar"
           }
          ],
          "scatterpolargl": [
           {
            "marker": {
             "colorbar": {
              "outlinewidth": 0,
              "ticks": ""
             }
            },
            "type": "scatterpolargl"
           }
          ],
          "scatterternary": [
           {
            "marker": {
             "colorbar": {
              "outlinewidth": 0,
              "ticks": ""
             }
            },
            "type": "scatterternary"
           }
          ],
          "surface": [
           {
            "colorbar": {
             "outlinewidth": 0,
             "ticks": ""
            },
            "colorscale": [
             [
              0,
              "#0d0887"
             ],
             [
              0.1111111111111111,
              "#46039f"
             ],
             [
              0.2222222222222222,
              "#7201a8"
             ],
             [
              0.3333333333333333,
              "#9c179e"
             ],
             [
              0.4444444444444444,
              "#bd3786"
             ],
             [
              0.5555555555555556,
              "#d8576b"
             ],
             [
              0.6666666666666666,
              "#ed7953"
             ],
             [
              0.7777777777777778,
              "#fb9f3a"
             ],
             [
              0.8888888888888888,
              "#fdca26"
             ],
             [
              1,
              "#f0f921"
             ]
            ],
            "type": "surface"
           }
          ],
          "table": [
           {
            "cells": {
             "fill": {
              "color": "#EBF0F8"
             },
             "line": {
              "color": "white"
             }
            },
            "header": {
             "fill": {
              "color": "#C8D4E3"
             },
             "line": {
              "color": "white"
             }
            },
            "type": "table"
           }
          ]
         },
         "layout": {
          "annotationdefaults": {
           "arrowcolor": "#2a3f5f",
           "arrowhead": 0,
           "arrowwidth": 1
          },
          "autotypenumbers": "strict",
          "coloraxis": {
           "colorbar": {
            "outlinewidth": 0,
            "ticks": ""
           }
          },
          "colorscale": {
           "diverging": [
            [
             0,
             "#8e0152"
            ],
            [
             0.1,
             "#c51b7d"
            ],
            [
             0.2,
             "#de77ae"
            ],
            [
             0.3,
             "#f1b6da"
            ],
            [
             0.4,
             "#fde0ef"
            ],
            [
             0.5,
             "#f7f7f7"
            ],
            [
             0.6,
             "#e6f5d0"
            ],
            [
             0.7,
             "#b8e186"
            ],
            [
             0.8,
             "#7fbc41"
            ],
            [
             0.9,
             "#4d9221"
            ],
            [
             1,
             "#276419"
            ]
           ],
           "sequential": [
            [
             0,
             "#0d0887"
            ],
            [
             0.1111111111111111,
             "#46039f"
            ],
            [
             0.2222222222222222,
             "#7201a8"
            ],
            [
             0.3333333333333333,
             "#9c179e"
            ],
            [
             0.4444444444444444,
             "#bd3786"
            ],
            [
             0.5555555555555556,
             "#d8576b"
            ],
            [
             0.6666666666666666,
             "#ed7953"
            ],
            [
             0.7777777777777778,
             "#fb9f3a"
            ],
            [
             0.8888888888888888,
             "#fdca26"
            ],
            [
             1,
             "#f0f921"
            ]
           ],
           "sequentialminus": [
            [
             0,
             "#0d0887"
            ],
            [
             0.1111111111111111,
             "#46039f"
            ],
            [
             0.2222222222222222,
             "#7201a8"
            ],
            [
             0.3333333333333333,
             "#9c179e"
            ],
            [
             0.4444444444444444,
             "#bd3786"
            ],
            [
             0.5555555555555556,
             "#d8576b"
            ],
            [
             0.6666666666666666,
             "#ed7953"
            ],
            [
             0.7777777777777778,
             "#fb9f3a"
            ],
            [
             0.8888888888888888,
             "#fdca26"
            ],
            [
             1,
             "#f0f921"
            ]
           ]
          },
          "colorway": [
           "#636efa",
           "#EF553B",
           "#00cc96",
           "#ab63fa",
           "#FFA15A",
           "#19d3f3",
           "#FF6692",
           "#B6E880",
           "#FF97FF",
           "#FECB52"
          ],
          "font": {
           "color": "#2a3f5f"
          },
          "geo": {
           "bgcolor": "white",
           "lakecolor": "white",
           "landcolor": "#E5ECF6",
           "showlakes": true,
           "showland": true,
           "subunitcolor": "white"
          },
          "hoverlabel": {
           "align": "left"
          },
          "hovermode": "closest",
          "mapbox": {
           "style": "light"
          },
          "paper_bgcolor": "white",
          "plot_bgcolor": "#E5ECF6",
          "polar": {
           "angularaxis": {
            "gridcolor": "white",
            "linecolor": "white",
            "ticks": ""
           },
           "bgcolor": "#E5ECF6",
           "radialaxis": {
            "gridcolor": "white",
            "linecolor": "white",
            "ticks": ""
           }
          },
          "scene": {
           "xaxis": {
            "backgroundcolor": "#E5ECF6",
            "gridcolor": "white",
            "gridwidth": 2,
            "linecolor": "white",
            "showbackground": true,
            "ticks": "",
            "zerolinecolor": "white"
           },
           "yaxis": {
            "backgroundcolor": "#E5ECF6",
            "gridcolor": "white",
            "gridwidth": 2,
            "linecolor": "white",
            "showbackground": true,
            "ticks": "",
            "zerolinecolor": "white"
           },
           "zaxis": {
            "backgroundcolor": "#E5ECF6",
            "gridcolor": "white",
            "gridwidth": 2,
            "linecolor": "white",
            "showbackground": true,
            "ticks": "",
            "zerolinecolor": "white"
           }
          },
          "shapedefaults": {
           "line": {
            "color": "#2a3f5f"
           }
          },
          "ternary": {
           "aaxis": {
            "gridcolor": "white",
            "linecolor": "white",
            "ticks": ""
           },
           "baxis": {
            "gridcolor": "white",
            "linecolor": "white",
            "ticks": ""
           },
           "bgcolor": "#E5ECF6",
           "caxis": {
            "gridcolor": "white",
            "linecolor": "white",
            "ticks": ""
           }
          },
          "title": {
           "x": 0.05
          },
          "xaxis": {
           "automargin": true,
           "gridcolor": "white",
           "linecolor": "white",
           "ticks": "",
           "title": {
            "standoff": 15
           },
           "zerolinecolor": "white",
           "zerolinewidth": 2
          },
          "yaxis": {
           "automargin": true,
           "gridcolor": "white",
           "linecolor": "white",
           "ticks": "",
           "title": {
            "standoff": 15
           },
           "zerolinecolor": "white",
           "zerolinewidth": 2
          }
         }
        },
        "title": {
         "text": "Liquidity to # of Trades Comparison"
        },
        "xaxis": {
         "anchor": "y",
         "domain": [
          0,
          0.94
         ],
         "title": {
          "text": "Date"
         }
        },
        "yaxis": {
         "anchor": "x",
         "domain": [
          0,
          1
         ]
        },
        "yaxis2": {
         "anchor": "x",
         "overlaying": "y",
         "side": "right"
        }
       }
      }
     },
     "metadata": {},
     "output_type": "display_data"
    }
   ],
   "source": [
    "weth_zro_fig = make_subplots(specs=[[{\"secondary_y\": True}]])\n",
    "\n",
    "weth_zro_fig.add_trace(\n",
    "    go.Bar(\n",
    "        x=weth_zro_30['day'],\n",
    "        y=weth_zro_30['arbitrum_avg_liquidity'],\n",
    "        name='Liquidity'\n",
    "    ),\n",
    "    secondary_y=False\n",
    ")\n",
    "\n",
    "weth_zro_fig.add_trace(\n",
    "    go.Scatter(\n",
    "        x=weth_zro_30['day'],\n",
    "        y=weth_zro_30['arbitrum_num_trades'],\n",
    "        name='# Of Trades',\n",
    "        mode='lines'\n",
    "    ),\n",
    "    secondary_y=True\n",
    ")\n",
    "\n",
    "weth_zro_fig.update_layout(title='Liquidity to # of Trades Comparison')\n",
    "\n",
    "weth_zro_fig.update_xaxes(title_text=\"Date\")\n",
    "\n",
    "weth_zro_fig.show()\n"
   ]
  },
  {
   "cell_type": "code",
   "execution_count": 105,
   "metadata": {},
   "outputs": [
    {
     "data": {
      "application/vnd.plotly.v1+json": {
       "config": {
        "plotlyServerURL": "https://plot.ly"
       },
       "data": [
        {
         "colorscale": [
          [
           0,
           "#440154"
          ],
          [
           0.1111111111111111,
           "#482878"
          ],
          [
           0.2222222222222222,
           "#3e4989"
          ],
          [
           0.3333333333333333,
           "#31688e"
          ],
          [
           0.4444444444444444,
           "#26828e"
          ],
          [
           0.5555555555555556,
           "#1f9e89"
          ],
          [
           0.6666666666666666,
           "#35b779"
          ],
          [
           0.7777777777777778,
           "#6ece58"
          ],
          [
           0.8888888888888888,
           "#b5de2b"
          ],
          [
           1,
           "#fde725"
          ]
         ],
         "type": "heatmap",
         "x": [
          "arbitrum_avg_liquidity",
          "arbitrum_fees_usd",
          "arbitrum_tvl_usd",
          "arbitrum_volume_usd"
         ],
         "y": [
          "arbitrum_avg_liquidity",
          "arbitrum_fees_usd",
          "arbitrum_tvl_usd",
          "arbitrum_volume_usd"
         ],
         "z": [
          [
           1,
           -0.26542146589856835,
           -0.21483609225010608,
           -0.26542146589856835
          ],
          [
           -0.26542146589856835,
           1,
           0.6048499252445675,
           0.9999999999999998
          ],
          [
           -0.21483609225010608,
           0.6048499252445675,
           1,
           0.6048499252445677
          ],
          [
           -0.26542146589856835,
           0.9999999999999998,
           0.6048499252445677,
           1
          ]
         ],
         "zmax": 1,
         "zmin": -1
        }
       ],
       "layout": {
        "template": {
         "data": {
          "bar": [
           {
            "error_x": {
             "color": "#2a3f5f"
            },
            "error_y": {
             "color": "#2a3f5f"
            },
            "marker": {
             "line": {
              "color": "#E5ECF6",
              "width": 0.5
             },
             "pattern": {
              "fillmode": "overlay",
              "size": 10,
              "solidity": 0.2
             }
            },
            "type": "bar"
           }
          ],
          "barpolar": [
           {
            "marker": {
             "line": {
              "color": "#E5ECF6",
              "width": 0.5
             },
             "pattern": {
              "fillmode": "overlay",
              "size": 10,
              "solidity": 0.2
             }
            },
            "type": "barpolar"
           }
          ],
          "carpet": [
           {
            "aaxis": {
             "endlinecolor": "#2a3f5f",
             "gridcolor": "white",
             "linecolor": "white",
             "minorgridcolor": "white",
             "startlinecolor": "#2a3f5f"
            },
            "baxis": {
             "endlinecolor": "#2a3f5f",
             "gridcolor": "white",
             "linecolor": "white",
             "minorgridcolor": "white",
             "startlinecolor": "#2a3f5f"
            },
            "type": "carpet"
           }
          ],
          "choropleth": [
           {
            "colorbar": {
             "outlinewidth": 0,
             "ticks": ""
            },
            "type": "choropleth"
           }
          ],
          "contour": [
           {
            "colorbar": {
             "outlinewidth": 0,
             "ticks": ""
            },
            "colorscale": [
             [
              0,
              "#0d0887"
             ],
             [
              0.1111111111111111,
              "#46039f"
             ],
             [
              0.2222222222222222,
              "#7201a8"
             ],
             [
              0.3333333333333333,
              "#9c179e"
             ],
             [
              0.4444444444444444,
              "#bd3786"
             ],
             [
              0.5555555555555556,
              "#d8576b"
             ],
             [
              0.6666666666666666,
              "#ed7953"
             ],
             [
              0.7777777777777778,
              "#fb9f3a"
             ],
             [
              0.8888888888888888,
              "#fdca26"
             ],
             [
              1,
              "#f0f921"
             ]
            ],
            "type": "contour"
           }
          ],
          "contourcarpet": [
           {
            "colorbar": {
             "outlinewidth": 0,
             "ticks": ""
            },
            "type": "contourcarpet"
           }
          ],
          "heatmap": [
           {
            "colorbar": {
             "outlinewidth": 0,
             "ticks": ""
            },
            "colorscale": [
             [
              0,
              "#0d0887"
             ],
             [
              0.1111111111111111,
              "#46039f"
             ],
             [
              0.2222222222222222,
              "#7201a8"
             ],
             [
              0.3333333333333333,
              "#9c179e"
             ],
             [
              0.4444444444444444,
              "#bd3786"
             ],
             [
              0.5555555555555556,
              "#d8576b"
             ],
             [
              0.6666666666666666,
              "#ed7953"
             ],
             [
              0.7777777777777778,
              "#fb9f3a"
             ],
             [
              0.8888888888888888,
              "#fdca26"
             ],
             [
              1,
              "#f0f921"
             ]
            ],
            "type": "heatmap"
           }
          ],
          "heatmapgl": [
           {
            "colorbar": {
             "outlinewidth": 0,
             "ticks": ""
            },
            "colorscale": [
             [
              0,
              "#0d0887"
             ],
             [
              0.1111111111111111,
              "#46039f"
             ],
             [
              0.2222222222222222,
              "#7201a8"
             ],
             [
              0.3333333333333333,
              "#9c179e"
             ],
             [
              0.4444444444444444,
              "#bd3786"
             ],
             [
              0.5555555555555556,
              "#d8576b"
             ],
             [
              0.6666666666666666,
              "#ed7953"
             ],
             [
              0.7777777777777778,
              "#fb9f3a"
             ],
             [
              0.8888888888888888,
              "#fdca26"
             ],
             [
              1,
              "#f0f921"
             ]
            ],
            "type": "heatmapgl"
           }
          ],
          "histogram": [
           {
            "marker": {
             "pattern": {
              "fillmode": "overlay",
              "size": 10,
              "solidity": 0.2
             }
            },
            "type": "histogram"
           }
          ],
          "histogram2d": [
           {
            "colorbar": {
             "outlinewidth": 0,
             "ticks": ""
            },
            "colorscale": [
             [
              0,
              "#0d0887"
             ],
             [
              0.1111111111111111,
              "#46039f"
             ],
             [
              0.2222222222222222,
              "#7201a8"
             ],
             [
              0.3333333333333333,
              "#9c179e"
             ],
             [
              0.4444444444444444,
              "#bd3786"
             ],
             [
              0.5555555555555556,
              "#d8576b"
             ],
             [
              0.6666666666666666,
              "#ed7953"
             ],
             [
              0.7777777777777778,
              "#fb9f3a"
             ],
             [
              0.8888888888888888,
              "#fdca26"
             ],
             [
              1,
              "#f0f921"
             ]
            ],
            "type": "histogram2d"
           }
          ],
          "histogram2dcontour": [
           {
            "colorbar": {
             "outlinewidth": 0,
             "ticks": ""
            },
            "colorscale": [
             [
              0,
              "#0d0887"
             ],
             [
              0.1111111111111111,
              "#46039f"
             ],
             [
              0.2222222222222222,
              "#7201a8"
             ],
             [
              0.3333333333333333,
              "#9c179e"
             ],
             [
              0.4444444444444444,
              "#bd3786"
             ],
             [
              0.5555555555555556,
              "#d8576b"
             ],
             [
              0.6666666666666666,
              "#ed7953"
             ],
             [
              0.7777777777777778,
              "#fb9f3a"
             ],
             [
              0.8888888888888888,
              "#fdca26"
             ],
             [
              1,
              "#f0f921"
             ]
            ],
            "type": "histogram2dcontour"
           }
          ],
          "mesh3d": [
           {
            "colorbar": {
             "outlinewidth": 0,
             "ticks": ""
            },
            "type": "mesh3d"
           }
          ],
          "parcoords": [
           {
            "line": {
             "colorbar": {
              "outlinewidth": 0,
              "ticks": ""
             }
            },
            "type": "parcoords"
           }
          ],
          "pie": [
           {
            "automargin": true,
            "type": "pie"
           }
          ],
          "scatter": [
           {
            "fillpattern": {
             "fillmode": "overlay",
             "size": 10,
             "solidity": 0.2
            },
            "type": "scatter"
           }
          ],
          "scatter3d": [
           {
            "line": {
             "colorbar": {
              "outlinewidth": 0,
              "ticks": ""
             }
            },
            "marker": {
             "colorbar": {
              "outlinewidth": 0,
              "ticks": ""
             }
            },
            "type": "scatter3d"
           }
          ],
          "scattercarpet": [
           {
            "marker": {
             "colorbar": {
              "outlinewidth": 0,
              "ticks": ""
             }
            },
            "type": "scattercarpet"
           }
          ],
          "scattergeo": [
           {
            "marker": {
             "colorbar": {
              "outlinewidth": 0,
              "ticks": ""
             }
            },
            "type": "scattergeo"
           }
          ],
          "scattergl": [
           {
            "marker": {
             "colorbar": {
              "outlinewidth": 0,
              "ticks": ""
             }
            },
            "type": "scattergl"
           }
          ],
          "scattermapbox": [
           {
            "marker": {
             "colorbar": {
              "outlinewidth": 0,
              "ticks": ""
             }
            },
            "type": "scattermapbox"
           }
          ],
          "scatterpolar": [
           {
            "marker": {
             "colorbar": {
              "outlinewidth": 0,
              "ticks": ""
             }
            },
            "type": "scatterpolar"
           }
          ],
          "scatterpolargl": [
           {
            "marker": {
             "colorbar": {
              "outlinewidth": 0,
              "ticks": ""
             }
            },
            "type": "scatterpolargl"
           }
          ],
          "scatterternary": [
           {
            "marker": {
             "colorbar": {
              "outlinewidth": 0,
              "ticks": ""
             }
            },
            "type": "scatterternary"
           }
          ],
          "surface": [
           {
            "colorbar": {
             "outlinewidth": 0,
             "ticks": ""
            },
            "colorscale": [
             [
              0,
              "#0d0887"
             ],
             [
              0.1111111111111111,
              "#46039f"
             ],
             [
              0.2222222222222222,
              "#7201a8"
             ],
             [
              0.3333333333333333,
              "#9c179e"
             ],
             [
              0.4444444444444444,
              "#bd3786"
             ],
             [
              0.5555555555555556,
              "#d8576b"
             ],
             [
              0.6666666666666666,
              "#ed7953"
             ],
             [
              0.7777777777777778,
              "#fb9f3a"
             ],
             [
              0.8888888888888888,
              "#fdca26"
             ],
             [
              1,
              "#f0f921"
             ]
            ],
            "type": "surface"
           }
          ],
          "table": [
           {
            "cells": {
             "fill": {
              "color": "#EBF0F8"
             },
             "line": {
              "color": "white"
             }
            },
            "header": {
             "fill": {
              "color": "#C8D4E3"
             },
             "line": {
              "color": "white"
             }
            },
            "type": "table"
           }
          ]
         },
         "layout": {
          "annotationdefaults": {
           "arrowcolor": "#2a3f5f",
           "arrowhead": 0,
           "arrowwidth": 1
          },
          "autotypenumbers": "strict",
          "coloraxis": {
           "colorbar": {
            "outlinewidth": 0,
            "ticks": ""
           }
          },
          "colorscale": {
           "diverging": [
            [
             0,
             "#8e0152"
            ],
            [
             0.1,
             "#c51b7d"
            ],
            [
             0.2,
             "#de77ae"
            ],
            [
             0.3,
             "#f1b6da"
            ],
            [
             0.4,
             "#fde0ef"
            ],
            [
             0.5,
             "#f7f7f7"
            ],
            [
             0.6,
             "#e6f5d0"
            ],
            [
             0.7,
             "#b8e186"
            ],
            [
             0.8,
             "#7fbc41"
            ],
            [
             0.9,
             "#4d9221"
            ],
            [
             1,
             "#276419"
            ]
           ],
           "sequential": [
            [
             0,
             "#0d0887"
            ],
            [
             0.1111111111111111,
             "#46039f"
            ],
            [
             0.2222222222222222,
             "#7201a8"
            ],
            [
             0.3333333333333333,
             "#9c179e"
            ],
            [
             0.4444444444444444,
             "#bd3786"
            ],
            [
             0.5555555555555556,
             "#d8576b"
            ],
            [
             0.6666666666666666,
             "#ed7953"
            ],
            [
             0.7777777777777778,
             "#fb9f3a"
            ],
            [
             0.8888888888888888,
             "#fdca26"
            ],
            [
             1,
             "#f0f921"
            ]
           ],
           "sequentialminus": [
            [
             0,
             "#0d0887"
            ],
            [
             0.1111111111111111,
             "#46039f"
            ],
            [
             0.2222222222222222,
             "#7201a8"
            ],
            [
             0.3333333333333333,
             "#9c179e"
            ],
            [
             0.4444444444444444,
             "#bd3786"
            ],
            [
             0.5555555555555556,
             "#d8576b"
            ],
            [
             0.6666666666666666,
             "#ed7953"
            ],
            [
             0.7777777777777778,
             "#fb9f3a"
            ],
            [
             0.8888888888888888,
             "#fdca26"
            ],
            [
             1,
             "#f0f921"
            ]
           ]
          },
          "colorway": [
           "#636efa",
           "#EF553B",
           "#00cc96",
           "#ab63fa",
           "#FFA15A",
           "#19d3f3",
           "#FF6692",
           "#B6E880",
           "#FF97FF",
           "#FECB52"
          ],
          "font": {
           "color": "#2a3f5f"
          },
          "geo": {
           "bgcolor": "white",
           "lakecolor": "white",
           "landcolor": "#E5ECF6",
           "showlakes": true,
           "showland": true,
           "subunitcolor": "white"
          },
          "hoverlabel": {
           "align": "left"
          },
          "hovermode": "closest",
          "mapbox": {
           "style": "light"
          },
          "paper_bgcolor": "white",
          "plot_bgcolor": "#E5ECF6",
          "polar": {
           "angularaxis": {
            "gridcolor": "white",
            "linecolor": "white",
            "ticks": ""
           },
           "bgcolor": "#E5ECF6",
           "radialaxis": {
            "gridcolor": "white",
            "linecolor": "white",
            "ticks": ""
           }
          },
          "scene": {
           "xaxis": {
            "backgroundcolor": "#E5ECF6",
            "gridcolor": "white",
            "gridwidth": 2,
            "linecolor": "white",
            "showbackground": true,
            "ticks": "",
            "zerolinecolor": "white"
           },
           "yaxis": {
            "backgroundcolor": "#E5ECF6",
            "gridcolor": "white",
            "gridwidth": 2,
            "linecolor": "white",
            "showbackground": true,
            "ticks": "",
            "zerolinecolor": "white"
           },
           "zaxis": {
            "backgroundcolor": "#E5ECF6",
            "gridcolor": "white",
            "gridwidth": 2,
            "linecolor": "white",
            "showbackground": true,
            "ticks": "",
            "zerolinecolor": "white"
           }
          },
          "shapedefaults": {
           "line": {
            "color": "#2a3f5f"
           }
          },
          "ternary": {
           "aaxis": {
            "gridcolor": "white",
            "linecolor": "white",
            "ticks": ""
           },
           "baxis": {
            "gridcolor": "white",
            "linecolor": "white",
            "ticks": ""
           },
           "bgcolor": "#E5ECF6",
           "caxis": {
            "gridcolor": "white",
            "linecolor": "white",
            "ticks": ""
           }
          },
          "title": {
           "x": 0.05
          },
          "xaxis": {
           "automargin": true,
           "gridcolor": "white",
           "linecolor": "white",
           "ticks": "",
           "title": {
            "standoff": 15
           },
           "zerolinecolor": "white",
           "zerolinewidth": 2
          },
          "yaxis": {
           "automargin": true,
           "gridcolor": "white",
           "linecolor": "white",
           "ticks": "",
           "title": {
            "standoff": 15
           },
           "zerolinecolor": "white",
           "zerolinewidth": 2
          }
         }
        },
        "title": {
         "text": "Correlation Matrix"
        },
        "xaxis": {
         "nticks": 36
        }
       }
      }
     },
     "metadata": {},
     "output_type": "display_data"
    }
   ],
   "source": [
    "corr_matrix = weth_zro_30[['arbitrum_avg_liquidity', 'arbitrum_fees_usd', 'arbitrum_tvl_usd', 'arbitrum_volume_usd']].corr()\n",
    "\n",
    "# Create a heatmap\n",
    "fig = go.Figure(data=go.Heatmap(\n",
    "                   z=corr_matrix.values,\n",
    "                   x=corr_matrix.columns,\n",
    "                   y=corr_matrix.columns,\n",
    "                   colorscale='Viridis',\n",
    "                   zmin=-1, zmax=1))\n",
    "\n",
    "fig.update_layout(\n",
    "    title='Correlation Matrix',\n",
    "    xaxis_nticks=36\n",
    ")\n",
    "\n",
    "fig.show()"
   ]
  },
  {
   "cell_type": "code",
   "execution_count": 76,
   "metadata": {},
   "outputs": [],
   "source": [
    "arbitrum_gas_df.rename(columns={'dt':'day'}, inplace=True)"
   ]
  },
  {
   "cell_type": "code",
   "execution_count": 106,
   "metadata": {},
   "outputs": [],
   "source": [
    "weth_zro_30 = weth_zro_30.merge(arbitrum_gas_df, how='left', on=['day']) \n"
   ]
  },
  {
   "cell_type": "code",
   "execution_count": 107,
   "metadata": {},
   "outputs": [
    {
     "data": {
      "text/html": [
       "<div>\n",
       "<style scoped>\n",
       "    .dataframe tbody tr th:only-of-type {\n",
       "        vertical-align: middle;\n",
       "    }\n",
       "\n",
       "    .dataframe tbody tr th {\n",
       "        vertical-align: top;\n",
       "    }\n",
       "\n",
       "    .dataframe thead th {\n",
       "        text-align: right;\n",
       "    }\n",
       "</style>\n",
       "<table border=\"1\" class=\"dataframe\">\n",
       "  <thead>\n",
       "    <tr style=\"text-align: right;\">\n",
       "      <th></th>\n",
       "      <th>arbitrum_avg_liquidity</th>\n",
       "      <th>day</th>\n",
       "      <th>arbitrum_fee_apr</th>\n",
       "      <th>arbitrum_fee_tier</th>\n",
       "      <th>arbitrum_fees_usd</th>\n",
       "      <th>arbitrum_lp_addr</th>\n",
       "      <th>arbitrum_num_trades</th>\n",
       "      <th>arbitrum_token_pair</th>\n",
       "      <th>arbitrum_tvl_usd</th>\n",
       "      <th>arbitrum_volume_to_tvl</th>\n",
       "      <th>arbitrum_volume_usd</th>\n",
       "      <th>arbitrum_gas_usd_per_tx</th>\n",
       "      <th>arbitrum_median_gas_usd</th>\n",
       "    </tr>\n",
       "  </thead>\n",
       "  <tbody>\n",
       "    <tr>\n",
       "      <th>0</th>\n",
       "      <td>1.854139e+23</td>\n",
       "      <td>2024-07-14 00:00:00.000 UTC</td>\n",
       "      <td>0.037815</td>\n",
       "      <td>0.30%</td>\n",
       "      <td>386.685410</td>\n",
       "      <td>0x4cef551255ec96d89fec975446301b5c4e164c59</td>\n",
       "      <td>119</td>\n",
       "      <td>WETH-ZRO</td>\n",
       "      <td>3.732390e+06</td>\n",
       "      <td>0.034534</td>\n",
       "      <td>128895.136815</td>\n",
       "      <td>0.010340</td>\n",
       "      <td>0.006240</td>\n",
       "    </tr>\n",
       "    <tr>\n",
       "      <th>1</th>\n",
       "      <td>1.760607e+23</td>\n",
       "      <td>2024-07-14 01:00:00.000 UTC</td>\n",
       "      <td>0.023862</td>\n",
       "      <td>0.30%</td>\n",
       "      <td>243.510673</td>\n",
       "      <td>0x4cef551255ec96d89fec975446301b5c4e164c59</td>\n",
       "      <td>77</td>\n",
       "      <td>WETH-ZRO</td>\n",
       "      <td>3.724752e+06</td>\n",
       "      <td>0.021792</td>\n",
       "      <td>81170.224269</td>\n",
       "      <td>0.007959</td>\n",
       "      <td>0.005059</td>\n",
       "    </tr>\n",
       "    <tr>\n",
       "      <th>2</th>\n",
       "      <td>1.613444e+23</td>\n",
       "      <td>2024-07-14 02:00:00.000 UTC</td>\n",
       "      <td>0.041648</td>\n",
       "      <td>0.30%</td>\n",
       "      <td>421.222300</td>\n",
       "      <td>0x4cef551255ec96d89fec975446301b5c4e164c59</td>\n",
       "      <td>126</td>\n",
       "      <td>WETH-ZRO</td>\n",
       "      <td>3.691604e+06</td>\n",
       "      <td>0.038034</td>\n",
       "      <td>140407.433278</td>\n",
       "      <td>0.005898</td>\n",
       "      <td>0.004483</td>\n",
       "    </tr>\n",
       "    <tr>\n",
       "      <th>3</th>\n",
       "      <td>1.508496e+23</td>\n",
       "      <td>2024-07-14 03:00:00.000 UTC</td>\n",
       "      <td>0.033474</td>\n",
       "      <td>0.30%</td>\n",
       "      <td>337.849127</td>\n",
       "      <td>0x4cef551255ec96d89fec975446301b5c4e164c59</td>\n",
       "      <td>118</td>\n",
       "      <td>WETH-ZRO</td>\n",
       "      <td>3.683938e+06</td>\n",
       "      <td>0.030570</td>\n",
       "      <td>112616.375723</td>\n",
       "      <td>0.005264</td>\n",
       "      <td>0.004377</td>\n",
       "    </tr>\n",
       "    <tr>\n",
       "      <th>4</th>\n",
       "      <td>1.610693e+23</td>\n",
       "      <td>2024-07-14 04:00:00.000 UTC</td>\n",
       "      <td>0.069065</td>\n",
       "      <td>0.30%</td>\n",
       "      <td>700.431649</td>\n",
       "      <td>0x4cef551255ec96d89fec975446301b5c4e164c59</td>\n",
       "      <td>237</td>\n",
       "      <td>WETH-ZRO</td>\n",
       "      <td>3.701668e+06</td>\n",
       "      <td>0.063074</td>\n",
       "      <td>233477.216492</td>\n",
       "      <td>0.006068</td>\n",
       "      <td>0.004599</td>\n",
       "    </tr>\n",
       "  </tbody>\n",
       "</table>\n",
       "</div>"
      ],
      "text/plain": [
       "   arbitrum_avg_liquidity                          day  arbitrum_fee_apr  \\\n",
       "0            1.854139e+23  2024-07-14 00:00:00.000 UTC          0.037815   \n",
       "1            1.760607e+23  2024-07-14 01:00:00.000 UTC          0.023862   \n",
       "2            1.613444e+23  2024-07-14 02:00:00.000 UTC          0.041648   \n",
       "3            1.508496e+23  2024-07-14 03:00:00.000 UTC          0.033474   \n",
       "4            1.610693e+23  2024-07-14 04:00:00.000 UTC          0.069065   \n",
       "\n",
       "  arbitrum_fee_tier  arbitrum_fees_usd  \\\n",
       "0             0.30%         386.685410   \n",
       "1             0.30%         243.510673   \n",
       "2             0.30%         421.222300   \n",
       "3             0.30%         337.849127   \n",
       "4             0.30%         700.431649   \n",
       "\n",
       "                             arbitrum_lp_addr  arbitrum_num_trades  \\\n",
       "0  0x4cef551255ec96d89fec975446301b5c4e164c59                  119   \n",
       "1  0x4cef551255ec96d89fec975446301b5c4e164c59                   77   \n",
       "2  0x4cef551255ec96d89fec975446301b5c4e164c59                  126   \n",
       "3  0x4cef551255ec96d89fec975446301b5c4e164c59                  118   \n",
       "4  0x4cef551255ec96d89fec975446301b5c4e164c59                  237   \n",
       "\n",
       "  arbitrum_token_pair  arbitrum_tvl_usd  arbitrum_volume_to_tvl  \\\n",
       "0            WETH-ZRO      3.732390e+06                0.034534   \n",
       "1            WETH-ZRO      3.724752e+06                0.021792   \n",
       "2            WETH-ZRO      3.691604e+06                0.038034   \n",
       "3            WETH-ZRO      3.683938e+06                0.030570   \n",
       "4            WETH-ZRO      3.701668e+06                0.063074   \n",
       "\n",
       "   arbitrum_volume_usd  arbitrum_gas_usd_per_tx  arbitrum_median_gas_usd  \n",
       "0        128895.136815                 0.010340                 0.006240  \n",
       "1         81170.224269                 0.007959                 0.005059  \n",
       "2        140407.433278                 0.005898                 0.004483  \n",
       "3        112616.375723                 0.005264                 0.004377  \n",
       "4        233477.216492                 0.006068                 0.004599  "
      ]
     },
     "execution_count": 107,
     "metadata": {},
     "output_type": "execute_result"
    }
   ],
   "source": [
    "weth_zro_30.head()"
   ]
  },
  {
   "cell_type": "code",
   "execution_count": 108,
   "metadata": {},
   "outputs": [
    {
     "name": "stdout",
     "output_type": "stream",
     "text": [
      "                           day  arbitrum_avg_liquidity  arbitrum_net_liquidity\n",
      "0  2024-07-14 00:00:00.000 UTC            1.854139e+23            0.000000e+00\n",
      "1  2024-07-14 01:00:00.000 UTC            1.760607e+23           -9.353201e+21\n",
      "2  2024-07-14 02:00:00.000 UTC            1.613444e+23           -1.471624e+22\n",
      "3  2024-07-14 03:00:00.000 UTC            1.508496e+23           -1.049480e+22\n",
      "4  2024-07-14 04:00:00.000 UTC            1.610693e+23            1.021968e+22\n"
     ]
    },
    {
     "name": "stderr",
     "output_type": "stream",
     "text": [
      "C:\\Users\\brandyns pc\\AppData\\Local\\Temp\\ipykernel_47392\\1579211113.py:2: FutureWarning:\n",
      "\n",
      "A value is trying to be set on a copy of a DataFrame or Series through chained assignment using an inplace method.\n",
      "The behavior will change in pandas 3.0. This inplace method will never work because the intermediate object on which we are setting values always behaves as a copy.\n",
      "\n",
      "For example, when doing 'df[col].method(value, inplace=True)', try using 'df.method({col: value}, inplace=True)' or df[col] = df[col].method(value) instead, to perform the operation inplace on the original object.\n",
      "\n",
      "\n",
      "\n"
     ]
    }
   ],
   "source": [
    "weth_zro_30['arbitrum_net_liquidity'] = weth_zro_30['arbitrum_avg_liquidity'] - weth_zro_30['arbitrum_avg_liquidity'].shift(1)\n",
    "weth_zro_30['arbitrum_net_liquidity'].fillna(0, inplace=True) \n",
    "print(weth_zro_30[['day', 'arbitrum_avg_liquidity', 'arbitrum_net_liquidity']].head())"
   ]
  },
  {
   "cell_type": "code",
   "execution_count": 110,
   "metadata": {},
   "outputs": [
    {
     "data": {
      "application/vnd.plotly.v1+json": {
       "config": {
        "plotlyServerURL": "https://plot.ly"
       },
       "data": [
        {
         "name": "# of Trades",
         "type": "bar",
         "x": [
          "2024-07-14 00:00:00.000 UTC",
          "2024-07-14 01:00:00.000 UTC",
          "2024-07-14 02:00:00.000 UTC",
          "2024-07-14 03:00:00.000 UTC",
          "2024-07-14 04:00:00.000 UTC",
          "2024-07-14 05:00:00.000 UTC",
          "2024-07-14 06:00:00.000 UTC",
          "2024-07-14 07:00:00.000 UTC",
          "2024-07-14 08:00:00.000 UTC",
          "2024-07-14 09:00:00.000 UTC",
          "2024-07-14 10:00:00.000 UTC",
          "2024-07-14 11:00:00.000 UTC",
          "2024-07-14 12:00:00.000 UTC",
          "2024-07-14 13:00:00.000 UTC",
          "2024-07-14 14:00:00.000 UTC",
          "2024-07-14 15:00:00.000 UTC",
          "2024-07-14 16:00:00.000 UTC",
          "2024-07-14 17:00:00.000 UTC",
          "2024-07-14 18:00:00.000 UTC",
          "2024-07-14 19:00:00.000 UTC",
          "2024-07-14 20:00:00.000 UTC",
          "2024-07-14 21:00:00.000 UTC",
          "2024-07-14 22:00:00.000 UTC",
          "2024-07-14 23:00:00.000 UTC",
          "2024-07-15 00:00:00.000 UTC",
          "2024-07-15 01:00:00.000 UTC",
          "2024-07-15 02:00:00.000 UTC",
          "2024-07-15 03:00:00.000 UTC",
          "2024-07-15 04:00:00.000 UTC",
          "2024-07-15 05:00:00.000 UTC",
          "2024-07-15 06:00:00.000 UTC",
          "2024-07-15 07:00:00.000 UTC",
          "2024-07-15 08:00:00.000 UTC",
          "2024-07-15 09:00:00.000 UTC",
          "2024-07-15 10:00:00.000 UTC",
          "2024-07-15 11:00:00.000 UTC",
          "2024-07-15 12:00:00.000 UTC",
          "2024-07-15 13:00:00.000 UTC",
          "2024-07-15 14:00:00.000 UTC",
          "2024-07-15 15:00:00.000 UTC",
          "2024-07-15 16:00:00.000 UTC",
          "2024-07-15 17:00:00.000 UTC",
          "2024-07-15 18:00:00.000 UTC",
          "2024-07-15 19:00:00.000 UTC",
          "2024-07-15 20:00:00.000 UTC",
          "2024-07-15 21:00:00.000 UTC",
          "2024-07-15 22:00:00.000 UTC",
          "2024-07-15 23:00:00.000 UTC",
          "2024-07-16 00:00:00.000 UTC",
          "2024-07-16 01:00:00.000 UTC",
          "2024-07-16 02:00:00.000 UTC",
          "2024-07-16 03:00:00.000 UTC",
          "2024-07-16 04:00:00.000 UTC",
          "2024-07-16 05:00:00.000 UTC",
          "2024-07-16 06:00:00.000 UTC",
          "2024-07-16 07:00:00.000 UTC",
          "2024-07-16 08:00:00.000 UTC",
          "2024-07-16 09:00:00.000 UTC",
          "2024-07-16 10:00:00.000 UTC",
          "2024-07-16 11:00:00.000 UTC",
          "2024-07-16 12:00:00.000 UTC",
          "2024-07-16 13:00:00.000 UTC",
          "2024-07-16 14:00:00.000 UTC",
          "2024-07-16 15:00:00.000 UTC",
          "2024-07-16 16:00:00.000 UTC",
          "2024-07-16 17:00:00.000 UTC",
          "2024-07-16 18:00:00.000 UTC",
          "2024-07-16 19:00:00.000 UTC",
          "2024-07-16 20:00:00.000 UTC",
          "2024-07-16 21:00:00.000 UTC",
          "2024-07-16 22:00:00.000 UTC",
          "2024-07-16 23:00:00.000 UTC",
          "2024-07-17 00:00:00.000 UTC",
          "2024-07-17 01:00:00.000 UTC",
          "2024-07-17 02:00:00.000 UTC",
          "2024-07-17 03:00:00.000 UTC",
          "2024-07-17 04:00:00.000 UTC",
          "2024-07-17 05:00:00.000 UTC",
          "2024-07-17 06:00:00.000 UTC",
          "2024-07-17 07:00:00.000 UTC",
          "2024-07-17 08:00:00.000 UTC",
          "2024-07-17 09:00:00.000 UTC",
          "2024-07-17 10:00:00.000 UTC",
          "2024-07-17 11:00:00.000 UTC",
          "2024-07-17 12:00:00.000 UTC",
          "2024-07-17 13:00:00.000 UTC",
          "2024-07-17 14:00:00.000 UTC",
          "2024-07-17 15:00:00.000 UTC",
          "2024-07-17 16:00:00.000 UTC",
          "2024-07-17 17:00:00.000 UTC",
          "2024-07-17 18:00:00.000 UTC",
          "2024-07-17 19:00:00.000 UTC",
          "2024-07-17 20:00:00.000 UTC",
          "2024-07-17 21:00:00.000 UTC",
          "2024-07-17 22:00:00.000 UTC",
          "2024-07-17 23:00:00.000 UTC",
          "2024-07-18 00:00:00.000 UTC",
          "2024-07-18 01:00:00.000 UTC",
          "2024-07-18 02:00:00.000 UTC",
          "2024-07-18 03:00:00.000 UTC",
          "2024-07-18 04:00:00.000 UTC",
          "2024-07-18 05:00:00.000 UTC",
          "2024-07-18 06:00:00.000 UTC",
          "2024-07-18 07:00:00.000 UTC",
          "2024-07-18 08:00:00.000 UTC",
          "2024-07-18 09:00:00.000 UTC",
          "2024-07-18 10:00:00.000 UTC",
          "2024-07-18 11:00:00.000 UTC",
          "2024-07-18 12:00:00.000 UTC",
          "2024-07-18 13:00:00.000 UTC",
          "2024-07-18 14:00:00.000 UTC",
          "2024-07-18 15:00:00.000 UTC",
          "2024-07-18 16:00:00.000 UTC",
          "2024-07-18 17:00:00.000 UTC",
          "2024-07-18 18:00:00.000 UTC",
          "2024-07-18 19:00:00.000 UTC",
          "2024-07-18 20:00:00.000 UTC",
          "2024-07-18 21:00:00.000 UTC",
          "2024-07-18 22:00:00.000 UTC",
          "2024-07-18 23:00:00.000 UTC",
          "2024-07-19 00:00:00.000 UTC",
          "2024-07-19 01:00:00.000 UTC",
          "2024-07-19 02:00:00.000 UTC",
          "2024-07-19 03:00:00.000 UTC",
          "2024-07-19 04:00:00.000 UTC",
          "2024-07-19 05:00:00.000 UTC",
          "2024-07-19 06:00:00.000 UTC",
          "2024-07-19 07:00:00.000 UTC",
          "2024-07-19 08:00:00.000 UTC",
          "2024-07-19 09:00:00.000 UTC",
          "2024-07-19 10:00:00.000 UTC",
          "2024-07-19 11:00:00.000 UTC",
          "2024-07-19 12:00:00.000 UTC",
          "2024-07-19 13:00:00.000 UTC",
          "2024-07-19 14:00:00.000 UTC",
          "2024-07-19 15:00:00.000 UTC",
          "2024-07-19 16:00:00.000 UTC",
          "2024-07-19 17:00:00.000 UTC",
          "2024-07-19 18:00:00.000 UTC",
          "2024-07-19 19:00:00.000 UTC",
          "2024-07-19 20:00:00.000 UTC",
          "2024-07-19 21:00:00.000 UTC",
          "2024-07-19 22:00:00.000 UTC",
          "2024-07-19 23:00:00.000 UTC",
          "2024-07-20 00:00:00.000 UTC",
          "2024-07-20 01:00:00.000 UTC",
          "2024-07-20 02:00:00.000 UTC",
          "2024-07-20 03:00:00.000 UTC",
          "2024-07-20 04:00:00.000 UTC",
          "2024-07-20 05:00:00.000 UTC",
          "2024-07-20 06:00:00.000 UTC",
          "2024-07-20 07:00:00.000 UTC",
          "2024-07-20 08:00:00.000 UTC",
          "2024-07-20 09:00:00.000 UTC",
          "2024-07-20 10:00:00.000 UTC",
          "2024-07-20 11:00:00.000 UTC",
          "2024-07-20 12:00:00.000 UTC",
          "2024-07-20 13:00:00.000 UTC",
          "2024-07-20 14:00:00.000 UTC",
          "2024-07-20 15:00:00.000 UTC",
          "2024-07-20 16:00:00.000 UTC",
          "2024-07-20 17:00:00.000 UTC",
          "2024-07-20 18:00:00.000 UTC",
          "2024-07-20 19:00:00.000 UTC",
          "2024-07-20 20:00:00.000 UTC",
          "2024-07-20 21:00:00.000 UTC",
          "2024-07-20 22:00:00.000 UTC",
          "2024-07-20 23:00:00.000 UTC",
          "2024-07-21 00:00:00.000 UTC",
          "2024-07-21 01:00:00.000 UTC"
         ],
         "xaxis": "x",
         "y": [
          119,
          77,
          126,
          118,
          237,
          229,
          294,
          84,
          123,
          73,
          87,
          102,
          184,
          101,
          61,
          56,
          175,
          245,
          177,
          50,
          311,
          259,
          187,
          218,
          331,
          374,
          236,
          180,
          217,
          160,
          188,
          236,
          367,
          153,
          167,
          231,
          146,
          158,
          108,
          103,
          174,
          190,
          108,
          126,
          110,
          117,
          269,
          254,
          328,
          171,
          145,
          36,
          97,
          109,
          166,
          145,
          157,
          120,
          117,
          70,
          107,
          149,
          137,
          262,
          238,
          102,
          61,
          26,
          109,
          67,
          72,
          53,
          221,
          302,
          833,
          625,
          362,
          194,
          143,
          155,
          331,
          249,
          231,
          252,
          143,
          184,
          143,
          312,
          222,
          282,
          89,
          62,
          181,
          117,
          89,
          102,
          233,
          211,
          321,
          162,
          104,
          183,
          111,
          349,
          210,
          155,
          119,
          120,
          69,
          65,
          193,
          112,
          180,
          215,
          105,
          202,
          104,
          98,
          43,
          50,
          225,
          165,
          112,
          104,
          67,
          108,
          70,
          84,
          164,
          104,
          60,
          45,
          123,
          172,
          95,
          105,
          127,
          69,
          79,
          81,
          100,
          85,
          71,
          38,
          194,
          140,
          121,
          40,
          151,
          109,
          244,
          129,
          581,
          346,
          204,
          161,
          363,
          927,
          1067,
          936,
          679,
          473,
          1249,
          1172,
          521,
          338,
          370,
          958,
          642,
          156
         ],
         "yaxis": "y"
        },
        {
         "mode": "lines",
         "name": "Median Gas",
         "type": "scatter",
         "x": [
          "2024-07-14 00:00:00.000 UTC",
          "2024-07-14 01:00:00.000 UTC",
          "2024-07-14 02:00:00.000 UTC",
          "2024-07-14 03:00:00.000 UTC",
          "2024-07-14 04:00:00.000 UTC",
          "2024-07-14 05:00:00.000 UTC",
          "2024-07-14 06:00:00.000 UTC",
          "2024-07-14 07:00:00.000 UTC",
          "2024-07-14 08:00:00.000 UTC",
          "2024-07-14 09:00:00.000 UTC",
          "2024-07-14 10:00:00.000 UTC",
          "2024-07-14 11:00:00.000 UTC",
          "2024-07-14 12:00:00.000 UTC",
          "2024-07-14 13:00:00.000 UTC",
          "2024-07-14 14:00:00.000 UTC",
          "2024-07-14 15:00:00.000 UTC",
          "2024-07-14 16:00:00.000 UTC",
          "2024-07-14 17:00:00.000 UTC",
          "2024-07-14 18:00:00.000 UTC",
          "2024-07-14 19:00:00.000 UTC",
          "2024-07-14 20:00:00.000 UTC",
          "2024-07-14 21:00:00.000 UTC",
          "2024-07-14 22:00:00.000 UTC",
          "2024-07-14 23:00:00.000 UTC",
          "2024-07-15 00:00:00.000 UTC",
          "2024-07-15 01:00:00.000 UTC",
          "2024-07-15 02:00:00.000 UTC",
          "2024-07-15 03:00:00.000 UTC",
          "2024-07-15 04:00:00.000 UTC",
          "2024-07-15 05:00:00.000 UTC",
          "2024-07-15 06:00:00.000 UTC",
          "2024-07-15 07:00:00.000 UTC",
          "2024-07-15 08:00:00.000 UTC",
          "2024-07-15 09:00:00.000 UTC",
          "2024-07-15 10:00:00.000 UTC",
          "2024-07-15 11:00:00.000 UTC",
          "2024-07-15 12:00:00.000 UTC",
          "2024-07-15 13:00:00.000 UTC",
          "2024-07-15 14:00:00.000 UTC",
          "2024-07-15 15:00:00.000 UTC",
          "2024-07-15 16:00:00.000 UTC",
          "2024-07-15 17:00:00.000 UTC",
          "2024-07-15 18:00:00.000 UTC",
          "2024-07-15 19:00:00.000 UTC",
          "2024-07-15 20:00:00.000 UTC",
          "2024-07-15 21:00:00.000 UTC",
          "2024-07-15 22:00:00.000 UTC",
          "2024-07-15 23:00:00.000 UTC",
          "2024-07-16 00:00:00.000 UTC",
          "2024-07-16 01:00:00.000 UTC",
          "2024-07-16 02:00:00.000 UTC",
          "2024-07-16 03:00:00.000 UTC",
          "2024-07-16 04:00:00.000 UTC",
          "2024-07-16 05:00:00.000 UTC",
          "2024-07-16 06:00:00.000 UTC",
          "2024-07-16 07:00:00.000 UTC",
          "2024-07-16 08:00:00.000 UTC",
          "2024-07-16 09:00:00.000 UTC",
          "2024-07-16 10:00:00.000 UTC",
          "2024-07-16 11:00:00.000 UTC",
          "2024-07-16 12:00:00.000 UTC",
          "2024-07-16 13:00:00.000 UTC",
          "2024-07-16 14:00:00.000 UTC",
          "2024-07-16 15:00:00.000 UTC",
          "2024-07-16 16:00:00.000 UTC",
          "2024-07-16 17:00:00.000 UTC",
          "2024-07-16 18:00:00.000 UTC",
          "2024-07-16 19:00:00.000 UTC",
          "2024-07-16 20:00:00.000 UTC",
          "2024-07-16 21:00:00.000 UTC",
          "2024-07-16 22:00:00.000 UTC",
          "2024-07-16 23:00:00.000 UTC",
          "2024-07-17 00:00:00.000 UTC",
          "2024-07-17 01:00:00.000 UTC",
          "2024-07-17 02:00:00.000 UTC",
          "2024-07-17 03:00:00.000 UTC",
          "2024-07-17 04:00:00.000 UTC",
          "2024-07-17 05:00:00.000 UTC",
          "2024-07-17 06:00:00.000 UTC",
          "2024-07-17 07:00:00.000 UTC",
          "2024-07-17 08:00:00.000 UTC",
          "2024-07-17 09:00:00.000 UTC",
          "2024-07-17 10:00:00.000 UTC",
          "2024-07-17 11:00:00.000 UTC",
          "2024-07-17 12:00:00.000 UTC",
          "2024-07-17 13:00:00.000 UTC",
          "2024-07-17 14:00:00.000 UTC",
          "2024-07-17 15:00:00.000 UTC",
          "2024-07-17 16:00:00.000 UTC",
          "2024-07-17 17:00:00.000 UTC",
          "2024-07-17 18:00:00.000 UTC",
          "2024-07-17 19:00:00.000 UTC",
          "2024-07-17 20:00:00.000 UTC",
          "2024-07-17 21:00:00.000 UTC",
          "2024-07-17 22:00:00.000 UTC",
          "2024-07-17 23:00:00.000 UTC",
          "2024-07-18 00:00:00.000 UTC",
          "2024-07-18 01:00:00.000 UTC",
          "2024-07-18 02:00:00.000 UTC",
          "2024-07-18 03:00:00.000 UTC",
          "2024-07-18 04:00:00.000 UTC",
          "2024-07-18 05:00:00.000 UTC",
          "2024-07-18 06:00:00.000 UTC",
          "2024-07-18 07:00:00.000 UTC",
          "2024-07-18 08:00:00.000 UTC",
          "2024-07-18 09:00:00.000 UTC",
          "2024-07-18 10:00:00.000 UTC",
          "2024-07-18 11:00:00.000 UTC",
          "2024-07-18 12:00:00.000 UTC",
          "2024-07-18 13:00:00.000 UTC",
          "2024-07-18 14:00:00.000 UTC",
          "2024-07-18 15:00:00.000 UTC",
          "2024-07-18 16:00:00.000 UTC",
          "2024-07-18 17:00:00.000 UTC",
          "2024-07-18 18:00:00.000 UTC",
          "2024-07-18 19:00:00.000 UTC",
          "2024-07-18 20:00:00.000 UTC",
          "2024-07-18 21:00:00.000 UTC",
          "2024-07-18 22:00:00.000 UTC",
          "2024-07-18 23:00:00.000 UTC",
          "2024-07-19 00:00:00.000 UTC",
          "2024-07-19 01:00:00.000 UTC",
          "2024-07-19 02:00:00.000 UTC",
          "2024-07-19 03:00:00.000 UTC",
          "2024-07-19 04:00:00.000 UTC",
          "2024-07-19 05:00:00.000 UTC",
          "2024-07-19 06:00:00.000 UTC",
          "2024-07-19 07:00:00.000 UTC",
          "2024-07-19 08:00:00.000 UTC",
          "2024-07-19 09:00:00.000 UTC",
          "2024-07-19 10:00:00.000 UTC",
          "2024-07-19 11:00:00.000 UTC",
          "2024-07-19 12:00:00.000 UTC",
          "2024-07-19 13:00:00.000 UTC",
          "2024-07-19 14:00:00.000 UTC",
          "2024-07-19 15:00:00.000 UTC",
          "2024-07-19 16:00:00.000 UTC",
          "2024-07-19 17:00:00.000 UTC",
          "2024-07-19 18:00:00.000 UTC",
          "2024-07-19 19:00:00.000 UTC",
          "2024-07-19 20:00:00.000 UTC",
          "2024-07-19 21:00:00.000 UTC",
          "2024-07-19 22:00:00.000 UTC",
          "2024-07-19 23:00:00.000 UTC",
          "2024-07-20 00:00:00.000 UTC",
          "2024-07-20 01:00:00.000 UTC",
          "2024-07-20 02:00:00.000 UTC",
          "2024-07-20 03:00:00.000 UTC",
          "2024-07-20 04:00:00.000 UTC",
          "2024-07-20 05:00:00.000 UTC",
          "2024-07-20 06:00:00.000 UTC",
          "2024-07-20 07:00:00.000 UTC",
          "2024-07-20 08:00:00.000 UTC",
          "2024-07-20 09:00:00.000 UTC",
          "2024-07-20 10:00:00.000 UTC",
          "2024-07-20 11:00:00.000 UTC",
          "2024-07-20 12:00:00.000 UTC",
          "2024-07-20 13:00:00.000 UTC",
          "2024-07-20 14:00:00.000 UTC",
          "2024-07-20 15:00:00.000 UTC",
          "2024-07-20 16:00:00.000 UTC",
          "2024-07-20 17:00:00.000 UTC",
          "2024-07-20 18:00:00.000 UTC",
          "2024-07-20 19:00:00.000 UTC",
          "2024-07-20 20:00:00.000 UTC",
          "2024-07-20 21:00:00.000 UTC",
          "2024-07-20 22:00:00.000 UTC",
          "2024-07-20 23:00:00.000 UTC",
          "2024-07-21 00:00:00.000 UTC",
          "2024-07-21 01:00:00.000 UTC"
         ],
         "xaxis": "x",
         "y": [
          0.0062396931178717,
          0.0050588725563211,
          0.004483389566266,
          0.004376565172068,
          0.0045992589307719,
          0.004733452947132,
          0.0047130424126177,
          0.0040011543820084,
          0.0050162680848602,
          0.004890020650958,
          0.0044590105471296,
          0.0044446090336756,
          0.004783570690763,
          0.0043077114123807,
          0.0051474093946274,
          0.0052503049494948,
          0.0058658816883376,
          0.0050581417262187,
          0.0046379611325949,
          0.0046717896789692,
          0.0045604703913611,
          0.005149209414802,
          0.0054213159797824,
          0.0048436944631694,
          0.0050070455710159,
          0.0054474242965785,
          0.0060339212056536,
          0.0055388293094496,
          0.0050701655538012,
          0.0049272317485885,
          0.0050740842403432,
          0.005281655346667,
          0.0054343424401845,
          0.0057502378448531,
          0.0053855401499352,
          0.005461406146308,
          0.0054823929671967,
          0.0054631191564489,
          0.0056014629713318,
          0.0110720468110249,
          0.0112253754006234,
          0.0123986019718074,
          0.0106804750783467,
          0.0161414053630119,
          0.0072226417155905,
          0.0081412969487998,
          0.008939234277918,
          0.0074538264638033,
          0.0071071321325336,
          0.0053721977804504,
          0.0059676534113301,
          0.0057420980697528,
          0.0058534105471053,
          0.0066247296673266,
          0.0064137955284424,
          0.0072167150721094,
          0.0075368319824894,
          0.0068600308688541,
          0.0060708513701731,
          0.0063654262932417,
          0.0067980612329457,
          0.0035707640575142,
          0.0056515454848659,
          0.0073058088054621,
          0.0132241622224172,
          0.0090441723866724,
          0.0087158461639841,
          0.0085896766052424,
          0.0082062523684802,
          0.0070019897778354,
          0.0067975007826121,
          0.0061832099379821,
          0.0059913060706752,
          0.0068886257387762,
          0.0064639882195654,
          0.0073729897421762,
          0.0060353426624292,
          0.0075690216378774,
          0.0072234306030651,
          0.0066279803692569,
          0.0074098787463994,
          0.0079012865861907,
          0.0072871167151276,
          0.0069798970757191,
          0.0068541539144614,
          0.0082594728045548,
          0.0144031661053958,
          0.0112005905939284,
          0.0386605687555539,
          0.0086272739540958,
          0.0077649255926884,
          0.006826115640647,
          0.0076373248254642,
          0.0071103376873236,
          0.0070410552236943,
          0.0061963288137268,
          0.0059653488649617,
          0.005766480868186,
          0.0067396250946962,
          0.0056693225391333,
          0.0060828942681043,
          0.0083906244744096,
          0.0076702427982923,
          0.0068538154807499,
          0.0128234953882844,
          0.0171032969627427,
          0.0200100043265027,
          0.0047412048153584,
          0.0078619501928646,
          0.0090833812489005,
          0.0110407638744607,
          0.0155627659318321,
          0.0101045975142803,
          0.0104890519991613,
          0.0096383182037784,
          0.0072174876328158,
          0.0065191221568818,
          0.0072117855442021,
          0.007169609377469,
          0.0061341985349532,
          0.0061560036743377,
          0.0069414997044622,
          0.0023308646940821,
          0.0070710540916236,
          0.0066652186692586,
          0.0061814154960493,
          0.0055042286195738,
          0.005555976829432,
          0.0054790153762006,
          0.0050062338573854,
          0.0067482176838375,
          0.0059270709416043,
          0.0056381559330643,
          0.0085655210849749,
          0.0269542358583513,
          0.0105702347057931,
          0.0139917663629621,
          0.0079499352813864,
          0.0064411874313898,
          0.0074661681004496,
          0.0061166119528192,
          0.0058221055769634,
          0.0052639440009785,
          0.005615135721509,
          0.0055170254191015,
          0.0051874595949409,
          0.0048330954172575,
          0.0051815430153459,
          0.0052072796264651,
          0.0052455657527903,
          0.0036607541000188,
          0.0032125974880764,
          0.00374976131953,
          0.0052992554483306,
          0.0036785295402023,
          0.003069949448795,
          0.0052783169634764,
          0.0058202100030501,
          0.0065991934902527,
          0.0058331657805108,
          0.00598498864582,
          0.0066833229234188,
          0.0055953395208301,
          0.0029347430298575,
          0.0014907795254678,
          0.0050516349671688,
          0.0055632706625418,
          0.0053830741575745,
          0.0052914651843616,
          0.0052218166061737
         ],
         "yaxis": "y2"
        },
        {
         "mode": "lines",
         "name": "Avg Gas",
         "type": "scatter",
         "x": [
          "2024-07-14 00:00:00.000 UTC",
          "2024-07-14 01:00:00.000 UTC",
          "2024-07-14 02:00:00.000 UTC",
          "2024-07-14 03:00:00.000 UTC",
          "2024-07-14 04:00:00.000 UTC",
          "2024-07-14 05:00:00.000 UTC",
          "2024-07-14 06:00:00.000 UTC",
          "2024-07-14 07:00:00.000 UTC",
          "2024-07-14 08:00:00.000 UTC",
          "2024-07-14 09:00:00.000 UTC",
          "2024-07-14 10:00:00.000 UTC",
          "2024-07-14 11:00:00.000 UTC",
          "2024-07-14 12:00:00.000 UTC",
          "2024-07-14 13:00:00.000 UTC",
          "2024-07-14 14:00:00.000 UTC",
          "2024-07-14 15:00:00.000 UTC",
          "2024-07-14 16:00:00.000 UTC",
          "2024-07-14 17:00:00.000 UTC",
          "2024-07-14 18:00:00.000 UTC",
          "2024-07-14 19:00:00.000 UTC",
          "2024-07-14 20:00:00.000 UTC",
          "2024-07-14 21:00:00.000 UTC",
          "2024-07-14 22:00:00.000 UTC",
          "2024-07-14 23:00:00.000 UTC",
          "2024-07-15 00:00:00.000 UTC",
          "2024-07-15 01:00:00.000 UTC",
          "2024-07-15 02:00:00.000 UTC",
          "2024-07-15 03:00:00.000 UTC",
          "2024-07-15 04:00:00.000 UTC",
          "2024-07-15 05:00:00.000 UTC",
          "2024-07-15 06:00:00.000 UTC",
          "2024-07-15 07:00:00.000 UTC",
          "2024-07-15 08:00:00.000 UTC",
          "2024-07-15 09:00:00.000 UTC",
          "2024-07-15 10:00:00.000 UTC",
          "2024-07-15 11:00:00.000 UTC",
          "2024-07-15 12:00:00.000 UTC",
          "2024-07-15 13:00:00.000 UTC",
          "2024-07-15 14:00:00.000 UTC",
          "2024-07-15 15:00:00.000 UTC",
          "2024-07-15 16:00:00.000 UTC",
          "2024-07-15 17:00:00.000 UTC",
          "2024-07-15 18:00:00.000 UTC",
          "2024-07-15 19:00:00.000 UTC",
          "2024-07-15 20:00:00.000 UTC",
          "2024-07-15 21:00:00.000 UTC",
          "2024-07-15 22:00:00.000 UTC",
          "2024-07-15 23:00:00.000 UTC",
          "2024-07-16 00:00:00.000 UTC",
          "2024-07-16 01:00:00.000 UTC",
          "2024-07-16 02:00:00.000 UTC",
          "2024-07-16 03:00:00.000 UTC",
          "2024-07-16 04:00:00.000 UTC",
          "2024-07-16 05:00:00.000 UTC",
          "2024-07-16 06:00:00.000 UTC",
          "2024-07-16 07:00:00.000 UTC",
          "2024-07-16 08:00:00.000 UTC",
          "2024-07-16 09:00:00.000 UTC",
          "2024-07-16 10:00:00.000 UTC",
          "2024-07-16 11:00:00.000 UTC",
          "2024-07-16 12:00:00.000 UTC",
          "2024-07-16 13:00:00.000 UTC",
          "2024-07-16 14:00:00.000 UTC",
          "2024-07-16 15:00:00.000 UTC",
          "2024-07-16 16:00:00.000 UTC",
          "2024-07-16 17:00:00.000 UTC",
          "2024-07-16 18:00:00.000 UTC",
          "2024-07-16 19:00:00.000 UTC",
          "2024-07-16 20:00:00.000 UTC",
          "2024-07-16 21:00:00.000 UTC",
          "2024-07-16 22:00:00.000 UTC",
          "2024-07-16 23:00:00.000 UTC",
          "2024-07-17 00:00:00.000 UTC",
          "2024-07-17 01:00:00.000 UTC",
          "2024-07-17 02:00:00.000 UTC",
          "2024-07-17 03:00:00.000 UTC",
          "2024-07-17 04:00:00.000 UTC",
          "2024-07-17 05:00:00.000 UTC",
          "2024-07-17 06:00:00.000 UTC",
          "2024-07-17 07:00:00.000 UTC",
          "2024-07-17 08:00:00.000 UTC",
          "2024-07-17 09:00:00.000 UTC",
          "2024-07-17 10:00:00.000 UTC",
          "2024-07-17 11:00:00.000 UTC",
          "2024-07-17 12:00:00.000 UTC",
          "2024-07-17 13:00:00.000 UTC",
          "2024-07-17 14:00:00.000 UTC",
          "2024-07-17 15:00:00.000 UTC",
          "2024-07-17 16:00:00.000 UTC",
          "2024-07-17 17:00:00.000 UTC",
          "2024-07-17 18:00:00.000 UTC",
          "2024-07-17 19:00:00.000 UTC",
          "2024-07-17 20:00:00.000 UTC",
          "2024-07-17 21:00:00.000 UTC",
          "2024-07-17 22:00:00.000 UTC",
          "2024-07-17 23:00:00.000 UTC",
          "2024-07-18 00:00:00.000 UTC",
          "2024-07-18 01:00:00.000 UTC",
          "2024-07-18 02:00:00.000 UTC",
          "2024-07-18 03:00:00.000 UTC",
          "2024-07-18 04:00:00.000 UTC",
          "2024-07-18 05:00:00.000 UTC",
          "2024-07-18 06:00:00.000 UTC",
          "2024-07-18 07:00:00.000 UTC",
          "2024-07-18 08:00:00.000 UTC",
          "2024-07-18 09:00:00.000 UTC",
          "2024-07-18 10:00:00.000 UTC",
          "2024-07-18 11:00:00.000 UTC",
          "2024-07-18 12:00:00.000 UTC",
          "2024-07-18 13:00:00.000 UTC",
          "2024-07-18 14:00:00.000 UTC",
          "2024-07-18 15:00:00.000 UTC",
          "2024-07-18 16:00:00.000 UTC",
          "2024-07-18 17:00:00.000 UTC",
          "2024-07-18 18:00:00.000 UTC",
          "2024-07-18 19:00:00.000 UTC",
          "2024-07-18 20:00:00.000 UTC",
          "2024-07-18 21:00:00.000 UTC",
          "2024-07-18 22:00:00.000 UTC",
          "2024-07-18 23:00:00.000 UTC",
          "2024-07-19 00:00:00.000 UTC",
          "2024-07-19 01:00:00.000 UTC",
          "2024-07-19 02:00:00.000 UTC",
          "2024-07-19 03:00:00.000 UTC",
          "2024-07-19 04:00:00.000 UTC",
          "2024-07-19 05:00:00.000 UTC",
          "2024-07-19 06:00:00.000 UTC",
          "2024-07-19 07:00:00.000 UTC",
          "2024-07-19 08:00:00.000 UTC",
          "2024-07-19 09:00:00.000 UTC",
          "2024-07-19 10:00:00.000 UTC",
          "2024-07-19 11:00:00.000 UTC",
          "2024-07-19 12:00:00.000 UTC",
          "2024-07-19 13:00:00.000 UTC",
          "2024-07-19 14:00:00.000 UTC",
          "2024-07-19 15:00:00.000 UTC",
          "2024-07-19 16:00:00.000 UTC",
          "2024-07-19 17:00:00.000 UTC",
          "2024-07-19 18:00:00.000 UTC",
          "2024-07-19 19:00:00.000 UTC",
          "2024-07-19 20:00:00.000 UTC",
          "2024-07-19 21:00:00.000 UTC",
          "2024-07-19 22:00:00.000 UTC",
          "2024-07-19 23:00:00.000 UTC",
          "2024-07-20 00:00:00.000 UTC",
          "2024-07-20 01:00:00.000 UTC",
          "2024-07-20 02:00:00.000 UTC",
          "2024-07-20 03:00:00.000 UTC",
          "2024-07-20 04:00:00.000 UTC",
          "2024-07-20 05:00:00.000 UTC",
          "2024-07-20 06:00:00.000 UTC",
          "2024-07-20 07:00:00.000 UTC",
          "2024-07-20 08:00:00.000 UTC",
          "2024-07-20 09:00:00.000 UTC",
          "2024-07-20 10:00:00.000 UTC",
          "2024-07-20 11:00:00.000 UTC",
          "2024-07-20 12:00:00.000 UTC",
          "2024-07-20 13:00:00.000 UTC",
          "2024-07-20 14:00:00.000 UTC",
          "2024-07-20 15:00:00.000 UTC",
          "2024-07-20 16:00:00.000 UTC",
          "2024-07-20 17:00:00.000 UTC",
          "2024-07-20 18:00:00.000 UTC",
          "2024-07-20 19:00:00.000 UTC",
          "2024-07-20 20:00:00.000 UTC",
          "2024-07-20 21:00:00.000 UTC",
          "2024-07-20 22:00:00.000 UTC",
          "2024-07-20 23:00:00.000 UTC",
          "2024-07-21 00:00:00.000 UTC",
          "2024-07-21 01:00:00.000 UTC"
         ],
         "xaxis": "x",
         "y": [
          0.0103401309276927,
          0.0079585461038869,
          0.0058975460283384,
          0.0052644814787984,
          0.0060682685090187,
          0.0060323872084619,
          0.0061994295247863,
          0.0062000607309071,
          0.0070473350624333,
          0.0078216492641628,
          0.0071249057165158,
          0.0065460788421721,
          0.0077891972568087,
          0.0072868136890223,
          0.0082453349391753,
          0.0081858846986499,
          0.0086240433547194,
          0.0077105731973843,
          0.0069099604786638,
          0.0070246634762075,
          0.0075121203080224,
          0.0100701020809946,
          0.0096566462999899,
          0.0091157699243328,
          0.0091664926208337,
          0.0095181322017915,
          0.0135962671864679,
          0.0076522491890186,
          0.006631097098852,
          0.0067441046219953,
          0.008068712742248,
          0.0080852890412604,
          0.008559537011277,
          0.007711460316826,
          0.0070376323690918,
          0.0075521285126457,
          0.0073667444701307,
          0.0078925775782873,
          0.0092927913149329,
          0.0245147004793096,
          0.0162619498844571,
          0.0177150528350583,
          0.0152292844851606,
          0.0299478131177824,
          0.012840307018252,
          0.0125587912036181,
          0.017102567674211,
          0.0124457469804961,
          0.0119404905651584,
          0.0084618112186833,
          0.009022491758621,
          0.0085170672117919,
          0.0084201668276364,
          0.0119901012271721,
          0.0125899641778994,
          0.0136717429105623,
          0.012874641775514,
          0.0099969716673122,
          0.0087980802126838,
          0.0095622360532929,
          0.0102070361199914,
          0.0073765419622956,
          0.0100533475279317,
          0.0125513882728723,
          0.0241653358232687,
          0.0130535608439948,
          0.0122944279333533,
          0.011971442372227,
          0.0109469594427562,
          0.0104523258417415,
          0.010508359592442,
          0.010432399913085,
          0.0096961971562727,
          0.0116282348462415,
          0.0096086173344865,
          0.0099615152711953,
          0.008179513596821,
          0.01084835906298,
          0.0110248753158889,
          0.0096010746976175,
          0.0111985865972921,
          0.0102521304728456,
          0.0089886735512647,
          0.0099278203595389,
          0.008524404453435,
          0.0139161977343648,
          0.021548494813498,
          0.0159999305454267,
          0.0877838431269842,
          0.0113423651139165,
          0.0096109165997446,
          0.0089986797173112,
          0.0101311025440309,
          0.0111812300546566,
          0.0102320842245555,
          0.0092443440279504,
          0.0087123377427407,
          0.007214736429508,
          0.0095946180178358,
          0.0066760098781022,
          0.0071503558616753,
          0.0092982880848331,
          0.0092213762042635,
          0.0133399458234704,
          0.0213423124853881,
          0.0336730750299563,
          0.08025563950878,
          0.0073113442131197,
          0.0092921885270281,
          0.0117664305451181,
          0.01854194561028,
          0.0242712478076362,
          0.0264481438088981,
          0.0143175390788965,
          0.0142838834627078,
          0.0097901298676501,
          0.0102110072761613,
          0.010548035679383,
          0.0092522490280553,
          0.0073107871989885,
          0.0073425130205072,
          0.0089862600073101,
          0.0059020402405761,
          0.0095361070257962,
          0.0081965249361231,
          0.006677164771509,
          0.008028929204927,
          0.0093917626222513,
          0.0087091478153917,
          0.0081519741420235,
          0.0135778366533539,
          0.0095490812080395,
          0.0098495553832242,
          0.0200483183898083,
          0.0619371294175456,
          0.0177477151816217,
          0.0330861448853862,
          0.0137868886217727,
          0.0108588201089866,
          0.0139021285275693,
          0.0095678555531591,
          0.0097225463090532,
          0.0093480689604949,
          0.0091255620261983,
          0.0093700549994471,
          0.0087787726368262,
          0.0082016539750398,
          0.0077518347163114,
          0.0066720932990243,
          0.0075611692438362,
          0.0067074096882248,
          0.0068991818605965,
          0.0075464326326224,
          0.0085755342657331,
          0.0073924641796263,
          0.0070240951477629,
          0.0087519998282188,
          0.0092898916987183,
          0.0104273202513932,
          0.0094809981611247,
          0.0094280661854106,
          0.0140987530799122,
          0.0092307333177541,
          0.0068753056715655,
          0.00553924084829,
          0.0091921597801654,
          0.01009405364689,
          0.0095214664382677,
          0.0095023593260369,
          0.0093728013062163
         ],
         "yaxis": "y2"
        }
       ],
       "layout": {
        "template": {
         "data": {
          "bar": [
           {
            "error_x": {
             "color": "#2a3f5f"
            },
            "error_y": {
             "color": "#2a3f5f"
            },
            "marker": {
             "line": {
              "color": "#E5ECF6",
              "width": 0.5
             },
             "pattern": {
              "fillmode": "overlay",
              "size": 10,
              "solidity": 0.2
             }
            },
            "type": "bar"
           }
          ],
          "barpolar": [
           {
            "marker": {
             "line": {
              "color": "#E5ECF6",
              "width": 0.5
             },
             "pattern": {
              "fillmode": "overlay",
              "size": 10,
              "solidity": 0.2
             }
            },
            "type": "barpolar"
           }
          ],
          "carpet": [
           {
            "aaxis": {
             "endlinecolor": "#2a3f5f",
             "gridcolor": "white",
             "linecolor": "white",
             "minorgridcolor": "white",
             "startlinecolor": "#2a3f5f"
            },
            "baxis": {
             "endlinecolor": "#2a3f5f",
             "gridcolor": "white",
             "linecolor": "white",
             "minorgridcolor": "white",
             "startlinecolor": "#2a3f5f"
            },
            "type": "carpet"
           }
          ],
          "choropleth": [
           {
            "colorbar": {
             "outlinewidth": 0,
             "ticks": ""
            },
            "type": "choropleth"
           }
          ],
          "contour": [
           {
            "colorbar": {
             "outlinewidth": 0,
             "ticks": ""
            },
            "colorscale": [
             [
              0,
              "#0d0887"
             ],
             [
              0.1111111111111111,
              "#46039f"
             ],
             [
              0.2222222222222222,
              "#7201a8"
             ],
             [
              0.3333333333333333,
              "#9c179e"
             ],
             [
              0.4444444444444444,
              "#bd3786"
             ],
             [
              0.5555555555555556,
              "#d8576b"
             ],
             [
              0.6666666666666666,
              "#ed7953"
             ],
             [
              0.7777777777777778,
              "#fb9f3a"
             ],
             [
              0.8888888888888888,
              "#fdca26"
             ],
             [
              1,
              "#f0f921"
             ]
            ],
            "type": "contour"
           }
          ],
          "contourcarpet": [
           {
            "colorbar": {
             "outlinewidth": 0,
             "ticks": ""
            },
            "type": "contourcarpet"
           }
          ],
          "heatmap": [
           {
            "colorbar": {
             "outlinewidth": 0,
             "ticks": ""
            },
            "colorscale": [
             [
              0,
              "#0d0887"
             ],
             [
              0.1111111111111111,
              "#46039f"
             ],
             [
              0.2222222222222222,
              "#7201a8"
             ],
             [
              0.3333333333333333,
              "#9c179e"
             ],
             [
              0.4444444444444444,
              "#bd3786"
             ],
             [
              0.5555555555555556,
              "#d8576b"
             ],
             [
              0.6666666666666666,
              "#ed7953"
             ],
             [
              0.7777777777777778,
              "#fb9f3a"
             ],
             [
              0.8888888888888888,
              "#fdca26"
             ],
             [
              1,
              "#f0f921"
             ]
            ],
            "type": "heatmap"
           }
          ],
          "heatmapgl": [
           {
            "colorbar": {
             "outlinewidth": 0,
             "ticks": ""
            },
            "colorscale": [
             [
              0,
              "#0d0887"
             ],
             [
              0.1111111111111111,
              "#46039f"
             ],
             [
              0.2222222222222222,
              "#7201a8"
             ],
             [
              0.3333333333333333,
              "#9c179e"
             ],
             [
              0.4444444444444444,
              "#bd3786"
             ],
             [
              0.5555555555555556,
              "#d8576b"
             ],
             [
              0.6666666666666666,
              "#ed7953"
             ],
             [
              0.7777777777777778,
              "#fb9f3a"
             ],
             [
              0.8888888888888888,
              "#fdca26"
             ],
             [
              1,
              "#f0f921"
             ]
            ],
            "type": "heatmapgl"
           }
          ],
          "histogram": [
           {
            "marker": {
             "pattern": {
              "fillmode": "overlay",
              "size": 10,
              "solidity": 0.2
             }
            },
            "type": "histogram"
           }
          ],
          "histogram2d": [
           {
            "colorbar": {
             "outlinewidth": 0,
             "ticks": ""
            },
            "colorscale": [
             [
              0,
              "#0d0887"
             ],
             [
              0.1111111111111111,
              "#46039f"
             ],
             [
              0.2222222222222222,
              "#7201a8"
             ],
             [
              0.3333333333333333,
              "#9c179e"
             ],
             [
              0.4444444444444444,
              "#bd3786"
             ],
             [
              0.5555555555555556,
              "#d8576b"
             ],
             [
              0.6666666666666666,
              "#ed7953"
             ],
             [
              0.7777777777777778,
              "#fb9f3a"
             ],
             [
              0.8888888888888888,
              "#fdca26"
             ],
             [
              1,
              "#f0f921"
             ]
            ],
            "type": "histogram2d"
           }
          ],
          "histogram2dcontour": [
           {
            "colorbar": {
             "outlinewidth": 0,
             "ticks": ""
            },
            "colorscale": [
             [
              0,
              "#0d0887"
             ],
             [
              0.1111111111111111,
              "#46039f"
             ],
             [
              0.2222222222222222,
              "#7201a8"
             ],
             [
              0.3333333333333333,
              "#9c179e"
             ],
             [
              0.4444444444444444,
              "#bd3786"
             ],
             [
              0.5555555555555556,
              "#d8576b"
             ],
             [
              0.6666666666666666,
              "#ed7953"
             ],
             [
              0.7777777777777778,
              "#fb9f3a"
             ],
             [
              0.8888888888888888,
              "#fdca26"
             ],
             [
              1,
              "#f0f921"
             ]
            ],
            "type": "histogram2dcontour"
           }
          ],
          "mesh3d": [
           {
            "colorbar": {
             "outlinewidth": 0,
             "ticks": ""
            },
            "type": "mesh3d"
           }
          ],
          "parcoords": [
           {
            "line": {
             "colorbar": {
              "outlinewidth": 0,
              "ticks": ""
             }
            },
            "type": "parcoords"
           }
          ],
          "pie": [
           {
            "automargin": true,
            "type": "pie"
           }
          ],
          "scatter": [
           {
            "fillpattern": {
             "fillmode": "overlay",
             "size": 10,
             "solidity": 0.2
            },
            "type": "scatter"
           }
          ],
          "scatter3d": [
           {
            "line": {
             "colorbar": {
              "outlinewidth": 0,
              "ticks": ""
             }
            },
            "marker": {
             "colorbar": {
              "outlinewidth": 0,
              "ticks": ""
             }
            },
            "type": "scatter3d"
           }
          ],
          "scattercarpet": [
           {
            "marker": {
             "colorbar": {
              "outlinewidth": 0,
              "ticks": ""
             }
            },
            "type": "scattercarpet"
           }
          ],
          "scattergeo": [
           {
            "marker": {
             "colorbar": {
              "outlinewidth": 0,
              "ticks": ""
             }
            },
            "type": "scattergeo"
           }
          ],
          "scattergl": [
           {
            "marker": {
             "colorbar": {
              "outlinewidth": 0,
              "ticks": ""
             }
            },
            "type": "scattergl"
           }
          ],
          "scattermapbox": [
           {
            "marker": {
             "colorbar": {
              "outlinewidth": 0,
              "ticks": ""
             }
            },
            "type": "scattermapbox"
           }
          ],
          "scatterpolar": [
           {
            "marker": {
             "colorbar": {
              "outlinewidth": 0,
              "ticks": ""
             }
            },
            "type": "scatterpolar"
           }
          ],
          "scatterpolargl": [
           {
            "marker": {
             "colorbar": {
              "outlinewidth": 0,
              "ticks": ""
             }
            },
            "type": "scatterpolargl"
           }
          ],
          "scatterternary": [
           {
            "marker": {
             "colorbar": {
              "outlinewidth": 0,
              "ticks": ""
             }
            },
            "type": "scatterternary"
           }
          ],
          "surface": [
           {
            "colorbar": {
             "outlinewidth": 0,
             "ticks": ""
            },
            "colorscale": [
             [
              0,
              "#0d0887"
             ],
             [
              0.1111111111111111,
              "#46039f"
             ],
             [
              0.2222222222222222,
              "#7201a8"
             ],
             [
              0.3333333333333333,
              "#9c179e"
             ],
             [
              0.4444444444444444,
              "#bd3786"
             ],
             [
              0.5555555555555556,
              "#d8576b"
             ],
             [
              0.6666666666666666,
              "#ed7953"
             ],
             [
              0.7777777777777778,
              "#fb9f3a"
             ],
             [
              0.8888888888888888,
              "#fdca26"
             ],
             [
              1,
              "#f0f921"
             ]
            ],
            "type": "surface"
           }
          ],
          "table": [
           {
            "cells": {
             "fill": {
              "color": "#EBF0F8"
             },
             "line": {
              "color": "white"
             }
            },
            "header": {
             "fill": {
              "color": "#C8D4E3"
             },
             "line": {
              "color": "white"
             }
            },
            "type": "table"
           }
          ]
         },
         "layout": {
          "annotationdefaults": {
           "arrowcolor": "#2a3f5f",
           "arrowhead": 0,
           "arrowwidth": 1
          },
          "autotypenumbers": "strict",
          "coloraxis": {
           "colorbar": {
            "outlinewidth": 0,
            "ticks": ""
           }
          },
          "colorscale": {
           "diverging": [
            [
             0,
             "#8e0152"
            ],
            [
             0.1,
             "#c51b7d"
            ],
            [
             0.2,
             "#de77ae"
            ],
            [
             0.3,
             "#f1b6da"
            ],
            [
             0.4,
             "#fde0ef"
            ],
            [
             0.5,
             "#f7f7f7"
            ],
            [
             0.6,
             "#e6f5d0"
            ],
            [
             0.7,
             "#b8e186"
            ],
            [
             0.8,
             "#7fbc41"
            ],
            [
             0.9,
             "#4d9221"
            ],
            [
             1,
             "#276419"
            ]
           ],
           "sequential": [
            [
             0,
             "#0d0887"
            ],
            [
             0.1111111111111111,
             "#46039f"
            ],
            [
             0.2222222222222222,
             "#7201a8"
            ],
            [
             0.3333333333333333,
             "#9c179e"
            ],
            [
             0.4444444444444444,
             "#bd3786"
            ],
            [
             0.5555555555555556,
             "#d8576b"
            ],
            [
             0.6666666666666666,
             "#ed7953"
            ],
            [
             0.7777777777777778,
             "#fb9f3a"
            ],
            [
             0.8888888888888888,
             "#fdca26"
            ],
            [
             1,
             "#f0f921"
            ]
           ],
           "sequentialminus": [
            [
             0,
             "#0d0887"
            ],
            [
             0.1111111111111111,
             "#46039f"
            ],
            [
             0.2222222222222222,
             "#7201a8"
            ],
            [
             0.3333333333333333,
             "#9c179e"
            ],
            [
             0.4444444444444444,
             "#bd3786"
            ],
            [
             0.5555555555555556,
             "#d8576b"
            ],
            [
             0.6666666666666666,
             "#ed7953"
            ],
            [
             0.7777777777777778,
             "#fb9f3a"
            ],
            [
             0.8888888888888888,
             "#fdca26"
            ],
            [
             1,
             "#f0f921"
            ]
           ]
          },
          "colorway": [
           "#636efa",
           "#EF553B",
           "#00cc96",
           "#ab63fa",
           "#FFA15A",
           "#19d3f3",
           "#FF6692",
           "#B6E880",
           "#FF97FF",
           "#FECB52"
          ],
          "font": {
           "color": "#2a3f5f"
          },
          "geo": {
           "bgcolor": "white",
           "lakecolor": "white",
           "landcolor": "#E5ECF6",
           "showlakes": true,
           "showland": true,
           "subunitcolor": "white"
          },
          "hoverlabel": {
           "align": "left"
          },
          "hovermode": "closest",
          "mapbox": {
           "style": "light"
          },
          "paper_bgcolor": "white",
          "plot_bgcolor": "#E5ECF6",
          "polar": {
           "angularaxis": {
            "gridcolor": "white",
            "linecolor": "white",
            "ticks": ""
           },
           "bgcolor": "#E5ECF6",
           "radialaxis": {
            "gridcolor": "white",
            "linecolor": "white",
            "ticks": ""
           }
          },
          "scene": {
           "xaxis": {
            "backgroundcolor": "#E5ECF6",
            "gridcolor": "white",
            "gridwidth": 2,
            "linecolor": "white",
            "showbackground": true,
            "ticks": "",
            "zerolinecolor": "white"
           },
           "yaxis": {
            "backgroundcolor": "#E5ECF6",
            "gridcolor": "white",
            "gridwidth": 2,
            "linecolor": "white",
            "showbackground": true,
            "ticks": "",
            "zerolinecolor": "white"
           },
           "zaxis": {
            "backgroundcolor": "#E5ECF6",
            "gridcolor": "white",
            "gridwidth": 2,
            "linecolor": "white",
            "showbackground": true,
            "ticks": "",
            "zerolinecolor": "white"
           }
          },
          "shapedefaults": {
           "line": {
            "color": "#2a3f5f"
           }
          },
          "ternary": {
           "aaxis": {
            "gridcolor": "white",
            "linecolor": "white",
            "ticks": ""
           },
           "baxis": {
            "gridcolor": "white",
            "linecolor": "white",
            "ticks": ""
           },
           "bgcolor": "#E5ECF6",
           "caxis": {
            "gridcolor": "white",
            "linecolor": "white",
            "ticks": ""
           }
          },
          "title": {
           "x": 0.05
          },
          "xaxis": {
           "automargin": true,
           "gridcolor": "white",
           "linecolor": "white",
           "ticks": "",
           "title": {
            "standoff": 15
           },
           "zerolinecolor": "white",
           "zerolinewidth": 2
          },
          "yaxis": {
           "automargin": true,
           "gridcolor": "white",
           "linecolor": "white",
           "ticks": "",
           "title": {
            "standoff": 15
           },
           "zerolinecolor": "white",
           "zerolinewidth": 2
          }
         }
        },
        "title": {
         "text": "Trades to Gas Comparison"
        },
        "xaxis": {
         "anchor": "y",
         "domain": [
          0,
          0.94
         ],
         "title": {
          "text": "Date"
         }
        },
        "yaxis": {
         "anchor": "x",
         "domain": [
          0,
          1
         ]
        },
        "yaxis2": {
         "anchor": "x",
         "overlaying": "y",
         "side": "right"
        }
       }
      }
     },
     "metadata": {},
     "output_type": "display_data"
    }
   ],
   "source": [
    "weth_zro_gas_to_trades_fig = make_subplots(specs=[[{\"secondary_y\": True}]])\n",
    "\n",
    "weth_zro_gas_to_trades_fig.add_trace(\n",
    "    go.Bar(\n",
    "        x=weth_zro_30['day'],\n",
    "        y=weth_zro_30['arbitrum_num_trades'],\n",
    "        name='# of Trades'\n",
    "    ),\n",
    "    secondary_y=False\n",
    ")\n",
    "\n",
    "weth_zro_gas_to_trades_fig.add_trace(\n",
    "    go.Scatter(\n",
    "        x=weth_zro_30['day'],\n",
    "        y=weth_zro_30['arbitrum_median_gas_usd'],\n",
    "        name='Median Gas',\n",
    "        mode='lines'\n",
    "    ),\n",
    "    secondary_y=True\n",
    ")\n",
    "\n",
    "weth_zro_gas_to_trades_fig.add_trace(\n",
    "    go.Scatter(\n",
    "        x=weth_zro_30['day'],\n",
    "        y=weth_zro_30['arbitrum_gas_usd_per_tx'],\n",
    "        name='Avg Gas',\n",
    "        mode='lines'\n",
    "    ),\n",
    "    secondary_y=True\n",
    ")\n",
    "\n",
    "weth_zro_gas_to_trades_fig.update_layout(title='Trades to Gas Comparison')\n",
    "\n",
    "weth_zro_gas_to_trades_fig.update_xaxes(title_text=\"Date\")\n",
    "\n",
    "weth_zro_gas_to_trades_fig.show()\n"
   ]
  },
  {
   "cell_type": "code",
   "execution_count": 111,
   "metadata": {},
   "outputs": [
    {
     "data": {
      "text/plain": [
       "Index(['arbitrum_avg_liquidity', 'day', 'arbitrum_fee_apr',\n",
       "       'arbitrum_fee_tier', 'arbitrum_fees_usd', 'arbitrum_lp_addr',\n",
       "       'arbitrum_num_trades', 'arbitrum_token_pair', 'arbitrum_tvl_usd',\n",
       "       'arbitrum_volume_to_tvl', 'arbitrum_volume_usd',\n",
       "       'arbitrum_gas_usd_per_tx', 'arbitrum_median_gas_usd',\n",
       "       'arbitrum_net_liquidity'],\n",
       "      dtype='object')"
      ]
     },
     "execution_count": 111,
     "metadata": {},
     "output_type": "execute_result"
    }
   ],
   "source": [
    "weth_zro_30.columns"
   ]
  },
  {
   "cell_type": "code",
   "execution_count": 116,
   "metadata": {},
   "outputs": [
    {
     "data": {
      "application/vnd.plotly.v1+json": {
       "config": {
        "plotlyServerURL": "https://plot.ly"
       },
       "data": [
        {
         "name": "Liquidity",
         "type": "bar",
         "x": [
          "2024-07-14 00:00:00.000 UTC",
          "2024-07-14 01:00:00.000 UTC",
          "2024-07-14 02:00:00.000 UTC",
          "2024-07-14 03:00:00.000 UTC",
          "2024-07-14 04:00:00.000 UTC",
          "2024-07-14 05:00:00.000 UTC",
          "2024-07-14 06:00:00.000 UTC",
          "2024-07-14 07:00:00.000 UTC",
          "2024-07-14 08:00:00.000 UTC",
          "2024-07-14 09:00:00.000 UTC",
          "2024-07-14 10:00:00.000 UTC",
          "2024-07-14 11:00:00.000 UTC",
          "2024-07-14 12:00:00.000 UTC",
          "2024-07-14 13:00:00.000 UTC",
          "2024-07-14 14:00:00.000 UTC",
          "2024-07-14 15:00:00.000 UTC",
          "2024-07-14 16:00:00.000 UTC",
          "2024-07-14 17:00:00.000 UTC",
          "2024-07-14 18:00:00.000 UTC",
          "2024-07-14 19:00:00.000 UTC",
          "2024-07-14 20:00:00.000 UTC",
          "2024-07-14 21:00:00.000 UTC",
          "2024-07-14 22:00:00.000 UTC",
          "2024-07-14 23:00:00.000 UTC",
          "2024-07-15 00:00:00.000 UTC",
          "2024-07-15 01:00:00.000 UTC",
          "2024-07-15 02:00:00.000 UTC",
          "2024-07-15 03:00:00.000 UTC",
          "2024-07-15 04:00:00.000 UTC",
          "2024-07-15 05:00:00.000 UTC",
          "2024-07-15 06:00:00.000 UTC",
          "2024-07-15 07:00:00.000 UTC",
          "2024-07-15 08:00:00.000 UTC",
          "2024-07-15 09:00:00.000 UTC",
          "2024-07-15 10:00:00.000 UTC",
          "2024-07-15 11:00:00.000 UTC",
          "2024-07-15 12:00:00.000 UTC",
          "2024-07-15 13:00:00.000 UTC",
          "2024-07-15 14:00:00.000 UTC",
          "2024-07-15 15:00:00.000 UTC",
          "2024-07-15 16:00:00.000 UTC",
          "2024-07-15 17:00:00.000 UTC",
          "2024-07-15 18:00:00.000 UTC",
          "2024-07-15 19:00:00.000 UTC",
          "2024-07-15 20:00:00.000 UTC",
          "2024-07-15 21:00:00.000 UTC",
          "2024-07-15 22:00:00.000 UTC",
          "2024-07-15 23:00:00.000 UTC",
          "2024-07-16 00:00:00.000 UTC",
          "2024-07-16 01:00:00.000 UTC",
          "2024-07-16 02:00:00.000 UTC",
          "2024-07-16 03:00:00.000 UTC",
          "2024-07-16 04:00:00.000 UTC",
          "2024-07-16 05:00:00.000 UTC",
          "2024-07-16 06:00:00.000 UTC",
          "2024-07-16 07:00:00.000 UTC",
          "2024-07-16 08:00:00.000 UTC",
          "2024-07-16 09:00:00.000 UTC",
          "2024-07-16 10:00:00.000 UTC",
          "2024-07-16 11:00:00.000 UTC",
          "2024-07-16 12:00:00.000 UTC",
          "2024-07-16 13:00:00.000 UTC",
          "2024-07-16 14:00:00.000 UTC",
          "2024-07-16 15:00:00.000 UTC",
          "2024-07-16 16:00:00.000 UTC",
          "2024-07-16 17:00:00.000 UTC",
          "2024-07-16 18:00:00.000 UTC",
          "2024-07-16 19:00:00.000 UTC",
          "2024-07-16 20:00:00.000 UTC",
          "2024-07-16 21:00:00.000 UTC",
          "2024-07-16 22:00:00.000 UTC",
          "2024-07-16 23:00:00.000 UTC",
          "2024-07-17 00:00:00.000 UTC",
          "2024-07-17 01:00:00.000 UTC",
          "2024-07-17 02:00:00.000 UTC",
          "2024-07-17 03:00:00.000 UTC",
          "2024-07-17 04:00:00.000 UTC",
          "2024-07-17 05:00:00.000 UTC",
          "2024-07-17 06:00:00.000 UTC",
          "2024-07-17 07:00:00.000 UTC",
          "2024-07-17 08:00:00.000 UTC",
          "2024-07-17 09:00:00.000 UTC",
          "2024-07-17 10:00:00.000 UTC",
          "2024-07-17 11:00:00.000 UTC",
          "2024-07-17 12:00:00.000 UTC",
          "2024-07-17 13:00:00.000 UTC",
          "2024-07-17 14:00:00.000 UTC",
          "2024-07-17 15:00:00.000 UTC",
          "2024-07-17 16:00:00.000 UTC",
          "2024-07-17 17:00:00.000 UTC",
          "2024-07-17 18:00:00.000 UTC",
          "2024-07-17 19:00:00.000 UTC",
          "2024-07-17 20:00:00.000 UTC",
          "2024-07-17 21:00:00.000 UTC",
          "2024-07-17 22:00:00.000 UTC",
          "2024-07-17 23:00:00.000 UTC",
          "2024-07-18 00:00:00.000 UTC",
          "2024-07-18 01:00:00.000 UTC",
          "2024-07-18 02:00:00.000 UTC",
          "2024-07-18 03:00:00.000 UTC",
          "2024-07-18 04:00:00.000 UTC",
          "2024-07-18 05:00:00.000 UTC",
          "2024-07-18 06:00:00.000 UTC",
          "2024-07-18 07:00:00.000 UTC",
          "2024-07-18 08:00:00.000 UTC",
          "2024-07-18 09:00:00.000 UTC",
          "2024-07-18 10:00:00.000 UTC",
          "2024-07-18 11:00:00.000 UTC",
          "2024-07-18 12:00:00.000 UTC",
          "2024-07-18 13:00:00.000 UTC",
          "2024-07-18 14:00:00.000 UTC",
          "2024-07-18 15:00:00.000 UTC",
          "2024-07-18 16:00:00.000 UTC",
          "2024-07-18 17:00:00.000 UTC",
          "2024-07-18 18:00:00.000 UTC",
          "2024-07-18 19:00:00.000 UTC",
          "2024-07-18 20:00:00.000 UTC",
          "2024-07-18 21:00:00.000 UTC",
          "2024-07-18 22:00:00.000 UTC",
          "2024-07-18 23:00:00.000 UTC",
          "2024-07-19 00:00:00.000 UTC",
          "2024-07-19 01:00:00.000 UTC",
          "2024-07-19 02:00:00.000 UTC",
          "2024-07-19 03:00:00.000 UTC",
          "2024-07-19 04:00:00.000 UTC",
          "2024-07-19 05:00:00.000 UTC",
          "2024-07-19 06:00:00.000 UTC",
          "2024-07-19 07:00:00.000 UTC",
          "2024-07-19 08:00:00.000 UTC",
          "2024-07-19 09:00:00.000 UTC",
          "2024-07-19 10:00:00.000 UTC",
          "2024-07-19 11:00:00.000 UTC",
          "2024-07-19 12:00:00.000 UTC",
          "2024-07-19 13:00:00.000 UTC",
          "2024-07-19 14:00:00.000 UTC",
          "2024-07-19 15:00:00.000 UTC",
          "2024-07-19 16:00:00.000 UTC",
          "2024-07-19 17:00:00.000 UTC",
          "2024-07-19 18:00:00.000 UTC",
          "2024-07-19 19:00:00.000 UTC",
          "2024-07-19 20:00:00.000 UTC",
          "2024-07-19 21:00:00.000 UTC",
          "2024-07-19 22:00:00.000 UTC",
          "2024-07-19 23:00:00.000 UTC",
          "2024-07-20 00:00:00.000 UTC",
          "2024-07-20 01:00:00.000 UTC",
          "2024-07-20 02:00:00.000 UTC",
          "2024-07-20 03:00:00.000 UTC",
          "2024-07-20 04:00:00.000 UTC",
          "2024-07-20 05:00:00.000 UTC",
          "2024-07-20 06:00:00.000 UTC",
          "2024-07-20 07:00:00.000 UTC",
          "2024-07-20 08:00:00.000 UTC",
          "2024-07-20 09:00:00.000 UTC",
          "2024-07-20 10:00:00.000 UTC",
          "2024-07-20 11:00:00.000 UTC",
          "2024-07-20 12:00:00.000 UTC",
          "2024-07-20 13:00:00.000 UTC",
          "2024-07-20 14:00:00.000 UTC",
          "2024-07-20 15:00:00.000 UTC",
          "2024-07-20 16:00:00.000 UTC",
          "2024-07-20 17:00:00.000 UTC",
          "2024-07-20 18:00:00.000 UTC",
          "2024-07-20 19:00:00.000 UTC",
          "2024-07-20 20:00:00.000 UTC",
          "2024-07-20 21:00:00.000 UTC",
          "2024-07-20 22:00:00.000 UTC",
          "2024-07-20 23:00:00.000 UTC",
          "2024-07-21 00:00:00.000 UTC",
          "2024-07-21 01:00:00.000 UTC"
         ],
         "xaxis": "x",
         "y": [
          1.8541385707212253e+23,
          1.7606065581299863e+23,
          1.613444154599952e+23,
          1.508496107749762e+23,
          1.6106929283189307e+23,
          1.7445801114256885e+23,
          1.909192642386025e+23,
          1.68936116554987e+23,
          1.7904623706914918e+23,
          1.826468302053606e+23,
          1.8204429528383903e+23,
          1.852706272969499e+23,
          1.8652178312302944e+23,
          1.913912286307757e+23,
          1.8682733711064846e+23,
          1.652603496437423e+23,
          2.1046293599086347e+23,
          2.0854590621049496e+23,
          2.183538725820887e+23,
          2.0818599261782345e+23,
          2.077717488432537e+23,
          2.1215215987129725e+23,
          2.1391446508523952e+23,
          1.9344875691369886e+23,
          1.9346909112336865e+23,
          1.8652577343167308e+23,
          1.7926037706895117e+23,
          1.8124431954728876e+23,
          1.814814546764037e+23,
          1.8307393993879597e+23,
          1.866475844765118e+23,
          1.855187533203023e+23,
          1.8051855107291992e+23,
          1.8239132110818616e+23,
          1.935814444685988e+23,
          1.971913887750423e+23,
          1.949626434543228e+23,
          2.025478202221799e+23,
          1.9028314319064016e+23,
          1.95337962027546e+23,
          2.267870867502235e+23,
          2.1732586784305863e+23,
          1.9363698304111896e+23,
          2.105510432075335e+23,
          1.970306075774413e+23,
          2.218360987412899e+23,
          2.3311438896954754e+23,
          2.2716316750192105e+23,
          1.983669047255553e+23,
          2.047187556938371e+23,
          2.050770004716326e+23,
          1.9696486658001187e+23,
          1.946290631388297e+23,
          1.9251420716151008e+23,
          1.7285545110389848e+23,
          1.4130346466901558e+23,
          1.710030003536752e+23,
          1.8669349008773296e+23,
          1.8693594915593868e+23,
          1.8764440765742927e+23,
          1.941178844119372e+23,
          1.9950748666238368e+23,
          2.149377570856048e+23,
          2.2543905581389956e+23,
          2.461372538629313e+23,
          2.5543646975008944e+23,
          2.546193916367197e+23,
          2.167871460026172e+23,
          1.9409048059995666e+23,
          2.19209809851494e+23,
          3.08066105729306e+23,
          2.9034568305775475e+23,
          2.1895003151923387e+23,
          2.0412136388701807e+23,
          1.9115742492561947e+23,
          1.899271647837997e+23,
          1.9724043561644847e+23,
          1.917566839200772e+23,
          2.019514438530263e+23,
          2.0590446381378825e+23,
          2.0211072584981724e+23,
          2.0802845125298594e+23,
          2.005371411284178e+23,
          2.0510800384292863e+23,
          2.1274507132901185e+23,
          2.1497724429213123e+23,
          2.1005174761616015e+23,
          2.381952429866603e+23,
          3.4219957550087616e+23,
          3.2823200979207856e+23,
          4.4599823641404815e+23,
          2.0992185298534646e+23,
          2.677027748027912e+23,
          2.8013640738368926e+23,
          2.0625355398320725e+23,
          2.098753664022321e+23,
          2.135368788203208e+23,
          2.0795924547565728e+23,
          2.1138981806075595e+23,
          2.1475432873144292e+23,
          2.1421964970329533e+23,
          2.1295607861265785e+23,
          2.210313645532997e+23,
          2.132289914572346e+23,
          1.9583325095342543e+23,
          2.076740981848263e+23,
          2.163405338819787e+23,
          2.196944388239616e+23,
          2.272809540083478e+23,
          2.0987765172380703e+23,
          1.6595492024197438e+23,
          1.4147560261859524e+23,
          1.7333699797665804e+23,
          2.0885092528113696e+23,
          2.1212558809525177e+23,
          1.9842494933192653e+23,
          1.909119049971369e+23,
          1.867504033474439e+23,
          2.012383555407576e+23,
          2.064040769525685e+23,
          1.8612915684697647e+23,
          1.5757429045482974e+23,
          1.5615513577159574e+23,
          1.7474226278666793e+23,
          1.8106076221464627e+23,
          1.518580149923059e+23,
          1.5575199312620464e+23,
          1.5040470207236554e+23,
          1.4803229090569574e+23,
          1.73487278416874e+23,
          1.7260790152376153e+23,
          1.861036849274368e+23,
          1.925475333193859e+23,
          1.9119071163718707e+23,
          2.0625510560394185e+23,
          2.1391138290793145e+23,
          2.108663885260549e+23,
          2.0938781588250416e+23,
          1.994226945338454e+23,
          1.927224638193385e+23,
          2.0781288869270757e+23,
          2.0316612014151725e+23,
          2.0759544275327265e+23,
          2.0929478090911337e+23,
          2.114442912047942e+23,
          1.8120077275335622e+23,
          2.134409239709133e+23,
          2.243489135474025e+23,
          2.1884565015147445e+23,
          2.142697189264227e+23,
          2.211207054399032e+23,
          2.0833649402815787e+23,
          1.8969057770716927e+23,
          2.036804922798352e+23,
          1.9879248930862863e+23,
          2.028412895298103e+23,
          1.9465105927733016e+23,
          1.5778388350536512e+23,
          1.2344945600535412e+23,
          1.4536725438047465e+23,
          1.5560017852404853e+23,
          1.583480138342577e+23,
          1.3495827979176438e+23,
          1.392040611759535e+23,
          1.6535294692134813e+23,
          1.557007722066565e+23,
          1.8325273118692108e+23,
          1.394002878375437e+23,
          1.7474309058940377e+23,
          1.588969693618823e+23
         ],
         "yaxis": "y"
        },
        {
         "mode": "lines",
         "name": "Median Gas",
         "type": "scatter",
         "x": [
          "2024-07-14 00:00:00.000 UTC",
          "2024-07-14 01:00:00.000 UTC",
          "2024-07-14 02:00:00.000 UTC",
          "2024-07-14 03:00:00.000 UTC",
          "2024-07-14 04:00:00.000 UTC",
          "2024-07-14 05:00:00.000 UTC",
          "2024-07-14 06:00:00.000 UTC",
          "2024-07-14 07:00:00.000 UTC",
          "2024-07-14 08:00:00.000 UTC",
          "2024-07-14 09:00:00.000 UTC",
          "2024-07-14 10:00:00.000 UTC",
          "2024-07-14 11:00:00.000 UTC",
          "2024-07-14 12:00:00.000 UTC",
          "2024-07-14 13:00:00.000 UTC",
          "2024-07-14 14:00:00.000 UTC",
          "2024-07-14 15:00:00.000 UTC",
          "2024-07-14 16:00:00.000 UTC",
          "2024-07-14 17:00:00.000 UTC",
          "2024-07-14 18:00:00.000 UTC",
          "2024-07-14 19:00:00.000 UTC",
          "2024-07-14 20:00:00.000 UTC",
          "2024-07-14 21:00:00.000 UTC",
          "2024-07-14 22:00:00.000 UTC",
          "2024-07-14 23:00:00.000 UTC",
          "2024-07-15 00:00:00.000 UTC",
          "2024-07-15 01:00:00.000 UTC",
          "2024-07-15 02:00:00.000 UTC",
          "2024-07-15 03:00:00.000 UTC",
          "2024-07-15 04:00:00.000 UTC",
          "2024-07-15 05:00:00.000 UTC",
          "2024-07-15 06:00:00.000 UTC",
          "2024-07-15 07:00:00.000 UTC",
          "2024-07-15 08:00:00.000 UTC",
          "2024-07-15 09:00:00.000 UTC",
          "2024-07-15 10:00:00.000 UTC",
          "2024-07-15 11:00:00.000 UTC",
          "2024-07-15 12:00:00.000 UTC",
          "2024-07-15 13:00:00.000 UTC",
          "2024-07-15 14:00:00.000 UTC",
          "2024-07-15 15:00:00.000 UTC",
          "2024-07-15 16:00:00.000 UTC",
          "2024-07-15 17:00:00.000 UTC",
          "2024-07-15 18:00:00.000 UTC",
          "2024-07-15 19:00:00.000 UTC",
          "2024-07-15 20:00:00.000 UTC",
          "2024-07-15 21:00:00.000 UTC",
          "2024-07-15 22:00:00.000 UTC",
          "2024-07-15 23:00:00.000 UTC",
          "2024-07-16 00:00:00.000 UTC",
          "2024-07-16 01:00:00.000 UTC",
          "2024-07-16 02:00:00.000 UTC",
          "2024-07-16 03:00:00.000 UTC",
          "2024-07-16 04:00:00.000 UTC",
          "2024-07-16 05:00:00.000 UTC",
          "2024-07-16 06:00:00.000 UTC",
          "2024-07-16 07:00:00.000 UTC",
          "2024-07-16 08:00:00.000 UTC",
          "2024-07-16 09:00:00.000 UTC",
          "2024-07-16 10:00:00.000 UTC",
          "2024-07-16 11:00:00.000 UTC",
          "2024-07-16 12:00:00.000 UTC",
          "2024-07-16 13:00:00.000 UTC",
          "2024-07-16 14:00:00.000 UTC",
          "2024-07-16 15:00:00.000 UTC",
          "2024-07-16 16:00:00.000 UTC",
          "2024-07-16 17:00:00.000 UTC",
          "2024-07-16 18:00:00.000 UTC",
          "2024-07-16 19:00:00.000 UTC",
          "2024-07-16 20:00:00.000 UTC",
          "2024-07-16 21:00:00.000 UTC",
          "2024-07-16 22:00:00.000 UTC",
          "2024-07-16 23:00:00.000 UTC",
          "2024-07-17 00:00:00.000 UTC",
          "2024-07-17 01:00:00.000 UTC",
          "2024-07-17 02:00:00.000 UTC",
          "2024-07-17 03:00:00.000 UTC",
          "2024-07-17 04:00:00.000 UTC",
          "2024-07-17 05:00:00.000 UTC",
          "2024-07-17 06:00:00.000 UTC",
          "2024-07-17 07:00:00.000 UTC",
          "2024-07-17 08:00:00.000 UTC",
          "2024-07-17 09:00:00.000 UTC",
          "2024-07-17 10:00:00.000 UTC",
          "2024-07-17 11:00:00.000 UTC",
          "2024-07-17 12:00:00.000 UTC",
          "2024-07-17 13:00:00.000 UTC",
          "2024-07-17 14:00:00.000 UTC",
          "2024-07-17 15:00:00.000 UTC",
          "2024-07-17 16:00:00.000 UTC",
          "2024-07-17 17:00:00.000 UTC",
          "2024-07-17 18:00:00.000 UTC",
          "2024-07-17 19:00:00.000 UTC",
          "2024-07-17 20:00:00.000 UTC",
          "2024-07-17 21:00:00.000 UTC",
          "2024-07-17 22:00:00.000 UTC",
          "2024-07-17 23:00:00.000 UTC",
          "2024-07-18 00:00:00.000 UTC",
          "2024-07-18 01:00:00.000 UTC",
          "2024-07-18 02:00:00.000 UTC",
          "2024-07-18 03:00:00.000 UTC",
          "2024-07-18 04:00:00.000 UTC",
          "2024-07-18 05:00:00.000 UTC",
          "2024-07-18 06:00:00.000 UTC",
          "2024-07-18 07:00:00.000 UTC",
          "2024-07-18 08:00:00.000 UTC",
          "2024-07-18 09:00:00.000 UTC",
          "2024-07-18 10:00:00.000 UTC",
          "2024-07-18 11:00:00.000 UTC",
          "2024-07-18 12:00:00.000 UTC",
          "2024-07-18 13:00:00.000 UTC",
          "2024-07-18 14:00:00.000 UTC",
          "2024-07-18 15:00:00.000 UTC",
          "2024-07-18 16:00:00.000 UTC",
          "2024-07-18 17:00:00.000 UTC",
          "2024-07-18 18:00:00.000 UTC",
          "2024-07-18 19:00:00.000 UTC",
          "2024-07-18 20:00:00.000 UTC",
          "2024-07-18 21:00:00.000 UTC",
          "2024-07-18 22:00:00.000 UTC",
          "2024-07-18 23:00:00.000 UTC",
          "2024-07-19 00:00:00.000 UTC",
          "2024-07-19 01:00:00.000 UTC",
          "2024-07-19 02:00:00.000 UTC",
          "2024-07-19 03:00:00.000 UTC",
          "2024-07-19 04:00:00.000 UTC",
          "2024-07-19 05:00:00.000 UTC",
          "2024-07-19 06:00:00.000 UTC",
          "2024-07-19 07:00:00.000 UTC",
          "2024-07-19 08:00:00.000 UTC",
          "2024-07-19 09:00:00.000 UTC",
          "2024-07-19 10:00:00.000 UTC",
          "2024-07-19 11:00:00.000 UTC",
          "2024-07-19 12:00:00.000 UTC",
          "2024-07-19 13:00:00.000 UTC",
          "2024-07-19 14:00:00.000 UTC",
          "2024-07-19 15:00:00.000 UTC",
          "2024-07-19 16:00:00.000 UTC",
          "2024-07-19 17:00:00.000 UTC",
          "2024-07-19 18:00:00.000 UTC",
          "2024-07-19 19:00:00.000 UTC",
          "2024-07-19 20:00:00.000 UTC",
          "2024-07-19 21:00:00.000 UTC",
          "2024-07-19 22:00:00.000 UTC",
          "2024-07-19 23:00:00.000 UTC",
          "2024-07-20 00:00:00.000 UTC",
          "2024-07-20 01:00:00.000 UTC",
          "2024-07-20 02:00:00.000 UTC",
          "2024-07-20 03:00:00.000 UTC",
          "2024-07-20 04:00:00.000 UTC",
          "2024-07-20 05:00:00.000 UTC",
          "2024-07-20 06:00:00.000 UTC",
          "2024-07-20 07:00:00.000 UTC",
          "2024-07-20 08:00:00.000 UTC",
          "2024-07-20 09:00:00.000 UTC",
          "2024-07-20 10:00:00.000 UTC",
          "2024-07-20 11:00:00.000 UTC",
          "2024-07-20 12:00:00.000 UTC",
          "2024-07-20 13:00:00.000 UTC",
          "2024-07-20 14:00:00.000 UTC",
          "2024-07-20 15:00:00.000 UTC",
          "2024-07-20 16:00:00.000 UTC",
          "2024-07-20 17:00:00.000 UTC",
          "2024-07-20 18:00:00.000 UTC",
          "2024-07-20 19:00:00.000 UTC",
          "2024-07-20 20:00:00.000 UTC",
          "2024-07-20 21:00:00.000 UTC",
          "2024-07-20 22:00:00.000 UTC",
          "2024-07-20 23:00:00.000 UTC",
          "2024-07-21 00:00:00.000 UTC",
          "2024-07-21 01:00:00.000 UTC"
         ],
         "xaxis": "x",
         "y": [
          0.0062396931178717,
          0.0050588725563211,
          0.004483389566266,
          0.004376565172068,
          0.0045992589307719,
          0.004733452947132,
          0.0047130424126177,
          0.0040011543820084,
          0.0050162680848602,
          0.004890020650958,
          0.0044590105471296,
          0.0044446090336756,
          0.004783570690763,
          0.0043077114123807,
          0.0051474093946274,
          0.0052503049494948,
          0.0058658816883376,
          0.0050581417262187,
          0.0046379611325949,
          0.0046717896789692,
          0.0045604703913611,
          0.005149209414802,
          0.0054213159797824,
          0.0048436944631694,
          0.0050070455710159,
          0.0054474242965785,
          0.0060339212056536,
          0.0055388293094496,
          0.0050701655538012,
          0.0049272317485885,
          0.0050740842403432,
          0.005281655346667,
          0.0054343424401845,
          0.0057502378448531,
          0.0053855401499352,
          0.005461406146308,
          0.0054823929671967,
          0.0054631191564489,
          0.0056014629713318,
          0.0110720468110249,
          0.0112253754006234,
          0.0123986019718074,
          0.0106804750783467,
          0.0161414053630119,
          0.0072226417155905,
          0.0081412969487998,
          0.008939234277918,
          0.0074538264638033,
          0.0071071321325336,
          0.0053721977804504,
          0.0059676534113301,
          0.0057420980697528,
          0.0058534105471053,
          0.0066247296673266,
          0.0064137955284424,
          0.0072167150721094,
          0.0075368319824894,
          0.0068600308688541,
          0.0060708513701731,
          0.0063654262932417,
          0.0067980612329457,
          0.0035707640575142,
          0.0056515454848659,
          0.0073058088054621,
          0.0132241622224172,
          0.0090441723866724,
          0.0087158461639841,
          0.0085896766052424,
          0.0082062523684802,
          0.0070019897778354,
          0.0067975007826121,
          0.0061832099379821,
          0.0059913060706752,
          0.0068886257387762,
          0.0064639882195654,
          0.0073729897421762,
          0.0060353426624292,
          0.0075690216378774,
          0.0072234306030651,
          0.0066279803692569,
          0.0074098787463994,
          0.0079012865861907,
          0.0072871167151276,
          0.0069798970757191,
          0.0068541539144614,
          0.0082594728045548,
          0.0144031661053958,
          0.0112005905939284,
          0.0386605687555539,
          0.0086272739540958,
          0.0077649255926884,
          0.006826115640647,
          0.0076373248254642,
          0.0071103376873236,
          0.0070410552236943,
          0.0061963288137268,
          0.0059653488649617,
          0.005766480868186,
          0.0067396250946962,
          0.0056693225391333,
          0.0060828942681043,
          0.0083906244744096,
          0.0076702427982923,
          0.0068538154807499,
          0.0128234953882844,
          0.0171032969627427,
          0.0200100043265027,
          0.0047412048153584,
          0.0078619501928646,
          0.0090833812489005,
          0.0110407638744607,
          0.0155627659318321,
          0.0101045975142803,
          0.0104890519991613,
          0.0096383182037784,
          0.0072174876328158,
          0.0065191221568818,
          0.0072117855442021,
          0.007169609377469,
          0.0061341985349532,
          0.0061560036743377,
          0.0069414997044622,
          0.0023308646940821,
          0.0070710540916236,
          0.0066652186692586,
          0.0061814154960493,
          0.0055042286195738,
          0.005555976829432,
          0.0054790153762006,
          0.0050062338573854,
          0.0067482176838375,
          0.0059270709416043,
          0.0056381559330643,
          0.0085655210849749,
          0.0269542358583513,
          0.0105702347057931,
          0.0139917663629621,
          0.0079499352813864,
          0.0064411874313898,
          0.0074661681004496,
          0.0061166119528192,
          0.0058221055769634,
          0.0052639440009785,
          0.005615135721509,
          0.0055170254191015,
          0.0051874595949409,
          0.0048330954172575,
          0.0051815430153459,
          0.0052072796264651,
          0.0052455657527903,
          0.0036607541000188,
          0.0032125974880764,
          0.00374976131953,
          0.0052992554483306,
          0.0036785295402023,
          0.003069949448795,
          0.0052783169634764,
          0.0058202100030501,
          0.0065991934902527,
          0.0058331657805108,
          0.00598498864582,
          0.0066833229234188,
          0.0055953395208301,
          0.0029347430298575,
          0.0014907795254678,
          0.0050516349671688,
          0.0055632706625418,
          0.0053830741575745,
          0.0052914651843616,
          0.0052218166061737
         ],
         "yaxis": "y2"
        },
        {
         "mode": "lines",
         "name": "Avg Gas",
         "type": "scatter",
         "x": [
          "2024-07-14 00:00:00.000 UTC",
          "2024-07-14 01:00:00.000 UTC",
          "2024-07-14 02:00:00.000 UTC",
          "2024-07-14 03:00:00.000 UTC",
          "2024-07-14 04:00:00.000 UTC",
          "2024-07-14 05:00:00.000 UTC",
          "2024-07-14 06:00:00.000 UTC",
          "2024-07-14 07:00:00.000 UTC",
          "2024-07-14 08:00:00.000 UTC",
          "2024-07-14 09:00:00.000 UTC",
          "2024-07-14 10:00:00.000 UTC",
          "2024-07-14 11:00:00.000 UTC",
          "2024-07-14 12:00:00.000 UTC",
          "2024-07-14 13:00:00.000 UTC",
          "2024-07-14 14:00:00.000 UTC",
          "2024-07-14 15:00:00.000 UTC",
          "2024-07-14 16:00:00.000 UTC",
          "2024-07-14 17:00:00.000 UTC",
          "2024-07-14 18:00:00.000 UTC",
          "2024-07-14 19:00:00.000 UTC",
          "2024-07-14 20:00:00.000 UTC",
          "2024-07-14 21:00:00.000 UTC",
          "2024-07-14 22:00:00.000 UTC",
          "2024-07-14 23:00:00.000 UTC",
          "2024-07-15 00:00:00.000 UTC",
          "2024-07-15 01:00:00.000 UTC",
          "2024-07-15 02:00:00.000 UTC",
          "2024-07-15 03:00:00.000 UTC",
          "2024-07-15 04:00:00.000 UTC",
          "2024-07-15 05:00:00.000 UTC",
          "2024-07-15 06:00:00.000 UTC",
          "2024-07-15 07:00:00.000 UTC",
          "2024-07-15 08:00:00.000 UTC",
          "2024-07-15 09:00:00.000 UTC",
          "2024-07-15 10:00:00.000 UTC",
          "2024-07-15 11:00:00.000 UTC",
          "2024-07-15 12:00:00.000 UTC",
          "2024-07-15 13:00:00.000 UTC",
          "2024-07-15 14:00:00.000 UTC",
          "2024-07-15 15:00:00.000 UTC",
          "2024-07-15 16:00:00.000 UTC",
          "2024-07-15 17:00:00.000 UTC",
          "2024-07-15 18:00:00.000 UTC",
          "2024-07-15 19:00:00.000 UTC",
          "2024-07-15 20:00:00.000 UTC",
          "2024-07-15 21:00:00.000 UTC",
          "2024-07-15 22:00:00.000 UTC",
          "2024-07-15 23:00:00.000 UTC",
          "2024-07-16 00:00:00.000 UTC",
          "2024-07-16 01:00:00.000 UTC",
          "2024-07-16 02:00:00.000 UTC",
          "2024-07-16 03:00:00.000 UTC",
          "2024-07-16 04:00:00.000 UTC",
          "2024-07-16 05:00:00.000 UTC",
          "2024-07-16 06:00:00.000 UTC",
          "2024-07-16 07:00:00.000 UTC",
          "2024-07-16 08:00:00.000 UTC",
          "2024-07-16 09:00:00.000 UTC",
          "2024-07-16 10:00:00.000 UTC",
          "2024-07-16 11:00:00.000 UTC",
          "2024-07-16 12:00:00.000 UTC",
          "2024-07-16 13:00:00.000 UTC",
          "2024-07-16 14:00:00.000 UTC",
          "2024-07-16 15:00:00.000 UTC",
          "2024-07-16 16:00:00.000 UTC",
          "2024-07-16 17:00:00.000 UTC",
          "2024-07-16 18:00:00.000 UTC",
          "2024-07-16 19:00:00.000 UTC",
          "2024-07-16 20:00:00.000 UTC",
          "2024-07-16 21:00:00.000 UTC",
          "2024-07-16 22:00:00.000 UTC",
          "2024-07-16 23:00:00.000 UTC",
          "2024-07-17 00:00:00.000 UTC",
          "2024-07-17 01:00:00.000 UTC",
          "2024-07-17 02:00:00.000 UTC",
          "2024-07-17 03:00:00.000 UTC",
          "2024-07-17 04:00:00.000 UTC",
          "2024-07-17 05:00:00.000 UTC",
          "2024-07-17 06:00:00.000 UTC",
          "2024-07-17 07:00:00.000 UTC",
          "2024-07-17 08:00:00.000 UTC",
          "2024-07-17 09:00:00.000 UTC",
          "2024-07-17 10:00:00.000 UTC",
          "2024-07-17 11:00:00.000 UTC",
          "2024-07-17 12:00:00.000 UTC",
          "2024-07-17 13:00:00.000 UTC",
          "2024-07-17 14:00:00.000 UTC",
          "2024-07-17 15:00:00.000 UTC",
          "2024-07-17 16:00:00.000 UTC",
          "2024-07-17 17:00:00.000 UTC",
          "2024-07-17 18:00:00.000 UTC",
          "2024-07-17 19:00:00.000 UTC",
          "2024-07-17 20:00:00.000 UTC",
          "2024-07-17 21:00:00.000 UTC",
          "2024-07-17 22:00:00.000 UTC",
          "2024-07-17 23:00:00.000 UTC",
          "2024-07-18 00:00:00.000 UTC",
          "2024-07-18 01:00:00.000 UTC",
          "2024-07-18 02:00:00.000 UTC",
          "2024-07-18 03:00:00.000 UTC",
          "2024-07-18 04:00:00.000 UTC",
          "2024-07-18 05:00:00.000 UTC",
          "2024-07-18 06:00:00.000 UTC",
          "2024-07-18 07:00:00.000 UTC",
          "2024-07-18 08:00:00.000 UTC",
          "2024-07-18 09:00:00.000 UTC",
          "2024-07-18 10:00:00.000 UTC",
          "2024-07-18 11:00:00.000 UTC",
          "2024-07-18 12:00:00.000 UTC",
          "2024-07-18 13:00:00.000 UTC",
          "2024-07-18 14:00:00.000 UTC",
          "2024-07-18 15:00:00.000 UTC",
          "2024-07-18 16:00:00.000 UTC",
          "2024-07-18 17:00:00.000 UTC",
          "2024-07-18 18:00:00.000 UTC",
          "2024-07-18 19:00:00.000 UTC",
          "2024-07-18 20:00:00.000 UTC",
          "2024-07-18 21:00:00.000 UTC",
          "2024-07-18 22:00:00.000 UTC",
          "2024-07-18 23:00:00.000 UTC",
          "2024-07-19 00:00:00.000 UTC",
          "2024-07-19 01:00:00.000 UTC",
          "2024-07-19 02:00:00.000 UTC",
          "2024-07-19 03:00:00.000 UTC",
          "2024-07-19 04:00:00.000 UTC",
          "2024-07-19 05:00:00.000 UTC",
          "2024-07-19 06:00:00.000 UTC",
          "2024-07-19 07:00:00.000 UTC",
          "2024-07-19 08:00:00.000 UTC",
          "2024-07-19 09:00:00.000 UTC",
          "2024-07-19 10:00:00.000 UTC",
          "2024-07-19 11:00:00.000 UTC",
          "2024-07-19 12:00:00.000 UTC",
          "2024-07-19 13:00:00.000 UTC",
          "2024-07-19 14:00:00.000 UTC",
          "2024-07-19 15:00:00.000 UTC",
          "2024-07-19 16:00:00.000 UTC",
          "2024-07-19 17:00:00.000 UTC",
          "2024-07-19 18:00:00.000 UTC",
          "2024-07-19 19:00:00.000 UTC",
          "2024-07-19 20:00:00.000 UTC",
          "2024-07-19 21:00:00.000 UTC",
          "2024-07-19 22:00:00.000 UTC",
          "2024-07-19 23:00:00.000 UTC",
          "2024-07-20 00:00:00.000 UTC",
          "2024-07-20 01:00:00.000 UTC",
          "2024-07-20 02:00:00.000 UTC",
          "2024-07-20 03:00:00.000 UTC",
          "2024-07-20 04:00:00.000 UTC",
          "2024-07-20 05:00:00.000 UTC",
          "2024-07-20 06:00:00.000 UTC",
          "2024-07-20 07:00:00.000 UTC",
          "2024-07-20 08:00:00.000 UTC",
          "2024-07-20 09:00:00.000 UTC",
          "2024-07-20 10:00:00.000 UTC",
          "2024-07-20 11:00:00.000 UTC",
          "2024-07-20 12:00:00.000 UTC",
          "2024-07-20 13:00:00.000 UTC",
          "2024-07-20 14:00:00.000 UTC",
          "2024-07-20 15:00:00.000 UTC",
          "2024-07-20 16:00:00.000 UTC",
          "2024-07-20 17:00:00.000 UTC",
          "2024-07-20 18:00:00.000 UTC",
          "2024-07-20 19:00:00.000 UTC",
          "2024-07-20 20:00:00.000 UTC",
          "2024-07-20 21:00:00.000 UTC",
          "2024-07-20 22:00:00.000 UTC",
          "2024-07-20 23:00:00.000 UTC",
          "2024-07-21 00:00:00.000 UTC",
          "2024-07-21 01:00:00.000 UTC"
         ],
         "xaxis": "x",
         "y": [
          0.0103401309276927,
          0.0079585461038869,
          0.0058975460283384,
          0.0052644814787984,
          0.0060682685090187,
          0.0060323872084619,
          0.0061994295247863,
          0.0062000607309071,
          0.0070473350624333,
          0.0078216492641628,
          0.0071249057165158,
          0.0065460788421721,
          0.0077891972568087,
          0.0072868136890223,
          0.0082453349391753,
          0.0081858846986499,
          0.0086240433547194,
          0.0077105731973843,
          0.0069099604786638,
          0.0070246634762075,
          0.0075121203080224,
          0.0100701020809946,
          0.0096566462999899,
          0.0091157699243328,
          0.0091664926208337,
          0.0095181322017915,
          0.0135962671864679,
          0.0076522491890186,
          0.006631097098852,
          0.0067441046219953,
          0.008068712742248,
          0.0080852890412604,
          0.008559537011277,
          0.007711460316826,
          0.0070376323690918,
          0.0075521285126457,
          0.0073667444701307,
          0.0078925775782873,
          0.0092927913149329,
          0.0245147004793096,
          0.0162619498844571,
          0.0177150528350583,
          0.0152292844851606,
          0.0299478131177824,
          0.012840307018252,
          0.0125587912036181,
          0.017102567674211,
          0.0124457469804961,
          0.0119404905651584,
          0.0084618112186833,
          0.009022491758621,
          0.0085170672117919,
          0.0084201668276364,
          0.0119901012271721,
          0.0125899641778994,
          0.0136717429105623,
          0.012874641775514,
          0.0099969716673122,
          0.0087980802126838,
          0.0095622360532929,
          0.0102070361199914,
          0.0073765419622956,
          0.0100533475279317,
          0.0125513882728723,
          0.0241653358232687,
          0.0130535608439948,
          0.0122944279333533,
          0.011971442372227,
          0.0109469594427562,
          0.0104523258417415,
          0.010508359592442,
          0.010432399913085,
          0.0096961971562727,
          0.0116282348462415,
          0.0096086173344865,
          0.0099615152711953,
          0.008179513596821,
          0.01084835906298,
          0.0110248753158889,
          0.0096010746976175,
          0.0111985865972921,
          0.0102521304728456,
          0.0089886735512647,
          0.0099278203595389,
          0.008524404453435,
          0.0139161977343648,
          0.021548494813498,
          0.0159999305454267,
          0.0877838431269842,
          0.0113423651139165,
          0.0096109165997446,
          0.0089986797173112,
          0.0101311025440309,
          0.0111812300546566,
          0.0102320842245555,
          0.0092443440279504,
          0.0087123377427407,
          0.007214736429508,
          0.0095946180178358,
          0.0066760098781022,
          0.0071503558616753,
          0.0092982880848331,
          0.0092213762042635,
          0.0133399458234704,
          0.0213423124853881,
          0.0336730750299563,
          0.08025563950878,
          0.0073113442131197,
          0.0092921885270281,
          0.0117664305451181,
          0.01854194561028,
          0.0242712478076362,
          0.0264481438088981,
          0.0143175390788965,
          0.0142838834627078,
          0.0097901298676501,
          0.0102110072761613,
          0.010548035679383,
          0.0092522490280553,
          0.0073107871989885,
          0.0073425130205072,
          0.0089862600073101,
          0.0059020402405761,
          0.0095361070257962,
          0.0081965249361231,
          0.006677164771509,
          0.008028929204927,
          0.0093917626222513,
          0.0087091478153917,
          0.0081519741420235,
          0.0135778366533539,
          0.0095490812080395,
          0.0098495553832242,
          0.0200483183898083,
          0.0619371294175456,
          0.0177477151816217,
          0.0330861448853862,
          0.0137868886217727,
          0.0108588201089866,
          0.0139021285275693,
          0.0095678555531591,
          0.0097225463090532,
          0.0093480689604949,
          0.0091255620261983,
          0.0093700549994471,
          0.0087787726368262,
          0.0082016539750398,
          0.0077518347163114,
          0.0066720932990243,
          0.0075611692438362,
          0.0067074096882248,
          0.0068991818605965,
          0.0075464326326224,
          0.0085755342657331,
          0.0073924641796263,
          0.0070240951477629,
          0.0087519998282188,
          0.0092898916987183,
          0.0104273202513932,
          0.0094809981611247,
          0.0094280661854106,
          0.0140987530799122,
          0.0092307333177541,
          0.0068753056715655,
          0.00553924084829,
          0.0091921597801654,
          0.01009405364689,
          0.0095214664382677,
          0.0095023593260369,
          0.0093728013062163
         ],
         "yaxis": "y2"
        }
       ],
       "layout": {
        "template": {
         "data": {
          "bar": [
           {
            "error_x": {
             "color": "#2a3f5f"
            },
            "error_y": {
             "color": "#2a3f5f"
            },
            "marker": {
             "line": {
              "color": "#E5ECF6",
              "width": 0.5
             },
             "pattern": {
              "fillmode": "overlay",
              "size": 10,
              "solidity": 0.2
             }
            },
            "type": "bar"
           }
          ],
          "barpolar": [
           {
            "marker": {
             "line": {
              "color": "#E5ECF6",
              "width": 0.5
             },
             "pattern": {
              "fillmode": "overlay",
              "size": 10,
              "solidity": 0.2
             }
            },
            "type": "barpolar"
           }
          ],
          "carpet": [
           {
            "aaxis": {
             "endlinecolor": "#2a3f5f",
             "gridcolor": "white",
             "linecolor": "white",
             "minorgridcolor": "white",
             "startlinecolor": "#2a3f5f"
            },
            "baxis": {
             "endlinecolor": "#2a3f5f",
             "gridcolor": "white",
             "linecolor": "white",
             "minorgridcolor": "white",
             "startlinecolor": "#2a3f5f"
            },
            "type": "carpet"
           }
          ],
          "choropleth": [
           {
            "colorbar": {
             "outlinewidth": 0,
             "ticks": ""
            },
            "type": "choropleth"
           }
          ],
          "contour": [
           {
            "colorbar": {
             "outlinewidth": 0,
             "ticks": ""
            },
            "colorscale": [
             [
              0,
              "#0d0887"
             ],
             [
              0.1111111111111111,
              "#46039f"
             ],
             [
              0.2222222222222222,
              "#7201a8"
             ],
             [
              0.3333333333333333,
              "#9c179e"
             ],
             [
              0.4444444444444444,
              "#bd3786"
             ],
             [
              0.5555555555555556,
              "#d8576b"
             ],
             [
              0.6666666666666666,
              "#ed7953"
             ],
             [
              0.7777777777777778,
              "#fb9f3a"
             ],
             [
              0.8888888888888888,
              "#fdca26"
             ],
             [
              1,
              "#f0f921"
             ]
            ],
            "type": "contour"
           }
          ],
          "contourcarpet": [
           {
            "colorbar": {
             "outlinewidth": 0,
             "ticks": ""
            },
            "type": "contourcarpet"
           }
          ],
          "heatmap": [
           {
            "colorbar": {
             "outlinewidth": 0,
             "ticks": ""
            },
            "colorscale": [
             [
              0,
              "#0d0887"
             ],
             [
              0.1111111111111111,
              "#46039f"
             ],
             [
              0.2222222222222222,
              "#7201a8"
             ],
             [
              0.3333333333333333,
              "#9c179e"
             ],
             [
              0.4444444444444444,
              "#bd3786"
             ],
             [
              0.5555555555555556,
              "#d8576b"
             ],
             [
              0.6666666666666666,
              "#ed7953"
             ],
             [
              0.7777777777777778,
              "#fb9f3a"
             ],
             [
              0.8888888888888888,
              "#fdca26"
             ],
             [
              1,
              "#f0f921"
             ]
            ],
            "type": "heatmap"
           }
          ],
          "heatmapgl": [
           {
            "colorbar": {
             "outlinewidth": 0,
             "ticks": ""
            },
            "colorscale": [
             [
              0,
              "#0d0887"
             ],
             [
              0.1111111111111111,
              "#46039f"
             ],
             [
              0.2222222222222222,
              "#7201a8"
             ],
             [
              0.3333333333333333,
              "#9c179e"
             ],
             [
              0.4444444444444444,
              "#bd3786"
             ],
             [
              0.5555555555555556,
              "#d8576b"
             ],
             [
              0.6666666666666666,
              "#ed7953"
             ],
             [
              0.7777777777777778,
              "#fb9f3a"
             ],
             [
              0.8888888888888888,
              "#fdca26"
             ],
             [
              1,
              "#f0f921"
             ]
            ],
            "type": "heatmapgl"
           }
          ],
          "histogram": [
           {
            "marker": {
             "pattern": {
              "fillmode": "overlay",
              "size": 10,
              "solidity": 0.2
             }
            },
            "type": "histogram"
           }
          ],
          "histogram2d": [
           {
            "colorbar": {
             "outlinewidth": 0,
             "ticks": ""
            },
            "colorscale": [
             [
              0,
              "#0d0887"
             ],
             [
              0.1111111111111111,
              "#46039f"
             ],
             [
              0.2222222222222222,
              "#7201a8"
             ],
             [
              0.3333333333333333,
              "#9c179e"
             ],
             [
              0.4444444444444444,
              "#bd3786"
             ],
             [
              0.5555555555555556,
              "#d8576b"
             ],
             [
              0.6666666666666666,
              "#ed7953"
             ],
             [
              0.7777777777777778,
              "#fb9f3a"
             ],
             [
              0.8888888888888888,
              "#fdca26"
             ],
             [
              1,
              "#f0f921"
             ]
            ],
            "type": "histogram2d"
           }
          ],
          "histogram2dcontour": [
           {
            "colorbar": {
             "outlinewidth": 0,
             "ticks": ""
            },
            "colorscale": [
             [
              0,
              "#0d0887"
             ],
             [
              0.1111111111111111,
              "#46039f"
             ],
             [
              0.2222222222222222,
              "#7201a8"
             ],
             [
              0.3333333333333333,
              "#9c179e"
             ],
             [
              0.4444444444444444,
              "#bd3786"
             ],
             [
              0.5555555555555556,
              "#d8576b"
             ],
             [
              0.6666666666666666,
              "#ed7953"
             ],
             [
              0.7777777777777778,
              "#fb9f3a"
             ],
             [
              0.8888888888888888,
              "#fdca26"
             ],
             [
              1,
              "#f0f921"
             ]
            ],
            "type": "histogram2dcontour"
           }
          ],
          "mesh3d": [
           {
            "colorbar": {
             "outlinewidth": 0,
             "ticks": ""
            },
            "type": "mesh3d"
           }
          ],
          "parcoords": [
           {
            "line": {
             "colorbar": {
              "outlinewidth": 0,
              "ticks": ""
             }
            },
            "type": "parcoords"
           }
          ],
          "pie": [
           {
            "automargin": true,
            "type": "pie"
           }
          ],
          "scatter": [
           {
            "fillpattern": {
             "fillmode": "overlay",
             "size": 10,
             "solidity": 0.2
            },
            "type": "scatter"
           }
          ],
          "scatter3d": [
           {
            "line": {
             "colorbar": {
              "outlinewidth": 0,
              "ticks": ""
             }
            },
            "marker": {
             "colorbar": {
              "outlinewidth": 0,
              "ticks": ""
             }
            },
            "type": "scatter3d"
           }
          ],
          "scattercarpet": [
           {
            "marker": {
             "colorbar": {
              "outlinewidth": 0,
              "ticks": ""
             }
            },
            "type": "scattercarpet"
           }
          ],
          "scattergeo": [
           {
            "marker": {
             "colorbar": {
              "outlinewidth": 0,
              "ticks": ""
             }
            },
            "type": "scattergeo"
           }
          ],
          "scattergl": [
           {
            "marker": {
             "colorbar": {
              "outlinewidth": 0,
              "ticks": ""
             }
            },
            "type": "scattergl"
           }
          ],
          "scattermapbox": [
           {
            "marker": {
             "colorbar": {
              "outlinewidth": 0,
              "ticks": ""
             }
            },
            "type": "scattermapbox"
           }
          ],
          "scatterpolar": [
           {
            "marker": {
             "colorbar": {
              "outlinewidth": 0,
              "ticks": ""
             }
            },
            "type": "scatterpolar"
           }
          ],
          "scatterpolargl": [
           {
            "marker": {
             "colorbar": {
              "outlinewidth": 0,
              "ticks": ""
             }
            },
            "type": "scatterpolargl"
           }
          ],
          "scatterternary": [
           {
            "marker": {
             "colorbar": {
              "outlinewidth": 0,
              "ticks": ""
             }
            },
            "type": "scatterternary"
           }
          ],
          "surface": [
           {
            "colorbar": {
             "outlinewidth": 0,
             "ticks": ""
            },
            "colorscale": [
             [
              0,
              "#0d0887"
             ],
             [
              0.1111111111111111,
              "#46039f"
             ],
             [
              0.2222222222222222,
              "#7201a8"
             ],
             [
              0.3333333333333333,
              "#9c179e"
             ],
             [
              0.4444444444444444,
              "#bd3786"
             ],
             [
              0.5555555555555556,
              "#d8576b"
             ],
             [
              0.6666666666666666,
              "#ed7953"
             ],
             [
              0.7777777777777778,
              "#fb9f3a"
             ],
             [
              0.8888888888888888,
              "#fdca26"
             ],
             [
              1,
              "#f0f921"
             ]
            ],
            "type": "surface"
           }
          ],
          "table": [
           {
            "cells": {
             "fill": {
              "color": "#EBF0F8"
             },
             "line": {
              "color": "white"
             }
            },
            "header": {
             "fill": {
              "color": "#C8D4E3"
             },
             "line": {
              "color": "white"
             }
            },
            "type": "table"
           }
          ]
         },
         "layout": {
          "annotationdefaults": {
           "arrowcolor": "#2a3f5f",
           "arrowhead": 0,
           "arrowwidth": 1
          },
          "autotypenumbers": "strict",
          "coloraxis": {
           "colorbar": {
            "outlinewidth": 0,
            "ticks": ""
           }
          },
          "colorscale": {
           "diverging": [
            [
             0,
             "#8e0152"
            ],
            [
             0.1,
             "#c51b7d"
            ],
            [
             0.2,
             "#de77ae"
            ],
            [
             0.3,
             "#f1b6da"
            ],
            [
             0.4,
             "#fde0ef"
            ],
            [
             0.5,
             "#f7f7f7"
            ],
            [
             0.6,
             "#e6f5d0"
            ],
            [
             0.7,
             "#b8e186"
            ],
            [
             0.8,
             "#7fbc41"
            ],
            [
             0.9,
             "#4d9221"
            ],
            [
             1,
             "#276419"
            ]
           ],
           "sequential": [
            [
             0,
             "#0d0887"
            ],
            [
             0.1111111111111111,
             "#46039f"
            ],
            [
             0.2222222222222222,
             "#7201a8"
            ],
            [
             0.3333333333333333,
             "#9c179e"
            ],
            [
             0.4444444444444444,
             "#bd3786"
            ],
            [
             0.5555555555555556,
             "#d8576b"
            ],
            [
             0.6666666666666666,
             "#ed7953"
            ],
            [
             0.7777777777777778,
             "#fb9f3a"
            ],
            [
             0.8888888888888888,
             "#fdca26"
            ],
            [
             1,
             "#f0f921"
            ]
           ],
           "sequentialminus": [
            [
             0,
             "#0d0887"
            ],
            [
             0.1111111111111111,
             "#46039f"
            ],
            [
             0.2222222222222222,
             "#7201a8"
            ],
            [
             0.3333333333333333,
             "#9c179e"
            ],
            [
             0.4444444444444444,
             "#bd3786"
            ],
            [
             0.5555555555555556,
             "#d8576b"
            ],
            [
             0.6666666666666666,
             "#ed7953"
            ],
            [
             0.7777777777777778,
             "#fb9f3a"
            ],
            [
             0.8888888888888888,
             "#fdca26"
            ],
            [
             1,
             "#f0f921"
            ]
           ]
          },
          "colorway": [
           "#636efa",
           "#EF553B",
           "#00cc96",
           "#ab63fa",
           "#FFA15A",
           "#19d3f3",
           "#FF6692",
           "#B6E880",
           "#FF97FF",
           "#FECB52"
          ],
          "font": {
           "color": "#2a3f5f"
          },
          "geo": {
           "bgcolor": "white",
           "lakecolor": "white",
           "landcolor": "#E5ECF6",
           "showlakes": true,
           "showland": true,
           "subunitcolor": "white"
          },
          "hoverlabel": {
           "align": "left"
          },
          "hovermode": "closest",
          "mapbox": {
           "style": "light"
          },
          "paper_bgcolor": "white",
          "plot_bgcolor": "#E5ECF6",
          "polar": {
           "angularaxis": {
            "gridcolor": "white",
            "linecolor": "white",
            "ticks": ""
           },
           "bgcolor": "#E5ECF6",
           "radialaxis": {
            "gridcolor": "white",
            "linecolor": "white",
            "ticks": ""
           }
          },
          "scene": {
           "xaxis": {
            "backgroundcolor": "#E5ECF6",
            "gridcolor": "white",
            "gridwidth": 2,
            "linecolor": "white",
            "showbackground": true,
            "ticks": "",
            "zerolinecolor": "white"
           },
           "yaxis": {
            "backgroundcolor": "#E5ECF6",
            "gridcolor": "white",
            "gridwidth": 2,
            "linecolor": "white",
            "showbackground": true,
            "ticks": "",
            "zerolinecolor": "white"
           },
           "zaxis": {
            "backgroundcolor": "#E5ECF6",
            "gridcolor": "white",
            "gridwidth": 2,
            "linecolor": "white",
            "showbackground": true,
            "ticks": "",
            "zerolinecolor": "white"
           }
          },
          "shapedefaults": {
           "line": {
            "color": "#2a3f5f"
           }
          },
          "ternary": {
           "aaxis": {
            "gridcolor": "white",
            "linecolor": "white",
            "ticks": ""
           },
           "baxis": {
            "gridcolor": "white",
            "linecolor": "white",
            "ticks": ""
           },
           "bgcolor": "#E5ECF6",
           "caxis": {
            "gridcolor": "white",
            "linecolor": "white",
            "ticks": ""
           }
          },
          "title": {
           "x": 0.05
          },
          "xaxis": {
           "automargin": true,
           "gridcolor": "white",
           "linecolor": "white",
           "ticks": "",
           "title": {
            "standoff": 15
           },
           "zerolinecolor": "white",
           "zerolinewidth": 2
          },
          "yaxis": {
           "automargin": true,
           "gridcolor": "white",
           "linecolor": "white",
           "ticks": "",
           "title": {
            "standoff": 15
           },
           "zerolinecolor": "white",
           "zerolinewidth": 2
          }
         }
        },
        "title": {
         "text": "Liquidity to Gas Comparison"
        },
        "xaxis": {
         "anchor": "y",
         "domain": [
          0,
          0.94
         ],
         "title": {
          "text": "Date"
         }
        },
        "yaxis": {
         "anchor": "x",
         "domain": [
          0,
          1
         ]
        },
        "yaxis2": {
         "anchor": "x",
         "overlaying": "y",
         "side": "right"
        }
       }
      }
     },
     "metadata": {},
     "output_type": "display_data"
    }
   ],
   "source": [
    "weth_zro_gas_to_liq_fig = make_subplots(specs=[[{\"secondary_y\": True}]])\n",
    "\n",
    "\n",
    "weth_zro_gas_to_liq_fig.add_trace(\n",
    "    go.Bar(\n",
    "        x=weth_zro_30['day'],\n",
    "        y=weth_zro_30['arbitrum_avg_liquidity'],\n",
    "        name='Liquidity'\n",
    "    ),\n",
    "    secondary_y=False\n",
    ")\n",
    "\n",
    "weth_zro_gas_to_liq_fig.add_trace(\n",
    "    go.Scatter(\n",
    "        x=weth_zro_30['day'],\n",
    "        y=weth_zro_30['arbitrum_median_gas_usd'],\n",
    "        name='Median Gas',\n",
    "        mode='lines'\n",
    "    ),\n",
    "    secondary_y=True\n",
    ")\n",
    "\n",
    "weth_zro_gas_to_liq_fig.add_trace(\n",
    "    go.Scatter(\n",
    "        x=weth_zro_30['day'],\n",
    "        y=weth_zro_30['arbitrum_gas_usd_per_tx'],\n",
    "        name='Avg Gas',\n",
    "        mode='lines'\n",
    "    ),\n",
    "    secondary_y=True\n",
    ")\n",
    "\n",
    "weth_zro_gas_to_liq_fig.update_layout(title='Liquidity to Gas Comparison')\n",
    "\n",
    "weth_zro_gas_to_liq_fig.update_xaxes(title_text=\"Date\")\n",
    "\n",
    "weth_zro_gas_to_liq_fig.show()\n"
   ]
  },
  {
   "cell_type": "code",
   "execution_count": 120,
   "metadata": {},
   "outputs": [
    {
     "data": {
      "application/vnd.plotly.v1+json": {
       "config": {
        "plotlyServerURL": "https://plot.ly"
       },
       "data": [
        {
         "name": "Net Liquidity Added",
         "type": "bar",
         "x": [
          "2024-07-14 00:00:00.000 UTC",
          "2024-07-14 01:00:00.000 UTC",
          "2024-07-14 02:00:00.000 UTC",
          "2024-07-14 03:00:00.000 UTC",
          "2024-07-14 04:00:00.000 UTC",
          "2024-07-14 05:00:00.000 UTC",
          "2024-07-14 06:00:00.000 UTC",
          "2024-07-14 07:00:00.000 UTC",
          "2024-07-14 08:00:00.000 UTC",
          "2024-07-14 09:00:00.000 UTC",
          "2024-07-14 10:00:00.000 UTC",
          "2024-07-14 11:00:00.000 UTC",
          "2024-07-14 12:00:00.000 UTC",
          "2024-07-14 13:00:00.000 UTC",
          "2024-07-14 14:00:00.000 UTC",
          "2024-07-14 15:00:00.000 UTC",
          "2024-07-14 16:00:00.000 UTC",
          "2024-07-14 17:00:00.000 UTC",
          "2024-07-14 18:00:00.000 UTC",
          "2024-07-14 19:00:00.000 UTC",
          "2024-07-14 20:00:00.000 UTC",
          "2024-07-14 21:00:00.000 UTC",
          "2024-07-14 22:00:00.000 UTC",
          "2024-07-14 23:00:00.000 UTC",
          "2024-07-15 00:00:00.000 UTC",
          "2024-07-15 01:00:00.000 UTC",
          "2024-07-15 02:00:00.000 UTC",
          "2024-07-15 03:00:00.000 UTC",
          "2024-07-15 04:00:00.000 UTC",
          "2024-07-15 05:00:00.000 UTC",
          "2024-07-15 06:00:00.000 UTC",
          "2024-07-15 07:00:00.000 UTC",
          "2024-07-15 08:00:00.000 UTC",
          "2024-07-15 09:00:00.000 UTC",
          "2024-07-15 10:00:00.000 UTC",
          "2024-07-15 11:00:00.000 UTC",
          "2024-07-15 12:00:00.000 UTC",
          "2024-07-15 13:00:00.000 UTC",
          "2024-07-15 14:00:00.000 UTC",
          "2024-07-15 15:00:00.000 UTC",
          "2024-07-15 16:00:00.000 UTC",
          "2024-07-15 17:00:00.000 UTC",
          "2024-07-15 18:00:00.000 UTC",
          "2024-07-15 19:00:00.000 UTC",
          "2024-07-15 20:00:00.000 UTC",
          "2024-07-15 21:00:00.000 UTC",
          "2024-07-15 22:00:00.000 UTC",
          "2024-07-15 23:00:00.000 UTC",
          "2024-07-16 00:00:00.000 UTC",
          "2024-07-16 01:00:00.000 UTC",
          "2024-07-16 02:00:00.000 UTC",
          "2024-07-16 03:00:00.000 UTC",
          "2024-07-16 04:00:00.000 UTC",
          "2024-07-16 05:00:00.000 UTC",
          "2024-07-16 06:00:00.000 UTC",
          "2024-07-16 07:00:00.000 UTC",
          "2024-07-16 08:00:00.000 UTC",
          "2024-07-16 09:00:00.000 UTC",
          "2024-07-16 10:00:00.000 UTC",
          "2024-07-16 11:00:00.000 UTC",
          "2024-07-16 12:00:00.000 UTC",
          "2024-07-16 13:00:00.000 UTC",
          "2024-07-16 14:00:00.000 UTC",
          "2024-07-16 15:00:00.000 UTC",
          "2024-07-16 16:00:00.000 UTC",
          "2024-07-16 17:00:00.000 UTC",
          "2024-07-16 18:00:00.000 UTC",
          "2024-07-16 19:00:00.000 UTC",
          "2024-07-16 20:00:00.000 UTC",
          "2024-07-16 21:00:00.000 UTC",
          "2024-07-16 22:00:00.000 UTC",
          "2024-07-16 23:00:00.000 UTC",
          "2024-07-17 00:00:00.000 UTC",
          "2024-07-17 01:00:00.000 UTC",
          "2024-07-17 02:00:00.000 UTC",
          "2024-07-17 03:00:00.000 UTC",
          "2024-07-17 04:00:00.000 UTC",
          "2024-07-17 05:00:00.000 UTC",
          "2024-07-17 06:00:00.000 UTC",
          "2024-07-17 07:00:00.000 UTC",
          "2024-07-17 08:00:00.000 UTC",
          "2024-07-17 09:00:00.000 UTC",
          "2024-07-17 10:00:00.000 UTC",
          "2024-07-17 11:00:00.000 UTC",
          "2024-07-17 12:00:00.000 UTC",
          "2024-07-17 13:00:00.000 UTC",
          "2024-07-17 14:00:00.000 UTC",
          "2024-07-17 15:00:00.000 UTC",
          "2024-07-17 16:00:00.000 UTC",
          "2024-07-17 17:00:00.000 UTC",
          "2024-07-17 18:00:00.000 UTC",
          "2024-07-17 19:00:00.000 UTC",
          "2024-07-17 20:00:00.000 UTC",
          "2024-07-17 21:00:00.000 UTC",
          "2024-07-17 22:00:00.000 UTC",
          "2024-07-17 23:00:00.000 UTC",
          "2024-07-18 00:00:00.000 UTC",
          "2024-07-18 01:00:00.000 UTC",
          "2024-07-18 02:00:00.000 UTC",
          "2024-07-18 03:00:00.000 UTC",
          "2024-07-18 04:00:00.000 UTC",
          "2024-07-18 05:00:00.000 UTC",
          "2024-07-18 06:00:00.000 UTC",
          "2024-07-18 07:00:00.000 UTC",
          "2024-07-18 08:00:00.000 UTC",
          "2024-07-18 09:00:00.000 UTC",
          "2024-07-18 10:00:00.000 UTC",
          "2024-07-18 11:00:00.000 UTC",
          "2024-07-18 12:00:00.000 UTC",
          "2024-07-18 13:00:00.000 UTC",
          "2024-07-18 14:00:00.000 UTC",
          "2024-07-18 15:00:00.000 UTC",
          "2024-07-18 16:00:00.000 UTC",
          "2024-07-18 17:00:00.000 UTC",
          "2024-07-18 18:00:00.000 UTC",
          "2024-07-18 19:00:00.000 UTC",
          "2024-07-18 20:00:00.000 UTC",
          "2024-07-18 21:00:00.000 UTC",
          "2024-07-18 22:00:00.000 UTC",
          "2024-07-18 23:00:00.000 UTC",
          "2024-07-19 00:00:00.000 UTC",
          "2024-07-19 01:00:00.000 UTC",
          "2024-07-19 02:00:00.000 UTC",
          "2024-07-19 03:00:00.000 UTC",
          "2024-07-19 04:00:00.000 UTC",
          "2024-07-19 05:00:00.000 UTC",
          "2024-07-19 06:00:00.000 UTC",
          "2024-07-19 07:00:00.000 UTC",
          "2024-07-19 08:00:00.000 UTC",
          "2024-07-19 09:00:00.000 UTC",
          "2024-07-19 10:00:00.000 UTC",
          "2024-07-19 11:00:00.000 UTC",
          "2024-07-19 12:00:00.000 UTC",
          "2024-07-19 13:00:00.000 UTC",
          "2024-07-19 14:00:00.000 UTC",
          "2024-07-19 15:00:00.000 UTC",
          "2024-07-19 16:00:00.000 UTC",
          "2024-07-19 17:00:00.000 UTC",
          "2024-07-19 18:00:00.000 UTC",
          "2024-07-19 19:00:00.000 UTC",
          "2024-07-19 20:00:00.000 UTC",
          "2024-07-19 21:00:00.000 UTC",
          "2024-07-19 22:00:00.000 UTC",
          "2024-07-19 23:00:00.000 UTC",
          "2024-07-20 00:00:00.000 UTC",
          "2024-07-20 01:00:00.000 UTC",
          "2024-07-20 02:00:00.000 UTC",
          "2024-07-20 03:00:00.000 UTC",
          "2024-07-20 04:00:00.000 UTC",
          "2024-07-20 05:00:00.000 UTC",
          "2024-07-20 06:00:00.000 UTC",
          "2024-07-20 07:00:00.000 UTC",
          "2024-07-20 08:00:00.000 UTC",
          "2024-07-20 09:00:00.000 UTC",
          "2024-07-20 10:00:00.000 UTC",
          "2024-07-20 11:00:00.000 UTC",
          "2024-07-20 12:00:00.000 UTC",
          "2024-07-20 13:00:00.000 UTC",
          "2024-07-20 14:00:00.000 UTC",
          "2024-07-20 15:00:00.000 UTC",
          "2024-07-20 16:00:00.000 UTC",
          "2024-07-20 17:00:00.000 UTC",
          "2024-07-20 18:00:00.000 UTC",
          "2024-07-20 19:00:00.000 UTC",
          "2024-07-20 20:00:00.000 UTC",
          "2024-07-20 21:00:00.000 UTC",
          "2024-07-20 22:00:00.000 UTC",
          "2024-07-20 23:00:00.000 UTC",
          "2024-07-21 00:00:00.000 UTC",
          "2024-07-21 01:00:00.000 UTC"
         ],
         "xaxis": "x",
         "y": [
          0,
          -9.353201259123894e+21,
          -1.471624035300342e+22,
          -1.049480468501902e+22,
          1.021968205691688e+22,
          1.3388718310675781e+22,
          1.6461253096033636e+22,
          -2.198314768361548e+22,
          1.0110120514162174e+22,
          3.6005931362114307e+21,
          -602534921521586000000,
          3.2263320131108644e+21,
          1.2511558260795501e+21,
          4.869445507746269e+21,
          -4.5638915201272455e+21,
          -2.156698746690617e+22,
          4.520258634712118e+22,
          -1.9170297803685075e+21,
          9.807966371593744e+21,
          -1.0167879964265254e+22,
          -414243774569767760000,
          4.380411028043559e+21,
          1.7623052139422737e+21,
          -2.0465708171540656e+22,
          20334209669787550000,
          -6.943317691695576e+21,
          -7.265396362721901e+21,
          1.9839424783375873e+21,
          237135129114933460000,
          1.5924852623922703e+21,
          3.573644537715845e+21,
          -1.1288311562095213e+21,
          -5.000202247382369e+21,
          1.8727700352662399e+21,
          1.1190123360412643e+22,
          3.6099443064434883e+21,
          -2.2287453207195025e+21,
          7.585176767857099e+21,
          -1.226467703153973e+22,
          5.054818836905843e+21,
          3.1449124722677507e+22,
          -9.461218907164877e+21,
          -2.3688884801939674e+22,
          1.6914060166414555e+22,
          -1.3520435630092195e+22,
          2.4805491163848587e+22,
          1.1278290228257642e+22,
          -5.951221467626493e+21,
          -2.8796262776365744e+22,
          6.351850968281805e+21,
          358244777795474400000,
          -8.112133891620717e+21,
          -2.3358034411821654e+21,
          -2.114855977319628e+21,
          -1.96587560576116e+22,
          -3.15519864348829e+22,
          2.969953568465963e+22,
          1.5690489734057758e+22,
          242459068205717520000,
          708458501490587200000,
          6.473476754507934e+21,
          5.389602250446474e+21,
          1.5430270423221133e+22,
          1.0501298728294752e+22,
          2.0698198049031738e+22,
          9.299215887158141e+21,
          -817078113369745000000,
          -3.783224563410249e+22,
          -2.2696665402660545e+22,
          2.511932925153734e+22,
          8.885629587781202e+22,
          -1.772042267155127e+22,
          -7.139565153852088e+22,
          -1.4828667632215807e+22,
          -1.29639389613986e+22,
          -1.2302601418197518e+21,
          7.313270832648751e+21,
          -5.483751696371282e+21,
          1.019475993294913e+22,
          3.9530199607619397e+21,
          -3.7937379639710146e+21,
          5.917725403168706e+21,
          -7.491310124568152e+21,
          4.570862714510834e+21,
          7.637067486083223e+21,
          2.232172963119384e+21,
          -4.925496675971088e+21,
          2.814349537050015e+22,
          1.0400433251421587e+23,
          -1.3967565708797598e+22,
          1.1776622662196959e+23,
          -2.360763834287017e+23,
          5.778092181744474e+22,
          1.2433632580898057e+22,
          -7.388285340048202e+22,
          3.621812419024843e+21,
          3.6615124180887247e+21,
          -5.577633344663537e+21,
          3.430572585098674e+21,
          3.364510670686968e+21,
          -534679028147586860000,
          -1.2635710906374816e+21,
          8.075285940641856e+21,
          -7.802373096065116e+21,
          -1.7395740503809165e+22,
          1.1840847231400863e+22,
          8.666435697152407e+21,
          3.3539049419829024e+21,
          7.586515184386191e+21,
          -1.7403302284540758e+22,
          -4.392273148183265e+22,
          -2.447931762337914e+22,
          3.18613953580628e+22,
          3.551392730447892e+22,
          3.2746628141148054e+21,
          -1.370063876332524e+22,
          -7.513044334789616e+21,
          -4.161501649693011e+21,
          1.448795219331369e+22,
          5.165721411810899e+21,
          -2.0274920105592024e+22,
          -2.855486639214673e+22,
          -1.4191546832339903e+21,
          1.858712701507218e+22,
          6.318499427978343e+21,
          -2.9202747222340353e+22,
          3.8939781338987254e+21,
          -5.347291053839104e+21,
          -2.372411166669792e+21,
          2.545498751117826e+22,
          -879376893112479600000,
          1.3495783403675258e+22,
          6.44384839194913e+21,
          -1.3568216821988432e+21,
          1.5064393966754774e+22,
          7.656277303989608e+21,
          -3.0449943818765515e+21,
          -1.478572643550738e+21,
          -9.965121348658778e+21,
          -6.700230714506875e+21,
          1.5090424873369062e+22,
          -4.646768551190327e+21,
          4.429322611755399e+21,
          1.6993381558407282e+21,
          2.1495102956808176e+21,
          -3.0243518451437967e+22,
          3.224015121755709e+22,
          1.0907989576489193e+22,
          -5.503263395928062e+21,
          -4.5759312250517565e+21,
          6.850986513480515e+21,
          -1.2784211411745339e+22,
          -1.86459163209886e+22,
          1.3989914572665939e+22,
          -4.888002971206578e+21,
          4.0488002211816627e+21,
          -8.19023025248013e+21,
          -3.6867175771965042e+22,
          -3.4334427500011003e+22,
          2.191779837512053e+22,
          1.023292414357389e+22,
          2.747835310209155e+21,
          -2.338973404249331e+22,
          4.245781384189123e+21,
          2.6148885745394623e+22,
          -9.65217471469163e+21,
          2.755195898026458e+22,
          -4.385244334937738e+22,
          3.5342802751860075e+22,
          -1.5846121227521469e+22
         ],
         "yaxis": "y"
        },
        {
         "mode": "lines",
         "name": "Median Gas",
         "type": "scatter",
         "x": [
          "2024-07-14 00:00:00.000 UTC",
          "2024-07-14 01:00:00.000 UTC",
          "2024-07-14 02:00:00.000 UTC",
          "2024-07-14 03:00:00.000 UTC",
          "2024-07-14 04:00:00.000 UTC",
          "2024-07-14 05:00:00.000 UTC",
          "2024-07-14 06:00:00.000 UTC",
          "2024-07-14 07:00:00.000 UTC",
          "2024-07-14 08:00:00.000 UTC",
          "2024-07-14 09:00:00.000 UTC",
          "2024-07-14 10:00:00.000 UTC",
          "2024-07-14 11:00:00.000 UTC",
          "2024-07-14 12:00:00.000 UTC",
          "2024-07-14 13:00:00.000 UTC",
          "2024-07-14 14:00:00.000 UTC",
          "2024-07-14 15:00:00.000 UTC",
          "2024-07-14 16:00:00.000 UTC",
          "2024-07-14 17:00:00.000 UTC",
          "2024-07-14 18:00:00.000 UTC",
          "2024-07-14 19:00:00.000 UTC",
          "2024-07-14 20:00:00.000 UTC",
          "2024-07-14 21:00:00.000 UTC",
          "2024-07-14 22:00:00.000 UTC",
          "2024-07-14 23:00:00.000 UTC",
          "2024-07-15 00:00:00.000 UTC",
          "2024-07-15 01:00:00.000 UTC",
          "2024-07-15 02:00:00.000 UTC",
          "2024-07-15 03:00:00.000 UTC",
          "2024-07-15 04:00:00.000 UTC",
          "2024-07-15 05:00:00.000 UTC",
          "2024-07-15 06:00:00.000 UTC",
          "2024-07-15 07:00:00.000 UTC",
          "2024-07-15 08:00:00.000 UTC",
          "2024-07-15 09:00:00.000 UTC",
          "2024-07-15 10:00:00.000 UTC",
          "2024-07-15 11:00:00.000 UTC",
          "2024-07-15 12:00:00.000 UTC",
          "2024-07-15 13:00:00.000 UTC",
          "2024-07-15 14:00:00.000 UTC",
          "2024-07-15 15:00:00.000 UTC",
          "2024-07-15 16:00:00.000 UTC",
          "2024-07-15 17:00:00.000 UTC",
          "2024-07-15 18:00:00.000 UTC",
          "2024-07-15 19:00:00.000 UTC",
          "2024-07-15 20:00:00.000 UTC",
          "2024-07-15 21:00:00.000 UTC",
          "2024-07-15 22:00:00.000 UTC",
          "2024-07-15 23:00:00.000 UTC",
          "2024-07-16 00:00:00.000 UTC",
          "2024-07-16 01:00:00.000 UTC",
          "2024-07-16 02:00:00.000 UTC",
          "2024-07-16 03:00:00.000 UTC",
          "2024-07-16 04:00:00.000 UTC",
          "2024-07-16 05:00:00.000 UTC",
          "2024-07-16 06:00:00.000 UTC",
          "2024-07-16 07:00:00.000 UTC",
          "2024-07-16 08:00:00.000 UTC",
          "2024-07-16 09:00:00.000 UTC",
          "2024-07-16 10:00:00.000 UTC",
          "2024-07-16 11:00:00.000 UTC",
          "2024-07-16 12:00:00.000 UTC",
          "2024-07-16 13:00:00.000 UTC",
          "2024-07-16 14:00:00.000 UTC",
          "2024-07-16 15:00:00.000 UTC",
          "2024-07-16 16:00:00.000 UTC",
          "2024-07-16 17:00:00.000 UTC",
          "2024-07-16 18:00:00.000 UTC",
          "2024-07-16 19:00:00.000 UTC",
          "2024-07-16 20:00:00.000 UTC",
          "2024-07-16 21:00:00.000 UTC",
          "2024-07-16 22:00:00.000 UTC",
          "2024-07-16 23:00:00.000 UTC",
          "2024-07-17 00:00:00.000 UTC",
          "2024-07-17 01:00:00.000 UTC",
          "2024-07-17 02:00:00.000 UTC",
          "2024-07-17 03:00:00.000 UTC",
          "2024-07-17 04:00:00.000 UTC",
          "2024-07-17 05:00:00.000 UTC",
          "2024-07-17 06:00:00.000 UTC",
          "2024-07-17 07:00:00.000 UTC",
          "2024-07-17 08:00:00.000 UTC",
          "2024-07-17 09:00:00.000 UTC",
          "2024-07-17 10:00:00.000 UTC",
          "2024-07-17 11:00:00.000 UTC",
          "2024-07-17 12:00:00.000 UTC",
          "2024-07-17 13:00:00.000 UTC",
          "2024-07-17 14:00:00.000 UTC",
          "2024-07-17 15:00:00.000 UTC",
          "2024-07-17 16:00:00.000 UTC",
          "2024-07-17 17:00:00.000 UTC",
          "2024-07-17 18:00:00.000 UTC",
          "2024-07-17 19:00:00.000 UTC",
          "2024-07-17 20:00:00.000 UTC",
          "2024-07-17 21:00:00.000 UTC",
          "2024-07-17 22:00:00.000 UTC",
          "2024-07-17 23:00:00.000 UTC",
          "2024-07-18 00:00:00.000 UTC",
          "2024-07-18 01:00:00.000 UTC",
          "2024-07-18 02:00:00.000 UTC",
          "2024-07-18 03:00:00.000 UTC",
          "2024-07-18 04:00:00.000 UTC",
          "2024-07-18 05:00:00.000 UTC",
          "2024-07-18 06:00:00.000 UTC",
          "2024-07-18 07:00:00.000 UTC",
          "2024-07-18 08:00:00.000 UTC",
          "2024-07-18 09:00:00.000 UTC",
          "2024-07-18 10:00:00.000 UTC",
          "2024-07-18 11:00:00.000 UTC",
          "2024-07-18 12:00:00.000 UTC",
          "2024-07-18 13:00:00.000 UTC",
          "2024-07-18 14:00:00.000 UTC",
          "2024-07-18 15:00:00.000 UTC",
          "2024-07-18 16:00:00.000 UTC",
          "2024-07-18 17:00:00.000 UTC",
          "2024-07-18 18:00:00.000 UTC",
          "2024-07-18 19:00:00.000 UTC",
          "2024-07-18 20:00:00.000 UTC",
          "2024-07-18 21:00:00.000 UTC",
          "2024-07-18 22:00:00.000 UTC",
          "2024-07-18 23:00:00.000 UTC",
          "2024-07-19 00:00:00.000 UTC",
          "2024-07-19 01:00:00.000 UTC",
          "2024-07-19 02:00:00.000 UTC",
          "2024-07-19 03:00:00.000 UTC",
          "2024-07-19 04:00:00.000 UTC",
          "2024-07-19 05:00:00.000 UTC",
          "2024-07-19 06:00:00.000 UTC",
          "2024-07-19 07:00:00.000 UTC",
          "2024-07-19 08:00:00.000 UTC",
          "2024-07-19 09:00:00.000 UTC",
          "2024-07-19 10:00:00.000 UTC",
          "2024-07-19 11:00:00.000 UTC",
          "2024-07-19 12:00:00.000 UTC",
          "2024-07-19 13:00:00.000 UTC",
          "2024-07-19 14:00:00.000 UTC",
          "2024-07-19 15:00:00.000 UTC",
          "2024-07-19 16:00:00.000 UTC",
          "2024-07-19 17:00:00.000 UTC",
          "2024-07-19 18:00:00.000 UTC",
          "2024-07-19 19:00:00.000 UTC",
          "2024-07-19 20:00:00.000 UTC",
          "2024-07-19 21:00:00.000 UTC",
          "2024-07-19 22:00:00.000 UTC",
          "2024-07-19 23:00:00.000 UTC",
          "2024-07-20 00:00:00.000 UTC",
          "2024-07-20 01:00:00.000 UTC",
          "2024-07-20 02:00:00.000 UTC",
          "2024-07-20 03:00:00.000 UTC",
          "2024-07-20 04:00:00.000 UTC",
          "2024-07-20 05:00:00.000 UTC",
          "2024-07-20 06:00:00.000 UTC",
          "2024-07-20 07:00:00.000 UTC",
          "2024-07-20 08:00:00.000 UTC",
          "2024-07-20 09:00:00.000 UTC",
          "2024-07-20 10:00:00.000 UTC",
          "2024-07-20 11:00:00.000 UTC",
          "2024-07-20 12:00:00.000 UTC",
          "2024-07-20 13:00:00.000 UTC",
          "2024-07-20 14:00:00.000 UTC",
          "2024-07-20 15:00:00.000 UTC",
          "2024-07-20 16:00:00.000 UTC",
          "2024-07-20 17:00:00.000 UTC",
          "2024-07-20 18:00:00.000 UTC",
          "2024-07-20 19:00:00.000 UTC",
          "2024-07-20 20:00:00.000 UTC",
          "2024-07-20 21:00:00.000 UTC",
          "2024-07-20 22:00:00.000 UTC",
          "2024-07-20 23:00:00.000 UTC",
          "2024-07-21 00:00:00.000 UTC",
          "2024-07-21 01:00:00.000 UTC"
         ],
         "xaxis": "x",
         "y": [
          0.0062396931178717,
          0.0050588725563211,
          0.004483389566266,
          0.004376565172068,
          0.0045992589307719,
          0.004733452947132,
          0.0047130424126177,
          0.0040011543820084,
          0.0050162680848602,
          0.004890020650958,
          0.0044590105471296,
          0.0044446090336756,
          0.004783570690763,
          0.0043077114123807,
          0.0051474093946274,
          0.0052503049494948,
          0.0058658816883376,
          0.0050581417262187,
          0.0046379611325949,
          0.0046717896789692,
          0.0045604703913611,
          0.005149209414802,
          0.0054213159797824,
          0.0048436944631694,
          0.0050070455710159,
          0.0054474242965785,
          0.0060339212056536,
          0.0055388293094496,
          0.0050701655538012,
          0.0049272317485885,
          0.0050740842403432,
          0.005281655346667,
          0.0054343424401845,
          0.0057502378448531,
          0.0053855401499352,
          0.005461406146308,
          0.0054823929671967,
          0.0054631191564489,
          0.0056014629713318,
          0.0110720468110249,
          0.0112253754006234,
          0.0123986019718074,
          0.0106804750783467,
          0.0161414053630119,
          0.0072226417155905,
          0.0081412969487998,
          0.008939234277918,
          0.0074538264638033,
          0.0071071321325336,
          0.0053721977804504,
          0.0059676534113301,
          0.0057420980697528,
          0.0058534105471053,
          0.0066247296673266,
          0.0064137955284424,
          0.0072167150721094,
          0.0075368319824894,
          0.0068600308688541,
          0.0060708513701731,
          0.0063654262932417,
          0.0067980612329457,
          0.0035707640575142,
          0.0056515454848659,
          0.0073058088054621,
          0.0132241622224172,
          0.0090441723866724,
          0.0087158461639841,
          0.0085896766052424,
          0.0082062523684802,
          0.0070019897778354,
          0.0067975007826121,
          0.0061832099379821,
          0.0059913060706752,
          0.0068886257387762,
          0.0064639882195654,
          0.0073729897421762,
          0.0060353426624292,
          0.0075690216378774,
          0.0072234306030651,
          0.0066279803692569,
          0.0074098787463994,
          0.0079012865861907,
          0.0072871167151276,
          0.0069798970757191,
          0.0068541539144614,
          0.0082594728045548,
          0.0144031661053958,
          0.0112005905939284,
          0.0386605687555539,
          0.0086272739540958,
          0.0077649255926884,
          0.006826115640647,
          0.0076373248254642,
          0.0071103376873236,
          0.0070410552236943,
          0.0061963288137268,
          0.0059653488649617,
          0.005766480868186,
          0.0067396250946962,
          0.0056693225391333,
          0.0060828942681043,
          0.0083906244744096,
          0.0076702427982923,
          0.0068538154807499,
          0.0128234953882844,
          0.0171032969627427,
          0.0200100043265027,
          0.0047412048153584,
          0.0078619501928646,
          0.0090833812489005,
          0.0110407638744607,
          0.0155627659318321,
          0.0101045975142803,
          0.0104890519991613,
          0.0096383182037784,
          0.0072174876328158,
          0.0065191221568818,
          0.0072117855442021,
          0.007169609377469,
          0.0061341985349532,
          0.0061560036743377,
          0.0069414997044622,
          0.0023308646940821,
          0.0070710540916236,
          0.0066652186692586,
          0.0061814154960493,
          0.0055042286195738,
          0.005555976829432,
          0.0054790153762006,
          0.0050062338573854,
          0.0067482176838375,
          0.0059270709416043,
          0.0056381559330643,
          0.0085655210849749,
          0.0269542358583513,
          0.0105702347057931,
          0.0139917663629621,
          0.0079499352813864,
          0.0064411874313898,
          0.0074661681004496,
          0.0061166119528192,
          0.0058221055769634,
          0.0052639440009785,
          0.005615135721509,
          0.0055170254191015,
          0.0051874595949409,
          0.0048330954172575,
          0.0051815430153459,
          0.0052072796264651,
          0.0052455657527903,
          0.0036607541000188,
          0.0032125974880764,
          0.00374976131953,
          0.0052992554483306,
          0.0036785295402023,
          0.003069949448795,
          0.0052783169634764,
          0.0058202100030501,
          0.0065991934902527,
          0.0058331657805108,
          0.00598498864582,
          0.0066833229234188,
          0.0055953395208301,
          0.0029347430298575,
          0.0014907795254678,
          0.0050516349671688,
          0.0055632706625418,
          0.0053830741575745,
          0.0052914651843616,
          0.0052218166061737
         ],
         "yaxis": "y2"
        },
        {
         "mode": "lines",
         "name": "Avg Gas",
         "type": "scatter",
         "x": [
          "2024-07-14 00:00:00.000 UTC",
          "2024-07-14 01:00:00.000 UTC",
          "2024-07-14 02:00:00.000 UTC",
          "2024-07-14 03:00:00.000 UTC",
          "2024-07-14 04:00:00.000 UTC",
          "2024-07-14 05:00:00.000 UTC",
          "2024-07-14 06:00:00.000 UTC",
          "2024-07-14 07:00:00.000 UTC",
          "2024-07-14 08:00:00.000 UTC",
          "2024-07-14 09:00:00.000 UTC",
          "2024-07-14 10:00:00.000 UTC",
          "2024-07-14 11:00:00.000 UTC",
          "2024-07-14 12:00:00.000 UTC",
          "2024-07-14 13:00:00.000 UTC",
          "2024-07-14 14:00:00.000 UTC",
          "2024-07-14 15:00:00.000 UTC",
          "2024-07-14 16:00:00.000 UTC",
          "2024-07-14 17:00:00.000 UTC",
          "2024-07-14 18:00:00.000 UTC",
          "2024-07-14 19:00:00.000 UTC",
          "2024-07-14 20:00:00.000 UTC",
          "2024-07-14 21:00:00.000 UTC",
          "2024-07-14 22:00:00.000 UTC",
          "2024-07-14 23:00:00.000 UTC",
          "2024-07-15 00:00:00.000 UTC",
          "2024-07-15 01:00:00.000 UTC",
          "2024-07-15 02:00:00.000 UTC",
          "2024-07-15 03:00:00.000 UTC",
          "2024-07-15 04:00:00.000 UTC",
          "2024-07-15 05:00:00.000 UTC",
          "2024-07-15 06:00:00.000 UTC",
          "2024-07-15 07:00:00.000 UTC",
          "2024-07-15 08:00:00.000 UTC",
          "2024-07-15 09:00:00.000 UTC",
          "2024-07-15 10:00:00.000 UTC",
          "2024-07-15 11:00:00.000 UTC",
          "2024-07-15 12:00:00.000 UTC",
          "2024-07-15 13:00:00.000 UTC",
          "2024-07-15 14:00:00.000 UTC",
          "2024-07-15 15:00:00.000 UTC",
          "2024-07-15 16:00:00.000 UTC",
          "2024-07-15 17:00:00.000 UTC",
          "2024-07-15 18:00:00.000 UTC",
          "2024-07-15 19:00:00.000 UTC",
          "2024-07-15 20:00:00.000 UTC",
          "2024-07-15 21:00:00.000 UTC",
          "2024-07-15 22:00:00.000 UTC",
          "2024-07-15 23:00:00.000 UTC",
          "2024-07-16 00:00:00.000 UTC",
          "2024-07-16 01:00:00.000 UTC",
          "2024-07-16 02:00:00.000 UTC",
          "2024-07-16 03:00:00.000 UTC",
          "2024-07-16 04:00:00.000 UTC",
          "2024-07-16 05:00:00.000 UTC",
          "2024-07-16 06:00:00.000 UTC",
          "2024-07-16 07:00:00.000 UTC",
          "2024-07-16 08:00:00.000 UTC",
          "2024-07-16 09:00:00.000 UTC",
          "2024-07-16 10:00:00.000 UTC",
          "2024-07-16 11:00:00.000 UTC",
          "2024-07-16 12:00:00.000 UTC",
          "2024-07-16 13:00:00.000 UTC",
          "2024-07-16 14:00:00.000 UTC",
          "2024-07-16 15:00:00.000 UTC",
          "2024-07-16 16:00:00.000 UTC",
          "2024-07-16 17:00:00.000 UTC",
          "2024-07-16 18:00:00.000 UTC",
          "2024-07-16 19:00:00.000 UTC",
          "2024-07-16 20:00:00.000 UTC",
          "2024-07-16 21:00:00.000 UTC",
          "2024-07-16 22:00:00.000 UTC",
          "2024-07-16 23:00:00.000 UTC",
          "2024-07-17 00:00:00.000 UTC",
          "2024-07-17 01:00:00.000 UTC",
          "2024-07-17 02:00:00.000 UTC",
          "2024-07-17 03:00:00.000 UTC",
          "2024-07-17 04:00:00.000 UTC",
          "2024-07-17 05:00:00.000 UTC",
          "2024-07-17 06:00:00.000 UTC",
          "2024-07-17 07:00:00.000 UTC",
          "2024-07-17 08:00:00.000 UTC",
          "2024-07-17 09:00:00.000 UTC",
          "2024-07-17 10:00:00.000 UTC",
          "2024-07-17 11:00:00.000 UTC",
          "2024-07-17 12:00:00.000 UTC",
          "2024-07-17 13:00:00.000 UTC",
          "2024-07-17 14:00:00.000 UTC",
          "2024-07-17 15:00:00.000 UTC",
          "2024-07-17 16:00:00.000 UTC",
          "2024-07-17 17:00:00.000 UTC",
          "2024-07-17 18:00:00.000 UTC",
          "2024-07-17 19:00:00.000 UTC",
          "2024-07-17 20:00:00.000 UTC",
          "2024-07-17 21:00:00.000 UTC",
          "2024-07-17 22:00:00.000 UTC",
          "2024-07-17 23:00:00.000 UTC",
          "2024-07-18 00:00:00.000 UTC",
          "2024-07-18 01:00:00.000 UTC",
          "2024-07-18 02:00:00.000 UTC",
          "2024-07-18 03:00:00.000 UTC",
          "2024-07-18 04:00:00.000 UTC",
          "2024-07-18 05:00:00.000 UTC",
          "2024-07-18 06:00:00.000 UTC",
          "2024-07-18 07:00:00.000 UTC",
          "2024-07-18 08:00:00.000 UTC",
          "2024-07-18 09:00:00.000 UTC",
          "2024-07-18 10:00:00.000 UTC",
          "2024-07-18 11:00:00.000 UTC",
          "2024-07-18 12:00:00.000 UTC",
          "2024-07-18 13:00:00.000 UTC",
          "2024-07-18 14:00:00.000 UTC",
          "2024-07-18 15:00:00.000 UTC",
          "2024-07-18 16:00:00.000 UTC",
          "2024-07-18 17:00:00.000 UTC",
          "2024-07-18 18:00:00.000 UTC",
          "2024-07-18 19:00:00.000 UTC",
          "2024-07-18 20:00:00.000 UTC",
          "2024-07-18 21:00:00.000 UTC",
          "2024-07-18 22:00:00.000 UTC",
          "2024-07-18 23:00:00.000 UTC",
          "2024-07-19 00:00:00.000 UTC",
          "2024-07-19 01:00:00.000 UTC",
          "2024-07-19 02:00:00.000 UTC",
          "2024-07-19 03:00:00.000 UTC",
          "2024-07-19 04:00:00.000 UTC",
          "2024-07-19 05:00:00.000 UTC",
          "2024-07-19 06:00:00.000 UTC",
          "2024-07-19 07:00:00.000 UTC",
          "2024-07-19 08:00:00.000 UTC",
          "2024-07-19 09:00:00.000 UTC",
          "2024-07-19 10:00:00.000 UTC",
          "2024-07-19 11:00:00.000 UTC",
          "2024-07-19 12:00:00.000 UTC",
          "2024-07-19 13:00:00.000 UTC",
          "2024-07-19 14:00:00.000 UTC",
          "2024-07-19 15:00:00.000 UTC",
          "2024-07-19 16:00:00.000 UTC",
          "2024-07-19 17:00:00.000 UTC",
          "2024-07-19 18:00:00.000 UTC",
          "2024-07-19 19:00:00.000 UTC",
          "2024-07-19 20:00:00.000 UTC",
          "2024-07-19 21:00:00.000 UTC",
          "2024-07-19 22:00:00.000 UTC",
          "2024-07-19 23:00:00.000 UTC",
          "2024-07-20 00:00:00.000 UTC",
          "2024-07-20 01:00:00.000 UTC",
          "2024-07-20 02:00:00.000 UTC",
          "2024-07-20 03:00:00.000 UTC",
          "2024-07-20 04:00:00.000 UTC",
          "2024-07-20 05:00:00.000 UTC",
          "2024-07-20 06:00:00.000 UTC",
          "2024-07-20 07:00:00.000 UTC",
          "2024-07-20 08:00:00.000 UTC",
          "2024-07-20 09:00:00.000 UTC",
          "2024-07-20 10:00:00.000 UTC",
          "2024-07-20 11:00:00.000 UTC",
          "2024-07-20 12:00:00.000 UTC",
          "2024-07-20 13:00:00.000 UTC",
          "2024-07-20 14:00:00.000 UTC",
          "2024-07-20 15:00:00.000 UTC",
          "2024-07-20 16:00:00.000 UTC",
          "2024-07-20 17:00:00.000 UTC",
          "2024-07-20 18:00:00.000 UTC",
          "2024-07-20 19:00:00.000 UTC",
          "2024-07-20 20:00:00.000 UTC",
          "2024-07-20 21:00:00.000 UTC",
          "2024-07-20 22:00:00.000 UTC",
          "2024-07-20 23:00:00.000 UTC",
          "2024-07-21 00:00:00.000 UTC",
          "2024-07-21 01:00:00.000 UTC"
         ],
         "xaxis": "x",
         "y": [
          0.0103401309276927,
          0.0079585461038869,
          0.0058975460283384,
          0.0052644814787984,
          0.0060682685090187,
          0.0060323872084619,
          0.0061994295247863,
          0.0062000607309071,
          0.0070473350624333,
          0.0078216492641628,
          0.0071249057165158,
          0.0065460788421721,
          0.0077891972568087,
          0.0072868136890223,
          0.0082453349391753,
          0.0081858846986499,
          0.0086240433547194,
          0.0077105731973843,
          0.0069099604786638,
          0.0070246634762075,
          0.0075121203080224,
          0.0100701020809946,
          0.0096566462999899,
          0.0091157699243328,
          0.0091664926208337,
          0.0095181322017915,
          0.0135962671864679,
          0.0076522491890186,
          0.006631097098852,
          0.0067441046219953,
          0.008068712742248,
          0.0080852890412604,
          0.008559537011277,
          0.007711460316826,
          0.0070376323690918,
          0.0075521285126457,
          0.0073667444701307,
          0.0078925775782873,
          0.0092927913149329,
          0.0245147004793096,
          0.0162619498844571,
          0.0177150528350583,
          0.0152292844851606,
          0.0299478131177824,
          0.012840307018252,
          0.0125587912036181,
          0.017102567674211,
          0.0124457469804961,
          0.0119404905651584,
          0.0084618112186833,
          0.009022491758621,
          0.0085170672117919,
          0.0084201668276364,
          0.0119901012271721,
          0.0125899641778994,
          0.0136717429105623,
          0.012874641775514,
          0.0099969716673122,
          0.0087980802126838,
          0.0095622360532929,
          0.0102070361199914,
          0.0073765419622956,
          0.0100533475279317,
          0.0125513882728723,
          0.0241653358232687,
          0.0130535608439948,
          0.0122944279333533,
          0.011971442372227,
          0.0109469594427562,
          0.0104523258417415,
          0.010508359592442,
          0.010432399913085,
          0.0096961971562727,
          0.0116282348462415,
          0.0096086173344865,
          0.0099615152711953,
          0.008179513596821,
          0.01084835906298,
          0.0110248753158889,
          0.0096010746976175,
          0.0111985865972921,
          0.0102521304728456,
          0.0089886735512647,
          0.0099278203595389,
          0.008524404453435,
          0.0139161977343648,
          0.021548494813498,
          0.0159999305454267,
          0.0877838431269842,
          0.0113423651139165,
          0.0096109165997446,
          0.0089986797173112,
          0.0101311025440309,
          0.0111812300546566,
          0.0102320842245555,
          0.0092443440279504,
          0.0087123377427407,
          0.007214736429508,
          0.0095946180178358,
          0.0066760098781022,
          0.0071503558616753,
          0.0092982880848331,
          0.0092213762042635,
          0.0133399458234704,
          0.0213423124853881,
          0.0336730750299563,
          0.08025563950878,
          0.0073113442131197,
          0.0092921885270281,
          0.0117664305451181,
          0.01854194561028,
          0.0242712478076362,
          0.0264481438088981,
          0.0143175390788965,
          0.0142838834627078,
          0.0097901298676501,
          0.0102110072761613,
          0.010548035679383,
          0.0092522490280553,
          0.0073107871989885,
          0.0073425130205072,
          0.0089862600073101,
          0.0059020402405761,
          0.0095361070257962,
          0.0081965249361231,
          0.006677164771509,
          0.008028929204927,
          0.0093917626222513,
          0.0087091478153917,
          0.0081519741420235,
          0.0135778366533539,
          0.0095490812080395,
          0.0098495553832242,
          0.0200483183898083,
          0.0619371294175456,
          0.0177477151816217,
          0.0330861448853862,
          0.0137868886217727,
          0.0108588201089866,
          0.0139021285275693,
          0.0095678555531591,
          0.0097225463090532,
          0.0093480689604949,
          0.0091255620261983,
          0.0093700549994471,
          0.0087787726368262,
          0.0082016539750398,
          0.0077518347163114,
          0.0066720932990243,
          0.0075611692438362,
          0.0067074096882248,
          0.0068991818605965,
          0.0075464326326224,
          0.0085755342657331,
          0.0073924641796263,
          0.0070240951477629,
          0.0087519998282188,
          0.0092898916987183,
          0.0104273202513932,
          0.0094809981611247,
          0.0094280661854106,
          0.0140987530799122,
          0.0092307333177541,
          0.0068753056715655,
          0.00553924084829,
          0.0091921597801654,
          0.01009405364689,
          0.0095214664382677,
          0.0095023593260369,
          0.0093728013062163
         ],
         "yaxis": "y2"
        }
       ],
       "layout": {
        "template": {
         "data": {
          "bar": [
           {
            "error_x": {
             "color": "#2a3f5f"
            },
            "error_y": {
             "color": "#2a3f5f"
            },
            "marker": {
             "line": {
              "color": "#E5ECF6",
              "width": 0.5
             },
             "pattern": {
              "fillmode": "overlay",
              "size": 10,
              "solidity": 0.2
             }
            },
            "type": "bar"
           }
          ],
          "barpolar": [
           {
            "marker": {
             "line": {
              "color": "#E5ECF6",
              "width": 0.5
             },
             "pattern": {
              "fillmode": "overlay",
              "size": 10,
              "solidity": 0.2
             }
            },
            "type": "barpolar"
           }
          ],
          "carpet": [
           {
            "aaxis": {
             "endlinecolor": "#2a3f5f",
             "gridcolor": "white",
             "linecolor": "white",
             "minorgridcolor": "white",
             "startlinecolor": "#2a3f5f"
            },
            "baxis": {
             "endlinecolor": "#2a3f5f",
             "gridcolor": "white",
             "linecolor": "white",
             "minorgridcolor": "white",
             "startlinecolor": "#2a3f5f"
            },
            "type": "carpet"
           }
          ],
          "choropleth": [
           {
            "colorbar": {
             "outlinewidth": 0,
             "ticks": ""
            },
            "type": "choropleth"
           }
          ],
          "contour": [
           {
            "colorbar": {
             "outlinewidth": 0,
             "ticks": ""
            },
            "colorscale": [
             [
              0,
              "#0d0887"
             ],
             [
              0.1111111111111111,
              "#46039f"
             ],
             [
              0.2222222222222222,
              "#7201a8"
             ],
             [
              0.3333333333333333,
              "#9c179e"
             ],
             [
              0.4444444444444444,
              "#bd3786"
             ],
             [
              0.5555555555555556,
              "#d8576b"
             ],
             [
              0.6666666666666666,
              "#ed7953"
             ],
             [
              0.7777777777777778,
              "#fb9f3a"
             ],
             [
              0.8888888888888888,
              "#fdca26"
             ],
             [
              1,
              "#f0f921"
             ]
            ],
            "type": "contour"
           }
          ],
          "contourcarpet": [
           {
            "colorbar": {
             "outlinewidth": 0,
             "ticks": ""
            },
            "type": "contourcarpet"
           }
          ],
          "heatmap": [
           {
            "colorbar": {
             "outlinewidth": 0,
             "ticks": ""
            },
            "colorscale": [
             [
              0,
              "#0d0887"
             ],
             [
              0.1111111111111111,
              "#46039f"
             ],
             [
              0.2222222222222222,
              "#7201a8"
             ],
             [
              0.3333333333333333,
              "#9c179e"
             ],
             [
              0.4444444444444444,
              "#bd3786"
             ],
             [
              0.5555555555555556,
              "#d8576b"
             ],
             [
              0.6666666666666666,
              "#ed7953"
             ],
             [
              0.7777777777777778,
              "#fb9f3a"
             ],
             [
              0.8888888888888888,
              "#fdca26"
             ],
             [
              1,
              "#f0f921"
             ]
            ],
            "type": "heatmap"
           }
          ],
          "heatmapgl": [
           {
            "colorbar": {
             "outlinewidth": 0,
             "ticks": ""
            },
            "colorscale": [
             [
              0,
              "#0d0887"
             ],
             [
              0.1111111111111111,
              "#46039f"
             ],
             [
              0.2222222222222222,
              "#7201a8"
             ],
             [
              0.3333333333333333,
              "#9c179e"
             ],
             [
              0.4444444444444444,
              "#bd3786"
             ],
             [
              0.5555555555555556,
              "#d8576b"
             ],
             [
              0.6666666666666666,
              "#ed7953"
             ],
             [
              0.7777777777777778,
              "#fb9f3a"
             ],
             [
              0.8888888888888888,
              "#fdca26"
             ],
             [
              1,
              "#f0f921"
             ]
            ],
            "type": "heatmapgl"
           }
          ],
          "histogram": [
           {
            "marker": {
             "pattern": {
              "fillmode": "overlay",
              "size": 10,
              "solidity": 0.2
             }
            },
            "type": "histogram"
           }
          ],
          "histogram2d": [
           {
            "colorbar": {
             "outlinewidth": 0,
             "ticks": ""
            },
            "colorscale": [
             [
              0,
              "#0d0887"
             ],
             [
              0.1111111111111111,
              "#46039f"
             ],
             [
              0.2222222222222222,
              "#7201a8"
             ],
             [
              0.3333333333333333,
              "#9c179e"
             ],
             [
              0.4444444444444444,
              "#bd3786"
             ],
             [
              0.5555555555555556,
              "#d8576b"
             ],
             [
              0.6666666666666666,
              "#ed7953"
             ],
             [
              0.7777777777777778,
              "#fb9f3a"
             ],
             [
              0.8888888888888888,
              "#fdca26"
             ],
             [
              1,
              "#f0f921"
             ]
            ],
            "type": "histogram2d"
           }
          ],
          "histogram2dcontour": [
           {
            "colorbar": {
             "outlinewidth": 0,
             "ticks": ""
            },
            "colorscale": [
             [
              0,
              "#0d0887"
             ],
             [
              0.1111111111111111,
              "#46039f"
             ],
             [
              0.2222222222222222,
              "#7201a8"
             ],
             [
              0.3333333333333333,
              "#9c179e"
             ],
             [
              0.4444444444444444,
              "#bd3786"
             ],
             [
              0.5555555555555556,
              "#d8576b"
             ],
             [
              0.6666666666666666,
              "#ed7953"
             ],
             [
              0.7777777777777778,
              "#fb9f3a"
             ],
             [
              0.8888888888888888,
              "#fdca26"
             ],
             [
              1,
              "#f0f921"
             ]
            ],
            "type": "histogram2dcontour"
           }
          ],
          "mesh3d": [
           {
            "colorbar": {
             "outlinewidth": 0,
             "ticks": ""
            },
            "type": "mesh3d"
           }
          ],
          "parcoords": [
           {
            "line": {
             "colorbar": {
              "outlinewidth": 0,
              "ticks": ""
             }
            },
            "type": "parcoords"
           }
          ],
          "pie": [
           {
            "automargin": true,
            "type": "pie"
           }
          ],
          "scatter": [
           {
            "fillpattern": {
             "fillmode": "overlay",
             "size": 10,
             "solidity": 0.2
            },
            "type": "scatter"
           }
          ],
          "scatter3d": [
           {
            "line": {
             "colorbar": {
              "outlinewidth": 0,
              "ticks": ""
             }
            },
            "marker": {
             "colorbar": {
              "outlinewidth": 0,
              "ticks": ""
             }
            },
            "type": "scatter3d"
           }
          ],
          "scattercarpet": [
           {
            "marker": {
             "colorbar": {
              "outlinewidth": 0,
              "ticks": ""
             }
            },
            "type": "scattercarpet"
           }
          ],
          "scattergeo": [
           {
            "marker": {
             "colorbar": {
              "outlinewidth": 0,
              "ticks": ""
             }
            },
            "type": "scattergeo"
           }
          ],
          "scattergl": [
           {
            "marker": {
             "colorbar": {
              "outlinewidth": 0,
              "ticks": ""
             }
            },
            "type": "scattergl"
           }
          ],
          "scattermapbox": [
           {
            "marker": {
             "colorbar": {
              "outlinewidth": 0,
              "ticks": ""
             }
            },
            "type": "scattermapbox"
           }
          ],
          "scatterpolar": [
           {
            "marker": {
             "colorbar": {
              "outlinewidth": 0,
              "ticks": ""
             }
            },
            "type": "scatterpolar"
           }
          ],
          "scatterpolargl": [
           {
            "marker": {
             "colorbar": {
              "outlinewidth": 0,
              "ticks": ""
             }
            },
            "type": "scatterpolargl"
           }
          ],
          "scatterternary": [
           {
            "marker": {
             "colorbar": {
              "outlinewidth": 0,
              "ticks": ""
             }
            },
            "type": "scatterternary"
           }
          ],
          "surface": [
           {
            "colorbar": {
             "outlinewidth": 0,
             "ticks": ""
            },
            "colorscale": [
             [
              0,
              "#0d0887"
             ],
             [
              0.1111111111111111,
              "#46039f"
             ],
             [
              0.2222222222222222,
              "#7201a8"
             ],
             [
              0.3333333333333333,
              "#9c179e"
             ],
             [
              0.4444444444444444,
              "#bd3786"
             ],
             [
              0.5555555555555556,
              "#d8576b"
             ],
             [
              0.6666666666666666,
              "#ed7953"
             ],
             [
              0.7777777777777778,
              "#fb9f3a"
             ],
             [
              0.8888888888888888,
              "#fdca26"
             ],
             [
              1,
              "#f0f921"
             ]
            ],
            "type": "surface"
           }
          ],
          "table": [
           {
            "cells": {
             "fill": {
              "color": "#EBF0F8"
             },
             "line": {
              "color": "white"
             }
            },
            "header": {
             "fill": {
              "color": "#C8D4E3"
             },
             "line": {
              "color": "white"
             }
            },
            "type": "table"
           }
          ]
         },
         "layout": {
          "annotationdefaults": {
           "arrowcolor": "#2a3f5f",
           "arrowhead": 0,
           "arrowwidth": 1
          },
          "autotypenumbers": "strict",
          "coloraxis": {
           "colorbar": {
            "outlinewidth": 0,
            "ticks": ""
           }
          },
          "colorscale": {
           "diverging": [
            [
             0,
             "#8e0152"
            ],
            [
             0.1,
             "#c51b7d"
            ],
            [
             0.2,
             "#de77ae"
            ],
            [
             0.3,
             "#f1b6da"
            ],
            [
             0.4,
             "#fde0ef"
            ],
            [
             0.5,
             "#f7f7f7"
            ],
            [
             0.6,
             "#e6f5d0"
            ],
            [
             0.7,
             "#b8e186"
            ],
            [
             0.8,
             "#7fbc41"
            ],
            [
             0.9,
             "#4d9221"
            ],
            [
             1,
             "#276419"
            ]
           ],
           "sequential": [
            [
             0,
             "#0d0887"
            ],
            [
             0.1111111111111111,
             "#46039f"
            ],
            [
             0.2222222222222222,
             "#7201a8"
            ],
            [
             0.3333333333333333,
             "#9c179e"
            ],
            [
             0.4444444444444444,
             "#bd3786"
            ],
            [
             0.5555555555555556,
             "#d8576b"
            ],
            [
             0.6666666666666666,
             "#ed7953"
            ],
            [
             0.7777777777777778,
             "#fb9f3a"
            ],
            [
             0.8888888888888888,
             "#fdca26"
            ],
            [
             1,
             "#f0f921"
            ]
           ],
           "sequentialminus": [
            [
             0,
             "#0d0887"
            ],
            [
             0.1111111111111111,
             "#46039f"
            ],
            [
             0.2222222222222222,
             "#7201a8"
            ],
            [
             0.3333333333333333,
             "#9c179e"
            ],
            [
             0.4444444444444444,
             "#bd3786"
            ],
            [
             0.5555555555555556,
             "#d8576b"
            ],
            [
             0.6666666666666666,
             "#ed7953"
            ],
            [
             0.7777777777777778,
             "#fb9f3a"
            ],
            [
             0.8888888888888888,
             "#fdca26"
            ],
            [
             1,
             "#f0f921"
            ]
           ]
          },
          "colorway": [
           "#636efa",
           "#EF553B",
           "#00cc96",
           "#ab63fa",
           "#FFA15A",
           "#19d3f3",
           "#FF6692",
           "#B6E880",
           "#FF97FF",
           "#FECB52"
          ],
          "font": {
           "color": "#2a3f5f"
          },
          "geo": {
           "bgcolor": "white",
           "lakecolor": "white",
           "landcolor": "#E5ECF6",
           "showlakes": true,
           "showland": true,
           "subunitcolor": "white"
          },
          "hoverlabel": {
           "align": "left"
          },
          "hovermode": "closest",
          "mapbox": {
           "style": "light"
          },
          "paper_bgcolor": "white",
          "plot_bgcolor": "#E5ECF6",
          "polar": {
           "angularaxis": {
            "gridcolor": "white",
            "linecolor": "white",
            "ticks": ""
           },
           "bgcolor": "#E5ECF6",
           "radialaxis": {
            "gridcolor": "white",
            "linecolor": "white",
            "ticks": ""
           }
          },
          "scene": {
           "xaxis": {
            "backgroundcolor": "#E5ECF6",
            "gridcolor": "white",
            "gridwidth": 2,
            "linecolor": "white",
            "showbackground": true,
            "ticks": "",
            "zerolinecolor": "white"
           },
           "yaxis": {
            "backgroundcolor": "#E5ECF6",
            "gridcolor": "white",
            "gridwidth": 2,
            "linecolor": "white",
            "showbackground": true,
            "ticks": "",
            "zerolinecolor": "white"
           },
           "zaxis": {
            "backgroundcolor": "#E5ECF6",
            "gridcolor": "white",
            "gridwidth": 2,
            "linecolor": "white",
            "showbackground": true,
            "ticks": "",
            "zerolinecolor": "white"
           }
          },
          "shapedefaults": {
           "line": {
            "color": "#2a3f5f"
           }
          },
          "ternary": {
           "aaxis": {
            "gridcolor": "white",
            "linecolor": "white",
            "ticks": ""
           },
           "baxis": {
            "gridcolor": "white",
            "linecolor": "white",
            "ticks": ""
           },
           "bgcolor": "#E5ECF6",
           "caxis": {
            "gridcolor": "white",
            "linecolor": "white",
            "ticks": ""
           }
          },
          "title": {
           "x": 0.05
          },
          "xaxis": {
           "automargin": true,
           "gridcolor": "white",
           "linecolor": "white",
           "ticks": "",
           "title": {
            "standoff": 15
           },
           "zerolinecolor": "white",
           "zerolinewidth": 2
          },
          "yaxis": {
           "automargin": true,
           "gridcolor": "white",
           "linecolor": "white",
           "ticks": "",
           "title": {
            "standoff": 15
           },
           "zerolinecolor": "white",
           "zerolinewidth": 2
          }
         }
        },
        "title": {
         "text": "Net Liquidity to Gas Comparison"
        },
        "xaxis": {
         "anchor": "y",
         "domain": [
          0,
          0.94
         ],
         "title": {
          "text": "Date"
         }
        },
        "yaxis": {
         "anchor": "x",
         "domain": [
          0,
          1
         ]
        },
        "yaxis2": {
         "anchor": "x",
         "overlaying": "y",
         "side": "right"
        }
       }
      }
     },
     "metadata": {},
     "output_type": "display_data"
    }
   ],
   "source": [
    "weth_zro_gas_to_net_liq_fig = make_subplots(specs=[[{\"secondary_y\": True}]])\n",
    "\n",
    "\n",
    "weth_zro_gas_to_net_liq_fig.add_trace(\n",
    "    go.Bar(\n",
    "        x=weth_zro_30['day'],\n",
    "        y=weth_zro_30['arbitrum_net_liquidity'],\n",
    "        name='Net Liquidity Added'\n",
    "    ),\n",
    "    secondary_y=False\n",
    ")\n",
    "\n",
    "weth_zro_gas_to_net_liq_fig.add_trace(\n",
    "    go.Scatter(\n",
    "        x=weth_zro_30['day'],\n",
    "        y=weth_zro_30['arbitrum_median_gas_usd'],\n",
    "        name='Median Gas',\n",
    "        mode='lines'\n",
    "    ),\n",
    "    secondary_y=True\n",
    ")\n",
    "\n",
    "weth_zro_gas_to_net_liq_fig.add_trace(\n",
    "    go.Scatter(\n",
    "        x=weth_zro_30['day'],\n",
    "        y=weth_zro_30['arbitrum_gas_usd_per_tx'],\n",
    "        name='Avg Gas',\n",
    "        mode='lines'\n",
    "    ),\n",
    "    secondary_y=True\n",
    ")\n",
    "\n",
    "weth_zro_gas_to_net_liq_fig.update_layout(title='Net Liquidity to Gas Comparison')\n",
    "\n",
    "weth_zro_gas_to_net_liq_fig.update_xaxes(title_text=\"Date\")\n",
    "\n",
    "weth_zro_gas_to_net_liq_fig.show()\n"
   ]
  },
  {
   "cell_type": "code",
   "execution_count": 121,
   "metadata": {},
   "outputs": [
    {
     "data": {
      "application/vnd.plotly.v1+json": {
       "config": {
        "plotlyServerURL": "https://plot.ly"
       },
       "data": [
        {
         "name": "Volume to TVL Ratio",
         "type": "bar",
         "x": [
          "2024-07-14 00:00:00.000 UTC",
          "2024-07-14 01:00:00.000 UTC",
          "2024-07-14 02:00:00.000 UTC",
          "2024-07-14 03:00:00.000 UTC",
          "2024-07-14 04:00:00.000 UTC",
          "2024-07-14 05:00:00.000 UTC",
          "2024-07-14 06:00:00.000 UTC",
          "2024-07-14 07:00:00.000 UTC",
          "2024-07-14 08:00:00.000 UTC",
          "2024-07-14 09:00:00.000 UTC",
          "2024-07-14 10:00:00.000 UTC",
          "2024-07-14 11:00:00.000 UTC",
          "2024-07-14 12:00:00.000 UTC",
          "2024-07-14 13:00:00.000 UTC",
          "2024-07-14 14:00:00.000 UTC",
          "2024-07-14 15:00:00.000 UTC",
          "2024-07-14 16:00:00.000 UTC",
          "2024-07-14 17:00:00.000 UTC",
          "2024-07-14 18:00:00.000 UTC",
          "2024-07-14 19:00:00.000 UTC",
          "2024-07-14 20:00:00.000 UTC",
          "2024-07-14 21:00:00.000 UTC",
          "2024-07-14 22:00:00.000 UTC",
          "2024-07-14 23:00:00.000 UTC",
          "2024-07-15 00:00:00.000 UTC",
          "2024-07-15 01:00:00.000 UTC",
          "2024-07-15 02:00:00.000 UTC",
          "2024-07-15 03:00:00.000 UTC",
          "2024-07-15 04:00:00.000 UTC",
          "2024-07-15 05:00:00.000 UTC",
          "2024-07-15 06:00:00.000 UTC",
          "2024-07-15 07:00:00.000 UTC",
          "2024-07-15 08:00:00.000 UTC",
          "2024-07-15 09:00:00.000 UTC",
          "2024-07-15 10:00:00.000 UTC",
          "2024-07-15 11:00:00.000 UTC",
          "2024-07-15 12:00:00.000 UTC",
          "2024-07-15 13:00:00.000 UTC",
          "2024-07-15 14:00:00.000 UTC",
          "2024-07-15 15:00:00.000 UTC",
          "2024-07-15 16:00:00.000 UTC",
          "2024-07-15 17:00:00.000 UTC",
          "2024-07-15 18:00:00.000 UTC",
          "2024-07-15 19:00:00.000 UTC",
          "2024-07-15 20:00:00.000 UTC",
          "2024-07-15 21:00:00.000 UTC",
          "2024-07-15 22:00:00.000 UTC",
          "2024-07-15 23:00:00.000 UTC",
          "2024-07-16 00:00:00.000 UTC",
          "2024-07-16 01:00:00.000 UTC",
          "2024-07-16 02:00:00.000 UTC",
          "2024-07-16 03:00:00.000 UTC",
          "2024-07-16 04:00:00.000 UTC",
          "2024-07-16 05:00:00.000 UTC",
          "2024-07-16 06:00:00.000 UTC",
          "2024-07-16 07:00:00.000 UTC",
          "2024-07-16 08:00:00.000 UTC",
          "2024-07-16 09:00:00.000 UTC",
          "2024-07-16 10:00:00.000 UTC",
          "2024-07-16 11:00:00.000 UTC",
          "2024-07-16 12:00:00.000 UTC",
          "2024-07-16 13:00:00.000 UTC",
          "2024-07-16 14:00:00.000 UTC",
          "2024-07-16 15:00:00.000 UTC",
          "2024-07-16 16:00:00.000 UTC",
          "2024-07-16 17:00:00.000 UTC",
          "2024-07-16 18:00:00.000 UTC",
          "2024-07-16 19:00:00.000 UTC",
          "2024-07-16 20:00:00.000 UTC",
          "2024-07-16 21:00:00.000 UTC",
          "2024-07-16 22:00:00.000 UTC",
          "2024-07-16 23:00:00.000 UTC",
          "2024-07-17 00:00:00.000 UTC",
          "2024-07-17 01:00:00.000 UTC",
          "2024-07-17 02:00:00.000 UTC",
          "2024-07-17 03:00:00.000 UTC",
          "2024-07-17 04:00:00.000 UTC",
          "2024-07-17 05:00:00.000 UTC",
          "2024-07-17 06:00:00.000 UTC",
          "2024-07-17 07:00:00.000 UTC",
          "2024-07-17 08:00:00.000 UTC",
          "2024-07-17 09:00:00.000 UTC",
          "2024-07-17 10:00:00.000 UTC",
          "2024-07-17 11:00:00.000 UTC",
          "2024-07-17 12:00:00.000 UTC",
          "2024-07-17 13:00:00.000 UTC",
          "2024-07-17 14:00:00.000 UTC",
          "2024-07-17 15:00:00.000 UTC",
          "2024-07-17 16:00:00.000 UTC",
          "2024-07-17 17:00:00.000 UTC",
          "2024-07-17 18:00:00.000 UTC",
          "2024-07-17 19:00:00.000 UTC",
          "2024-07-17 20:00:00.000 UTC",
          "2024-07-17 21:00:00.000 UTC",
          "2024-07-17 22:00:00.000 UTC",
          "2024-07-17 23:00:00.000 UTC",
          "2024-07-18 00:00:00.000 UTC",
          "2024-07-18 01:00:00.000 UTC",
          "2024-07-18 02:00:00.000 UTC",
          "2024-07-18 03:00:00.000 UTC",
          "2024-07-18 04:00:00.000 UTC",
          "2024-07-18 05:00:00.000 UTC",
          "2024-07-18 06:00:00.000 UTC",
          "2024-07-18 07:00:00.000 UTC",
          "2024-07-18 08:00:00.000 UTC",
          "2024-07-18 09:00:00.000 UTC",
          "2024-07-18 10:00:00.000 UTC",
          "2024-07-18 11:00:00.000 UTC",
          "2024-07-18 12:00:00.000 UTC",
          "2024-07-18 13:00:00.000 UTC",
          "2024-07-18 14:00:00.000 UTC",
          "2024-07-18 15:00:00.000 UTC",
          "2024-07-18 16:00:00.000 UTC",
          "2024-07-18 17:00:00.000 UTC",
          "2024-07-18 18:00:00.000 UTC",
          "2024-07-18 19:00:00.000 UTC",
          "2024-07-18 20:00:00.000 UTC",
          "2024-07-18 21:00:00.000 UTC",
          "2024-07-18 22:00:00.000 UTC",
          "2024-07-18 23:00:00.000 UTC",
          "2024-07-19 00:00:00.000 UTC",
          "2024-07-19 01:00:00.000 UTC",
          "2024-07-19 02:00:00.000 UTC",
          "2024-07-19 03:00:00.000 UTC",
          "2024-07-19 04:00:00.000 UTC",
          "2024-07-19 05:00:00.000 UTC",
          "2024-07-19 06:00:00.000 UTC",
          "2024-07-19 07:00:00.000 UTC",
          "2024-07-19 08:00:00.000 UTC",
          "2024-07-19 09:00:00.000 UTC",
          "2024-07-19 10:00:00.000 UTC",
          "2024-07-19 11:00:00.000 UTC",
          "2024-07-19 12:00:00.000 UTC",
          "2024-07-19 13:00:00.000 UTC",
          "2024-07-19 14:00:00.000 UTC",
          "2024-07-19 15:00:00.000 UTC",
          "2024-07-19 16:00:00.000 UTC",
          "2024-07-19 17:00:00.000 UTC",
          "2024-07-19 18:00:00.000 UTC",
          "2024-07-19 19:00:00.000 UTC",
          "2024-07-19 20:00:00.000 UTC",
          "2024-07-19 21:00:00.000 UTC",
          "2024-07-19 22:00:00.000 UTC",
          "2024-07-19 23:00:00.000 UTC",
          "2024-07-20 00:00:00.000 UTC",
          "2024-07-20 01:00:00.000 UTC",
          "2024-07-20 02:00:00.000 UTC",
          "2024-07-20 03:00:00.000 UTC",
          "2024-07-20 04:00:00.000 UTC",
          "2024-07-20 05:00:00.000 UTC",
          "2024-07-20 06:00:00.000 UTC",
          "2024-07-20 07:00:00.000 UTC",
          "2024-07-20 08:00:00.000 UTC",
          "2024-07-20 09:00:00.000 UTC",
          "2024-07-20 10:00:00.000 UTC",
          "2024-07-20 11:00:00.000 UTC",
          "2024-07-20 12:00:00.000 UTC",
          "2024-07-20 13:00:00.000 UTC",
          "2024-07-20 14:00:00.000 UTC",
          "2024-07-20 15:00:00.000 UTC",
          "2024-07-20 16:00:00.000 UTC",
          "2024-07-20 17:00:00.000 UTC",
          "2024-07-20 18:00:00.000 UTC",
          "2024-07-20 19:00:00.000 UTC",
          "2024-07-20 20:00:00.000 UTC",
          "2024-07-20 21:00:00.000 UTC",
          "2024-07-20 22:00:00.000 UTC",
          "2024-07-20 23:00:00.000 UTC",
          "2024-07-21 00:00:00.000 UTC",
          "2024-07-21 01:00:00.000 UTC"
         ],
         "xaxis": "x",
         "y": [
          0.0345342113452967,
          0.0217921171403425,
          0.03803426511277,
          0.0305695624296726,
          0.0630735120385533,
          0.067691563263332,
          0.0900985726458056,
          0.0235571019099962,
          0.0289888839054003,
          0.0179851988627201,
          0.0173667957490322,
          0.0221848089593546,
          0.0464941292939113,
          0.0185918220979783,
          0.0150277800071028,
          0.0203351730453127,
          0.0515406262986972,
          0.0761260836423611,
          0.0478352944212987,
          0.0122778312109038,
          0.1132654998479637,
          0.0804276882157463,
          0.0652109338956236,
          0.0625542103876644,
          0.0925621814924887,
          0.0956081822475909,
          0.0761467239336432,
          0.0327853580873583,
          0.0772766565818289,
          0.0358876254797584,
          0.0460746221661108,
          0.0832657666894876,
          0.1419862064162436,
          0.0441663282236817,
          0.0441419688122442,
          0.0650394390247674,
          0.0338145208956627,
          0.0380987933178939,
          0.0233623790157157,
          0.0215584402396284,
          0.0431448229341431,
          0.0479540400284214,
          0.0206808554064764,
          0.0661087449772195,
          0.033386110499046,
          0.037846200440045,
          0.0838921349485793,
          0.0837492431353362,
          0.0898587137154401,
          0.0376215475564788,
          0.0294203890864646,
          0.0069781985827686,
          0.0243079011929546,
          0.0350877087233026,
          0.0485885042025003,
          0.0552576671887457,
          0.0443149789900974,
          0.0256630591033433,
          0.0300499936793665,
          0.0202917051827102,
          0.0259479584344136,
          0.0259966278561433,
          0.0207276279497577,
          0.0706453997241422,
          0.0567158852294546,
          0.0215564729963727,
          0.0223878599001095,
          0.0040394508258106,
          0.0203585891377842,
          0.010942142571659,
          0.0266142471551039,
          0.0169550541375958,
          0.0396775204606843,
          0.1070730270793651,
          0.2608046568382248,
          0.1575152516021601,
          0.1345086871837719,
          0.0559972088265519,
          0.0377813337261766,
          0.050240531021953,
          0.0965971236943442,
          0.0342325292792637,
          0.0611156529068222,
          0.0685524320885464,
          0.0508714496837915,
          0.0575143605754429,
          0.0236276845978778,
          0.0642359145874573,
          0.0883644961204168,
          0.0592772132575225,
          0.0429880874208943,
          0.0095059265511634,
          0.0918442238001351,
          0.0577991078493047,
          0.0344460405105997,
          0.049117307794108,
          0.0920102225081717,
          0.058458918220667,
          0.0877626532908917,
          0.0453839106891094,
          0.0307758389596934,
          0.0556684496481169,
          0.0206971060621365,
          0.1148437765310748,
          0.0603937100657055,
          0.0348925102365041,
          0.0277407340503211,
          0.0182477270080506,
          0.0109682913812373,
          0.0124614758932838,
          0.0627917369907621,
          0.0215597381843389,
          0.0546569339037806,
          0.0648271769580246,
          0.027011965393156,
          0.0687234140000139,
          0.0178183860900021,
          0.0208746431907886,
          0.0083412910237562,
          0.0142848671708265,
          0.0710952064283606,
          0.0465372275982049,
          0.0356968371304957,
          0.0260132320384174,
          0.0157058281224459,
          0.0198309601867463,
          0.0170029150225537,
          0.0146609077305209,
          0.0576294825128458,
          0.0194220029450527,
          0.0120872285182726,
          0.0019628371267628,
          0.0325249703945443,
          0.0683416347939285,
          0.0238402556469185,
          0.0219757240837013,
          0.0324127697153245,
          0.0188455868068511,
          0.0157385080823299,
          0.0235156171687874,
          0.0266044770730896,
          0.0215837419547981,
          0.0229060792918255,
          0.008670194100478,
          0.0829075420071421,
          0.226372130604353,
          0.0459573682590363,
          0.0073419515154103,
          0.0476487592018011,
          0.0284299665091005,
          0.0917659354056139,
          0.0435653702019115,
          0.1794174651324694,
          0.11402698302029,
          0.0746399513787589,
          0.0394114013690475,
          0.1543628213954198,
          0.2821949849722177,
          0.2464482654779989,
          0.2838336959725966,
          0.1298486746973902,
          0.0892720661351499,
          0.2464995549148882,
          0.2459729617658725,
          0.1058099641493111,
          0.0553584674301812,
          0.0663936899342398,
          0.2447136775826688,
          0.1386884345178389,
          0.0382474958408541
         ],
         "yaxis": "y"
        },
        {
         "mode": "lines",
         "name": "Median Gas",
         "type": "scatter",
         "x": [
          "2024-07-14 00:00:00.000 UTC",
          "2024-07-14 01:00:00.000 UTC",
          "2024-07-14 02:00:00.000 UTC",
          "2024-07-14 03:00:00.000 UTC",
          "2024-07-14 04:00:00.000 UTC",
          "2024-07-14 05:00:00.000 UTC",
          "2024-07-14 06:00:00.000 UTC",
          "2024-07-14 07:00:00.000 UTC",
          "2024-07-14 08:00:00.000 UTC",
          "2024-07-14 09:00:00.000 UTC",
          "2024-07-14 10:00:00.000 UTC",
          "2024-07-14 11:00:00.000 UTC",
          "2024-07-14 12:00:00.000 UTC",
          "2024-07-14 13:00:00.000 UTC",
          "2024-07-14 14:00:00.000 UTC",
          "2024-07-14 15:00:00.000 UTC",
          "2024-07-14 16:00:00.000 UTC",
          "2024-07-14 17:00:00.000 UTC",
          "2024-07-14 18:00:00.000 UTC",
          "2024-07-14 19:00:00.000 UTC",
          "2024-07-14 20:00:00.000 UTC",
          "2024-07-14 21:00:00.000 UTC",
          "2024-07-14 22:00:00.000 UTC",
          "2024-07-14 23:00:00.000 UTC",
          "2024-07-15 00:00:00.000 UTC",
          "2024-07-15 01:00:00.000 UTC",
          "2024-07-15 02:00:00.000 UTC",
          "2024-07-15 03:00:00.000 UTC",
          "2024-07-15 04:00:00.000 UTC",
          "2024-07-15 05:00:00.000 UTC",
          "2024-07-15 06:00:00.000 UTC",
          "2024-07-15 07:00:00.000 UTC",
          "2024-07-15 08:00:00.000 UTC",
          "2024-07-15 09:00:00.000 UTC",
          "2024-07-15 10:00:00.000 UTC",
          "2024-07-15 11:00:00.000 UTC",
          "2024-07-15 12:00:00.000 UTC",
          "2024-07-15 13:00:00.000 UTC",
          "2024-07-15 14:00:00.000 UTC",
          "2024-07-15 15:00:00.000 UTC",
          "2024-07-15 16:00:00.000 UTC",
          "2024-07-15 17:00:00.000 UTC",
          "2024-07-15 18:00:00.000 UTC",
          "2024-07-15 19:00:00.000 UTC",
          "2024-07-15 20:00:00.000 UTC",
          "2024-07-15 21:00:00.000 UTC",
          "2024-07-15 22:00:00.000 UTC",
          "2024-07-15 23:00:00.000 UTC",
          "2024-07-16 00:00:00.000 UTC",
          "2024-07-16 01:00:00.000 UTC",
          "2024-07-16 02:00:00.000 UTC",
          "2024-07-16 03:00:00.000 UTC",
          "2024-07-16 04:00:00.000 UTC",
          "2024-07-16 05:00:00.000 UTC",
          "2024-07-16 06:00:00.000 UTC",
          "2024-07-16 07:00:00.000 UTC",
          "2024-07-16 08:00:00.000 UTC",
          "2024-07-16 09:00:00.000 UTC",
          "2024-07-16 10:00:00.000 UTC",
          "2024-07-16 11:00:00.000 UTC",
          "2024-07-16 12:00:00.000 UTC",
          "2024-07-16 13:00:00.000 UTC",
          "2024-07-16 14:00:00.000 UTC",
          "2024-07-16 15:00:00.000 UTC",
          "2024-07-16 16:00:00.000 UTC",
          "2024-07-16 17:00:00.000 UTC",
          "2024-07-16 18:00:00.000 UTC",
          "2024-07-16 19:00:00.000 UTC",
          "2024-07-16 20:00:00.000 UTC",
          "2024-07-16 21:00:00.000 UTC",
          "2024-07-16 22:00:00.000 UTC",
          "2024-07-16 23:00:00.000 UTC",
          "2024-07-17 00:00:00.000 UTC",
          "2024-07-17 01:00:00.000 UTC",
          "2024-07-17 02:00:00.000 UTC",
          "2024-07-17 03:00:00.000 UTC",
          "2024-07-17 04:00:00.000 UTC",
          "2024-07-17 05:00:00.000 UTC",
          "2024-07-17 06:00:00.000 UTC",
          "2024-07-17 07:00:00.000 UTC",
          "2024-07-17 08:00:00.000 UTC",
          "2024-07-17 09:00:00.000 UTC",
          "2024-07-17 10:00:00.000 UTC",
          "2024-07-17 11:00:00.000 UTC",
          "2024-07-17 12:00:00.000 UTC",
          "2024-07-17 13:00:00.000 UTC",
          "2024-07-17 14:00:00.000 UTC",
          "2024-07-17 15:00:00.000 UTC",
          "2024-07-17 16:00:00.000 UTC",
          "2024-07-17 17:00:00.000 UTC",
          "2024-07-17 18:00:00.000 UTC",
          "2024-07-17 19:00:00.000 UTC",
          "2024-07-17 20:00:00.000 UTC",
          "2024-07-17 21:00:00.000 UTC",
          "2024-07-17 22:00:00.000 UTC",
          "2024-07-17 23:00:00.000 UTC",
          "2024-07-18 00:00:00.000 UTC",
          "2024-07-18 01:00:00.000 UTC",
          "2024-07-18 02:00:00.000 UTC",
          "2024-07-18 03:00:00.000 UTC",
          "2024-07-18 04:00:00.000 UTC",
          "2024-07-18 05:00:00.000 UTC",
          "2024-07-18 06:00:00.000 UTC",
          "2024-07-18 07:00:00.000 UTC",
          "2024-07-18 08:00:00.000 UTC",
          "2024-07-18 09:00:00.000 UTC",
          "2024-07-18 10:00:00.000 UTC",
          "2024-07-18 11:00:00.000 UTC",
          "2024-07-18 12:00:00.000 UTC",
          "2024-07-18 13:00:00.000 UTC",
          "2024-07-18 14:00:00.000 UTC",
          "2024-07-18 15:00:00.000 UTC",
          "2024-07-18 16:00:00.000 UTC",
          "2024-07-18 17:00:00.000 UTC",
          "2024-07-18 18:00:00.000 UTC",
          "2024-07-18 19:00:00.000 UTC",
          "2024-07-18 20:00:00.000 UTC",
          "2024-07-18 21:00:00.000 UTC",
          "2024-07-18 22:00:00.000 UTC",
          "2024-07-18 23:00:00.000 UTC",
          "2024-07-19 00:00:00.000 UTC",
          "2024-07-19 01:00:00.000 UTC",
          "2024-07-19 02:00:00.000 UTC",
          "2024-07-19 03:00:00.000 UTC",
          "2024-07-19 04:00:00.000 UTC",
          "2024-07-19 05:00:00.000 UTC",
          "2024-07-19 06:00:00.000 UTC",
          "2024-07-19 07:00:00.000 UTC",
          "2024-07-19 08:00:00.000 UTC",
          "2024-07-19 09:00:00.000 UTC",
          "2024-07-19 10:00:00.000 UTC",
          "2024-07-19 11:00:00.000 UTC",
          "2024-07-19 12:00:00.000 UTC",
          "2024-07-19 13:00:00.000 UTC",
          "2024-07-19 14:00:00.000 UTC",
          "2024-07-19 15:00:00.000 UTC",
          "2024-07-19 16:00:00.000 UTC",
          "2024-07-19 17:00:00.000 UTC",
          "2024-07-19 18:00:00.000 UTC",
          "2024-07-19 19:00:00.000 UTC",
          "2024-07-19 20:00:00.000 UTC",
          "2024-07-19 21:00:00.000 UTC",
          "2024-07-19 22:00:00.000 UTC",
          "2024-07-19 23:00:00.000 UTC",
          "2024-07-20 00:00:00.000 UTC",
          "2024-07-20 01:00:00.000 UTC",
          "2024-07-20 02:00:00.000 UTC",
          "2024-07-20 03:00:00.000 UTC",
          "2024-07-20 04:00:00.000 UTC",
          "2024-07-20 05:00:00.000 UTC",
          "2024-07-20 06:00:00.000 UTC",
          "2024-07-20 07:00:00.000 UTC",
          "2024-07-20 08:00:00.000 UTC",
          "2024-07-20 09:00:00.000 UTC",
          "2024-07-20 10:00:00.000 UTC",
          "2024-07-20 11:00:00.000 UTC",
          "2024-07-20 12:00:00.000 UTC",
          "2024-07-20 13:00:00.000 UTC",
          "2024-07-20 14:00:00.000 UTC",
          "2024-07-20 15:00:00.000 UTC",
          "2024-07-20 16:00:00.000 UTC",
          "2024-07-20 17:00:00.000 UTC",
          "2024-07-20 18:00:00.000 UTC",
          "2024-07-20 19:00:00.000 UTC",
          "2024-07-20 20:00:00.000 UTC",
          "2024-07-20 21:00:00.000 UTC",
          "2024-07-20 22:00:00.000 UTC",
          "2024-07-20 23:00:00.000 UTC",
          "2024-07-21 00:00:00.000 UTC",
          "2024-07-21 01:00:00.000 UTC"
         ],
         "xaxis": "x",
         "y": [
          0.0062396931178717,
          0.0050588725563211,
          0.004483389566266,
          0.004376565172068,
          0.0045992589307719,
          0.004733452947132,
          0.0047130424126177,
          0.0040011543820084,
          0.0050162680848602,
          0.004890020650958,
          0.0044590105471296,
          0.0044446090336756,
          0.004783570690763,
          0.0043077114123807,
          0.0051474093946274,
          0.0052503049494948,
          0.0058658816883376,
          0.0050581417262187,
          0.0046379611325949,
          0.0046717896789692,
          0.0045604703913611,
          0.005149209414802,
          0.0054213159797824,
          0.0048436944631694,
          0.0050070455710159,
          0.0054474242965785,
          0.0060339212056536,
          0.0055388293094496,
          0.0050701655538012,
          0.0049272317485885,
          0.0050740842403432,
          0.005281655346667,
          0.0054343424401845,
          0.0057502378448531,
          0.0053855401499352,
          0.005461406146308,
          0.0054823929671967,
          0.0054631191564489,
          0.0056014629713318,
          0.0110720468110249,
          0.0112253754006234,
          0.0123986019718074,
          0.0106804750783467,
          0.0161414053630119,
          0.0072226417155905,
          0.0081412969487998,
          0.008939234277918,
          0.0074538264638033,
          0.0071071321325336,
          0.0053721977804504,
          0.0059676534113301,
          0.0057420980697528,
          0.0058534105471053,
          0.0066247296673266,
          0.0064137955284424,
          0.0072167150721094,
          0.0075368319824894,
          0.0068600308688541,
          0.0060708513701731,
          0.0063654262932417,
          0.0067980612329457,
          0.0035707640575142,
          0.0056515454848659,
          0.0073058088054621,
          0.0132241622224172,
          0.0090441723866724,
          0.0087158461639841,
          0.0085896766052424,
          0.0082062523684802,
          0.0070019897778354,
          0.0067975007826121,
          0.0061832099379821,
          0.0059913060706752,
          0.0068886257387762,
          0.0064639882195654,
          0.0073729897421762,
          0.0060353426624292,
          0.0075690216378774,
          0.0072234306030651,
          0.0066279803692569,
          0.0074098787463994,
          0.0079012865861907,
          0.0072871167151276,
          0.0069798970757191,
          0.0068541539144614,
          0.0082594728045548,
          0.0144031661053958,
          0.0112005905939284,
          0.0386605687555539,
          0.0086272739540958,
          0.0077649255926884,
          0.006826115640647,
          0.0076373248254642,
          0.0071103376873236,
          0.0070410552236943,
          0.0061963288137268,
          0.0059653488649617,
          0.005766480868186,
          0.0067396250946962,
          0.0056693225391333,
          0.0060828942681043,
          0.0083906244744096,
          0.0076702427982923,
          0.0068538154807499,
          0.0128234953882844,
          0.0171032969627427,
          0.0200100043265027,
          0.0047412048153584,
          0.0078619501928646,
          0.0090833812489005,
          0.0110407638744607,
          0.0155627659318321,
          0.0101045975142803,
          0.0104890519991613,
          0.0096383182037784,
          0.0072174876328158,
          0.0065191221568818,
          0.0072117855442021,
          0.007169609377469,
          0.0061341985349532,
          0.0061560036743377,
          0.0069414997044622,
          0.0023308646940821,
          0.0070710540916236,
          0.0066652186692586,
          0.0061814154960493,
          0.0055042286195738,
          0.005555976829432,
          0.0054790153762006,
          0.0050062338573854,
          0.0067482176838375,
          0.0059270709416043,
          0.0056381559330643,
          0.0085655210849749,
          0.0269542358583513,
          0.0105702347057931,
          0.0139917663629621,
          0.0079499352813864,
          0.0064411874313898,
          0.0074661681004496,
          0.0061166119528192,
          0.0058221055769634,
          0.0052639440009785,
          0.005615135721509,
          0.0055170254191015,
          0.0051874595949409,
          0.0048330954172575,
          0.0051815430153459,
          0.0052072796264651,
          0.0052455657527903,
          0.0036607541000188,
          0.0032125974880764,
          0.00374976131953,
          0.0052992554483306,
          0.0036785295402023,
          0.003069949448795,
          0.0052783169634764,
          0.0058202100030501,
          0.0065991934902527,
          0.0058331657805108,
          0.00598498864582,
          0.0066833229234188,
          0.0055953395208301,
          0.0029347430298575,
          0.0014907795254678,
          0.0050516349671688,
          0.0055632706625418,
          0.0053830741575745,
          0.0052914651843616,
          0.0052218166061737
         ],
         "yaxis": "y2"
        },
        {
         "mode": "lines",
         "name": "Avg Gas",
         "type": "scatter",
         "x": [
          "2024-07-14 00:00:00.000 UTC",
          "2024-07-14 01:00:00.000 UTC",
          "2024-07-14 02:00:00.000 UTC",
          "2024-07-14 03:00:00.000 UTC",
          "2024-07-14 04:00:00.000 UTC",
          "2024-07-14 05:00:00.000 UTC",
          "2024-07-14 06:00:00.000 UTC",
          "2024-07-14 07:00:00.000 UTC",
          "2024-07-14 08:00:00.000 UTC",
          "2024-07-14 09:00:00.000 UTC",
          "2024-07-14 10:00:00.000 UTC",
          "2024-07-14 11:00:00.000 UTC",
          "2024-07-14 12:00:00.000 UTC",
          "2024-07-14 13:00:00.000 UTC",
          "2024-07-14 14:00:00.000 UTC",
          "2024-07-14 15:00:00.000 UTC",
          "2024-07-14 16:00:00.000 UTC",
          "2024-07-14 17:00:00.000 UTC",
          "2024-07-14 18:00:00.000 UTC",
          "2024-07-14 19:00:00.000 UTC",
          "2024-07-14 20:00:00.000 UTC",
          "2024-07-14 21:00:00.000 UTC",
          "2024-07-14 22:00:00.000 UTC",
          "2024-07-14 23:00:00.000 UTC",
          "2024-07-15 00:00:00.000 UTC",
          "2024-07-15 01:00:00.000 UTC",
          "2024-07-15 02:00:00.000 UTC",
          "2024-07-15 03:00:00.000 UTC",
          "2024-07-15 04:00:00.000 UTC",
          "2024-07-15 05:00:00.000 UTC",
          "2024-07-15 06:00:00.000 UTC",
          "2024-07-15 07:00:00.000 UTC",
          "2024-07-15 08:00:00.000 UTC",
          "2024-07-15 09:00:00.000 UTC",
          "2024-07-15 10:00:00.000 UTC",
          "2024-07-15 11:00:00.000 UTC",
          "2024-07-15 12:00:00.000 UTC",
          "2024-07-15 13:00:00.000 UTC",
          "2024-07-15 14:00:00.000 UTC",
          "2024-07-15 15:00:00.000 UTC",
          "2024-07-15 16:00:00.000 UTC",
          "2024-07-15 17:00:00.000 UTC",
          "2024-07-15 18:00:00.000 UTC",
          "2024-07-15 19:00:00.000 UTC",
          "2024-07-15 20:00:00.000 UTC",
          "2024-07-15 21:00:00.000 UTC",
          "2024-07-15 22:00:00.000 UTC",
          "2024-07-15 23:00:00.000 UTC",
          "2024-07-16 00:00:00.000 UTC",
          "2024-07-16 01:00:00.000 UTC",
          "2024-07-16 02:00:00.000 UTC",
          "2024-07-16 03:00:00.000 UTC",
          "2024-07-16 04:00:00.000 UTC",
          "2024-07-16 05:00:00.000 UTC",
          "2024-07-16 06:00:00.000 UTC",
          "2024-07-16 07:00:00.000 UTC",
          "2024-07-16 08:00:00.000 UTC",
          "2024-07-16 09:00:00.000 UTC",
          "2024-07-16 10:00:00.000 UTC",
          "2024-07-16 11:00:00.000 UTC",
          "2024-07-16 12:00:00.000 UTC",
          "2024-07-16 13:00:00.000 UTC",
          "2024-07-16 14:00:00.000 UTC",
          "2024-07-16 15:00:00.000 UTC",
          "2024-07-16 16:00:00.000 UTC",
          "2024-07-16 17:00:00.000 UTC",
          "2024-07-16 18:00:00.000 UTC",
          "2024-07-16 19:00:00.000 UTC",
          "2024-07-16 20:00:00.000 UTC",
          "2024-07-16 21:00:00.000 UTC",
          "2024-07-16 22:00:00.000 UTC",
          "2024-07-16 23:00:00.000 UTC",
          "2024-07-17 00:00:00.000 UTC",
          "2024-07-17 01:00:00.000 UTC",
          "2024-07-17 02:00:00.000 UTC",
          "2024-07-17 03:00:00.000 UTC",
          "2024-07-17 04:00:00.000 UTC",
          "2024-07-17 05:00:00.000 UTC",
          "2024-07-17 06:00:00.000 UTC",
          "2024-07-17 07:00:00.000 UTC",
          "2024-07-17 08:00:00.000 UTC",
          "2024-07-17 09:00:00.000 UTC",
          "2024-07-17 10:00:00.000 UTC",
          "2024-07-17 11:00:00.000 UTC",
          "2024-07-17 12:00:00.000 UTC",
          "2024-07-17 13:00:00.000 UTC",
          "2024-07-17 14:00:00.000 UTC",
          "2024-07-17 15:00:00.000 UTC",
          "2024-07-17 16:00:00.000 UTC",
          "2024-07-17 17:00:00.000 UTC",
          "2024-07-17 18:00:00.000 UTC",
          "2024-07-17 19:00:00.000 UTC",
          "2024-07-17 20:00:00.000 UTC",
          "2024-07-17 21:00:00.000 UTC",
          "2024-07-17 22:00:00.000 UTC",
          "2024-07-17 23:00:00.000 UTC",
          "2024-07-18 00:00:00.000 UTC",
          "2024-07-18 01:00:00.000 UTC",
          "2024-07-18 02:00:00.000 UTC",
          "2024-07-18 03:00:00.000 UTC",
          "2024-07-18 04:00:00.000 UTC",
          "2024-07-18 05:00:00.000 UTC",
          "2024-07-18 06:00:00.000 UTC",
          "2024-07-18 07:00:00.000 UTC",
          "2024-07-18 08:00:00.000 UTC",
          "2024-07-18 09:00:00.000 UTC",
          "2024-07-18 10:00:00.000 UTC",
          "2024-07-18 11:00:00.000 UTC",
          "2024-07-18 12:00:00.000 UTC",
          "2024-07-18 13:00:00.000 UTC",
          "2024-07-18 14:00:00.000 UTC",
          "2024-07-18 15:00:00.000 UTC",
          "2024-07-18 16:00:00.000 UTC",
          "2024-07-18 17:00:00.000 UTC",
          "2024-07-18 18:00:00.000 UTC",
          "2024-07-18 19:00:00.000 UTC",
          "2024-07-18 20:00:00.000 UTC",
          "2024-07-18 21:00:00.000 UTC",
          "2024-07-18 22:00:00.000 UTC",
          "2024-07-18 23:00:00.000 UTC",
          "2024-07-19 00:00:00.000 UTC",
          "2024-07-19 01:00:00.000 UTC",
          "2024-07-19 02:00:00.000 UTC",
          "2024-07-19 03:00:00.000 UTC",
          "2024-07-19 04:00:00.000 UTC",
          "2024-07-19 05:00:00.000 UTC",
          "2024-07-19 06:00:00.000 UTC",
          "2024-07-19 07:00:00.000 UTC",
          "2024-07-19 08:00:00.000 UTC",
          "2024-07-19 09:00:00.000 UTC",
          "2024-07-19 10:00:00.000 UTC",
          "2024-07-19 11:00:00.000 UTC",
          "2024-07-19 12:00:00.000 UTC",
          "2024-07-19 13:00:00.000 UTC",
          "2024-07-19 14:00:00.000 UTC",
          "2024-07-19 15:00:00.000 UTC",
          "2024-07-19 16:00:00.000 UTC",
          "2024-07-19 17:00:00.000 UTC",
          "2024-07-19 18:00:00.000 UTC",
          "2024-07-19 19:00:00.000 UTC",
          "2024-07-19 20:00:00.000 UTC",
          "2024-07-19 21:00:00.000 UTC",
          "2024-07-19 22:00:00.000 UTC",
          "2024-07-19 23:00:00.000 UTC",
          "2024-07-20 00:00:00.000 UTC",
          "2024-07-20 01:00:00.000 UTC",
          "2024-07-20 02:00:00.000 UTC",
          "2024-07-20 03:00:00.000 UTC",
          "2024-07-20 04:00:00.000 UTC",
          "2024-07-20 05:00:00.000 UTC",
          "2024-07-20 06:00:00.000 UTC",
          "2024-07-20 07:00:00.000 UTC",
          "2024-07-20 08:00:00.000 UTC",
          "2024-07-20 09:00:00.000 UTC",
          "2024-07-20 10:00:00.000 UTC",
          "2024-07-20 11:00:00.000 UTC",
          "2024-07-20 12:00:00.000 UTC",
          "2024-07-20 13:00:00.000 UTC",
          "2024-07-20 14:00:00.000 UTC",
          "2024-07-20 15:00:00.000 UTC",
          "2024-07-20 16:00:00.000 UTC",
          "2024-07-20 17:00:00.000 UTC",
          "2024-07-20 18:00:00.000 UTC",
          "2024-07-20 19:00:00.000 UTC",
          "2024-07-20 20:00:00.000 UTC",
          "2024-07-20 21:00:00.000 UTC",
          "2024-07-20 22:00:00.000 UTC",
          "2024-07-20 23:00:00.000 UTC",
          "2024-07-21 00:00:00.000 UTC",
          "2024-07-21 01:00:00.000 UTC"
         ],
         "xaxis": "x",
         "y": [
          0.0103401309276927,
          0.0079585461038869,
          0.0058975460283384,
          0.0052644814787984,
          0.0060682685090187,
          0.0060323872084619,
          0.0061994295247863,
          0.0062000607309071,
          0.0070473350624333,
          0.0078216492641628,
          0.0071249057165158,
          0.0065460788421721,
          0.0077891972568087,
          0.0072868136890223,
          0.0082453349391753,
          0.0081858846986499,
          0.0086240433547194,
          0.0077105731973843,
          0.0069099604786638,
          0.0070246634762075,
          0.0075121203080224,
          0.0100701020809946,
          0.0096566462999899,
          0.0091157699243328,
          0.0091664926208337,
          0.0095181322017915,
          0.0135962671864679,
          0.0076522491890186,
          0.006631097098852,
          0.0067441046219953,
          0.008068712742248,
          0.0080852890412604,
          0.008559537011277,
          0.007711460316826,
          0.0070376323690918,
          0.0075521285126457,
          0.0073667444701307,
          0.0078925775782873,
          0.0092927913149329,
          0.0245147004793096,
          0.0162619498844571,
          0.0177150528350583,
          0.0152292844851606,
          0.0299478131177824,
          0.012840307018252,
          0.0125587912036181,
          0.017102567674211,
          0.0124457469804961,
          0.0119404905651584,
          0.0084618112186833,
          0.009022491758621,
          0.0085170672117919,
          0.0084201668276364,
          0.0119901012271721,
          0.0125899641778994,
          0.0136717429105623,
          0.012874641775514,
          0.0099969716673122,
          0.0087980802126838,
          0.0095622360532929,
          0.0102070361199914,
          0.0073765419622956,
          0.0100533475279317,
          0.0125513882728723,
          0.0241653358232687,
          0.0130535608439948,
          0.0122944279333533,
          0.011971442372227,
          0.0109469594427562,
          0.0104523258417415,
          0.010508359592442,
          0.010432399913085,
          0.0096961971562727,
          0.0116282348462415,
          0.0096086173344865,
          0.0099615152711953,
          0.008179513596821,
          0.01084835906298,
          0.0110248753158889,
          0.0096010746976175,
          0.0111985865972921,
          0.0102521304728456,
          0.0089886735512647,
          0.0099278203595389,
          0.008524404453435,
          0.0139161977343648,
          0.021548494813498,
          0.0159999305454267,
          0.0877838431269842,
          0.0113423651139165,
          0.0096109165997446,
          0.0089986797173112,
          0.0101311025440309,
          0.0111812300546566,
          0.0102320842245555,
          0.0092443440279504,
          0.0087123377427407,
          0.007214736429508,
          0.0095946180178358,
          0.0066760098781022,
          0.0071503558616753,
          0.0092982880848331,
          0.0092213762042635,
          0.0133399458234704,
          0.0213423124853881,
          0.0336730750299563,
          0.08025563950878,
          0.0073113442131197,
          0.0092921885270281,
          0.0117664305451181,
          0.01854194561028,
          0.0242712478076362,
          0.0264481438088981,
          0.0143175390788965,
          0.0142838834627078,
          0.0097901298676501,
          0.0102110072761613,
          0.010548035679383,
          0.0092522490280553,
          0.0073107871989885,
          0.0073425130205072,
          0.0089862600073101,
          0.0059020402405761,
          0.0095361070257962,
          0.0081965249361231,
          0.006677164771509,
          0.008028929204927,
          0.0093917626222513,
          0.0087091478153917,
          0.0081519741420235,
          0.0135778366533539,
          0.0095490812080395,
          0.0098495553832242,
          0.0200483183898083,
          0.0619371294175456,
          0.0177477151816217,
          0.0330861448853862,
          0.0137868886217727,
          0.0108588201089866,
          0.0139021285275693,
          0.0095678555531591,
          0.0097225463090532,
          0.0093480689604949,
          0.0091255620261983,
          0.0093700549994471,
          0.0087787726368262,
          0.0082016539750398,
          0.0077518347163114,
          0.0066720932990243,
          0.0075611692438362,
          0.0067074096882248,
          0.0068991818605965,
          0.0075464326326224,
          0.0085755342657331,
          0.0073924641796263,
          0.0070240951477629,
          0.0087519998282188,
          0.0092898916987183,
          0.0104273202513932,
          0.0094809981611247,
          0.0094280661854106,
          0.0140987530799122,
          0.0092307333177541,
          0.0068753056715655,
          0.00553924084829,
          0.0091921597801654,
          0.01009405364689,
          0.0095214664382677,
          0.0095023593260369,
          0.0093728013062163
         ],
         "yaxis": "y2"
        }
       ],
       "layout": {
        "template": {
         "data": {
          "bar": [
           {
            "error_x": {
             "color": "#2a3f5f"
            },
            "error_y": {
             "color": "#2a3f5f"
            },
            "marker": {
             "line": {
              "color": "#E5ECF6",
              "width": 0.5
             },
             "pattern": {
              "fillmode": "overlay",
              "size": 10,
              "solidity": 0.2
             }
            },
            "type": "bar"
           }
          ],
          "barpolar": [
           {
            "marker": {
             "line": {
              "color": "#E5ECF6",
              "width": 0.5
             },
             "pattern": {
              "fillmode": "overlay",
              "size": 10,
              "solidity": 0.2
             }
            },
            "type": "barpolar"
           }
          ],
          "carpet": [
           {
            "aaxis": {
             "endlinecolor": "#2a3f5f",
             "gridcolor": "white",
             "linecolor": "white",
             "minorgridcolor": "white",
             "startlinecolor": "#2a3f5f"
            },
            "baxis": {
             "endlinecolor": "#2a3f5f",
             "gridcolor": "white",
             "linecolor": "white",
             "minorgridcolor": "white",
             "startlinecolor": "#2a3f5f"
            },
            "type": "carpet"
           }
          ],
          "choropleth": [
           {
            "colorbar": {
             "outlinewidth": 0,
             "ticks": ""
            },
            "type": "choropleth"
           }
          ],
          "contour": [
           {
            "colorbar": {
             "outlinewidth": 0,
             "ticks": ""
            },
            "colorscale": [
             [
              0,
              "#0d0887"
             ],
             [
              0.1111111111111111,
              "#46039f"
             ],
             [
              0.2222222222222222,
              "#7201a8"
             ],
             [
              0.3333333333333333,
              "#9c179e"
             ],
             [
              0.4444444444444444,
              "#bd3786"
             ],
             [
              0.5555555555555556,
              "#d8576b"
             ],
             [
              0.6666666666666666,
              "#ed7953"
             ],
             [
              0.7777777777777778,
              "#fb9f3a"
             ],
             [
              0.8888888888888888,
              "#fdca26"
             ],
             [
              1,
              "#f0f921"
             ]
            ],
            "type": "contour"
           }
          ],
          "contourcarpet": [
           {
            "colorbar": {
             "outlinewidth": 0,
             "ticks": ""
            },
            "type": "contourcarpet"
           }
          ],
          "heatmap": [
           {
            "colorbar": {
             "outlinewidth": 0,
             "ticks": ""
            },
            "colorscale": [
             [
              0,
              "#0d0887"
             ],
             [
              0.1111111111111111,
              "#46039f"
             ],
             [
              0.2222222222222222,
              "#7201a8"
             ],
             [
              0.3333333333333333,
              "#9c179e"
             ],
             [
              0.4444444444444444,
              "#bd3786"
             ],
             [
              0.5555555555555556,
              "#d8576b"
             ],
             [
              0.6666666666666666,
              "#ed7953"
             ],
             [
              0.7777777777777778,
              "#fb9f3a"
             ],
             [
              0.8888888888888888,
              "#fdca26"
             ],
             [
              1,
              "#f0f921"
             ]
            ],
            "type": "heatmap"
           }
          ],
          "heatmapgl": [
           {
            "colorbar": {
             "outlinewidth": 0,
             "ticks": ""
            },
            "colorscale": [
             [
              0,
              "#0d0887"
             ],
             [
              0.1111111111111111,
              "#46039f"
             ],
             [
              0.2222222222222222,
              "#7201a8"
             ],
             [
              0.3333333333333333,
              "#9c179e"
             ],
             [
              0.4444444444444444,
              "#bd3786"
             ],
             [
              0.5555555555555556,
              "#d8576b"
             ],
             [
              0.6666666666666666,
              "#ed7953"
             ],
             [
              0.7777777777777778,
              "#fb9f3a"
             ],
             [
              0.8888888888888888,
              "#fdca26"
             ],
             [
              1,
              "#f0f921"
             ]
            ],
            "type": "heatmapgl"
           }
          ],
          "histogram": [
           {
            "marker": {
             "pattern": {
              "fillmode": "overlay",
              "size": 10,
              "solidity": 0.2
             }
            },
            "type": "histogram"
           }
          ],
          "histogram2d": [
           {
            "colorbar": {
             "outlinewidth": 0,
             "ticks": ""
            },
            "colorscale": [
             [
              0,
              "#0d0887"
             ],
             [
              0.1111111111111111,
              "#46039f"
             ],
             [
              0.2222222222222222,
              "#7201a8"
             ],
             [
              0.3333333333333333,
              "#9c179e"
             ],
             [
              0.4444444444444444,
              "#bd3786"
             ],
             [
              0.5555555555555556,
              "#d8576b"
             ],
             [
              0.6666666666666666,
              "#ed7953"
             ],
             [
              0.7777777777777778,
              "#fb9f3a"
             ],
             [
              0.8888888888888888,
              "#fdca26"
             ],
             [
              1,
              "#f0f921"
             ]
            ],
            "type": "histogram2d"
           }
          ],
          "histogram2dcontour": [
           {
            "colorbar": {
             "outlinewidth": 0,
             "ticks": ""
            },
            "colorscale": [
             [
              0,
              "#0d0887"
             ],
             [
              0.1111111111111111,
              "#46039f"
             ],
             [
              0.2222222222222222,
              "#7201a8"
             ],
             [
              0.3333333333333333,
              "#9c179e"
             ],
             [
              0.4444444444444444,
              "#bd3786"
             ],
             [
              0.5555555555555556,
              "#d8576b"
             ],
             [
              0.6666666666666666,
              "#ed7953"
             ],
             [
              0.7777777777777778,
              "#fb9f3a"
             ],
             [
              0.8888888888888888,
              "#fdca26"
             ],
             [
              1,
              "#f0f921"
             ]
            ],
            "type": "histogram2dcontour"
           }
          ],
          "mesh3d": [
           {
            "colorbar": {
             "outlinewidth": 0,
             "ticks": ""
            },
            "type": "mesh3d"
           }
          ],
          "parcoords": [
           {
            "line": {
             "colorbar": {
              "outlinewidth": 0,
              "ticks": ""
             }
            },
            "type": "parcoords"
           }
          ],
          "pie": [
           {
            "automargin": true,
            "type": "pie"
           }
          ],
          "scatter": [
           {
            "fillpattern": {
             "fillmode": "overlay",
             "size": 10,
             "solidity": 0.2
            },
            "type": "scatter"
           }
          ],
          "scatter3d": [
           {
            "line": {
             "colorbar": {
              "outlinewidth": 0,
              "ticks": ""
             }
            },
            "marker": {
             "colorbar": {
              "outlinewidth": 0,
              "ticks": ""
             }
            },
            "type": "scatter3d"
           }
          ],
          "scattercarpet": [
           {
            "marker": {
             "colorbar": {
              "outlinewidth": 0,
              "ticks": ""
             }
            },
            "type": "scattercarpet"
           }
          ],
          "scattergeo": [
           {
            "marker": {
             "colorbar": {
              "outlinewidth": 0,
              "ticks": ""
             }
            },
            "type": "scattergeo"
           }
          ],
          "scattergl": [
           {
            "marker": {
             "colorbar": {
              "outlinewidth": 0,
              "ticks": ""
             }
            },
            "type": "scattergl"
           }
          ],
          "scattermapbox": [
           {
            "marker": {
             "colorbar": {
              "outlinewidth": 0,
              "ticks": ""
             }
            },
            "type": "scattermapbox"
           }
          ],
          "scatterpolar": [
           {
            "marker": {
             "colorbar": {
              "outlinewidth": 0,
              "ticks": ""
             }
            },
            "type": "scatterpolar"
           }
          ],
          "scatterpolargl": [
           {
            "marker": {
             "colorbar": {
              "outlinewidth": 0,
              "ticks": ""
             }
            },
            "type": "scatterpolargl"
           }
          ],
          "scatterternary": [
           {
            "marker": {
             "colorbar": {
              "outlinewidth": 0,
              "ticks": ""
             }
            },
            "type": "scatterternary"
           }
          ],
          "surface": [
           {
            "colorbar": {
             "outlinewidth": 0,
             "ticks": ""
            },
            "colorscale": [
             [
              0,
              "#0d0887"
             ],
             [
              0.1111111111111111,
              "#46039f"
             ],
             [
              0.2222222222222222,
              "#7201a8"
             ],
             [
              0.3333333333333333,
              "#9c179e"
             ],
             [
              0.4444444444444444,
              "#bd3786"
             ],
             [
              0.5555555555555556,
              "#d8576b"
             ],
             [
              0.6666666666666666,
              "#ed7953"
             ],
             [
              0.7777777777777778,
              "#fb9f3a"
             ],
             [
              0.8888888888888888,
              "#fdca26"
             ],
             [
              1,
              "#f0f921"
             ]
            ],
            "type": "surface"
           }
          ],
          "table": [
           {
            "cells": {
             "fill": {
              "color": "#EBF0F8"
             },
             "line": {
              "color": "white"
             }
            },
            "header": {
             "fill": {
              "color": "#C8D4E3"
             },
             "line": {
              "color": "white"
             }
            },
            "type": "table"
           }
          ]
         },
         "layout": {
          "annotationdefaults": {
           "arrowcolor": "#2a3f5f",
           "arrowhead": 0,
           "arrowwidth": 1
          },
          "autotypenumbers": "strict",
          "coloraxis": {
           "colorbar": {
            "outlinewidth": 0,
            "ticks": ""
           }
          },
          "colorscale": {
           "diverging": [
            [
             0,
             "#8e0152"
            ],
            [
             0.1,
             "#c51b7d"
            ],
            [
             0.2,
             "#de77ae"
            ],
            [
             0.3,
             "#f1b6da"
            ],
            [
             0.4,
             "#fde0ef"
            ],
            [
             0.5,
             "#f7f7f7"
            ],
            [
             0.6,
             "#e6f5d0"
            ],
            [
             0.7,
             "#b8e186"
            ],
            [
             0.8,
             "#7fbc41"
            ],
            [
             0.9,
             "#4d9221"
            ],
            [
             1,
             "#276419"
            ]
           ],
           "sequential": [
            [
             0,
             "#0d0887"
            ],
            [
             0.1111111111111111,
             "#46039f"
            ],
            [
             0.2222222222222222,
             "#7201a8"
            ],
            [
             0.3333333333333333,
             "#9c179e"
            ],
            [
             0.4444444444444444,
             "#bd3786"
            ],
            [
             0.5555555555555556,
             "#d8576b"
            ],
            [
             0.6666666666666666,
             "#ed7953"
            ],
            [
             0.7777777777777778,
             "#fb9f3a"
            ],
            [
             0.8888888888888888,
             "#fdca26"
            ],
            [
             1,
             "#f0f921"
            ]
           ],
           "sequentialminus": [
            [
             0,
             "#0d0887"
            ],
            [
             0.1111111111111111,
             "#46039f"
            ],
            [
             0.2222222222222222,
             "#7201a8"
            ],
            [
             0.3333333333333333,
             "#9c179e"
            ],
            [
             0.4444444444444444,
             "#bd3786"
            ],
            [
             0.5555555555555556,
             "#d8576b"
            ],
            [
             0.6666666666666666,
             "#ed7953"
            ],
            [
             0.7777777777777778,
             "#fb9f3a"
            ],
            [
             0.8888888888888888,
             "#fdca26"
            ],
            [
             1,
             "#f0f921"
            ]
           ]
          },
          "colorway": [
           "#636efa",
           "#EF553B",
           "#00cc96",
           "#ab63fa",
           "#FFA15A",
           "#19d3f3",
           "#FF6692",
           "#B6E880",
           "#FF97FF",
           "#FECB52"
          ],
          "font": {
           "color": "#2a3f5f"
          },
          "geo": {
           "bgcolor": "white",
           "lakecolor": "white",
           "landcolor": "#E5ECF6",
           "showlakes": true,
           "showland": true,
           "subunitcolor": "white"
          },
          "hoverlabel": {
           "align": "left"
          },
          "hovermode": "closest",
          "mapbox": {
           "style": "light"
          },
          "paper_bgcolor": "white",
          "plot_bgcolor": "#E5ECF6",
          "polar": {
           "angularaxis": {
            "gridcolor": "white",
            "linecolor": "white",
            "ticks": ""
           },
           "bgcolor": "#E5ECF6",
           "radialaxis": {
            "gridcolor": "white",
            "linecolor": "white",
            "ticks": ""
           }
          },
          "scene": {
           "xaxis": {
            "backgroundcolor": "#E5ECF6",
            "gridcolor": "white",
            "gridwidth": 2,
            "linecolor": "white",
            "showbackground": true,
            "ticks": "",
            "zerolinecolor": "white"
           },
           "yaxis": {
            "backgroundcolor": "#E5ECF6",
            "gridcolor": "white",
            "gridwidth": 2,
            "linecolor": "white",
            "showbackground": true,
            "ticks": "",
            "zerolinecolor": "white"
           },
           "zaxis": {
            "backgroundcolor": "#E5ECF6",
            "gridcolor": "white",
            "gridwidth": 2,
            "linecolor": "white",
            "showbackground": true,
            "ticks": "",
            "zerolinecolor": "white"
           }
          },
          "shapedefaults": {
           "line": {
            "color": "#2a3f5f"
           }
          },
          "ternary": {
           "aaxis": {
            "gridcolor": "white",
            "linecolor": "white",
            "ticks": ""
           },
           "baxis": {
            "gridcolor": "white",
            "linecolor": "white",
            "ticks": ""
           },
           "bgcolor": "#E5ECF6",
           "caxis": {
            "gridcolor": "white",
            "linecolor": "white",
            "ticks": ""
           }
          },
          "title": {
           "x": 0.05
          },
          "xaxis": {
           "automargin": true,
           "gridcolor": "white",
           "linecolor": "white",
           "ticks": "",
           "title": {
            "standoff": 15
           },
           "zerolinecolor": "white",
           "zerolinewidth": 2
          },
          "yaxis": {
           "automargin": true,
           "gridcolor": "white",
           "linecolor": "white",
           "ticks": "",
           "title": {
            "standoff": 15
           },
           "zerolinecolor": "white",
           "zerolinewidth": 2
          }
         }
        },
        "title": {
         "text": "Volume/TVL Ratio to Gas Comparison"
        },
        "xaxis": {
         "anchor": "y",
         "domain": [
          0,
          0.94
         ],
         "title": {
          "text": "Date"
         }
        },
        "yaxis": {
         "anchor": "x",
         "domain": [
          0,
          1
         ]
        },
        "yaxis2": {
         "anchor": "x",
         "overlaying": "y",
         "side": "right"
        }
       }
      }
     },
     "metadata": {},
     "output_type": "display_data"
    }
   ],
   "source": [
    "weth_zro_gas_to_vtt_fig = make_subplots(specs=[[{\"secondary_y\": True}]])\n",
    "\n",
    "\n",
    "weth_zro_gas_to_vtt_fig.add_trace(\n",
    "    go.Bar(\n",
    "        x=weth_zro_30['day'],\n",
    "        y=weth_zro_30['arbitrum_volume_to_tvl'],\n",
    "        name='Volume to TVL Ratio'\n",
    "    ),\n",
    "    secondary_y=False\n",
    ")\n",
    "\n",
    "weth_zro_gas_to_vtt_fig.add_trace(\n",
    "    go.Scatter(\n",
    "        x=weth_zro_30['day'],\n",
    "        y=weth_zro_30['arbitrum_median_gas_usd'],\n",
    "        name='Median Gas',\n",
    "        mode='lines'\n",
    "    ),\n",
    "    secondary_y=True\n",
    ")\n",
    "\n",
    "weth_zro_gas_to_vtt_fig.add_trace(\n",
    "    go.Scatter(\n",
    "        x=weth_zro_30['day'],\n",
    "        y=weth_zro_30['arbitrum_gas_usd_per_tx'],\n",
    "        name='Avg Gas',\n",
    "        mode='lines'\n",
    "    ),\n",
    "    secondary_y=True\n",
    ")\n",
    "\n",
    "weth_zro_gas_to_vtt_fig.update_layout(title='Volume/TVL Ratio to Gas Comparison')\n",
    "\n",
    "weth_zro_gas_to_vtt_fig.update_xaxes(title_text=\"Date\")\n",
    "\n",
    "weth_zro_gas_to_vtt_fig.show()\n"
   ]
  },
  {
   "cell_type": "markdown",
   "metadata": {},
   "source": [
    "## Optimism"
   ]
  },
  {
   "cell_type": "markdown",
   "metadata": {},
   "source": [
    "## Base"
   ]
  },
  {
   "cell_type": "markdown",
   "metadata": {},
   "source": [
    "## Trader Behavior"
   ]
  },
  {
   "cell_type": "markdown",
   "metadata": {},
   "source": [
    "# Correlation Analysis"
   ]
  },
  {
   "cell_type": "markdown",
   "metadata": {},
   "source": []
  }
 ],
 "metadata": {
  "kernelspec": {
   "display_name": "gas subsidy kernel",
   "language": "python",
   "name": "gas_subsidy"
  },
  "language_info": {
   "codemirror_mode": {
    "name": "ipython",
    "version": 3
   },
   "file_extension": ".py",
   "mimetype": "text/x-python",
   "name": "python",
   "nbconvert_exporter": "python",
   "pygments_lexer": "ipython3",
   "version": "3.11.9"
  }
 },
 "nbformat": 4,
 "nbformat_minor": 2
}
