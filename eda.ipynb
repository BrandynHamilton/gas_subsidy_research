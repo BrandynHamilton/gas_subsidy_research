{
 "cells": [
  {
   "cell_type": "code",
   "execution_count": 69,
   "metadata": {},
   "outputs": [],
   "source": [
    "import pandas as pd\n",
    "import numpy as np\n",
    "from dune_client.client import DuneClient\n",
    "from flipside import Flipside\n",
    "import plotly\n",
    "import datetime as dt\n",
    "from dotenv import load_dotenv\n",
    "from prophet import Prophet\n",
    "import os\n",
    "from plotly.subplots import make_subplots\n",
    "import plotly.graph_objects as go\n",
    "import plotly.express as px\n",
    "\n",
    "\n",
    "# import yfinance as yf\n",
    "\n",
    "from utils import flipside_api_results\n",
    "from sql import trader_classifier_query"
   ]
  },
  {
   "cell_type": "code",
   "execution_count": 2,
   "metadata": {},
   "outputs": [
    {
     "data": {
      "text/plain": [
       "True"
      ]
     },
     "execution_count": 2,
     "metadata": {},
     "output_type": "execute_result"
    }
   ],
   "source": [
    "load_dotenv()"
   ]
  },
  {
   "cell_type": "code",
   "execution_count": 3,
   "metadata": {},
   "outputs": [
    {
     "name": "stdout",
     "output_type": "stream",
     "text": [
      "CPh7RV9x58ODbTuhYEA9lnpD4NkIvyEi 4604d4d2-ccf3-4864-90b4-db6bf13c663b\n"
     ]
    }
   ],
   "source": [
    "dune_api_key = os.getenv('DUNE_API_KEY')\n",
    "flipside_api_key = os.getenv('FLIPSIDE_API_KEY')\n",
    "dune = DuneClient(dune_api_key)\n",
    "print(dune_api_key, flipside_api_key)"
   ]
  },
  {
   "cell_type": "markdown",
   "metadata": {},
   "source": [
    "# Data Retrieval "
   ]
  },
  {
   "cell_type": "markdown",
   "metadata": {},
   "source": [
    "## Dune Queries"
   ]
  },
  {
   "cell_type": "markdown",
   "metadata": {},
   "source": [
    "Uniswap Arbitrum Pool Data\n",
    "https://dune.com/queries/3930878\n",
    "\n",
    "Arbitrum Gas Data\n",
    "https://dune.com/queries/3931017"
   ]
  },
  {
   "cell_type": "code",
   "execution_count": 42,
   "metadata": {},
   "outputs": [],
   "source": [
    "def dune_api_results(query_num, save_csv=False, csv_path=None):\n",
    "    results = dune.get_latest_result(query_num)\n",
    "    df = pd.DataFrame(results.result.rows)\n",
    "\n",
    "    if save_csv and csv_path:\n",
    "        df.to_csv(csv_path, index=False)\n",
    "    return df\n"
   ]
  },
  {
   "cell_type": "markdown",
   "metadata": {},
   "source": [
    "arb_pool_path = 'data/arb_pool_data.csv'\n",
    "arb_pool_df = dune_api_results(3930878, True, arb_pool_path)\n",
    "arb_pool_df"
   ]
  },
  {
   "cell_type": "code",
   "execution_count": 45,
   "metadata": {},
   "outputs": [
    {
     "name": "stdout",
     "output_type": "stream",
     "text": [
      "Index(['arbitrum_avg_liquidity', 'day', 'arbitrum_fee_apr',\n",
      "       'arbitrum_fee_tier', 'arbitrum_fees_usd', 'arbitrum_lp_addr',\n",
      "       'arbitrum_num_trades', 'arbitrum_token_pair', 'arbitrum_tvl_usd',\n",
      "       'arbitrum_volume_to_tvl', 'arbitrum_volume_usd'],\n",
      "      dtype='object')\n"
     ]
    }
   ],
   "source": [
    "arb_pool_path = 'data/arb_pool_data.csv'\n",
    "arb_pool_df = pd.read_csv(arb_pool_path)\n",
    "arb_pool_df.columns = [f'arbitrum_{col}' if col != 'day' else col for col in arb_pool_df.columns]\n",
    "print(arb_pool_df.columns)"
   ]
  },
  {
   "cell_type": "markdown",
   "metadata": {},
   "source": [
    "arbitrum_gas = dune.get_latest_result(3931017)\n",
    "arbitrum_gas_df = pd.DataFrame(arbitrum_gas.result.rows)\n",
    "arbitrum_gas_path = 'data/arb_gas.csv'\n",
    "arbitrum_gas_df.to_csv(arbitrum_gas_path, index=False)"
   ]
  },
  {
   "cell_type": "code",
   "execution_count": 25,
   "metadata": {},
   "outputs": [
    {
     "data": {
      "text/html": [
       "<div>\n",
       "<style scoped>\n",
       "    .dataframe tbody tr th:only-of-type {\n",
       "        vertical-align: middle;\n",
       "    }\n",
       "\n",
       "    .dataframe tbody tr th {\n",
       "        vertical-align: top;\n",
       "    }\n",
       "\n",
       "    .dataframe thead th {\n",
       "        text-align: right;\n",
       "    }\n",
       "</style>\n",
       "<table border=\"1\" class=\"dataframe\">\n",
       "  <thead>\n",
       "    <tr style=\"text-align: right;\">\n",
       "      <th></th>\n",
       "      <th>dt</th>\n",
       "      <th>gas_usd_per_tx</th>\n",
       "      <th>median_gas_usd</th>\n",
       "    </tr>\n",
       "  </thead>\n",
       "  <tbody>\n",
       "    <tr>\n",
       "      <th>0</th>\n",
       "      <td>2024-04-22 00:00:00.000 UTC</td>\n",
       "      <td>0.010387</td>\n",
       "      <td>0.006123</td>\n",
       "    </tr>\n",
       "    <tr>\n",
       "      <th>1</th>\n",
       "      <td>2024-04-22 01:00:00.000 UTC</td>\n",
       "      <td>0.010970</td>\n",
       "      <td>0.006445</td>\n",
       "    </tr>\n",
       "    <tr>\n",
       "      <th>2</th>\n",
       "      <td>2024-04-22 02:00:00.000 UTC</td>\n",
       "      <td>0.009510</td>\n",
       "      <td>0.005550</td>\n",
       "    </tr>\n",
       "    <tr>\n",
       "      <th>3</th>\n",
       "      <td>2024-04-22 03:00:00.000 UTC</td>\n",
       "      <td>0.010174</td>\n",
       "      <td>0.005812</td>\n",
       "    </tr>\n",
       "    <tr>\n",
       "      <th>4</th>\n",
       "      <td>2024-04-22 04:00:00.000 UTC</td>\n",
       "      <td>0.009947</td>\n",
       "      <td>0.006139</td>\n",
       "    </tr>\n",
       "    <tr>\n",
       "      <th>...</th>\n",
       "      <td>...</td>\n",
       "      <td>...</td>\n",
       "      <td>...</td>\n",
       "    </tr>\n",
       "    <tr>\n",
       "      <th>2157</th>\n",
       "      <td>2024-07-20 21:00:00.000 UTC</td>\n",
       "      <td>0.009192</td>\n",
       "      <td>0.005052</td>\n",
       "    </tr>\n",
       "    <tr>\n",
       "      <th>2158</th>\n",
       "      <td>2024-07-20 22:00:00.000 UTC</td>\n",
       "      <td>0.010094</td>\n",
       "      <td>0.005563</td>\n",
       "    </tr>\n",
       "    <tr>\n",
       "      <th>2159</th>\n",
       "      <td>2024-07-20 23:00:00.000 UTC</td>\n",
       "      <td>0.009521</td>\n",
       "      <td>0.005383</td>\n",
       "    </tr>\n",
       "    <tr>\n",
       "      <th>2160</th>\n",
       "      <td>2024-07-21 00:00:00.000 UTC</td>\n",
       "      <td>0.009502</td>\n",
       "      <td>0.005291</td>\n",
       "    </tr>\n",
       "    <tr>\n",
       "      <th>2161</th>\n",
       "      <td>2024-07-21 01:00:00.000 UTC</td>\n",
       "      <td>0.009373</td>\n",
       "      <td>0.005222</td>\n",
       "    </tr>\n",
       "  </tbody>\n",
       "</table>\n",
       "<p>2162 rows × 3 columns</p>\n",
       "</div>"
      ],
      "text/plain": [
       "                               dt  gas_usd_per_tx  median_gas_usd\n",
       "0     2024-04-22 00:00:00.000 UTC        0.010387        0.006123\n",
       "1     2024-04-22 01:00:00.000 UTC        0.010970        0.006445\n",
       "2     2024-04-22 02:00:00.000 UTC        0.009510        0.005550\n",
       "3     2024-04-22 03:00:00.000 UTC        0.010174        0.005812\n",
       "4     2024-04-22 04:00:00.000 UTC        0.009947        0.006139\n",
       "...                           ...             ...             ...\n",
       "2157  2024-07-20 21:00:00.000 UTC        0.009192        0.005052\n",
       "2158  2024-07-20 22:00:00.000 UTC        0.010094        0.005563\n",
       "2159  2024-07-20 23:00:00.000 UTC        0.009521        0.005383\n",
       "2160  2024-07-21 00:00:00.000 UTC        0.009502        0.005291\n",
       "2161  2024-07-21 01:00:00.000 UTC        0.009373        0.005222\n",
       "\n",
       "[2162 rows x 3 columns]"
      ]
     },
     "execution_count": 25,
     "metadata": {},
     "output_type": "execute_result"
    }
   ],
   "source": [
    "arbitrum_gas_path = 'data/arb_gas.csv'\n",
    "arbitrum_gas_df = pd.read_csv(arbitrum_gas_path)\n",
    "if 'Unnamed: 0' in arbitrum_gas_df.columns:\n",
    "    arbitrum_gas_df = arbitrum_gas_df.drop('Unnamed: 0', axis=1)\n",
    "arbitrum_gas_df.columns = [f'arbitrum_{col}' if col != 'dt' else col for col in arbitrum_gas_df.columns]\n",
    "arbitrum_gas_df.columns\n"
   ]
  },
  {
   "cell_type": "markdown",
   "metadata": {},
   "source": [
    "Uniswap Optimism Pool Data\n",
    "https://dune.com/queries/3930989\n",
    "\n",
    "Optimism Gas Data \n",
    "https://dune.com/queries/3930989"
   ]
  },
  {
   "cell_type": "markdown",
   "metadata": {},
   "source": [
    "op_pool_path = 'data/op_pool_data.csv'\n",
    "op_pool_df = dune_api_results(3930989, True, op_pool_path)\n",
    "op_pool_df"
   ]
  },
  {
   "cell_type": "code",
   "execution_count": 47,
   "metadata": {},
   "outputs": [
    {
     "name": "stdout",
     "output_type": "stream",
     "text": [
      "Index(['optimism_avg_liquidity', 'day', 'optimism_fee_apr',\n",
      "       'optimism_fee_tier', 'optimism_fees_usd', 'optimism_lp_addr',\n",
      "       'optimism_num_trades', 'optimism_token_pair', 'optimism_tvl_usd',\n",
      "       'optimism_volume_to_tvl', 'optimism_volume_usd'],\n",
      "      dtype='object')\n"
     ]
    }
   ],
   "source": [
    "op_pool_path = 'data/op_pool_data.csv'\n",
    "op_pool_df = pd.read_csv(op_pool_path)\n",
    "op_pool_df.columns = [f'optimism_{col}' if col != 'day' else col for col in op_pool_df.columns]\n",
    "print(op_pool_df.columns)"
   ]
  },
  {
   "cell_type": "markdown",
   "metadata": {},
   "source": [
    "optimism_gas = dune.get_latest_result_dataframe(3931019)\n",
    "optimism_gas_path = 'data/op_gas.csv'\n",
    "optimism_gas.to_csv(optimism_gas_path, index=False)"
   ]
  },
  {
   "cell_type": "code",
   "execution_count": 36,
   "metadata": {},
   "outputs": [
    {
     "data": {
      "text/plain": [
       "Index(['dt', 'optimism_gas_usd_per_tx', 'optimism_median_gas_usd'], dtype='object')"
      ]
     },
     "execution_count": 36,
     "metadata": {},
     "output_type": "execute_result"
    }
   ],
   "source": [
    "optimism_gas_path = 'data/op_gas.csv'\n",
    "optimism_gas_df = pd.read_csv(optimism_gas_path)\n",
    "optimism_gas_df = optimism_gas_df.drop('_col3', axis=1) if '_col3' in optimism_gas_df.columns else optimism_gas_df\n",
    "optimism_gas_df.columns = [f'optimism_{col}' if col != 'dt' else col for col in optimism_gas_df.columns]\n",
    "optimism_gas_df.columns"
   ]
  },
  {
   "cell_type": "markdown",
   "metadata": {},
   "source": [
    "Uniswap Base Pool Data\n",
    "https://dune.com/queries/3930954\n",
    "\n",
    "Base Gas Data\n",
    "https://dune.com/queries/3931021"
   ]
  },
  {
   "cell_type": "markdown",
   "metadata": {},
   "source": [
    "base_pool_path = 'data/base_pool_data.csv'\n",
    "base_pool_df = dune_api_results(3930954, True, base_pool_path)\n",
    "base_pool_df"
   ]
  },
  {
   "cell_type": "code",
   "execution_count": 49,
   "metadata": {},
   "outputs": [
    {
     "name": "stdout",
     "output_type": "stream",
     "text": [
      "Index(['base_avg_liquidity', 'day', 'base_fee_apr', 'base_fee_tier',\n",
      "       'base_fees_usd', 'base_lp_addr', 'base_num_trades', 'base_token_pair',\n",
      "       'base_tvl_usd', 'base_volume_to_tvl', 'base_volume_usd'],\n",
      "      dtype='object')\n"
     ]
    }
   ],
   "source": [
    "base_pool_path = 'data/base_pool_data.csv'\n",
    "base_pool_df = pd.read_csv(base_pool_path)\n",
    "base_pool_df.columns = [f'base_{col}' if col != 'day' else col for col in base_pool_df.columns]\n",
    "print(base_pool_df.columns)"
   ]
  },
  {
   "cell_type": "markdown",
   "metadata": {},
   "source": [
    "base_gas = dune.get_latest_result_dataframe(3931021)\n",
    "base_gas_path = 'data/base_gas.csv'\n",
    "base_gas.to_csv(base_gas_path, index=False)"
   ]
  },
  {
   "cell_type": "code",
   "execution_count": 39,
   "metadata": {},
   "outputs": [
    {
     "data": {
      "text/plain": [
       "Index(['dt', 'base_gas_usd_per_tx', 'base_median_gas_usd'], dtype='object')"
      ]
     },
     "execution_count": 39,
     "metadata": {},
     "output_type": "execute_result"
    }
   ],
   "source": [
    "base_gas_path = 'data/base_gas.csv'\n",
    "base_gas_df = pd.read_csv(base_gas_path)\n",
    "base_gas_df.columns = [f'base_{col}' if col != 'dt' else col for col in base_gas_df.columns]\n",
    "base_gas_df.columns"
   ]
  },
  {
   "cell_type": "markdown",
   "metadata": {},
   "source": [
    "## Flipside Queries "
   ]
  },
  {
   "cell_type": "markdown",
   "metadata": {},
   "source": [
    "Trader Classifier - Arbitrum Data\n",
    "https://flipsidecrypto.xyz/Brandyn/q/7NlPxrKU5KQb/2024-07-20-06-36-pm"
   ]
  },
  {
   "cell_type": "code",
   "execution_count": 4,
   "metadata": {},
   "outputs": [
    {
     "name": "stdout",
     "output_type": "stream",
     "text": [
      "        trader_type                        dt  tx_count  total_volume_usd  \\\n",
      "0      Professional  2024-07-21T15:00:00.000Z       928        1047810.93   \n",
      "1            Retail  2024-07-21T15:00:00.000Z       176          91856.49   \n",
      "2      Professional  2024-07-21T14:00:00.000Z      7552       12913378.38   \n",
      "3            Retail  2024-07-21T14:00:00.000Z      1790         294765.21   \n",
      "4      Professional  2024-07-21T13:00:00.000Z      4472        5883981.27   \n",
      "...             ...                       ...       ...               ...   \n",
      "18553        Retail  2023-07-01T02:00:00.000Z      1170         278669.36   \n",
      "18554  Professional  2023-07-01T01:00:00.000Z      4263       12052488.42   \n",
      "18555        Retail  2023-07-01T01:00:00.000Z      1254         301856.49   \n",
      "18556  Professional  2023-07-01T00:00:00.000Z      4124       11335892.35   \n",
      "18557        Retail  2023-07-01T00:00:00.000Z      1084         402822.79   \n",
      "\n",
      "       avg_order_size_usd  unique_contracts  __row_index  \n",
      "0             1183.967153               104            0  \n",
      "1              540.332294                60            1  \n",
      "2             1766.536030               252            2  \n",
      "3              170.680492               196            3  \n",
      "4             1367.731583               211            4  \n",
      "...                   ...               ...          ...  \n",
      "18553          432.716398               108        18553  \n",
      "18554         3328.497216               161        18554  \n",
      "18555          417.505519               110        18555  \n",
      "18556         3270.597908               176        18556  \n",
      "18557          613.124490               116        18557  \n",
      "\n",
      "[18558 rows x 7 columns]\n"
     ]
    }
   ],
   "source": [
    "classifier_data_path = 'data/classifier.csv'\n",
    "trader_classifier_data = flipside_api_results(trader_classifier_query, flipside_api_key)\n",
    "print(trader_classifier_data)\n",
    "trader_classifier_data.to_csv(classifier_data_path, index=False)"
   ]
  },
  {
   "cell_type": "code",
   "execution_count": 6,
   "metadata": {},
   "outputs": [
    {
     "data": {
      "text/html": [
       "<div>\n",
       "<style scoped>\n",
       "    .dataframe tbody tr th:only-of-type {\n",
       "        vertical-align: middle;\n",
       "    }\n",
       "\n",
       "    .dataframe tbody tr th {\n",
       "        vertical-align: top;\n",
       "    }\n",
       "\n",
       "    .dataframe thead th {\n",
       "        text-align: right;\n",
       "    }\n",
       "</style>\n",
       "<table border=\"1\" class=\"dataframe\">\n",
       "  <thead>\n",
       "    <tr style=\"text-align: right;\">\n",
       "      <th></th>\n",
       "      <th>trader_type</th>\n",
       "      <th>dt</th>\n",
       "      <th>tx_count</th>\n",
       "      <th>total_volume_usd</th>\n",
       "      <th>avg_order_size_usd</th>\n",
       "      <th>unique_contracts</th>\n",
       "    </tr>\n",
       "  </thead>\n",
       "  <tbody>\n",
       "    <tr>\n",
       "      <th>0</th>\n",
       "      <td>Professional</td>\n",
       "      <td>2024-07-21T15:00:00.000Z</td>\n",
       "      <td>928</td>\n",
       "      <td>1047810.93</td>\n",
       "      <td>1183.967153</td>\n",
       "      <td>104</td>\n",
       "    </tr>\n",
       "    <tr>\n",
       "      <th>1</th>\n",
       "      <td>Retail</td>\n",
       "      <td>2024-07-21T15:00:00.000Z</td>\n",
       "      <td>176</td>\n",
       "      <td>91856.49</td>\n",
       "      <td>540.332294</td>\n",
       "      <td>60</td>\n",
       "    </tr>\n",
       "    <tr>\n",
       "      <th>2</th>\n",
       "      <td>Professional</td>\n",
       "      <td>2024-07-21T14:00:00.000Z</td>\n",
       "      <td>7552</td>\n",
       "      <td>12913378.38</td>\n",
       "      <td>1766.536030</td>\n",
       "      <td>252</td>\n",
       "    </tr>\n",
       "    <tr>\n",
       "      <th>3</th>\n",
       "      <td>Retail</td>\n",
       "      <td>2024-07-21T14:00:00.000Z</td>\n",
       "      <td>1790</td>\n",
       "      <td>294765.21</td>\n",
       "      <td>170.680492</td>\n",
       "      <td>196</td>\n",
       "    </tr>\n",
       "    <tr>\n",
       "      <th>4</th>\n",
       "      <td>Professional</td>\n",
       "      <td>2024-07-21T13:00:00.000Z</td>\n",
       "      <td>4472</td>\n",
       "      <td>5883981.27</td>\n",
       "      <td>1367.731583</td>\n",
       "      <td>211</td>\n",
       "    </tr>\n",
       "  </tbody>\n",
       "</table>\n",
       "</div>"
      ],
      "text/plain": [
       "    trader_type                        dt  tx_count  total_volume_usd  \\\n",
       "0  Professional  2024-07-21T15:00:00.000Z       928        1047810.93   \n",
       "1        Retail  2024-07-21T15:00:00.000Z       176          91856.49   \n",
       "2  Professional  2024-07-21T14:00:00.000Z      7552       12913378.38   \n",
       "3        Retail  2024-07-21T14:00:00.000Z      1790         294765.21   \n",
       "4  Professional  2024-07-21T13:00:00.000Z      4472        5883981.27   \n",
       "\n",
       "   avg_order_size_usd  unique_contracts  \n",
       "0         1183.967153               104  \n",
       "1          540.332294                60  \n",
       "2         1766.536030               252  \n",
       "3          170.680492               196  \n",
       "4         1367.731583               211  "
      ]
     },
     "execution_count": 6,
     "metadata": {},
     "output_type": "execute_result"
    }
   ],
   "source": [
    "trader_classifier_df = pd.read_csv(classifier_data_path)\n",
    "trader_classifier_df.drop(columns=['__row_index'], inplace=True)\n",
    "trader_classifier_df.head()"
   ]
  },
  {
   "cell_type": "markdown",
   "metadata": {},
   "source": [
    "# Data Cleaning/Processing\n",
    "\n",
    "Each token pair has several fee tiers and some have differente lp addresses.  \n",
    "\n",
    "Can aggregate metrics to token pair and/or seperate each fee-tier out, aggregate by addresses"
   ]
  },
  {
   "cell_type": "code",
   "execution_count": null,
   "metadata": {},
   "outputs": [],
   "source": []
  },
  {
   "cell_type": "markdown",
   "metadata": {},
   "source": [
    "# Data Analysis"
   ]
  },
  {
   "cell_type": "markdown",
   "metadata": {},
   "source": [
    "## Arbitrum"
   ]
  },
  {
   "cell_type": "markdown",
   "metadata": {},
   "source": [
    "### Summary Statistics"
   ]
  },
  {
   "cell_type": "code",
   "execution_count": 51,
   "metadata": {},
   "outputs": [
    {
     "name": "stdout",
     "output_type": "stream",
     "text": [
      "       arbitrum_avg_liquidity  arbitrum_fee_apr  arbitrum_fees_usd  \\\n",
      "count            3.468000e+03      3.468000e+03       3.468000e+03   \n",
      "mean             1.782774e+24      1.458773e-02       2.966866e+02   \n",
      "std              7.617222e+24      5.095527e-02       7.349982e+02   \n",
      "min              9.140293e+07      3.241851e-13       6.002412e-15   \n",
      "25%              6.812052e+15      8.222112e-04       2.920990e-01   \n",
      "50%              1.903847e+18      4.227947e-03       1.321334e+01   \n",
      "75%              2.049945e+22      1.363400e-02       2.495379e+02   \n",
      "max              4.600563e+25      1.606219e+00       8.186259e+03   \n",
      "\n",
      "       arbitrum_num_trades  arbitrum_tvl_usd  arbitrum_volume_to_tvl  \\\n",
      "count          3468.000000      3.468000e+03            3.468000e+03   \n",
      "mean            190.908304      9.310402e+06            5.508794e-02   \n",
      "std             338.143117      1.496615e+07            1.409350e-01   \n",
      "min               1.000000      6.708087e+00            2.982674e-13   \n",
      "25%               8.000000      7.006416e+04            1.647830e-03   \n",
      "50%              36.000000      3.649218e+06            1.688388e-02   \n",
      "75%             215.000000      1.080055e+07            5.367048e-02   \n",
      "max            2849.000000      5.466580e+07            2.917380e+00   \n",
      "\n",
      "       arbitrum_volume_usd  \n",
      "count         3.468000e+03  \n",
      "mean          5.085545e+05  \n",
      "std           1.421365e+06  \n",
      "min           2.000804e-12  \n",
      "25%           7.454115e+02  \n",
      "50%           9.454087e+03  \n",
      "75%           2.819987e+05  \n",
      "max           1.637252e+07  \n"
     ]
    }
   ],
   "source": [
    "print(arb_pool_df.describe())"
   ]
  },
  {
   "cell_type": "code",
   "execution_count": 52,
   "metadata": {},
   "outputs": [
    {
     "name": "stdout",
     "output_type": "stream",
     "text": [
      "       arbitrum_gas_usd_per_tx  arbitrum_median_gas_usd\n",
      "count              2162.000000              2162.000000\n",
      "mean                  0.023634                 0.012860\n",
      "std                   0.221630                 0.129315\n",
      "min                   0.004397                 0.001491\n",
      "25%                   0.006888                 0.004532\n",
      "50%                   0.008472                 0.005564\n",
      "75%                   0.010704                 0.007182\n",
      "max                   6.944713                 4.181090\n"
     ]
    }
   ],
   "source": [
    "print(arbitrum_gas_df.describe())"
   ]
  },
  {
   "cell_type": "markdown",
   "metadata": {},
   "source": [
    "### Data Visualizations"
   ]
  },
  {
   "cell_type": "code",
   "execution_count": 92,
   "metadata": {},
   "outputs": [
    {
     "data": {
      "text/html": [
       "<div>\n",
       "<style scoped>\n",
       "    .dataframe tbody tr th:only-of-type {\n",
       "        vertical-align: middle;\n",
       "    }\n",
       "\n",
       "    .dataframe tbody tr th {\n",
       "        vertical-align: top;\n",
       "    }\n",
       "\n",
       "    .dataframe thead th {\n",
       "        text-align: right;\n",
       "    }\n",
       "</style>\n",
       "<table border=\"1\" class=\"dataframe\">\n",
       "  <thead>\n",
       "    <tr style=\"text-align: right;\">\n",
       "      <th></th>\n",
       "      <th>arbitrum_avg_liquidity</th>\n",
       "      <th>day</th>\n",
       "      <th>arbitrum_fee_apr</th>\n",
       "      <th>arbitrum_fee_tier</th>\n",
       "      <th>arbitrum_fees_usd</th>\n",
       "      <th>arbitrum_lp_addr</th>\n",
       "      <th>arbitrum_num_trades</th>\n",
       "      <th>arbitrum_token_pair</th>\n",
       "      <th>arbitrum_tvl_usd</th>\n",
       "      <th>arbitrum_volume_to_tvl</th>\n",
       "      <th>arbitrum_volume_usd</th>\n",
       "    </tr>\n",
       "  </thead>\n",
       "  <tbody>\n",
       "    <tr>\n",
       "      <th>0</th>\n",
       "      <td>1.854139e+23</td>\n",
       "      <td>2024-07-14 00:00:00.000 UTC</td>\n",
       "      <td>3.781496e-02</td>\n",
       "      <td>0.30%</td>\n",
       "      <td>386.685410</td>\n",
       "      <td>0x4cef551255ec96d89fec975446301b5c4e164c59</td>\n",
       "      <td>119</td>\n",
       "      <td>WETH-ZRO</td>\n",
       "      <td>3.732390e+06</td>\n",
       "      <td>3.453421e-02</td>\n",
       "      <td>1.288951e+05</td>\n",
       "    </tr>\n",
       "    <tr>\n",
       "      <th>1</th>\n",
       "      <td>2.075720e+16</td>\n",
       "      <td>2024-07-14 00:00:00.000 UTC</td>\n",
       "      <td>1.591761e-02</td>\n",
       "      <td>0.01%</td>\n",
       "      <td>3.056607</td>\n",
       "      <td>0x6f38e884725a116c9c7fbf208e79fe8828a2595f</td>\n",
       "      <td>287</td>\n",
       "      <td>USDC-WETH</td>\n",
       "      <td>7.008980e+04</td>\n",
       "      <td>4.360988e-01</td>\n",
       "      <td>3.056607e+04</td>\n",
       "    </tr>\n",
       "    <tr>\n",
       "      <th>2</th>\n",
       "      <td>1.965666e+12</td>\n",
       "      <td>2024-07-14 00:00:00.000 UTC</td>\n",
       "      <td>1.469532e-02</td>\n",
       "      <td>0.05%</td>\n",
       "      <td>412.274720</td>\n",
       "      <td>0x0e4831319a50228b9e450861297ab92dee15b44f</td>\n",
       "      <td>466</td>\n",
       "      <td>USDC-WBTC</td>\n",
       "      <td>1.024001e+07</td>\n",
       "      <td>8.052231e-02</td>\n",
       "      <td>8.245494e+05</td>\n",
       "    </tr>\n",
       "    <tr>\n",
       "      <th>3</th>\n",
       "      <td>4.911041e+18</td>\n",
       "      <td>2024-07-14 00:00:00.000 UTC</td>\n",
       "      <td>1.290974e-02</td>\n",
       "      <td>0.05%</td>\n",
       "      <td>1705.827484</td>\n",
       "      <td>0xc6962004f452be9203591991d15f6b388e09e8d0</td>\n",
       "      <td>845</td>\n",
       "      <td>USDC-WETH</td>\n",
       "      <td>4.822924e+07</td>\n",
       "      <td>7.073831e-02</td>\n",
       "      <td>3.411655e+06</td>\n",
       "    </tr>\n",
       "    <tr>\n",
       "      <th>4</th>\n",
       "      <td>4.950377e+15</td>\n",
       "      <td>2024-07-14 00:00:00.000 UTC</td>\n",
       "      <td>8.265621e-03</td>\n",
       "      <td>0.01%</td>\n",
       "      <td>0.540105</td>\n",
       "      <td>0x42161084d0672e1d3f26a9b53e653be2084ff19c</td>\n",
       "      <td>136</td>\n",
       "      <td>USDT-WETH</td>\n",
       "      <td>2.385039e+04</td>\n",
       "      <td>2.264554e-01</td>\n",
       "      <td>5.401049e+03</td>\n",
       "    </tr>\n",
       "    <tr>\n",
       "      <th>...</th>\n",
       "      <td>...</td>\n",
       "      <td>...</td>\n",
       "      <td>...</td>\n",
       "      <td>...</td>\n",
       "      <td>...</td>\n",
       "      <td>...</td>\n",
       "      <td>...</td>\n",
       "      <td>...</td>\n",
       "      <td>...</td>\n",
       "      <td>...</td>\n",
       "      <td>...</td>\n",
       "    </tr>\n",
       "    <tr>\n",
       "      <th>3463</th>\n",
       "      <td>4.005206e+14</td>\n",
       "      <td>2024-07-21 01:00:00.000 UTC</td>\n",
       "      <td>5.688889e-05</td>\n",
       "      <td>0.01%</td>\n",
       "      <td>0.002823</td>\n",
       "      <td>0x42161084d0672e1d3f26a9b53e653be2084ff19c</td>\n",
       "      <td>10</td>\n",
       "      <td>USDT-WETH</td>\n",
       "      <td>1.811063e+04</td>\n",
       "      <td>1.558600e-03</td>\n",
       "      <td>2.822722e+01</td>\n",
       "    </tr>\n",
       "    <tr>\n",
       "      <th>3464</th>\n",
       "      <td>2.830767e+17</td>\n",
       "      <td>2024-07-21 01:00:00.000 UTC</td>\n",
       "      <td>1.923425e-05</td>\n",
       "      <td>0.05%</td>\n",
       "      <td>2.789811</td>\n",
       "      <td>0x2f5e87c9312fa29aed5c179e456625d79015299c</td>\n",
       "      <td>11</td>\n",
       "      <td>WBTC-WETH</td>\n",
       "      <td>5.294103e+07</td>\n",
       "      <td>1.053932e-04</td>\n",
       "      <td>5.579623e+03</td>\n",
       "    </tr>\n",
       "    <tr>\n",
       "      <th>3465</th>\n",
       "      <td>1.792792e+14</td>\n",
       "      <td>2024-07-21 01:00:00.000 UTC</td>\n",
       "      <td>1.801927e-05</td>\n",
       "      <td>0.01%</td>\n",
       "      <td>0.001416</td>\n",
       "      <td>0x03a3be7ab4aa263d42d63b6cc594f4fb3d3f3951</td>\n",
       "      <td>2</td>\n",
       "      <td>WBTC-WETH</td>\n",
       "      <td>2.867966e+04</td>\n",
       "      <td>4.936787e-04</td>\n",
       "      <td>1.415854e+01</td>\n",
       "    </tr>\n",
       "    <tr>\n",
       "      <th>3466</th>\n",
       "      <td>2.355089e+21</td>\n",
       "      <td>2024-07-21 01:00:00.000 UTC</td>\n",
       "      <td>3.497822e-06</td>\n",
       "      <td>0.01%</td>\n",
       "      <td>0.012592</td>\n",
       "      <td>0x7cf803e8d82a50504180f417b8bc7a493c0a0503</td>\n",
       "      <td>4</td>\n",
       "      <td>DAI-USDC</td>\n",
       "      <td>1.313937e+06</td>\n",
       "      <td>9.583075e-05</td>\n",
       "      <td>1.259156e+02</td>\n",
       "    </tr>\n",
       "    <tr>\n",
       "      <th>3467</th>\n",
       "      <td>3.699913e+25</td>\n",
       "      <td>2024-07-21 01:00:00.000 UTC</td>\n",
       "      <td>2.243604e-09</td>\n",
       "      <td>0.01%</td>\n",
       "      <td>0.000074</td>\n",
       "      <td>0x35218a1cbac5bbc3e57fd9bd38219d37571b3537</td>\n",
       "      <td>1</td>\n",
       "      <td>WETH-wstETH</td>\n",
       "      <td>1.203035e+07</td>\n",
       "      <td>6.146962e-08</td>\n",
       "      <td>7.395010e-01</td>\n",
       "    </tr>\n",
       "  </tbody>\n",
       "</table>\n",
       "<p>3468 rows × 11 columns</p>\n",
       "</div>"
      ],
      "text/plain": [
       "      arbitrum_avg_liquidity                          day  arbitrum_fee_apr  \\\n",
       "0               1.854139e+23  2024-07-14 00:00:00.000 UTC      3.781496e-02   \n",
       "1               2.075720e+16  2024-07-14 00:00:00.000 UTC      1.591761e-02   \n",
       "2               1.965666e+12  2024-07-14 00:00:00.000 UTC      1.469532e-02   \n",
       "3               4.911041e+18  2024-07-14 00:00:00.000 UTC      1.290974e-02   \n",
       "4               4.950377e+15  2024-07-14 00:00:00.000 UTC      8.265621e-03   \n",
       "...                      ...                          ...               ...   \n",
       "3463            4.005206e+14  2024-07-21 01:00:00.000 UTC      5.688889e-05   \n",
       "3464            2.830767e+17  2024-07-21 01:00:00.000 UTC      1.923425e-05   \n",
       "3465            1.792792e+14  2024-07-21 01:00:00.000 UTC      1.801927e-05   \n",
       "3466            2.355089e+21  2024-07-21 01:00:00.000 UTC      3.497822e-06   \n",
       "3467            3.699913e+25  2024-07-21 01:00:00.000 UTC      2.243604e-09   \n",
       "\n",
       "     arbitrum_fee_tier  arbitrum_fees_usd  \\\n",
       "0                0.30%         386.685410   \n",
       "1                0.01%           3.056607   \n",
       "2                0.05%         412.274720   \n",
       "3                0.05%        1705.827484   \n",
       "4                0.01%           0.540105   \n",
       "...                ...                ...   \n",
       "3463             0.01%           0.002823   \n",
       "3464             0.05%           2.789811   \n",
       "3465             0.01%           0.001416   \n",
       "3466             0.01%           0.012592   \n",
       "3467             0.01%           0.000074   \n",
       "\n",
       "                                arbitrum_lp_addr  arbitrum_num_trades  \\\n",
       "0     0x4cef551255ec96d89fec975446301b5c4e164c59                  119   \n",
       "1     0x6f38e884725a116c9c7fbf208e79fe8828a2595f                  287   \n",
       "2     0x0e4831319a50228b9e450861297ab92dee15b44f                  466   \n",
       "3     0xc6962004f452be9203591991d15f6b388e09e8d0                  845   \n",
       "4     0x42161084d0672e1d3f26a9b53e653be2084ff19c                  136   \n",
       "...                                          ...                  ...   \n",
       "3463  0x42161084d0672e1d3f26a9b53e653be2084ff19c                   10   \n",
       "3464  0x2f5e87c9312fa29aed5c179e456625d79015299c                   11   \n",
       "3465  0x03a3be7ab4aa263d42d63b6cc594f4fb3d3f3951                    2   \n",
       "3466  0x7cf803e8d82a50504180f417b8bc7a493c0a0503                    4   \n",
       "3467  0x35218a1cbac5bbc3e57fd9bd38219d37571b3537                    1   \n",
       "\n",
       "     arbitrum_token_pair  arbitrum_tvl_usd  arbitrum_volume_to_tvl  \\\n",
       "0               WETH-ZRO      3.732390e+06            3.453421e-02   \n",
       "1              USDC-WETH      7.008980e+04            4.360988e-01   \n",
       "2              USDC-WBTC      1.024001e+07            8.052231e-02   \n",
       "3              USDC-WETH      4.822924e+07            7.073831e-02   \n",
       "4              USDT-WETH      2.385039e+04            2.264554e-01   \n",
       "...                  ...               ...                     ...   \n",
       "3463           USDT-WETH      1.811063e+04            1.558600e-03   \n",
       "3464           WBTC-WETH      5.294103e+07            1.053932e-04   \n",
       "3465           WBTC-WETH      2.867966e+04            4.936787e-04   \n",
       "3466            DAI-USDC      1.313937e+06            9.583075e-05   \n",
       "3467         WETH-wstETH      1.203035e+07            6.146962e-08   \n",
       "\n",
       "      arbitrum_volume_usd  \n",
       "0            1.288951e+05  \n",
       "1            3.056607e+04  \n",
       "2            8.245494e+05  \n",
       "3            3.411655e+06  \n",
       "4            5.401049e+03  \n",
       "...                   ...  \n",
       "3463         2.822722e+01  \n",
       "3464         5.579623e+03  \n",
       "3465         1.415854e+01  \n",
       "3466         1.259156e+02  \n",
       "3467         7.395010e-01  \n",
       "\n",
       "[3468 rows x 11 columns]"
      ]
     },
     "execution_count": 92,
     "metadata": {},
     "output_type": "execute_result"
    }
   ],
   "source": [
    "arb_pool_df"
   ]
  },
  {
   "cell_type": "code",
   "execution_count": 63,
   "metadata": {},
   "outputs": [],
   "source": [
    "filtered_cols = ['day','arbitrum_avg_liquidity','arbitrum_fees_usd','arbitrum_tvl_usd','arbitrum_volume_usd','arbitrum_num_trades','arbitrum_volume_to_tvl','arbitrum_token_pair']"
   ]
  },
  {
   "cell_type": "code",
   "execution_count": 93,
   "metadata": {},
   "outputs": [
    {
     "data": {
      "text/html": [
       "<div>\n",
       "<style scoped>\n",
       "    .dataframe tbody tr th:only-of-type {\n",
       "        vertical-align: middle;\n",
       "    }\n",
       "\n",
       "    .dataframe tbody tr th {\n",
       "        vertical-align: top;\n",
       "    }\n",
       "\n",
       "    .dataframe thead th {\n",
       "        text-align: right;\n",
       "    }\n",
       "</style>\n",
       "<table border=\"1\" class=\"dataframe\">\n",
       "  <thead>\n",
       "    <tr style=\"text-align: right;\">\n",
       "      <th></th>\n",
       "      <th>arbitrum_avg_liquidity</th>\n",
       "      <th>day</th>\n",
       "      <th>arbitrum_fee_apr</th>\n",
       "      <th>arbitrum_fee_tier</th>\n",
       "      <th>arbitrum_fees_usd</th>\n",
       "      <th>arbitrum_lp_addr</th>\n",
       "      <th>arbitrum_num_trades</th>\n",
       "      <th>arbitrum_token_pair</th>\n",
       "      <th>arbitrum_tvl_usd</th>\n",
       "      <th>arbitrum_volume_to_tvl</th>\n",
       "      <th>arbitrum_volume_usd</th>\n",
       "    </tr>\n",
       "  </thead>\n",
       "  <tbody>\n",
       "    <tr>\n",
       "      <th>1</th>\n",
       "      <td>2.075720e+16</td>\n",
       "      <td>2024-07-14 00:00:00.000 UTC</td>\n",
       "      <td>0.015918</td>\n",
       "      <td>0.01%</td>\n",
       "      <td>3.056607</td>\n",
       "      <td>0x6f38e884725a116c9c7fbf208e79fe8828a2595f</td>\n",
       "      <td>287</td>\n",
       "      <td>USDC-WETH</td>\n",
       "      <td>7.008980e+04</td>\n",
       "      <td>0.436099</td>\n",
       "      <td>3.056607e+04</td>\n",
       "    </tr>\n",
       "    <tr>\n",
       "      <th>3</th>\n",
       "      <td>4.911041e+18</td>\n",
       "      <td>2024-07-14 00:00:00.000 UTC</td>\n",
       "      <td>0.012910</td>\n",
       "      <td>0.05%</td>\n",
       "      <td>1705.827484</td>\n",
       "      <td>0xc6962004f452be9203591991d15f6b388e09e8d0</td>\n",
       "      <td>845</td>\n",
       "      <td>USDC-WETH</td>\n",
       "      <td>4.822924e+07</td>\n",
       "      <td>0.070738</td>\n",
       "      <td>3.411655e+06</td>\n",
       "    </tr>\n",
       "    <tr>\n",
       "      <th>6</th>\n",
       "      <td>3.276466e+17</td>\n",
       "      <td>2024-07-14 00:00:00.000 UTC</td>\n",
       "      <td>0.006978</td>\n",
       "      <td>0.30%</td>\n",
       "      <td>66.002818</td>\n",
       "      <td>0xc473e2aee3441bf9240be85eb122abb059a3b57c</td>\n",
       "      <td>17</td>\n",
       "      <td>USDC-WETH</td>\n",
       "      <td>3.452572e+06</td>\n",
       "      <td>0.006372</td>\n",
       "      <td>2.200094e+04</td>\n",
       "    </tr>\n",
       "    <tr>\n",
       "      <th>20</th>\n",
       "      <td>2.004641e+16</td>\n",
       "      <td>2024-07-14 01:00:00.000 UTC</td>\n",
       "      <td>0.012878</td>\n",
       "      <td>0.01%</td>\n",
       "      <td>2.474180</td>\n",
       "      <td>0x6f38e884725a116c9c7fbf208e79fe8828a2595f</td>\n",
       "      <td>240</td>\n",
       "      <td>USDC-WETH</td>\n",
       "      <td>7.012752e+04</td>\n",
       "      <td>0.352812</td>\n",
       "      <td>2.474180e+04</td>\n",
       "    </tr>\n",
       "    <tr>\n",
       "      <th>22</th>\n",
       "      <td>5.013677e+18</td>\n",
       "      <td>2024-07-14 01:00:00.000 UTC</td>\n",
       "      <td>0.009503</td>\n",
       "      <td>0.05%</td>\n",
       "      <td>1251.246970</td>\n",
       "      <td>0xc6962004f452be9203591991d15f6b388e09e8d0</td>\n",
       "      <td>736</td>\n",
       "      <td>USDC-WETH</td>\n",
       "      <td>4.805992e+07</td>\n",
       "      <td>0.052070</td>\n",
       "      <td>2.502494e+06</td>\n",
       "    </tr>\n",
       "    <tr>\n",
       "      <th>...</th>\n",
       "      <td>...</td>\n",
       "      <td>...</td>\n",
       "      <td>...</td>\n",
       "      <td>...</td>\n",
       "      <td>...</td>\n",
       "      <td>...</td>\n",
       "      <td>...</td>\n",
       "      <td>...</td>\n",
       "      <td>...</td>\n",
       "      <td>...</td>\n",
       "      <td>...</td>\n",
       "    </tr>\n",
       "    <tr>\n",
       "      <th>3440</th>\n",
       "      <td>8.079644e+17</td>\n",
       "      <td>2024-07-21 00:00:00.000 UTC</td>\n",
       "      <td>0.022752</td>\n",
       "      <td>0.01%</td>\n",
       "      <td>2.999552</td>\n",
       "      <td>0x6f38e884725a116c9c7fbf208e79fe8828a2595f</td>\n",
       "      <td>113</td>\n",
       "      <td>USDC-WETH</td>\n",
       "      <td>4.812054e+04</td>\n",
       "      <td>0.623341</td>\n",
       "      <td>2.999552e+04</td>\n",
       "    </tr>\n",
       "    <tr>\n",
       "      <th>3443</th>\n",
       "      <td>6.643308e+18</td>\n",
       "      <td>2024-07-21 00:00:00.000 UTC</td>\n",
       "      <td>0.009120</td>\n",
       "      <td>0.05%</td>\n",
       "      <td>1365.480618</td>\n",
       "      <td>0xc6962004f452be9203591991d15f6b388e09e8d0</td>\n",
       "      <td>584</td>\n",
       "      <td>USDC-WETH</td>\n",
       "      <td>5.464729e+07</td>\n",
       "      <td>0.049974</td>\n",
       "      <td>2.730961e+06</td>\n",
       "    </tr>\n",
       "    <tr>\n",
       "      <th>3444</th>\n",
       "      <td>4.054406e+17</td>\n",
       "      <td>2024-07-21 00:00:00.000 UTC</td>\n",
       "      <td>0.008527</td>\n",
       "      <td>0.30%</td>\n",
       "      <td>87.044104</td>\n",
       "      <td>0xc473e2aee3441bf9240be85eb122abb059a3b57c</td>\n",
       "      <td>24</td>\n",
       "      <td>USDC-WETH</td>\n",
       "      <td>3.726082e+06</td>\n",
       "      <td>0.007787</td>\n",
       "      <td>2.901470e+04</td>\n",
       "    </tr>\n",
       "    <tr>\n",
       "      <th>3459</th>\n",
       "      <td>7.035460e+18</td>\n",
       "      <td>2024-07-21 01:00:00.000 UTC</td>\n",
       "      <td>0.001572</td>\n",
       "      <td>0.05%</td>\n",
       "      <td>235.281160</td>\n",
       "      <td>0xc6962004f452be9203591991d15f6b388e09e8d0</td>\n",
       "      <td>157</td>\n",
       "      <td>USDC-WETH</td>\n",
       "      <td>5.462336e+07</td>\n",
       "      <td>0.008615</td>\n",
       "      <td>4.705623e+05</td>\n",
       "    </tr>\n",
       "    <tr>\n",
       "      <th>3462</th>\n",
       "      <td>7.898838e+17</td>\n",
       "      <td>2024-07-21 01:00:00.000 UTC</td>\n",
       "      <td>0.000096</td>\n",
       "      <td>0.01%</td>\n",
       "      <td>0.016829</td>\n",
       "      <td>0x6f38e884725a116c9c7fbf208e79fe8828a2595f</td>\n",
       "      <td>19</td>\n",
       "      <td>USDC-WETH</td>\n",
       "      <td>6.394275e+04</td>\n",
       "      <td>0.002632</td>\n",
       "      <td>1.682864e+02</td>\n",
       "    </tr>\n",
       "  </tbody>\n",
       "</table>\n",
       "<p>600 rows × 11 columns</p>\n",
       "</div>"
      ],
      "text/plain": [
       "      arbitrum_avg_liquidity                          day  arbitrum_fee_apr  \\\n",
       "1               2.075720e+16  2024-07-14 00:00:00.000 UTC          0.015918   \n",
       "3               4.911041e+18  2024-07-14 00:00:00.000 UTC          0.012910   \n",
       "6               3.276466e+17  2024-07-14 00:00:00.000 UTC          0.006978   \n",
       "20              2.004641e+16  2024-07-14 01:00:00.000 UTC          0.012878   \n",
       "22              5.013677e+18  2024-07-14 01:00:00.000 UTC          0.009503   \n",
       "...                      ...                          ...               ...   \n",
       "3440            8.079644e+17  2024-07-21 00:00:00.000 UTC          0.022752   \n",
       "3443            6.643308e+18  2024-07-21 00:00:00.000 UTC          0.009120   \n",
       "3444            4.054406e+17  2024-07-21 00:00:00.000 UTC          0.008527   \n",
       "3459            7.035460e+18  2024-07-21 01:00:00.000 UTC          0.001572   \n",
       "3462            7.898838e+17  2024-07-21 01:00:00.000 UTC          0.000096   \n",
       "\n",
       "     arbitrum_fee_tier  arbitrum_fees_usd  \\\n",
       "1                0.01%           3.056607   \n",
       "3                0.05%        1705.827484   \n",
       "6                0.30%          66.002818   \n",
       "20               0.01%           2.474180   \n",
       "22               0.05%        1251.246970   \n",
       "...                ...                ...   \n",
       "3440             0.01%           2.999552   \n",
       "3443             0.05%        1365.480618   \n",
       "3444             0.30%          87.044104   \n",
       "3459             0.05%         235.281160   \n",
       "3462             0.01%           0.016829   \n",
       "\n",
       "                                arbitrum_lp_addr  arbitrum_num_trades  \\\n",
       "1     0x6f38e884725a116c9c7fbf208e79fe8828a2595f                  287   \n",
       "3     0xc6962004f452be9203591991d15f6b388e09e8d0                  845   \n",
       "6     0xc473e2aee3441bf9240be85eb122abb059a3b57c                   17   \n",
       "20    0x6f38e884725a116c9c7fbf208e79fe8828a2595f                  240   \n",
       "22    0xc6962004f452be9203591991d15f6b388e09e8d0                  736   \n",
       "...                                          ...                  ...   \n",
       "3440  0x6f38e884725a116c9c7fbf208e79fe8828a2595f                  113   \n",
       "3443  0xc6962004f452be9203591991d15f6b388e09e8d0                  584   \n",
       "3444  0xc473e2aee3441bf9240be85eb122abb059a3b57c                   24   \n",
       "3459  0xc6962004f452be9203591991d15f6b388e09e8d0                  157   \n",
       "3462  0x6f38e884725a116c9c7fbf208e79fe8828a2595f                   19   \n",
       "\n",
       "     arbitrum_token_pair  arbitrum_tvl_usd  arbitrum_volume_to_tvl  \\\n",
       "1              USDC-WETH      7.008980e+04                0.436099   \n",
       "3              USDC-WETH      4.822924e+07                0.070738   \n",
       "6              USDC-WETH      3.452572e+06                0.006372   \n",
       "20             USDC-WETH      7.012752e+04                0.352812   \n",
       "22             USDC-WETH      4.805992e+07                0.052070   \n",
       "...                  ...               ...                     ...   \n",
       "3440           USDC-WETH      4.812054e+04                0.623341   \n",
       "3443           USDC-WETH      5.464729e+07                0.049974   \n",
       "3444           USDC-WETH      3.726082e+06                0.007787   \n",
       "3459           USDC-WETH      5.462336e+07                0.008615   \n",
       "3462           USDC-WETH      6.394275e+04                0.002632   \n",
       "\n",
       "      arbitrum_volume_usd  \n",
       "1            3.056607e+04  \n",
       "3            3.411655e+06  \n",
       "6            2.200094e+04  \n",
       "20           2.474180e+04  \n",
       "22           2.502494e+06  \n",
       "...                   ...  \n",
       "3440         2.999552e+04  \n",
       "3443         2.730961e+06  \n",
       "3444         2.901470e+04  \n",
       "3459         4.705623e+05  \n",
       "3462         1.682864e+02  \n",
       "\n",
       "[600 rows x 11 columns]"
      ]
     },
     "execution_count": 93,
     "metadata": {},
     "output_type": "execute_result"
    }
   ],
   "source": [
    "arb_pool_df[arb_pool_df['arbitrum_token_pair']=='USDC-WETH']\t"
   ]
  },
  {
   "cell_type": "code",
   "execution_count": 80,
   "metadata": {},
   "outputs": [
    {
     "data": {
      "text/html": [
       "<div>\n",
       "<style scoped>\n",
       "    .dataframe tbody tr th:only-of-type {\n",
       "        vertical-align: middle;\n",
       "    }\n",
       "\n",
       "    .dataframe tbody tr th {\n",
       "        vertical-align: top;\n",
       "    }\n",
       "\n",
       "    .dataframe thead th {\n",
       "        text-align: right;\n",
       "    }\n",
       "</style>\n",
       "<table border=\"1\" class=\"dataframe\">\n",
       "  <thead>\n",
       "    <tr style=\"text-align: right;\">\n",
       "      <th></th>\n",
       "      <th>day</th>\n",
       "      <th>arbitrum_avg_liquidity</th>\n",
       "      <th>arbitrum_fees_usd</th>\n",
       "      <th>arbitrum_tvl_usd</th>\n",
       "      <th>arbitrum_volume_usd</th>\n",
       "      <th>arbitrum_num_trades</th>\n",
       "      <th>arbitrum_volume_to_tvl</th>\n",
       "      <th>arbitrum_token_pair</th>\n",
       "    </tr>\n",
       "  </thead>\n",
       "  <tbody>\n",
       "    <tr>\n",
       "      <th>0</th>\n",
       "      <td>2024-07-14 00:00:00.000 UTC</td>\n",
       "      <td>1.854139e+23</td>\n",
       "      <td>386.685410</td>\n",
       "      <td>3.732390e+06</td>\n",
       "      <td>1.288951e+05</td>\n",
       "      <td>119</td>\n",
       "      <td>0.034534</td>\n",
       "      <td>WETH-ZRO</td>\n",
       "    </tr>\n",
       "    <tr>\n",
       "      <th>10</th>\n",
       "      <td>2024-07-14 00:00:00.000 UTC</td>\n",
       "      <td>1.230389e+22</td>\n",
       "      <td>9.666580</td>\n",
       "      <td>8.040533e+05</td>\n",
       "      <td>9.666580e+02</td>\n",
       "      <td>6</td>\n",
       "      <td>0.001202</td>\n",
       "      <td>WETH-ZRO</td>\n",
       "    </tr>\n",
       "    <tr>\n",
       "      <th>19</th>\n",
       "      <td>2024-07-14 01:00:00.000 UTC</td>\n",
       "      <td>1.760607e+23</td>\n",
       "      <td>243.510673</td>\n",
       "      <td>3.724752e+06</td>\n",
       "      <td>8.117022e+04</td>\n",
       "      <td>77</td>\n",
       "      <td>0.021792</td>\n",
       "      <td>WETH-ZRO</td>\n",
       "    </tr>\n",
       "    <tr>\n",
       "      <th>23</th>\n",
       "      <td>2024-07-14 01:00:00.000 UTC</td>\n",
       "      <td>1.233287e+22</td>\n",
       "      <td>19.675448</td>\n",
       "      <td>8.039304e+05</td>\n",
       "      <td>1.967545e+03</td>\n",
       "      <td>8</td>\n",
       "      <td>0.002447</td>\n",
       "      <td>WETH-ZRO</td>\n",
       "    </tr>\n",
       "    <tr>\n",
       "      <th>37</th>\n",
       "      <td>2024-07-14 02:00:00.000 UTC</td>\n",
       "      <td>1.613444e+23</td>\n",
       "      <td>421.222300</td>\n",
       "      <td>3.691604e+06</td>\n",
       "      <td>1.404074e+05</td>\n",
       "      <td>126</td>\n",
       "      <td>0.038034</td>\n",
       "      <td>WETH-ZRO</td>\n",
       "    </tr>\n",
       "    <tr>\n",
       "      <th>...</th>\n",
       "      <td>...</td>\n",
       "      <td>...</td>\n",
       "      <td>...</td>\n",
       "      <td>...</td>\n",
       "      <td>...</td>\n",
       "      <td>...</td>\n",
       "      <td>...</td>\n",
       "      <td>...</td>\n",
       "    </tr>\n",
       "    <tr>\n",
       "      <th>3421</th>\n",
       "      <td>2024-07-20 23:00:00.000 UTC</td>\n",
       "      <td>1.394003e+23</td>\n",
       "      <td>3955.259495</td>\n",
       "      <td>5.387602e+06</td>\n",
       "      <td>1.318420e+06</td>\n",
       "      <td>958</td>\n",
       "      <td>0.244714</td>\n",
       "      <td>WETH-ZRO</td>\n",
       "    </tr>\n",
       "    <tr>\n",
       "      <th>3422</th>\n",
       "      <td>2024-07-20 23:00:00.000 UTC</td>\n",
       "      <td>8.602772e+21</td>\n",
       "      <td>462.886009</td>\n",
       "      <td>1.082125e+06</td>\n",
       "      <td>4.628860e+04</td>\n",
       "      <td>121</td>\n",
       "      <td>0.042776</td>\n",
       "      <td>WETH-ZRO</td>\n",
       "    </tr>\n",
       "    <tr>\n",
       "      <th>3438</th>\n",
       "      <td>2024-07-21 00:00:00.000 UTC</td>\n",
       "      <td>1.747431e+23</td>\n",
       "      <td>2259.429530</td>\n",
       "      <td>5.430469e+06</td>\n",
       "      <td>7.531432e+05</td>\n",
       "      <td>642</td>\n",
       "      <td>0.138688</td>\n",
       "      <td>WETH-ZRO</td>\n",
       "    </tr>\n",
       "    <tr>\n",
       "      <th>3439</th>\n",
       "      <td>2024-07-21 00:00:00.000 UTC</td>\n",
       "      <td>8.641557e+21</td>\n",
       "      <td>145.222984</td>\n",
       "      <td>1.082115e+06</td>\n",
       "      <td>1.452230e+04</td>\n",
       "      <td>31</td>\n",
       "      <td>0.013420</td>\n",
       "      <td>WETH-ZRO</td>\n",
       "    </tr>\n",
       "    <tr>\n",
       "      <th>3457</th>\n",
       "      <td>2024-07-21 01:00:00.000 UTC</td>\n",
       "      <td>1.588970e+23</td>\n",
       "      <td>623.836085</td>\n",
       "      <td>5.436836e+06</td>\n",
       "      <td>2.079454e+05</td>\n",
       "      <td>156</td>\n",
       "      <td>0.038247</td>\n",
       "      <td>WETH-ZRO</td>\n",
       "    </tr>\n",
       "  </tbody>\n",
       "</table>\n",
       "<p>315 rows × 8 columns</p>\n",
       "</div>"
      ],
      "text/plain": [
       "                              day  arbitrum_avg_liquidity  arbitrum_fees_usd  \\\n",
       "0     2024-07-14 00:00:00.000 UTC            1.854139e+23         386.685410   \n",
       "10    2024-07-14 00:00:00.000 UTC            1.230389e+22           9.666580   \n",
       "19    2024-07-14 01:00:00.000 UTC            1.760607e+23         243.510673   \n",
       "23    2024-07-14 01:00:00.000 UTC            1.233287e+22          19.675448   \n",
       "37    2024-07-14 02:00:00.000 UTC            1.613444e+23         421.222300   \n",
       "...                           ...                     ...                ...   \n",
       "3421  2024-07-20 23:00:00.000 UTC            1.394003e+23        3955.259495   \n",
       "3422  2024-07-20 23:00:00.000 UTC            8.602772e+21         462.886009   \n",
       "3438  2024-07-21 00:00:00.000 UTC            1.747431e+23        2259.429530   \n",
       "3439  2024-07-21 00:00:00.000 UTC            8.641557e+21         145.222984   \n",
       "3457  2024-07-21 01:00:00.000 UTC            1.588970e+23         623.836085   \n",
       "\n",
       "      arbitrum_tvl_usd  arbitrum_volume_usd  arbitrum_num_trades  \\\n",
       "0         3.732390e+06         1.288951e+05                  119   \n",
       "10        8.040533e+05         9.666580e+02                    6   \n",
       "19        3.724752e+06         8.117022e+04                   77   \n",
       "23        8.039304e+05         1.967545e+03                    8   \n",
       "37        3.691604e+06         1.404074e+05                  126   \n",
       "...                ...                  ...                  ...   \n",
       "3421      5.387602e+06         1.318420e+06                  958   \n",
       "3422      1.082125e+06         4.628860e+04                  121   \n",
       "3438      5.430469e+06         7.531432e+05                  642   \n",
       "3439      1.082115e+06         1.452230e+04                   31   \n",
       "3457      5.436836e+06         2.079454e+05                  156   \n",
       "\n",
       "      arbitrum_volume_to_tvl arbitrum_token_pair  \n",
       "0                   0.034534            WETH-ZRO  \n",
       "10                  0.001202            WETH-ZRO  \n",
       "19                  0.021792            WETH-ZRO  \n",
       "23                  0.002447            WETH-ZRO  \n",
       "37                  0.038034            WETH-ZRO  \n",
       "...                      ...                 ...  \n",
       "3421                0.244714            WETH-ZRO  \n",
       "3422                0.042776            WETH-ZRO  \n",
       "3438                0.138688            WETH-ZRO  \n",
       "3439                0.013420            WETH-ZRO  \n",
       "3457                0.038247            WETH-ZRO  \n",
       "\n",
       "[315 rows x 8 columns]"
      ]
     },
     "execution_count": 80,
     "metadata": {},
     "output_type": "execute_result"
    }
   ],
   "source": [
    "weth_zro = arb_pool_df[arb_pool_df['arbitrum_token_pair']=='WETH-ZRO']\n",
    "weth_zro = weth_zro[filtered_cols]\n",
    "weth_zro"
   ]
  },
  {
   "cell_type": "code",
   "execution_count": 81,
   "metadata": {},
   "outputs": [
    {
     "data": {
      "application/vnd.plotly.v1+json": {
       "config": {
        "plotlyServerURL": "https://plot.ly"
       },
       "data": [
        {
         "name": "Liquidity",
         "type": "bar",
         "x": [
          "2024-07-14 00:00:00.000 UTC",
          "2024-07-14 00:00:00.000 UTC",
          "2024-07-14 01:00:00.000 UTC",
          "2024-07-14 01:00:00.000 UTC",
          "2024-07-14 02:00:00.000 UTC",
          "2024-07-14 02:00:00.000 UTC",
          "2024-07-14 03:00:00.000 UTC",
          "2024-07-14 03:00:00.000 UTC",
          "2024-07-14 04:00:00.000 UTC",
          "2024-07-14 04:00:00.000 UTC",
          "2024-07-14 05:00:00.000 UTC",
          "2024-07-14 05:00:00.000 UTC",
          "2024-07-14 06:00:00.000 UTC",
          "2024-07-14 06:00:00.000 UTC",
          "2024-07-14 07:00:00.000 UTC",
          "2024-07-14 07:00:00.000 UTC",
          "2024-07-14 08:00:00.000 UTC",
          "2024-07-14 08:00:00.000 UTC",
          "2024-07-14 09:00:00.000 UTC",
          "2024-07-14 10:00:00.000 UTC",
          "2024-07-14 10:00:00.000 UTC",
          "2024-07-14 11:00:00.000 UTC",
          "2024-07-14 11:00:00.000 UTC",
          "2024-07-14 12:00:00.000 UTC",
          "2024-07-14 13:00:00.000 UTC",
          "2024-07-14 13:00:00.000 UTC",
          "2024-07-14 14:00:00.000 UTC",
          "2024-07-14 14:00:00.000 UTC",
          "2024-07-14 15:00:00.000 UTC",
          "2024-07-14 15:00:00.000 UTC",
          "2024-07-14 16:00:00.000 UTC",
          "2024-07-14 16:00:00.000 UTC",
          "2024-07-14 17:00:00.000 UTC",
          "2024-07-14 17:00:00.000 UTC",
          "2024-07-14 18:00:00.000 UTC",
          "2024-07-14 18:00:00.000 UTC",
          "2024-07-14 19:00:00.000 UTC",
          "2024-07-14 19:00:00.000 UTC",
          "2024-07-14 20:00:00.000 UTC",
          "2024-07-14 20:00:00.000 UTC",
          "2024-07-14 21:00:00.000 UTC",
          "2024-07-14 21:00:00.000 UTC",
          "2024-07-14 22:00:00.000 UTC",
          "2024-07-14 22:00:00.000 UTC",
          "2024-07-14 23:00:00.000 UTC",
          "2024-07-14 23:00:00.000 UTC",
          "2024-07-15 00:00:00.000 UTC",
          "2024-07-15 00:00:00.000 UTC",
          "2024-07-15 01:00:00.000 UTC",
          "2024-07-15 01:00:00.000 UTC",
          "2024-07-15 02:00:00.000 UTC",
          "2024-07-15 02:00:00.000 UTC",
          "2024-07-15 03:00:00.000 UTC",
          "2024-07-15 03:00:00.000 UTC",
          "2024-07-15 04:00:00.000 UTC",
          "2024-07-15 04:00:00.000 UTC",
          "2024-07-15 05:00:00.000 UTC",
          "2024-07-15 05:00:00.000 UTC",
          "2024-07-15 06:00:00.000 UTC",
          "2024-07-15 06:00:00.000 UTC",
          "2024-07-15 07:00:00.000 UTC",
          "2024-07-15 07:00:00.000 UTC",
          "2024-07-15 08:00:00.000 UTC",
          "2024-07-15 08:00:00.000 UTC",
          "2024-07-15 09:00:00.000 UTC",
          "2024-07-15 09:00:00.000 UTC",
          "2024-07-15 10:00:00.000 UTC",
          "2024-07-15 10:00:00.000 UTC",
          "2024-07-15 11:00:00.000 UTC",
          "2024-07-15 11:00:00.000 UTC",
          "2024-07-15 12:00:00.000 UTC",
          "2024-07-15 12:00:00.000 UTC",
          "2024-07-15 13:00:00.000 UTC",
          "2024-07-15 13:00:00.000 UTC",
          "2024-07-15 14:00:00.000 UTC",
          "2024-07-15 14:00:00.000 UTC",
          "2024-07-15 15:00:00.000 UTC",
          "2024-07-15 15:00:00.000 UTC",
          "2024-07-15 16:00:00.000 UTC",
          "2024-07-15 17:00:00.000 UTC",
          "2024-07-15 17:00:00.000 UTC",
          "2024-07-15 18:00:00.000 UTC",
          "2024-07-15 18:00:00.000 UTC",
          "2024-07-15 19:00:00.000 UTC",
          "2024-07-15 19:00:00.000 UTC",
          "2024-07-15 20:00:00.000 UTC",
          "2024-07-15 20:00:00.000 UTC",
          "2024-07-15 21:00:00.000 UTC",
          "2024-07-15 21:00:00.000 UTC",
          "2024-07-15 22:00:00.000 UTC",
          "2024-07-15 22:00:00.000 UTC",
          "2024-07-15 23:00:00.000 UTC",
          "2024-07-15 23:00:00.000 UTC",
          "2024-07-16 00:00:00.000 UTC",
          "2024-07-16 00:00:00.000 UTC",
          "2024-07-16 01:00:00.000 UTC",
          "2024-07-16 01:00:00.000 UTC",
          "2024-07-16 02:00:00.000 UTC",
          "2024-07-16 02:00:00.000 UTC",
          "2024-07-16 03:00:00.000 UTC",
          "2024-07-16 03:00:00.000 UTC",
          "2024-07-16 04:00:00.000 UTC",
          "2024-07-16 04:00:00.000 UTC",
          "2024-07-16 05:00:00.000 UTC",
          "2024-07-16 05:00:00.000 UTC",
          "2024-07-16 06:00:00.000 UTC",
          "2024-07-16 06:00:00.000 UTC",
          "2024-07-16 07:00:00.000 UTC",
          "2024-07-16 07:00:00.000 UTC",
          "2024-07-16 08:00:00.000 UTC",
          "2024-07-16 08:00:00.000 UTC",
          "2024-07-16 09:00:00.000 UTC",
          "2024-07-16 09:00:00.000 UTC",
          "2024-07-16 10:00:00.000 UTC",
          "2024-07-16 11:00:00.000 UTC",
          "2024-07-16 12:00:00.000 UTC",
          "2024-07-16 12:00:00.000 UTC",
          "2024-07-16 13:00:00.000 UTC",
          "2024-07-16 13:00:00.000 UTC",
          "2024-07-16 14:00:00.000 UTC",
          "2024-07-16 15:00:00.000 UTC",
          "2024-07-16 15:00:00.000 UTC",
          "2024-07-16 16:00:00.000 UTC",
          "2024-07-16 16:00:00.000 UTC",
          "2024-07-16 17:00:00.000 UTC",
          "2024-07-16 18:00:00.000 UTC",
          "2024-07-16 18:00:00.000 UTC",
          "2024-07-16 19:00:00.000 UTC",
          "2024-07-16 19:00:00.000 UTC",
          "2024-07-16 20:00:00.000 UTC",
          "2024-07-16 20:00:00.000 UTC",
          "2024-07-16 21:00:00.000 UTC",
          "2024-07-16 22:00:00.000 UTC",
          "2024-07-16 22:00:00.000 UTC",
          "2024-07-16 23:00:00.000 UTC",
          "2024-07-17 00:00:00.000 UTC",
          "2024-07-17 00:00:00.000 UTC",
          "2024-07-17 01:00:00.000 UTC",
          "2024-07-17 01:00:00.000 UTC",
          "2024-07-17 02:00:00.000 UTC",
          "2024-07-17 02:00:00.000 UTC",
          "2024-07-17 03:00:00.000 UTC",
          "2024-07-17 03:00:00.000 UTC",
          "2024-07-17 04:00:00.000 UTC",
          "2024-07-17 04:00:00.000 UTC",
          "2024-07-17 05:00:00.000 UTC",
          "2024-07-17 05:00:00.000 UTC",
          "2024-07-17 06:00:00.000 UTC",
          "2024-07-17 06:00:00.000 UTC",
          "2024-07-17 07:00:00.000 UTC",
          "2024-07-17 07:00:00.000 UTC",
          "2024-07-17 08:00:00.000 UTC",
          "2024-07-17 08:00:00.000 UTC",
          "2024-07-17 09:00:00.000 UTC",
          "2024-07-17 09:00:00.000 UTC",
          "2024-07-17 10:00:00.000 UTC",
          "2024-07-17 10:00:00.000 UTC",
          "2024-07-17 11:00:00.000 UTC",
          "2024-07-17 11:00:00.000 UTC",
          "2024-07-17 12:00:00.000 UTC",
          "2024-07-17 12:00:00.000 UTC",
          "2024-07-17 13:00:00.000 UTC",
          "2024-07-17 13:00:00.000 UTC",
          "2024-07-17 14:00:00.000 UTC",
          "2024-07-17 14:00:00.000 UTC",
          "2024-07-17 15:00:00.000 UTC",
          "2024-07-17 15:00:00.000 UTC",
          "2024-07-17 16:00:00.000 UTC",
          "2024-07-17 17:00:00.000 UTC",
          "2024-07-17 17:00:00.000 UTC",
          "2024-07-17 18:00:00.000 UTC",
          "2024-07-17 19:00:00.000 UTC",
          "2024-07-17 20:00:00.000 UTC",
          "2024-07-17 20:00:00.000 UTC",
          "2024-07-17 21:00:00.000 UTC",
          "2024-07-17 22:00:00.000 UTC",
          "2024-07-17 22:00:00.000 UTC",
          "2024-07-17 23:00:00.000 UTC",
          "2024-07-17 23:00:00.000 UTC",
          "2024-07-18 00:00:00.000 UTC",
          "2024-07-18 01:00:00.000 UTC",
          "2024-07-18 01:00:00.000 UTC",
          "2024-07-18 02:00:00.000 UTC",
          "2024-07-18 02:00:00.000 UTC",
          "2024-07-18 03:00:00.000 UTC",
          "2024-07-18 03:00:00.000 UTC",
          "2024-07-18 04:00:00.000 UTC",
          "2024-07-18 04:00:00.000 UTC",
          "2024-07-18 05:00:00.000 UTC",
          "2024-07-18 05:00:00.000 UTC",
          "2024-07-18 06:00:00.000 UTC",
          "2024-07-18 07:00:00.000 UTC",
          "2024-07-18 07:00:00.000 UTC",
          "2024-07-18 08:00:00.000 UTC",
          "2024-07-18 08:00:00.000 UTC",
          "2024-07-18 09:00:00.000 UTC",
          "2024-07-18 10:00:00.000 UTC",
          "2024-07-18 10:00:00.000 UTC",
          "2024-07-18 11:00:00.000 UTC",
          "2024-07-18 11:00:00.000 UTC",
          "2024-07-18 12:00:00.000 UTC",
          "2024-07-18 12:00:00.000 UTC",
          "2024-07-18 13:00:00.000 UTC",
          "2024-07-18 13:00:00.000 UTC",
          "2024-07-18 14:00:00.000 UTC",
          "2024-07-18 14:00:00.000 UTC",
          "2024-07-18 15:00:00.000 UTC",
          "2024-07-18 15:00:00.000 UTC",
          "2024-07-18 16:00:00.000 UTC",
          "2024-07-18 16:00:00.000 UTC",
          "2024-07-18 17:00:00.000 UTC",
          "2024-07-18 17:00:00.000 UTC",
          "2024-07-18 18:00:00.000 UTC",
          "2024-07-18 18:00:00.000 UTC",
          "2024-07-18 19:00:00.000 UTC",
          "2024-07-18 19:00:00.000 UTC",
          "2024-07-18 20:00:00.000 UTC",
          "2024-07-18 21:00:00.000 UTC",
          "2024-07-18 21:00:00.000 UTC",
          "2024-07-18 22:00:00.000 UTC",
          "2024-07-18 23:00:00.000 UTC",
          "2024-07-18 23:00:00.000 UTC",
          "2024-07-19 00:00:00.000 UTC",
          "2024-07-19 00:00:00.000 UTC",
          "2024-07-19 01:00:00.000 UTC",
          "2024-07-19 01:00:00.000 UTC",
          "2024-07-19 02:00:00.000 UTC",
          "2024-07-19 03:00:00.000 UTC",
          "2024-07-19 03:00:00.000 UTC",
          "2024-07-19 04:00:00.000 UTC",
          "2024-07-19 04:00:00.000 UTC",
          "2024-07-19 05:00:00.000 UTC",
          "2024-07-19 05:00:00.000 UTC",
          "2024-07-19 06:00:00.000 UTC",
          "2024-07-19 07:00:00.000 UTC",
          "2024-07-19 07:00:00.000 UTC",
          "2024-07-19 08:00:00.000 UTC",
          "2024-07-19 08:00:00.000 UTC",
          "2024-07-19 09:00:00.000 UTC",
          "2024-07-19 09:00:00.000 UTC",
          "2024-07-19 10:00:00.000 UTC",
          "2024-07-19 11:00:00.000 UTC",
          "2024-07-19 12:00:00.000 UTC",
          "2024-07-19 12:00:00.000 UTC",
          "2024-07-19 13:00:00.000 UTC",
          "2024-07-19 13:00:00.000 UTC",
          "2024-07-19 14:00:00.000 UTC",
          "2024-07-19 14:00:00.000 UTC",
          "2024-07-19 15:00:00.000 UTC",
          "2024-07-19 15:00:00.000 UTC",
          "2024-07-19 16:00:00.000 UTC",
          "2024-07-19 17:00:00.000 UTC",
          "2024-07-19 17:00:00.000 UTC",
          "2024-07-19 18:00:00.000 UTC",
          "2024-07-19 19:00:00.000 UTC",
          "2024-07-19 19:00:00.000 UTC",
          "2024-07-19 20:00:00.000 UTC",
          "2024-07-19 20:00:00.000 UTC",
          "2024-07-19 21:00:00.000 UTC",
          "2024-07-19 21:00:00.000 UTC",
          "2024-07-19 22:00:00.000 UTC",
          "2024-07-19 22:00:00.000 UTC",
          "2024-07-19 23:00:00.000 UTC",
          "2024-07-19 23:00:00.000 UTC",
          "2024-07-20 00:00:00.000 UTC",
          "2024-07-20 00:00:00.000 UTC",
          "2024-07-20 01:00:00.000 UTC",
          "2024-07-20 01:00:00.000 UTC",
          "2024-07-20 02:00:00.000 UTC",
          "2024-07-20 02:00:00.000 UTC",
          "2024-07-20 03:00:00.000 UTC",
          "2024-07-20 03:00:00.000 UTC",
          "2024-07-20 04:00:00.000 UTC",
          "2024-07-20 04:00:00.000 UTC",
          "2024-07-20 05:00:00.000 UTC",
          "2024-07-20 05:00:00.000 UTC",
          "2024-07-20 06:00:00.000 UTC",
          "2024-07-20 06:00:00.000 UTC",
          "2024-07-20 07:00:00.000 UTC",
          "2024-07-20 07:00:00.000 UTC",
          "2024-07-20 08:00:00.000 UTC",
          "2024-07-20 08:00:00.000 UTC",
          "2024-07-20 09:00:00.000 UTC",
          "2024-07-20 09:00:00.000 UTC",
          "2024-07-20 10:00:00.000 UTC",
          "2024-07-20 10:00:00.000 UTC",
          "2024-07-20 11:00:00.000 UTC",
          "2024-07-20 11:00:00.000 UTC",
          "2024-07-20 12:00:00.000 UTC",
          "2024-07-20 12:00:00.000 UTC",
          "2024-07-20 13:00:00.000 UTC",
          "2024-07-20 13:00:00.000 UTC",
          "2024-07-20 14:00:00.000 UTC",
          "2024-07-20 14:00:00.000 UTC",
          "2024-07-20 15:00:00.000 UTC",
          "2024-07-20 15:00:00.000 UTC",
          "2024-07-20 16:00:00.000 UTC",
          "2024-07-20 16:00:00.000 UTC",
          "2024-07-20 17:00:00.000 UTC",
          "2024-07-20 17:00:00.000 UTC",
          "2024-07-20 18:00:00.000 UTC",
          "2024-07-20 18:00:00.000 UTC",
          "2024-07-20 19:00:00.000 UTC",
          "2024-07-20 19:00:00.000 UTC",
          "2024-07-20 20:00:00.000 UTC",
          "2024-07-20 20:00:00.000 UTC",
          "2024-07-20 21:00:00.000 UTC",
          "2024-07-20 21:00:00.000 UTC",
          "2024-07-20 22:00:00.000 UTC",
          "2024-07-20 22:00:00.000 UTC",
          "2024-07-20 23:00:00.000 UTC",
          "2024-07-20 23:00:00.000 UTC",
          "2024-07-21 00:00:00.000 UTC",
          "2024-07-21 00:00:00.000 UTC",
          "2024-07-21 01:00:00.000 UTC"
         ],
         "xaxis": "x",
         "y": [
          1.8541385707212253e+23,
          1.230388830694113e+22,
          1.7606065581299863e+23,
          1.2332865300949352e+22,
          1.613444154599952e+23,
          1.2098899801227429e+22,
          1.508496107749762e+23,
          1.1113216690667022e+22,
          1.6106929283189307e+23,
          1.1127002749270147e+22,
          1.7445801114256885e+23,
          1.1615955046572797e+22,
          1.909192642386025e+23,
          1.262426104279884e+22,
          1.68936116554987e+23,
          1.262291683916234e+22,
          1.7904623706914918e+23,
          1.2622230840745149e+22,
          1.826468302053606e+23,
          1.8204429528383903e+23,
          1.254124551050527e+22,
          1.852706272969499e+23,
          1.2532647308083998e+22,
          1.8652178312302944e+23,
          1.913912286307757e+23,
          1.2480898373044182e+22,
          1.8682733711064846e+23,
          1.160438359511712e+22,
          1.652603496437423e+23,
          1.1061305642549158e+22,
          2.1046293599086347e+23,
          1.2805482734803384e+22,
          2.0854590621049496e+23,
          1.3039542636194745e+22,
          2.183538725820887e+23,
          1.3040972401947957e+22,
          2.0818599261782345e+23,
          1.2892818124147387e+22,
          2.077717488432537e+23,
          1.7885266619409642e+22,
          2.1215215987129725e+23,
          2.049213530733205e+22,
          2.1391446508523952e+23,
          2.049871716922604e+22,
          1.9344875691369886e+23,
          2.0499392365938208e+22,
          1.9346909112336865e+23,
          2.0496491882519017e+22,
          1.8652577343167308e+23,
          2.0155463529844395e+22,
          1.7926037706895117e+23,
          2.064604735039466e+22,
          1.8124431954728876e+23,
          2.1256525895828748e+22,
          1.814814546764037e+23,
          1.8662579899699248e+22,
          1.8307393993879597e+23,
          1.5429547828829812e+22,
          1.866475844765118e+23,
          1.558531962200421e+22,
          1.855187533203023e+23,
          2.050514805473721e+22,
          1.8051855107291992e+23,
          2.182956066678679e+22,
          1.8239132110818616e+23,
          2.1965307495216312e+22,
          1.935814444685988e+23,
          2.187576874891281e+22,
          1.971913887750423e+23,
          2.1890611165745224e+22,
          1.949626434543228e+23,
          2.189303693987597e+22,
          2.025478202221799e+23,
          2.189576715842241e+22,
          2.190357822320533e+22,
          1.9028314319064016e+23,
          1.95337962027546e+23,
          2.1899302651801905e+22,
          2.267870867502235e+23,
          2.1732586784305863e+23,
          1.897230435154671e+22,
          1.9363698304111896e+23,
          1.4902636732509718e+22,
          2.105510432075335e+23,
          1.4948241560591005e+22,
          1.970306075774413e+23,
          1.5039972111336868e+22,
          2.218360987412899e+23,
          1.47926144250283e+22,
          2.3311438896954754e+23,
          1.805868110696396e+22,
          2.2716316750192105e+23,
          2.978168922000088e+22,
          1.983669047255553e+23,
          2.9666211022118635e+22,
          2.047187556938371e+23,
          2.9666216665695738e+22,
          2.050770004716326e+23,
          2.2258637604788925e+22,
          1.9696486658001187e+23,
          2.2412237615357137e+22,
          2.241591287172815e+22,
          1.946290631388297e+23,
          2.26511136297689e+22,
          1.9251420716151008e+23,
          1.7285545110389848e+23,
          2.2671798637192995e+22,
          1.4130346466901558e+23,
          2.23666590792256e+22,
          2.1084970656488653e+22,
          1.710030003536752e+23,
          1.8669349008773296e+23,
          2.249094171708609e+22,
          1.8693594915593868e+23,
          1.8764440765742927e+23,
          1.941178844119372e+23,
          2.2325388701837245e+22,
          1.9950748666238368e+23,
          2.220026095481925e+22,
          2.149377570856048e+23,
          2.2543905581389956e+23,
          2.2801311507849427e+22,
          2.461372538629313e+23,
          2.27616655047751e+22,
          2.5543646975008944e+23,
          2.546193916367197e+23,
          2.268360694451771e+22,
          2.167871460026172e+23,
          2.265709285736919e+22,
          1.9409048059995666e+23,
          2.2655784174201432e+22,
          2.19209809851494e+23,
          3.08066105729306e+23,
          2.261537780748995e+22,
          2.9034568305775475e+23,
          2.1895003151923387e+23,
          2.2761422829456663e+22,
          2.0412136388701807e+23,
          2.257629501741999e+22,
          2.7905628823971275e+22,
          1.9115742492561947e+23,
          1.899271647837997e+23,
          2.925491274288144e+22,
          2.971062160829363e+22,
          1.9724043561644847e+23,
          1.917566839200772e+23,
          2.9745191101781997e+22,
          2.019514438530263e+23,
          2.974838891869856e+22,
          2.9917194330977813e+22,
          2.0590446381378825e+23,
          2.0211072584981724e+23,
          2.5412066363250965e+22,
          2.2436141915984137e+22,
          2.0802845125298594e+23,
          2.7360041767317394e+22,
          2.005371411284178e+23,
          2.0510800384292863e+23,
          2.98333425611928e+22,
          2.1274507132901185e+23,
          2.9836906168459687e+22,
          2.1497724429213123e+23,
          2.978734883978154e+22,
          2.1005174761616015e+23,
          2.971179533184484e+22,
          2.381952429866603e+23,
          2.973008274403671e+22,
          3.4219957550087616e+23,
          3.2823200979207856e+23,
          2.9709231873321194e+22,
          4.4599823641404815e+23,
          2.0992185298534646e+23,
          2.677027748027912e+23,
          2.2563542908847e+22,
          2.8013640738368926e+23,
          2.0625355398320725e+23,
          2.299566248289344e+22,
          2.098753664022321e+23,
          2.2991443144154603e+22,
          2.135368788203208e+23,
          2.0795924547565728e+23,
          2.862999728773706e+22,
          2.1138981806075595e+23,
          3.0253894335859777e+22,
          2.1475432873144292e+23,
          3.01580715758849e+22,
          3.0192340007333277e+22,
          2.1421964970329533e+23,
          3.0202934983442878e+22,
          2.1295607861265785e+23,
          2.210313645532997e+23,
          2.132289914572346e+23,
          2.3677157734209605e+22,
          1.9583325095342543e+23,
          2.340273964980996e+22,
          2.076740981848263e+23,
          2.163405338819787e+23,
          2.3571669900745e+22,
          2.196944388239616e+23,
          2.3550979284847104e+22,
          2.272809540083478e+23,
          2.3572247660665827e+22,
          2.338880066535671e+22,
          2.0987765172380703e+23,
          2.320194889149123e+22,
          1.6595492024197438e+23,
          1.932945696206044e+22,
          1.4147560261859524e+23,
          1.7333699797665804e+23,
          2.049962169904876e+22,
          2.249271294448339e+22,
          2.0885092528113696e+23,
          2.1212558809525177e+23,
          2.334351461981957e+22,
          1.9842494933192653e+23,
          2.3381844462105688e+22,
          1.909119049971369e+23,
          1.867504033474439e+23,
          2.338338991608683e+22,
          2.012383555407576e+23,
          2.064040769525685e+23,
          2.338338991608683e+22,
          1.8612915684697647e+23,
          2.278785653067556e+22,
          1.5757429045482974e+23,
          2.106043718360232e+22,
          1.5615513577159574e+23,
          1.7474226278666793e+23,
          2.0610993274124077e+22,
          1.8106076221464627e+23,
          2.0611168525547643e+22,
          1.518580149923059e+23,
          2.058426530188264e+22,
          1.5575199312620464e+23,
          2.050930845892354e+22,
          1.5040470207236554e+23,
          1.4803229090569574e+23,
          1.78250315362336e+22,
          1.73487278416874e+23,
          1.3150010463554502e+22,
          1.7260790152376153e+23,
          1.861036849274368e+23,
          1.925475333193859e+23,
          1.288656564325056e+22,
          1.9119071163718707e+23,
          1.6444692961372303e+22,
          2.0625510560394185e+23,
          2.001111048132891e+22,
          2.1391138290793145e+23,
          1.9879862854279764e+22,
          2.108663885260549e+23,
          2.0938781588250416e+23,
          1.9831734775025144e+22,
          1.994226945338454e+23,
          1.927224638193385e+23,
          1.9861433759312327e+22,
          2.0781288869270757e+23,
          1.9916952766864907e+22,
          2.0316612014151725e+23,
          1.991713444807742e+22,
          2.0759544275327265e+23,
          1.989906398149512e+22,
          2.0929478090911337e+23,
          1.979828163076077e+22,
          2.114442912047942e+23,
          1.961597092575511e+22,
          1.8120077275335622e+23,
          1.5577547394524144e+22,
          2.134409239709133e+23,
          1.1775898916747022e+22,
          2.243489135474025e+23,
          1.1821312657869695e+22,
          1.8077007294590796e+22,
          2.1884565015147445e+23,
          2.142697189264227e+23,
          1.9115255965918e+22,
          2.211207054399032e+23,
          2.0229135463979304e+22,
          2.0833649402815787e+23,
          2.143766334952412e+22,
          1.8969057770716927e+23,
          2.2863166090507727e+22,
          2.036804922798352e+23,
          2.6680138266527004e+22,
          1.9879248930862863e+23,
          2.877503216873881e+22,
          2.028412895298103e+23,
          2.87750321687388e+22,
          2.8535942955370023e+22,
          1.9465105927733016e+23,
          2.855816885770233e+22,
          1.5778388350536512e+23,
          1.2344945600535412e+23,
          1.88998752817179e+22,
          1.4536725438047465e+23,
          1.7742393601438383e+22,
          1.5560017852404853e+23,
          1.7401985022736825e+22,
          1.583480138342577e+23,
          1.7503904249116508e+22,
          1.3495827979176438e+23,
          1.485386928046666e+22,
          1.392040611759535e+23,
          9.082587647332932e+21,
          1.6535294692134813e+23,
          9.27586075553089e+21,
          1.557007722066565e+23,
          9.008443483743004e+21,
          1.8325273118692108e+23,
          8.967164729074682e+21,
          1.394002878375437e+23,
          8.602771763368604e+21,
          1.7474309058940377e+23,
          8.641556940294771e+21,
          1.588969693618823e+23
         ],
         "yaxis": "y"
        },
        {
         "mode": "lines",
         "name": "# Of Trades",
         "type": "scatter",
         "x": [
          "2024-07-14 00:00:00.000 UTC",
          "2024-07-14 00:00:00.000 UTC",
          "2024-07-14 01:00:00.000 UTC",
          "2024-07-14 01:00:00.000 UTC",
          "2024-07-14 02:00:00.000 UTC",
          "2024-07-14 02:00:00.000 UTC",
          "2024-07-14 03:00:00.000 UTC",
          "2024-07-14 03:00:00.000 UTC",
          "2024-07-14 04:00:00.000 UTC",
          "2024-07-14 04:00:00.000 UTC",
          "2024-07-14 05:00:00.000 UTC",
          "2024-07-14 05:00:00.000 UTC",
          "2024-07-14 06:00:00.000 UTC",
          "2024-07-14 06:00:00.000 UTC",
          "2024-07-14 07:00:00.000 UTC",
          "2024-07-14 07:00:00.000 UTC",
          "2024-07-14 08:00:00.000 UTC",
          "2024-07-14 08:00:00.000 UTC",
          "2024-07-14 09:00:00.000 UTC",
          "2024-07-14 10:00:00.000 UTC",
          "2024-07-14 10:00:00.000 UTC",
          "2024-07-14 11:00:00.000 UTC",
          "2024-07-14 11:00:00.000 UTC",
          "2024-07-14 12:00:00.000 UTC",
          "2024-07-14 13:00:00.000 UTC",
          "2024-07-14 13:00:00.000 UTC",
          "2024-07-14 14:00:00.000 UTC",
          "2024-07-14 14:00:00.000 UTC",
          "2024-07-14 15:00:00.000 UTC",
          "2024-07-14 15:00:00.000 UTC",
          "2024-07-14 16:00:00.000 UTC",
          "2024-07-14 16:00:00.000 UTC",
          "2024-07-14 17:00:00.000 UTC",
          "2024-07-14 17:00:00.000 UTC",
          "2024-07-14 18:00:00.000 UTC",
          "2024-07-14 18:00:00.000 UTC",
          "2024-07-14 19:00:00.000 UTC",
          "2024-07-14 19:00:00.000 UTC",
          "2024-07-14 20:00:00.000 UTC",
          "2024-07-14 20:00:00.000 UTC",
          "2024-07-14 21:00:00.000 UTC",
          "2024-07-14 21:00:00.000 UTC",
          "2024-07-14 22:00:00.000 UTC",
          "2024-07-14 22:00:00.000 UTC",
          "2024-07-14 23:00:00.000 UTC",
          "2024-07-14 23:00:00.000 UTC",
          "2024-07-15 00:00:00.000 UTC",
          "2024-07-15 00:00:00.000 UTC",
          "2024-07-15 01:00:00.000 UTC",
          "2024-07-15 01:00:00.000 UTC",
          "2024-07-15 02:00:00.000 UTC",
          "2024-07-15 02:00:00.000 UTC",
          "2024-07-15 03:00:00.000 UTC",
          "2024-07-15 03:00:00.000 UTC",
          "2024-07-15 04:00:00.000 UTC",
          "2024-07-15 04:00:00.000 UTC",
          "2024-07-15 05:00:00.000 UTC",
          "2024-07-15 05:00:00.000 UTC",
          "2024-07-15 06:00:00.000 UTC",
          "2024-07-15 06:00:00.000 UTC",
          "2024-07-15 07:00:00.000 UTC",
          "2024-07-15 07:00:00.000 UTC",
          "2024-07-15 08:00:00.000 UTC",
          "2024-07-15 08:00:00.000 UTC",
          "2024-07-15 09:00:00.000 UTC",
          "2024-07-15 09:00:00.000 UTC",
          "2024-07-15 10:00:00.000 UTC",
          "2024-07-15 10:00:00.000 UTC",
          "2024-07-15 11:00:00.000 UTC",
          "2024-07-15 11:00:00.000 UTC",
          "2024-07-15 12:00:00.000 UTC",
          "2024-07-15 12:00:00.000 UTC",
          "2024-07-15 13:00:00.000 UTC",
          "2024-07-15 13:00:00.000 UTC",
          "2024-07-15 14:00:00.000 UTC",
          "2024-07-15 14:00:00.000 UTC",
          "2024-07-15 15:00:00.000 UTC",
          "2024-07-15 15:00:00.000 UTC",
          "2024-07-15 16:00:00.000 UTC",
          "2024-07-15 17:00:00.000 UTC",
          "2024-07-15 17:00:00.000 UTC",
          "2024-07-15 18:00:00.000 UTC",
          "2024-07-15 18:00:00.000 UTC",
          "2024-07-15 19:00:00.000 UTC",
          "2024-07-15 19:00:00.000 UTC",
          "2024-07-15 20:00:00.000 UTC",
          "2024-07-15 20:00:00.000 UTC",
          "2024-07-15 21:00:00.000 UTC",
          "2024-07-15 21:00:00.000 UTC",
          "2024-07-15 22:00:00.000 UTC",
          "2024-07-15 22:00:00.000 UTC",
          "2024-07-15 23:00:00.000 UTC",
          "2024-07-15 23:00:00.000 UTC",
          "2024-07-16 00:00:00.000 UTC",
          "2024-07-16 00:00:00.000 UTC",
          "2024-07-16 01:00:00.000 UTC",
          "2024-07-16 01:00:00.000 UTC",
          "2024-07-16 02:00:00.000 UTC",
          "2024-07-16 02:00:00.000 UTC",
          "2024-07-16 03:00:00.000 UTC",
          "2024-07-16 03:00:00.000 UTC",
          "2024-07-16 04:00:00.000 UTC",
          "2024-07-16 04:00:00.000 UTC",
          "2024-07-16 05:00:00.000 UTC",
          "2024-07-16 05:00:00.000 UTC",
          "2024-07-16 06:00:00.000 UTC",
          "2024-07-16 06:00:00.000 UTC",
          "2024-07-16 07:00:00.000 UTC",
          "2024-07-16 07:00:00.000 UTC",
          "2024-07-16 08:00:00.000 UTC",
          "2024-07-16 08:00:00.000 UTC",
          "2024-07-16 09:00:00.000 UTC",
          "2024-07-16 09:00:00.000 UTC",
          "2024-07-16 10:00:00.000 UTC",
          "2024-07-16 11:00:00.000 UTC",
          "2024-07-16 12:00:00.000 UTC",
          "2024-07-16 12:00:00.000 UTC",
          "2024-07-16 13:00:00.000 UTC",
          "2024-07-16 13:00:00.000 UTC",
          "2024-07-16 14:00:00.000 UTC",
          "2024-07-16 15:00:00.000 UTC",
          "2024-07-16 15:00:00.000 UTC",
          "2024-07-16 16:00:00.000 UTC",
          "2024-07-16 16:00:00.000 UTC",
          "2024-07-16 17:00:00.000 UTC",
          "2024-07-16 18:00:00.000 UTC",
          "2024-07-16 18:00:00.000 UTC",
          "2024-07-16 19:00:00.000 UTC",
          "2024-07-16 19:00:00.000 UTC",
          "2024-07-16 20:00:00.000 UTC",
          "2024-07-16 20:00:00.000 UTC",
          "2024-07-16 21:00:00.000 UTC",
          "2024-07-16 22:00:00.000 UTC",
          "2024-07-16 22:00:00.000 UTC",
          "2024-07-16 23:00:00.000 UTC",
          "2024-07-17 00:00:00.000 UTC",
          "2024-07-17 00:00:00.000 UTC",
          "2024-07-17 01:00:00.000 UTC",
          "2024-07-17 01:00:00.000 UTC",
          "2024-07-17 02:00:00.000 UTC",
          "2024-07-17 02:00:00.000 UTC",
          "2024-07-17 03:00:00.000 UTC",
          "2024-07-17 03:00:00.000 UTC",
          "2024-07-17 04:00:00.000 UTC",
          "2024-07-17 04:00:00.000 UTC",
          "2024-07-17 05:00:00.000 UTC",
          "2024-07-17 05:00:00.000 UTC",
          "2024-07-17 06:00:00.000 UTC",
          "2024-07-17 06:00:00.000 UTC",
          "2024-07-17 07:00:00.000 UTC",
          "2024-07-17 07:00:00.000 UTC",
          "2024-07-17 08:00:00.000 UTC",
          "2024-07-17 08:00:00.000 UTC",
          "2024-07-17 09:00:00.000 UTC",
          "2024-07-17 09:00:00.000 UTC",
          "2024-07-17 10:00:00.000 UTC",
          "2024-07-17 10:00:00.000 UTC",
          "2024-07-17 11:00:00.000 UTC",
          "2024-07-17 11:00:00.000 UTC",
          "2024-07-17 12:00:00.000 UTC",
          "2024-07-17 12:00:00.000 UTC",
          "2024-07-17 13:00:00.000 UTC",
          "2024-07-17 13:00:00.000 UTC",
          "2024-07-17 14:00:00.000 UTC",
          "2024-07-17 14:00:00.000 UTC",
          "2024-07-17 15:00:00.000 UTC",
          "2024-07-17 15:00:00.000 UTC",
          "2024-07-17 16:00:00.000 UTC",
          "2024-07-17 17:00:00.000 UTC",
          "2024-07-17 17:00:00.000 UTC",
          "2024-07-17 18:00:00.000 UTC",
          "2024-07-17 19:00:00.000 UTC",
          "2024-07-17 20:00:00.000 UTC",
          "2024-07-17 20:00:00.000 UTC",
          "2024-07-17 21:00:00.000 UTC",
          "2024-07-17 22:00:00.000 UTC",
          "2024-07-17 22:00:00.000 UTC",
          "2024-07-17 23:00:00.000 UTC",
          "2024-07-17 23:00:00.000 UTC",
          "2024-07-18 00:00:00.000 UTC",
          "2024-07-18 01:00:00.000 UTC",
          "2024-07-18 01:00:00.000 UTC",
          "2024-07-18 02:00:00.000 UTC",
          "2024-07-18 02:00:00.000 UTC",
          "2024-07-18 03:00:00.000 UTC",
          "2024-07-18 03:00:00.000 UTC",
          "2024-07-18 04:00:00.000 UTC",
          "2024-07-18 04:00:00.000 UTC",
          "2024-07-18 05:00:00.000 UTC",
          "2024-07-18 05:00:00.000 UTC",
          "2024-07-18 06:00:00.000 UTC",
          "2024-07-18 07:00:00.000 UTC",
          "2024-07-18 07:00:00.000 UTC",
          "2024-07-18 08:00:00.000 UTC",
          "2024-07-18 08:00:00.000 UTC",
          "2024-07-18 09:00:00.000 UTC",
          "2024-07-18 10:00:00.000 UTC",
          "2024-07-18 10:00:00.000 UTC",
          "2024-07-18 11:00:00.000 UTC",
          "2024-07-18 11:00:00.000 UTC",
          "2024-07-18 12:00:00.000 UTC",
          "2024-07-18 12:00:00.000 UTC",
          "2024-07-18 13:00:00.000 UTC",
          "2024-07-18 13:00:00.000 UTC",
          "2024-07-18 14:00:00.000 UTC",
          "2024-07-18 14:00:00.000 UTC",
          "2024-07-18 15:00:00.000 UTC",
          "2024-07-18 15:00:00.000 UTC",
          "2024-07-18 16:00:00.000 UTC",
          "2024-07-18 16:00:00.000 UTC",
          "2024-07-18 17:00:00.000 UTC",
          "2024-07-18 17:00:00.000 UTC",
          "2024-07-18 18:00:00.000 UTC",
          "2024-07-18 18:00:00.000 UTC",
          "2024-07-18 19:00:00.000 UTC",
          "2024-07-18 19:00:00.000 UTC",
          "2024-07-18 20:00:00.000 UTC",
          "2024-07-18 21:00:00.000 UTC",
          "2024-07-18 21:00:00.000 UTC",
          "2024-07-18 22:00:00.000 UTC",
          "2024-07-18 23:00:00.000 UTC",
          "2024-07-18 23:00:00.000 UTC",
          "2024-07-19 00:00:00.000 UTC",
          "2024-07-19 00:00:00.000 UTC",
          "2024-07-19 01:00:00.000 UTC",
          "2024-07-19 01:00:00.000 UTC",
          "2024-07-19 02:00:00.000 UTC",
          "2024-07-19 03:00:00.000 UTC",
          "2024-07-19 03:00:00.000 UTC",
          "2024-07-19 04:00:00.000 UTC",
          "2024-07-19 04:00:00.000 UTC",
          "2024-07-19 05:00:00.000 UTC",
          "2024-07-19 05:00:00.000 UTC",
          "2024-07-19 06:00:00.000 UTC",
          "2024-07-19 07:00:00.000 UTC",
          "2024-07-19 07:00:00.000 UTC",
          "2024-07-19 08:00:00.000 UTC",
          "2024-07-19 08:00:00.000 UTC",
          "2024-07-19 09:00:00.000 UTC",
          "2024-07-19 09:00:00.000 UTC",
          "2024-07-19 10:00:00.000 UTC",
          "2024-07-19 11:00:00.000 UTC",
          "2024-07-19 12:00:00.000 UTC",
          "2024-07-19 12:00:00.000 UTC",
          "2024-07-19 13:00:00.000 UTC",
          "2024-07-19 13:00:00.000 UTC",
          "2024-07-19 14:00:00.000 UTC",
          "2024-07-19 14:00:00.000 UTC",
          "2024-07-19 15:00:00.000 UTC",
          "2024-07-19 15:00:00.000 UTC",
          "2024-07-19 16:00:00.000 UTC",
          "2024-07-19 17:00:00.000 UTC",
          "2024-07-19 17:00:00.000 UTC",
          "2024-07-19 18:00:00.000 UTC",
          "2024-07-19 19:00:00.000 UTC",
          "2024-07-19 19:00:00.000 UTC",
          "2024-07-19 20:00:00.000 UTC",
          "2024-07-19 20:00:00.000 UTC",
          "2024-07-19 21:00:00.000 UTC",
          "2024-07-19 21:00:00.000 UTC",
          "2024-07-19 22:00:00.000 UTC",
          "2024-07-19 22:00:00.000 UTC",
          "2024-07-19 23:00:00.000 UTC",
          "2024-07-19 23:00:00.000 UTC",
          "2024-07-20 00:00:00.000 UTC",
          "2024-07-20 00:00:00.000 UTC",
          "2024-07-20 01:00:00.000 UTC",
          "2024-07-20 01:00:00.000 UTC",
          "2024-07-20 02:00:00.000 UTC",
          "2024-07-20 02:00:00.000 UTC",
          "2024-07-20 03:00:00.000 UTC",
          "2024-07-20 03:00:00.000 UTC",
          "2024-07-20 04:00:00.000 UTC",
          "2024-07-20 04:00:00.000 UTC",
          "2024-07-20 05:00:00.000 UTC",
          "2024-07-20 05:00:00.000 UTC",
          "2024-07-20 06:00:00.000 UTC",
          "2024-07-20 06:00:00.000 UTC",
          "2024-07-20 07:00:00.000 UTC",
          "2024-07-20 07:00:00.000 UTC",
          "2024-07-20 08:00:00.000 UTC",
          "2024-07-20 08:00:00.000 UTC",
          "2024-07-20 09:00:00.000 UTC",
          "2024-07-20 09:00:00.000 UTC",
          "2024-07-20 10:00:00.000 UTC",
          "2024-07-20 10:00:00.000 UTC",
          "2024-07-20 11:00:00.000 UTC",
          "2024-07-20 11:00:00.000 UTC",
          "2024-07-20 12:00:00.000 UTC",
          "2024-07-20 12:00:00.000 UTC",
          "2024-07-20 13:00:00.000 UTC",
          "2024-07-20 13:00:00.000 UTC",
          "2024-07-20 14:00:00.000 UTC",
          "2024-07-20 14:00:00.000 UTC",
          "2024-07-20 15:00:00.000 UTC",
          "2024-07-20 15:00:00.000 UTC",
          "2024-07-20 16:00:00.000 UTC",
          "2024-07-20 16:00:00.000 UTC",
          "2024-07-20 17:00:00.000 UTC",
          "2024-07-20 17:00:00.000 UTC",
          "2024-07-20 18:00:00.000 UTC",
          "2024-07-20 18:00:00.000 UTC",
          "2024-07-20 19:00:00.000 UTC",
          "2024-07-20 19:00:00.000 UTC",
          "2024-07-20 20:00:00.000 UTC",
          "2024-07-20 20:00:00.000 UTC",
          "2024-07-20 21:00:00.000 UTC",
          "2024-07-20 21:00:00.000 UTC",
          "2024-07-20 22:00:00.000 UTC",
          "2024-07-20 22:00:00.000 UTC",
          "2024-07-20 23:00:00.000 UTC",
          "2024-07-20 23:00:00.000 UTC",
          "2024-07-21 00:00:00.000 UTC",
          "2024-07-21 00:00:00.000 UTC",
          "2024-07-21 01:00:00.000 UTC"
         ],
         "xaxis": "x",
         "y": [
          119,
          6,
          77,
          8,
          126,
          36,
          118,
          4,
          237,
          2,
          229,
          22,
          294,
          40,
          84,
          24,
          123,
          1,
          73,
          87,
          8,
          102,
          9,
          184,
          101,
          1,
          61,
          5,
          56,
          8,
          175,
          13,
          245,
          29,
          177,
          1,
          50,
          14,
          311,
          65,
          259,
          9,
          187,
          5,
          218,
          21,
          331,
          21,
          374,
          32,
          236,
          40,
          180,
          21,
          217,
          53,
          160,
          20,
          188,
          2,
          236,
          34,
          367,
          32,
          153,
          14,
          167,
          3,
          231,
          6,
          146,
          7,
          158,
          5,
          28,
          108,
          103,
          14,
          174,
          190,
          7,
          108,
          2,
          126,
          9,
          110,
          7,
          117,
          1,
          269,
          20,
          254,
          14,
          328,
          21,
          171,
          14,
          145,
          9,
          36,
          6,
          19,
          97,
          45,
          109,
          166,
          18,
          145,
          3,
          16,
          157,
          120,
          17,
          117,
          70,
          107,
          2,
          149,
          4,
          137,
          262,
          17,
          238,
          2,
          102,
          61,
          1,
          26,
          1,
          109,
          5,
          67,
          72,
          5,
          53,
          221,
          1,
          302,
          36,
          172,
          833,
          625,
          44,
          54,
          362,
          194,
          6,
          143,
          1,
          37,
          155,
          331,
          30,
          20,
          249,
          35,
          231,
          252,
          6,
          143,
          13,
          184,
          6,
          143,
          1,
          312,
          4,
          222,
          282,
          7,
          89,
          62,
          181,
          1,
          117,
          89,
          6,
          102,
          5,
          233,
          211,
          31,
          321,
          39,
          162,
          2,
          20,
          104,
          50,
          183,
          111,
          349,
          26,
          210,
          25,
          155,
          119,
          3,
          120,
          1,
          69,
          12,
          22,
          65,
          52,
          193,
          3,
          112,
          180,
          13,
          43,
          215,
          105,
          6,
          202,
          15,
          104,
          98,
          5,
          43,
          50,
          1,
          225,
          39,
          165,
          23,
          112,
          104,
          1,
          67,
          2,
          108,
          1,
          70,
          15,
          84,
          164,
          26,
          104,
          3,
          60,
          45,
          123,
          9,
          172,
          4,
          95,
          6,
          105,
          3,
          127,
          69,
          2,
          79,
          81,
          11,
          100,
          1,
          85,
          1,
          71,
          15,
          38,
          9,
          194,
          1,
          140,
          9,
          121,
          3,
          40,
          3,
          42,
          151,
          109,
          1,
          244,
          37,
          129,
          22,
          581,
          98,
          346,
          31,
          204,
          18,
          161,
          3,
          60,
          363,
          183,
          927,
          1067,
          86,
          936,
          77,
          679,
          41,
          473,
          2,
          1249,
          155,
          1172,
          79,
          521,
          40,
          338,
          24,
          370,
          2,
          958,
          121,
          642,
          31,
          156
         ],
         "yaxis": "y2"
        }
       ],
       "layout": {
        "template": {
         "data": {
          "bar": [
           {
            "error_x": {
             "color": "#2a3f5f"
            },
            "error_y": {
             "color": "#2a3f5f"
            },
            "marker": {
             "line": {
              "color": "#E5ECF6",
              "width": 0.5
             },
             "pattern": {
              "fillmode": "overlay",
              "size": 10,
              "solidity": 0.2
             }
            },
            "type": "bar"
           }
          ],
          "barpolar": [
           {
            "marker": {
             "line": {
              "color": "#E5ECF6",
              "width": 0.5
             },
             "pattern": {
              "fillmode": "overlay",
              "size": 10,
              "solidity": 0.2
             }
            },
            "type": "barpolar"
           }
          ],
          "carpet": [
           {
            "aaxis": {
             "endlinecolor": "#2a3f5f",
             "gridcolor": "white",
             "linecolor": "white",
             "minorgridcolor": "white",
             "startlinecolor": "#2a3f5f"
            },
            "baxis": {
             "endlinecolor": "#2a3f5f",
             "gridcolor": "white",
             "linecolor": "white",
             "minorgridcolor": "white",
             "startlinecolor": "#2a3f5f"
            },
            "type": "carpet"
           }
          ],
          "choropleth": [
           {
            "colorbar": {
             "outlinewidth": 0,
             "ticks": ""
            },
            "type": "choropleth"
           }
          ],
          "contour": [
           {
            "colorbar": {
             "outlinewidth": 0,
             "ticks": ""
            },
            "colorscale": [
             [
              0,
              "#0d0887"
             ],
             [
              0.1111111111111111,
              "#46039f"
             ],
             [
              0.2222222222222222,
              "#7201a8"
             ],
             [
              0.3333333333333333,
              "#9c179e"
             ],
             [
              0.4444444444444444,
              "#bd3786"
             ],
             [
              0.5555555555555556,
              "#d8576b"
             ],
             [
              0.6666666666666666,
              "#ed7953"
             ],
             [
              0.7777777777777778,
              "#fb9f3a"
             ],
             [
              0.8888888888888888,
              "#fdca26"
             ],
             [
              1,
              "#f0f921"
             ]
            ],
            "type": "contour"
           }
          ],
          "contourcarpet": [
           {
            "colorbar": {
             "outlinewidth": 0,
             "ticks": ""
            },
            "type": "contourcarpet"
           }
          ],
          "heatmap": [
           {
            "colorbar": {
             "outlinewidth": 0,
             "ticks": ""
            },
            "colorscale": [
             [
              0,
              "#0d0887"
             ],
             [
              0.1111111111111111,
              "#46039f"
             ],
             [
              0.2222222222222222,
              "#7201a8"
             ],
             [
              0.3333333333333333,
              "#9c179e"
             ],
             [
              0.4444444444444444,
              "#bd3786"
             ],
             [
              0.5555555555555556,
              "#d8576b"
             ],
             [
              0.6666666666666666,
              "#ed7953"
             ],
             [
              0.7777777777777778,
              "#fb9f3a"
             ],
             [
              0.8888888888888888,
              "#fdca26"
             ],
             [
              1,
              "#f0f921"
             ]
            ],
            "type": "heatmap"
           }
          ],
          "heatmapgl": [
           {
            "colorbar": {
             "outlinewidth": 0,
             "ticks": ""
            },
            "colorscale": [
             [
              0,
              "#0d0887"
             ],
             [
              0.1111111111111111,
              "#46039f"
             ],
             [
              0.2222222222222222,
              "#7201a8"
             ],
             [
              0.3333333333333333,
              "#9c179e"
             ],
             [
              0.4444444444444444,
              "#bd3786"
             ],
             [
              0.5555555555555556,
              "#d8576b"
             ],
             [
              0.6666666666666666,
              "#ed7953"
             ],
             [
              0.7777777777777778,
              "#fb9f3a"
             ],
             [
              0.8888888888888888,
              "#fdca26"
             ],
             [
              1,
              "#f0f921"
             ]
            ],
            "type": "heatmapgl"
           }
          ],
          "histogram": [
           {
            "marker": {
             "pattern": {
              "fillmode": "overlay",
              "size": 10,
              "solidity": 0.2
             }
            },
            "type": "histogram"
           }
          ],
          "histogram2d": [
           {
            "colorbar": {
             "outlinewidth": 0,
             "ticks": ""
            },
            "colorscale": [
             [
              0,
              "#0d0887"
             ],
             [
              0.1111111111111111,
              "#46039f"
             ],
             [
              0.2222222222222222,
              "#7201a8"
             ],
             [
              0.3333333333333333,
              "#9c179e"
             ],
             [
              0.4444444444444444,
              "#bd3786"
             ],
             [
              0.5555555555555556,
              "#d8576b"
             ],
             [
              0.6666666666666666,
              "#ed7953"
             ],
             [
              0.7777777777777778,
              "#fb9f3a"
             ],
             [
              0.8888888888888888,
              "#fdca26"
             ],
             [
              1,
              "#f0f921"
             ]
            ],
            "type": "histogram2d"
           }
          ],
          "histogram2dcontour": [
           {
            "colorbar": {
             "outlinewidth": 0,
             "ticks": ""
            },
            "colorscale": [
             [
              0,
              "#0d0887"
             ],
             [
              0.1111111111111111,
              "#46039f"
             ],
             [
              0.2222222222222222,
              "#7201a8"
             ],
             [
              0.3333333333333333,
              "#9c179e"
             ],
             [
              0.4444444444444444,
              "#bd3786"
             ],
             [
              0.5555555555555556,
              "#d8576b"
             ],
             [
              0.6666666666666666,
              "#ed7953"
             ],
             [
              0.7777777777777778,
              "#fb9f3a"
             ],
             [
              0.8888888888888888,
              "#fdca26"
             ],
             [
              1,
              "#f0f921"
             ]
            ],
            "type": "histogram2dcontour"
           }
          ],
          "mesh3d": [
           {
            "colorbar": {
             "outlinewidth": 0,
             "ticks": ""
            },
            "type": "mesh3d"
           }
          ],
          "parcoords": [
           {
            "line": {
             "colorbar": {
              "outlinewidth": 0,
              "ticks": ""
             }
            },
            "type": "parcoords"
           }
          ],
          "pie": [
           {
            "automargin": true,
            "type": "pie"
           }
          ],
          "scatter": [
           {
            "fillpattern": {
             "fillmode": "overlay",
             "size": 10,
             "solidity": 0.2
            },
            "type": "scatter"
           }
          ],
          "scatter3d": [
           {
            "line": {
             "colorbar": {
              "outlinewidth": 0,
              "ticks": ""
             }
            },
            "marker": {
             "colorbar": {
              "outlinewidth": 0,
              "ticks": ""
             }
            },
            "type": "scatter3d"
           }
          ],
          "scattercarpet": [
           {
            "marker": {
             "colorbar": {
              "outlinewidth": 0,
              "ticks": ""
             }
            },
            "type": "scattercarpet"
           }
          ],
          "scattergeo": [
           {
            "marker": {
             "colorbar": {
              "outlinewidth": 0,
              "ticks": ""
             }
            },
            "type": "scattergeo"
           }
          ],
          "scattergl": [
           {
            "marker": {
             "colorbar": {
              "outlinewidth": 0,
              "ticks": ""
             }
            },
            "type": "scattergl"
           }
          ],
          "scattermapbox": [
           {
            "marker": {
             "colorbar": {
              "outlinewidth": 0,
              "ticks": ""
             }
            },
            "type": "scattermapbox"
           }
          ],
          "scatterpolar": [
           {
            "marker": {
             "colorbar": {
              "outlinewidth": 0,
              "ticks": ""
             }
            },
            "type": "scatterpolar"
           }
          ],
          "scatterpolargl": [
           {
            "marker": {
             "colorbar": {
              "outlinewidth": 0,
              "ticks": ""
             }
            },
            "type": "scatterpolargl"
           }
          ],
          "scatterternary": [
           {
            "marker": {
             "colorbar": {
              "outlinewidth": 0,
              "ticks": ""
             }
            },
            "type": "scatterternary"
           }
          ],
          "surface": [
           {
            "colorbar": {
             "outlinewidth": 0,
             "ticks": ""
            },
            "colorscale": [
             [
              0,
              "#0d0887"
             ],
             [
              0.1111111111111111,
              "#46039f"
             ],
             [
              0.2222222222222222,
              "#7201a8"
             ],
             [
              0.3333333333333333,
              "#9c179e"
             ],
             [
              0.4444444444444444,
              "#bd3786"
             ],
             [
              0.5555555555555556,
              "#d8576b"
             ],
             [
              0.6666666666666666,
              "#ed7953"
             ],
             [
              0.7777777777777778,
              "#fb9f3a"
             ],
             [
              0.8888888888888888,
              "#fdca26"
             ],
             [
              1,
              "#f0f921"
             ]
            ],
            "type": "surface"
           }
          ],
          "table": [
           {
            "cells": {
             "fill": {
              "color": "#EBF0F8"
             },
             "line": {
              "color": "white"
             }
            },
            "header": {
             "fill": {
              "color": "#C8D4E3"
             },
             "line": {
              "color": "white"
             }
            },
            "type": "table"
           }
          ]
         },
         "layout": {
          "annotationdefaults": {
           "arrowcolor": "#2a3f5f",
           "arrowhead": 0,
           "arrowwidth": 1
          },
          "autotypenumbers": "strict",
          "coloraxis": {
           "colorbar": {
            "outlinewidth": 0,
            "ticks": ""
           }
          },
          "colorscale": {
           "diverging": [
            [
             0,
             "#8e0152"
            ],
            [
             0.1,
             "#c51b7d"
            ],
            [
             0.2,
             "#de77ae"
            ],
            [
             0.3,
             "#f1b6da"
            ],
            [
             0.4,
             "#fde0ef"
            ],
            [
             0.5,
             "#f7f7f7"
            ],
            [
             0.6,
             "#e6f5d0"
            ],
            [
             0.7,
             "#b8e186"
            ],
            [
             0.8,
             "#7fbc41"
            ],
            [
             0.9,
             "#4d9221"
            ],
            [
             1,
             "#276419"
            ]
           ],
           "sequential": [
            [
             0,
             "#0d0887"
            ],
            [
             0.1111111111111111,
             "#46039f"
            ],
            [
             0.2222222222222222,
             "#7201a8"
            ],
            [
             0.3333333333333333,
             "#9c179e"
            ],
            [
             0.4444444444444444,
             "#bd3786"
            ],
            [
             0.5555555555555556,
             "#d8576b"
            ],
            [
             0.6666666666666666,
             "#ed7953"
            ],
            [
             0.7777777777777778,
             "#fb9f3a"
            ],
            [
             0.8888888888888888,
             "#fdca26"
            ],
            [
             1,
             "#f0f921"
            ]
           ],
           "sequentialminus": [
            [
             0,
             "#0d0887"
            ],
            [
             0.1111111111111111,
             "#46039f"
            ],
            [
             0.2222222222222222,
             "#7201a8"
            ],
            [
             0.3333333333333333,
             "#9c179e"
            ],
            [
             0.4444444444444444,
             "#bd3786"
            ],
            [
             0.5555555555555556,
             "#d8576b"
            ],
            [
             0.6666666666666666,
             "#ed7953"
            ],
            [
             0.7777777777777778,
             "#fb9f3a"
            ],
            [
             0.8888888888888888,
             "#fdca26"
            ],
            [
             1,
             "#f0f921"
            ]
           ]
          },
          "colorway": [
           "#636efa",
           "#EF553B",
           "#00cc96",
           "#ab63fa",
           "#FFA15A",
           "#19d3f3",
           "#FF6692",
           "#B6E880",
           "#FF97FF",
           "#FECB52"
          ],
          "font": {
           "color": "#2a3f5f"
          },
          "geo": {
           "bgcolor": "white",
           "lakecolor": "white",
           "landcolor": "#E5ECF6",
           "showlakes": true,
           "showland": true,
           "subunitcolor": "white"
          },
          "hoverlabel": {
           "align": "left"
          },
          "hovermode": "closest",
          "mapbox": {
           "style": "light"
          },
          "paper_bgcolor": "white",
          "plot_bgcolor": "#E5ECF6",
          "polar": {
           "angularaxis": {
            "gridcolor": "white",
            "linecolor": "white",
            "ticks": ""
           },
           "bgcolor": "#E5ECF6",
           "radialaxis": {
            "gridcolor": "white",
            "linecolor": "white",
            "ticks": ""
           }
          },
          "scene": {
           "xaxis": {
            "backgroundcolor": "#E5ECF6",
            "gridcolor": "white",
            "gridwidth": 2,
            "linecolor": "white",
            "showbackground": true,
            "ticks": "",
            "zerolinecolor": "white"
           },
           "yaxis": {
            "backgroundcolor": "#E5ECF6",
            "gridcolor": "white",
            "gridwidth": 2,
            "linecolor": "white",
            "showbackground": true,
            "ticks": "",
            "zerolinecolor": "white"
           },
           "zaxis": {
            "backgroundcolor": "#E5ECF6",
            "gridcolor": "white",
            "gridwidth": 2,
            "linecolor": "white",
            "showbackground": true,
            "ticks": "",
            "zerolinecolor": "white"
           }
          },
          "shapedefaults": {
           "line": {
            "color": "#2a3f5f"
           }
          },
          "ternary": {
           "aaxis": {
            "gridcolor": "white",
            "linecolor": "white",
            "ticks": ""
           },
           "baxis": {
            "gridcolor": "white",
            "linecolor": "white",
            "ticks": ""
           },
           "bgcolor": "#E5ECF6",
           "caxis": {
            "gridcolor": "white",
            "linecolor": "white",
            "ticks": ""
           }
          },
          "title": {
           "x": 0.05
          },
          "xaxis": {
           "automargin": true,
           "gridcolor": "white",
           "linecolor": "white",
           "ticks": "",
           "title": {
            "standoff": 15
           },
           "zerolinecolor": "white",
           "zerolinewidth": 2
          },
          "yaxis": {
           "automargin": true,
           "gridcolor": "white",
           "linecolor": "white",
           "ticks": "",
           "title": {
            "standoff": 15
           },
           "zerolinecolor": "white",
           "zerolinewidth": 2
          }
         }
        },
        "xaxis": {
         "anchor": "y",
         "domain": [
          0,
          0.94
         ],
         "title": {
          "text": "Date"
         }
        },
        "yaxis": {
         "anchor": "x",
         "domain": [
          0,
          1
         ]
        },
        "yaxis2": {
         "anchor": "x",
         "overlaying": "y",
         "side": "right"
        }
       }
      }
     },
     "metadata": {},
     "output_type": "display_data"
    }
   ],
   "source": [
    "weth_zro_fig = make_subplots(specs=[[{\"secondary_y\": True}]])\n",
    "\n",
    "weth_zro_fig.add_trace(\n",
    "    go.Bar(\n",
    "        x=weth_zro['day'],\n",
    "        y=weth_zro['arbitrum_avg_liquidity'],\n",
    "        name='Liquidity'\n",
    "    ),\n",
    "    secondary_y=False\n",
    ")\n",
    "\n",
    "weth_zro_fig.add_trace(\n",
    "    go.Scatter(\n",
    "        x=weth_zro['day'],\n",
    "        y=weth_zro['arbitrum_num_trades'],\n",
    "        name='# Of Trades',\n",
    "        mode='lines'\n",
    "    ),\n",
    "    secondary_y=True\n",
    ")\n",
    "\n",
    "weth_zro_fig.update_xaxes(title_text=\"Date\")\n",
    "\n",
    "weth_zro_fig.show()\n"
   ]
  },
  {
   "cell_type": "code",
   "execution_count": 82,
   "metadata": {},
   "outputs": [
    {
     "data": {
      "application/vnd.plotly.v1+json": {
       "config": {
        "plotlyServerURL": "https://plot.ly"
       },
       "data": [
        {
         "colorscale": [
          [
           0,
           "#440154"
          ],
          [
           0.1111111111111111,
           "#482878"
          ],
          [
           0.2222222222222222,
           "#3e4989"
          ],
          [
           0.3333333333333333,
           "#31688e"
          ],
          [
           0.4444444444444444,
           "#26828e"
          ],
          [
           0.5555555555555556,
           "#1f9e89"
          ],
          [
           0.6666666666666666,
           "#35b779"
          ],
          [
           0.7777777777777778,
           "#6ece58"
          ],
          [
           0.8888888888888888,
           "#b5de2b"
          ],
          [
           1,
           "#fde725"
          ]
         ],
         "type": "heatmap",
         "x": [
          "arbitrum_avg_liquidity",
          "arbitrum_fees_usd",
          "arbitrum_tvl_usd",
          "arbitrum_volume_usd"
         ],
         "y": [
          "arbitrum_avg_liquidity",
          "arbitrum_fees_usd",
          "arbitrum_tvl_usd",
          "arbitrum_volume_usd"
         ],
         "z": [
          [
           1,
           0.3910923381085601,
           0.9332819467823408,
           0.43530820666434744
          ],
          [
           0.3910923381085601,
           1,
           0.5582043331229978,
           0.991898843321088
          ],
          [
           0.9332819467823408,
           0.5582043331229978,
           1,
           0.6014127079593143
          ],
          [
           0.43530820666434744,
           0.991898843321088,
           0.6014127079593143,
           1
          ]
         ],
         "zmax": 1,
         "zmin": -1
        }
       ],
       "layout": {
        "template": {
         "data": {
          "bar": [
           {
            "error_x": {
             "color": "#2a3f5f"
            },
            "error_y": {
             "color": "#2a3f5f"
            },
            "marker": {
             "line": {
              "color": "#E5ECF6",
              "width": 0.5
             },
             "pattern": {
              "fillmode": "overlay",
              "size": 10,
              "solidity": 0.2
             }
            },
            "type": "bar"
           }
          ],
          "barpolar": [
           {
            "marker": {
             "line": {
              "color": "#E5ECF6",
              "width": 0.5
             },
             "pattern": {
              "fillmode": "overlay",
              "size": 10,
              "solidity": 0.2
             }
            },
            "type": "barpolar"
           }
          ],
          "carpet": [
           {
            "aaxis": {
             "endlinecolor": "#2a3f5f",
             "gridcolor": "white",
             "linecolor": "white",
             "minorgridcolor": "white",
             "startlinecolor": "#2a3f5f"
            },
            "baxis": {
             "endlinecolor": "#2a3f5f",
             "gridcolor": "white",
             "linecolor": "white",
             "minorgridcolor": "white",
             "startlinecolor": "#2a3f5f"
            },
            "type": "carpet"
           }
          ],
          "choropleth": [
           {
            "colorbar": {
             "outlinewidth": 0,
             "ticks": ""
            },
            "type": "choropleth"
           }
          ],
          "contour": [
           {
            "colorbar": {
             "outlinewidth": 0,
             "ticks": ""
            },
            "colorscale": [
             [
              0,
              "#0d0887"
             ],
             [
              0.1111111111111111,
              "#46039f"
             ],
             [
              0.2222222222222222,
              "#7201a8"
             ],
             [
              0.3333333333333333,
              "#9c179e"
             ],
             [
              0.4444444444444444,
              "#bd3786"
             ],
             [
              0.5555555555555556,
              "#d8576b"
             ],
             [
              0.6666666666666666,
              "#ed7953"
             ],
             [
              0.7777777777777778,
              "#fb9f3a"
             ],
             [
              0.8888888888888888,
              "#fdca26"
             ],
             [
              1,
              "#f0f921"
             ]
            ],
            "type": "contour"
           }
          ],
          "contourcarpet": [
           {
            "colorbar": {
             "outlinewidth": 0,
             "ticks": ""
            },
            "type": "contourcarpet"
           }
          ],
          "heatmap": [
           {
            "colorbar": {
             "outlinewidth": 0,
             "ticks": ""
            },
            "colorscale": [
             [
              0,
              "#0d0887"
             ],
             [
              0.1111111111111111,
              "#46039f"
             ],
             [
              0.2222222222222222,
              "#7201a8"
             ],
             [
              0.3333333333333333,
              "#9c179e"
             ],
             [
              0.4444444444444444,
              "#bd3786"
             ],
             [
              0.5555555555555556,
              "#d8576b"
             ],
             [
              0.6666666666666666,
              "#ed7953"
             ],
             [
              0.7777777777777778,
              "#fb9f3a"
             ],
             [
              0.8888888888888888,
              "#fdca26"
             ],
             [
              1,
              "#f0f921"
             ]
            ],
            "type": "heatmap"
           }
          ],
          "heatmapgl": [
           {
            "colorbar": {
             "outlinewidth": 0,
             "ticks": ""
            },
            "colorscale": [
             [
              0,
              "#0d0887"
             ],
             [
              0.1111111111111111,
              "#46039f"
             ],
             [
              0.2222222222222222,
              "#7201a8"
             ],
             [
              0.3333333333333333,
              "#9c179e"
             ],
             [
              0.4444444444444444,
              "#bd3786"
             ],
             [
              0.5555555555555556,
              "#d8576b"
             ],
             [
              0.6666666666666666,
              "#ed7953"
             ],
             [
              0.7777777777777778,
              "#fb9f3a"
             ],
             [
              0.8888888888888888,
              "#fdca26"
             ],
             [
              1,
              "#f0f921"
             ]
            ],
            "type": "heatmapgl"
           }
          ],
          "histogram": [
           {
            "marker": {
             "pattern": {
              "fillmode": "overlay",
              "size": 10,
              "solidity": 0.2
             }
            },
            "type": "histogram"
           }
          ],
          "histogram2d": [
           {
            "colorbar": {
             "outlinewidth": 0,
             "ticks": ""
            },
            "colorscale": [
             [
              0,
              "#0d0887"
             ],
             [
              0.1111111111111111,
              "#46039f"
             ],
             [
              0.2222222222222222,
              "#7201a8"
             ],
             [
              0.3333333333333333,
              "#9c179e"
             ],
             [
              0.4444444444444444,
              "#bd3786"
             ],
             [
              0.5555555555555556,
              "#d8576b"
             ],
             [
              0.6666666666666666,
              "#ed7953"
             ],
             [
              0.7777777777777778,
              "#fb9f3a"
             ],
             [
              0.8888888888888888,
              "#fdca26"
             ],
             [
              1,
              "#f0f921"
             ]
            ],
            "type": "histogram2d"
           }
          ],
          "histogram2dcontour": [
           {
            "colorbar": {
             "outlinewidth": 0,
             "ticks": ""
            },
            "colorscale": [
             [
              0,
              "#0d0887"
             ],
             [
              0.1111111111111111,
              "#46039f"
             ],
             [
              0.2222222222222222,
              "#7201a8"
             ],
             [
              0.3333333333333333,
              "#9c179e"
             ],
             [
              0.4444444444444444,
              "#bd3786"
             ],
             [
              0.5555555555555556,
              "#d8576b"
             ],
             [
              0.6666666666666666,
              "#ed7953"
             ],
             [
              0.7777777777777778,
              "#fb9f3a"
             ],
             [
              0.8888888888888888,
              "#fdca26"
             ],
             [
              1,
              "#f0f921"
             ]
            ],
            "type": "histogram2dcontour"
           }
          ],
          "mesh3d": [
           {
            "colorbar": {
             "outlinewidth": 0,
             "ticks": ""
            },
            "type": "mesh3d"
           }
          ],
          "parcoords": [
           {
            "line": {
             "colorbar": {
              "outlinewidth": 0,
              "ticks": ""
             }
            },
            "type": "parcoords"
           }
          ],
          "pie": [
           {
            "automargin": true,
            "type": "pie"
           }
          ],
          "scatter": [
           {
            "fillpattern": {
             "fillmode": "overlay",
             "size": 10,
             "solidity": 0.2
            },
            "type": "scatter"
           }
          ],
          "scatter3d": [
           {
            "line": {
             "colorbar": {
              "outlinewidth": 0,
              "ticks": ""
             }
            },
            "marker": {
             "colorbar": {
              "outlinewidth": 0,
              "ticks": ""
             }
            },
            "type": "scatter3d"
           }
          ],
          "scattercarpet": [
           {
            "marker": {
             "colorbar": {
              "outlinewidth": 0,
              "ticks": ""
             }
            },
            "type": "scattercarpet"
           }
          ],
          "scattergeo": [
           {
            "marker": {
             "colorbar": {
              "outlinewidth": 0,
              "ticks": ""
             }
            },
            "type": "scattergeo"
           }
          ],
          "scattergl": [
           {
            "marker": {
             "colorbar": {
              "outlinewidth": 0,
              "ticks": ""
             }
            },
            "type": "scattergl"
           }
          ],
          "scattermapbox": [
           {
            "marker": {
             "colorbar": {
              "outlinewidth": 0,
              "ticks": ""
             }
            },
            "type": "scattermapbox"
           }
          ],
          "scatterpolar": [
           {
            "marker": {
             "colorbar": {
              "outlinewidth": 0,
              "ticks": ""
             }
            },
            "type": "scatterpolar"
           }
          ],
          "scatterpolargl": [
           {
            "marker": {
             "colorbar": {
              "outlinewidth": 0,
              "ticks": ""
             }
            },
            "type": "scatterpolargl"
           }
          ],
          "scatterternary": [
           {
            "marker": {
             "colorbar": {
              "outlinewidth": 0,
              "ticks": ""
             }
            },
            "type": "scatterternary"
           }
          ],
          "surface": [
           {
            "colorbar": {
             "outlinewidth": 0,
             "ticks": ""
            },
            "colorscale": [
             [
              0,
              "#0d0887"
             ],
             [
              0.1111111111111111,
              "#46039f"
             ],
             [
              0.2222222222222222,
              "#7201a8"
             ],
             [
              0.3333333333333333,
              "#9c179e"
             ],
             [
              0.4444444444444444,
              "#bd3786"
             ],
             [
              0.5555555555555556,
              "#d8576b"
             ],
             [
              0.6666666666666666,
              "#ed7953"
             ],
             [
              0.7777777777777778,
              "#fb9f3a"
             ],
             [
              0.8888888888888888,
              "#fdca26"
             ],
             [
              1,
              "#f0f921"
             ]
            ],
            "type": "surface"
           }
          ],
          "table": [
           {
            "cells": {
             "fill": {
              "color": "#EBF0F8"
             },
             "line": {
              "color": "white"
             }
            },
            "header": {
             "fill": {
              "color": "#C8D4E3"
             },
             "line": {
              "color": "white"
             }
            },
            "type": "table"
           }
          ]
         },
         "layout": {
          "annotationdefaults": {
           "arrowcolor": "#2a3f5f",
           "arrowhead": 0,
           "arrowwidth": 1
          },
          "autotypenumbers": "strict",
          "coloraxis": {
           "colorbar": {
            "outlinewidth": 0,
            "ticks": ""
           }
          },
          "colorscale": {
           "diverging": [
            [
             0,
             "#8e0152"
            ],
            [
             0.1,
             "#c51b7d"
            ],
            [
             0.2,
             "#de77ae"
            ],
            [
             0.3,
             "#f1b6da"
            ],
            [
             0.4,
             "#fde0ef"
            ],
            [
             0.5,
             "#f7f7f7"
            ],
            [
             0.6,
             "#e6f5d0"
            ],
            [
             0.7,
             "#b8e186"
            ],
            [
             0.8,
             "#7fbc41"
            ],
            [
             0.9,
             "#4d9221"
            ],
            [
             1,
             "#276419"
            ]
           ],
           "sequential": [
            [
             0,
             "#0d0887"
            ],
            [
             0.1111111111111111,
             "#46039f"
            ],
            [
             0.2222222222222222,
             "#7201a8"
            ],
            [
             0.3333333333333333,
             "#9c179e"
            ],
            [
             0.4444444444444444,
             "#bd3786"
            ],
            [
             0.5555555555555556,
             "#d8576b"
            ],
            [
             0.6666666666666666,
             "#ed7953"
            ],
            [
             0.7777777777777778,
             "#fb9f3a"
            ],
            [
             0.8888888888888888,
             "#fdca26"
            ],
            [
             1,
             "#f0f921"
            ]
           ],
           "sequentialminus": [
            [
             0,
             "#0d0887"
            ],
            [
             0.1111111111111111,
             "#46039f"
            ],
            [
             0.2222222222222222,
             "#7201a8"
            ],
            [
             0.3333333333333333,
             "#9c179e"
            ],
            [
             0.4444444444444444,
             "#bd3786"
            ],
            [
             0.5555555555555556,
             "#d8576b"
            ],
            [
             0.6666666666666666,
             "#ed7953"
            ],
            [
             0.7777777777777778,
             "#fb9f3a"
            ],
            [
             0.8888888888888888,
             "#fdca26"
            ],
            [
             1,
             "#f0f921"
            ]
           ]
          },
          "colorway": [
           "#636efa",
           "#EF553B",
           "#00cc96",
           "#ab63fa",
           "#FFA15A",
           "#19d3f3",
           "#FF6692",
           "#B6E880",
           "#FF97FF",
           "#FECB52"
          ],
          "font": {
           "color": "#2a3f5f"
          },
          "geo": {
           "bgcolor": "white",
           "lakecolor": "white",
           "landcolor": "#E5ECF6",
           "showlakes": true,
           "showland": true,
           "subunitcolor": "white"
          },
          "hoverlabel": {
           "align": "left"
          },
          "hovermode": "closest",
          "mapbox": {
           "style": "light"
          },
          "paper_bgcolor": "white",
          "plot_bgcolor": "#E5ECF6",
          "polar": {
           "angularaxis": {
            "gridcolor": "white",
            "linecolor": "white",
            "ticks": ""
           },
           "bgcolor": "#E5ECF6",
           "radialaxis": {
            "gridcolor": "white",
            "linecolor": "white",
            "ticks": ""
           }
          },
          "scene": {
           "xaxis": {
            "backgroundcolor": "#E5ECF6",
            "gridcolor": "white",
            "gridwidth": 2,
            "linecolor": "white",
            "showbackground": true,
            "ticks": "",
            "zerolinecolor": "white"
           },
           "yaxis": {
            "backgroundcolor": "#E5ECF6",
            "gridcolor": "white",
            "gridwidth": 2,
            "linecolor": "white",
            "showbackground": true,
            "ticks": "",
            "zerolinecolor": "white"
           },
           "zaxis": {
            "backgroundcolor": "#E5ECF6",
            "gridcolor": "white",
            "gridwidth": 2,
            "linecolor": "white",
            "showbackground": true,
            "ticks": "",
            "zerolinecolor": "white"
           }
          },
          "shapedefaults": {
           "line": {
            "color": "#2a3f5f"
           }
          },
          "ternary": {
           "aaxis": {
            "gridcolor": "white",
            "linecolor": "white",
            "ticks": ""
           },
           "baxis": {
            "gridcolor": "white",
            "linecolor": "white",
            "ticks": ""
           },
           "bgcolor": "#E5ECF6",
           "caxis": {
            "gridcolor": "white",
            "linecolor": "white",
            "ticks": ""
           }
          },
          "title": {
           "x": 0.05
          },
          "xaxis": {
           "automargin": true,
           "gridcolor": "white",
           "linecolor": "white",
           "ticks": "",
           "title": {
            "standoff": 15
           },
           "zerolinecolor": "white",
           "zerolinewidth": 2
          },
          "yaxis": {
           "automargin": true,
           "gridcolor": "white",
           "linecolor": "white",
           "ticks": "",
           "title": {
            "standoff": 15
           },
           "zerolinecolor": "white",
           "zerolinewidth": 2
          }
         }
        },
        "title": {
         "text": "Correlation Matrix"
        },
        "xaxis": {
         "nticks": 36
        }
       }
      }
     },
     "metadata": {},
     "output_type": "display_data"
    }
   ],
   "source": [
    "corr_matrix = weth_zro[['arbitrum_avg_liquidity', 'arbitrum_fees_usd', 'arbitrum_tvl_usd', 'arbitrum_volume_usd']].corr()\n",
    "\n",
    "# Create a heatmap\n",
    "fig = go.Figure(data=go.Heatmap(\n",
    "                   z=corr_matrix.values,\n",
    "                   x=corr_matrix.columns,\n",
    "                   y=corr_matrix.columns,\n",
    "                   colorscale='Viridis',\n",
    "                   zmin=-1, zmax=1))\n",
    "\n",
    "fig.update_layout(\n",
    "    title='Correlation Matrix',\n",
    "    xaxis_nticks=36\n",
    ")\n",
    "\n",
    "fig.show()"
   ]
  },
  {
   "cell_type": "code",
   "execution_count": 76,
   "metadata": {},
   "outputs": [],
   "source": [
    "arbitrum_gas_df.rename(columns={'dt':'day'}, inplace=True)"
   ]
  },
  {
   "cell_type": "code",
   "execution_count": 75,
   "metadata": {},
   "outputs": [
    {
     "data": {
      "text/html": [
       "<div>\n",
       "<style scoped>\n",
       "    .dataframe tbody tr th:only-of-type {\n",
       "        vertical-align: middle;\n",
       "    }\n",
       "\n",
       "    .dataframe tbody tr th {\n",
       "        vertical-align: top;\n",
       "    }\n",
       "\n",
       "    .dataframe thead th {\n",
       "        text-align: right;\n",
       "    }\n",
       "</style>\n",
       "<table border=\"1\" class=\"dataframe\">\n",
       "  <thead>\n",
       "    <tr style=\"text-align: right;\">\n",
       "      <th></th>\n",
       "      <th>day</th>\n",
       "      <th>arbitrum_avg_liquidity</th>\n",
       "      <th>arbitrum_fees_usd</th>\n",
       "      <th>arbitrum_tvl_usd</th>\n",
       "      <th>arbitrum_volume_usd</th>\n",
       "      <th>arbitrum_num_trades</th>\n",
       "      <th>arbitrum_volume_to_tvl</th>\n",
       "      <th>arbitrum_token_pair</th>\n",
       "    </tr>\n",
       "  </thead>\n",
       "  <tbody>\n",
       "    <tr>\n",
       "      <th>0</th>\n",
       "      <td>2024-07-14 00:00:00.000 UTC</td>\n",
       "      <td>1.854139e+23</td>\n",
       "      <td>386.685410</td>\n",
       "      <td>3.732390e+06</td>\n",
       "      <td>1.288951e+05</td>\n",
       "      <td>119</td>\n",
       "      <td>0.034534</td>\n",
       "      <td>WETH-ZRO</td>\n",
       "    </tr>\n",
       "    <tr>\n",
       "      <th>10</th>\n",
       "      <td>2024-07-14 00:00:00.000 UTC</td>\n",
       "      <td>1.230389e+22</td>\n",
       "      <td>9.666580</td>\n",
       "      <td>8.040533e+05</td>\n",
       "      <td>9.666580e+02</td>\n",
       "      <td>6</td>\n",
       "      <td>0.001202</td>\n",
       "      <td>WETH-ZRO</td>\n",
       "    </tr>\n",
       "    <tr>\n",
       "      <th>19</th>\n",
       "      <td>2024-07-14 01:00:00.000 UTC</td>\n",
       "      <td>1.760607e+23</td>\n",
       "      <td>243.510673</td>\n",
       "      <td>3.724752e+06</td>\n",
       "      <td>8.117022e+04</td>\n",
       "      <td>77</td>\n",
       "      <td>0.021792</td>\n",
       "      <td>WETH-ZRO</td>\n",
       "    </tr>\n",
       "    <tr>\n",
       "      <th>23</th>\n",
       "      <td>2024-07-14 01:00:00.000 UTC</td>\n",
       "      <td>1.233287e+22</td>\n",
       "      <td>19.675448</td>\n",
       "      <td>8.039304e+05</td>\n",
       "      <td>1.967545e+03</td>\n",
       "      <td>8</td>\n",
       "      <td>0.002447</td>\n",
       "      <td>WETH-ZRO</td>\n",
       "    </tr>\n",
       "    <tr>\n",
       "      <th>37</th>\n",
       "      <td>2024-07-14 02:00:00.000 UTC</td>\n",
       "      <td>1.613444e+23</td>\n",
       "      <td>421.222300</td>\n",
       "      <td>3.691604e+06</td>\n",
       "      <td>1.404074e+05</td>\n",
       "      <td>126</td>\n",
       "      <td>0.038034</td>\n",
       "      <td>WETH-ZRO</td>\n",
       "    </tr>\n",
       "    <tr>\n",
       "      <th>...</th>\n",
       "      <td>...</td>\n",
       "      <td>...</td>\n",
       "      <td>...</td>\n",
       "      <td>...</td>\n",
       "      <td>...</td>\n",
       "      <td>...</td>\n",
       "      <td>...</td>\n",
       "      <td>...</td>\n",
       "    </tr>\n",
       "    <tr>\n",
       "      <th>3421</th>\n",
       "      <td>2024-07-20 23:00:00.000 UTC</td>\n",
       "      <td>1.394003e+23</td>\n",
       "      <td>3955.259495</td>\n",
       "      <td>5.387602e+06</td>\n",
       "      <td>1.318420e+06</td>\n",
       "      <td>958</td>\n",
       "      <td>0.244714</td>\n",
       "      <td>WETH-ZRO</td>\n",
       "    </tr>\n",
       "    <tr>\n",
       "      <th>3422</th>\n",
       "      <td>2024-07-20 23:00:00.000 UTC</td>\n",
       "      <td>8.602772e+21</td>\n",
       "      <td>462.886009</td>\n",
       "      <td>1.082125e+06</td>\n",
       "      <td>4.628860e+04</td>\n",
       "      <td>121</td>\n",
       "      <td>0.042776</td>\n",
       "      <td>WETH-ZRO</td>\n",
       "    </tr>\n",
       "    <tr>\n",
       "      <th>3438</th>\n",
       "      <td>2024-07-21 00:00:00.000 UTC</td>\n",
       "      <td>1.747431e+23</td>\n",
       "      <td>2259.429530</td>\n",
       "      <td>5.430469e+06</td>\n",
       "      <td>7.531432e+05</td>\n",
       "      <td>642</td>\n",
       "      <td>0.138688</td>\n",
       "      <td>WETH-ZRO</td>\n",
       "    </tr>\n",
       "    <tr>\n",
       "      <th>3439</th>\n",
       "      <td>2024-07-21 00:00:00.000 UTC</td>\n",
       "      <td>8.641557e+21</td>\n",
       "      <td>145.222984</td>\n",
       "      <td>1.082115e+06</td>\n",
       "      <td>1.452230e+04</td>\n",
       "      <td>31</td>\n",
       "      <td>0.013420</td>\n",
       "      <td>WETH-ZRO</td>\n",
       "    </tr>\n",
       "    <tr>\n",
       "      <th>3457</th>\n",
       "      <td>2024-07-21 01:00:00.000 UTC</td>\n",
       "      <td>1.588970e+23</td>\n",
       "      <td>623.836085</td>\n",
       "      <td>5.436836e+06</td>\n",
       "      <td>2.079454e+05</td>\n",
       "      <td>156</td>\n",
       "      <td>0.038247</td>\n",
       "      <td>WETH-ZRO</td>\n",
       "    </tr>\n",
       "  </tbody>\n",
       "</table>\n",
       "<p>315 rows × 8 columns</p>\n",
       "</div>"
      ],
      "text/plain": [
       "                              day  arbitrum_avg_liquidity  arbitrum_fees_usd  \\\n",
       "0     2024-07-14 00:00:00.000 UTC            1.854139e+23         386.685410   \n",
       "10    2024-07-14 00:00:00.000 UTC            1.230389e+22           9.666580   \n",
       "19    2024-07-14 01:00:00.000 UTC            1.760607e+23         243.510673   \n",
       "23    2024-07-14 01:00:00.000 UTC            1.233287e+22          19.675448   \n",
       "37    2024-07-14 02:00:00.000 UTC            1.613444e+23         421.222300   \n",
       "...                           ...                     ...                ...   \n",
       "3421  2024-07-20 23:00:00.000 UTC            1.394003e+23        3955.259495   \n",
       "3422  2024-07-20 23:00:00.000 UTC            8.602772e+21         462.886009   \n",
       "3438  2024-07-21 00:00:00.000 UTC            1.747431e+23        2259.429530   \n",
       "3439  2024-07-21 00:00:00.000 UTC            8.641557e+21         145.222984   \n",
       "3457  2024-07-21 01:00:00.000 UTC            1.588970e+23         623.836085   \n",
       "\n",
       "      arbitrum_tvl_usd  arbitrum_volume_usd  arbitrum_num_trades  \\\n",
       "0         3.732390e+06         1.288951e+05                  119   \n",
       "10        8.040533e+05         9.666580e+02                    6   \n",
       "19        3.724752e+06         8.117022e+04                   77   \n",
       "23        8.039304e+05         1.967545e+03                    8   \n",
       "37        3.691604e+06         1.404074e+05                  126   \n",
       "...                ...                  ...                  ...   \n",
       "3421      5.387602e+06         1.318420e+06                  958   \n",
       "3422      1.082125e+06         4.628860e+04                  121   \n",
       "3438      5.430469e+06         7.531432e+05                  642   \n",
       "3439      1.082115e+06         1.452230e+04                   31   \n",
       "3457      5.436836e+06         2.079454e+05                  156   \n",
       "\n",
       "      arbitrum_volume_to_tvl arbitrum_token_pair  \n",
       "0                   0.034534            WETH-ZRO  \n",
       "10                  0.001202            WETH-ZRO  \n",
       "19                  0.021792            WETH-ZRO  \n",
       "23                  0.002447            WETH-ZRO  \n",
       "37                  0.038034            WETH-ZRO  \n",
       "...                      ...                 ...  \n",
       "3421                0.244714            WETH-ZRO  \n",
       "3422                0.042776            WETH-ZRO  \n",
       "3438                0.138688            WETH-ZRO  \n",
       "3439                0.013420            WETH-ZRO  \n",
       "3457                0.038247            WETH-ZRO  \n",
       "\n",
       "[315 rows x 8 columns]"
      ]
     },
     "execution_count": 75,
     "metadata": {},
     "output_type": "execute_result"
    }
   ],
   "source": [
    "weth_zro"
   ]
  },
  {
   "cell_type": "code",
   "execution_count": 83,
   "metadata": {},
   "outputs": [
    {
     "data": {
      "text/html": [
       "<div>\n",
       "<style scoped>\n",
       "    .dataframe tbody tr th:only-of-type {\n",
       "        vertical-align: middle;\n",
       "    }\n",
       "\n",
       "    .dataframe tbody tr th {\n",
       "        vertical-align: top;\n",
       "    }\n",
       "\n",
       "    .dataframe thead th {\n",
       "        text-align: right;\n",
       "    }\n",
       "</style>\n",
       "<table border=\"1\" class=\"dataframe\">\n",
       "  <thead>\n",
       "    <tr style=\"text-align: right;\">\n",
       "      <th></th>\n",
       "      <th>day</th>\n",
       "      <th>arbitrum_avg_liquidity</th>\n",
       "      <th>arbitrum_fees_usd</th>\n",
       "      <th>arbitrum_tvl_usd</th>\n",
       "      <th>arbitrum_volume_usd</th>\n",
       "      <th>arbitrum_num_trades</th>\n",
       "      <th>arbitrum_volume_to_tvl</th>\n",
       "      <th>arbitrum_token_pair</th>\n",
       "      <th>arbitrum_gas_usd_per_tx</th>\n",
       "      <th>arbitrum_median_gas_usd</th>\n",
       "    </tr>\n",
       "  </thead>\n",
       "  <tbody>\n",
       "    <tr>\n",
       "      <th>0</th>\n",
       "      <td>2024-07-14 00:00:00.000 UTC</td>\n",
       "      <td>1.854139e+23</td>\n",
       "      <td>386.685410</td>\n",
       "      <td>3.732390e+06</td>\n",
       "      <td>1.288951e+05</td>\n",
       "      <td>119</td>\n",
       "      <td>0.034534</td>\n",
       "      <td>WETH-ZRO</td>\n",
       "      <td>0.010340</td>\n",
       "      <td>0.006240</td>\n",
       "    </tr>\n",
       "    <tr>\n",
       "      <th>1</th>\n",
       "      <td>2024-07-14 00:00:00.000 UTC</td>\n",
       "      <td>1.230389e+22</td>\n",
       "      <td>9.666580</td>\n",
       "      <td>8.040533e+05</td>\n",
       "      <td>9.666580e+02</td>\n",
       "      <td>6</td>\n",
       "      <td>0.001202</td>\n",
       "      <td>WETH-ZRO</td>\n",
       "      <td>0.010340</td>\n",
       "      <td>0.006240</td>\n",
       "    </tr>\n",
       "    <tr>\n",
       "      <th>2</th>\n",
       "      <td>2024-07-14 01:00:00.000 UTC</td>\n",
       "      <td>1.760607e+23</td>\n",
       "      <td>243.510673</td>\n",
       "      <td>3.724752e+06</td>\n",
       "      <td>8.117022e+04</td>\n",
       "      <td>77</td>\n",
       "      <td>0.021792</td>\n",
       "      <td>WETH-ZRO</td>\n",
       "      <td>0.007959</td>\n",
       "      <td>0.005059</td>\n",
       "    </tr>\n",
       "    <tr>\n",
       "      <th>3</th>\n",
       "      <td>2024-07-14 01:00:00.000 UTC</td>\n",
       "      <td>1.233287e+22</td>\n",
       "      <td>19.675448</td>\n",
       "      <td>8.039304e+05</td>\n",
       "      <td>1.967545e+03</td>\n",
       "      <td>8</td>\n",
       "      <td>0.002447</td>\n",
       "      <td>WETH-ZRO</td>\n",
       "      <td>0.007959</td>\n",
       "      <td>0.005059</td>\n",
       "    </tr>\n",
       "    <tr>\n",
       "      <th>4</th>\n",
       "      <td>2024-07-14 02:00:00.000 UTC</td>\n",
       "      <td>1.613444e+23</td>\n",
       "      <td>421.222300</td>\n",
       "      <td>3.691604e+06</td>\n",
       "      <td>1.404074e+05</td>\n",
       "      <td>126</td>\n",
       "      <td>0.038034</td>\n",
       "      <td>WETH-ZRO</td>\n",
       "      <td>0.005898</td>\n",
       "      <td>0.004483</td>\n",
       "    </tr>\n",
       "    <tr>\n",
       "      <th>...</th>\n",
       "      <td>...</td>\n",
       "      <td>...</td>\n",
       "      <td>...</td>\n",
       "      <td>...</td>\n",
       "      <td>...</td>\n",
       "      <td>...</td>\n",
       "      <td>...</td>\n",
       "      <td>...</td>\n",
       "      <td>...</td>\n",
       "      <td>...</td>\n",
       "    </tr>\n",
       "    <tr>\n",
       "      <th>310</th>\n",
       "      <td>2024-07-20 23:00:00.000 UTC</td>\n",
       "      <td>1.394003e+23</td>\n",
       "      <td>3955.259495</td>\n",
       "      <td>5.387602e+06</td>\n",
       "      <td>1.318420e+06</td>\n",
       "      <td>958</td>\n",
       "      <td>0.244714</td>\n",
       "      <td>WETH-ZRO</td>\n",
       "      <td>0.009521</td>\n",
       "      <td>0.005383</td>\n",
       "    </tr>\n",
       "    <tr>\n",
       "      <th>311</th>\n",
       "      <td>2024-07-20 23:00:00.000 UTC</td>\n",
       "      <td>8.602772e+21</td>\n",
       "      <td>462.886009</td>\n",
       "      <td>1.082125e+06</td>\n",
       "      <td>4.628860e+04</td>\n",
       "      <td>121</td>\n",
       "      <td>0.042776</td>\n",
       "      <td>WETH-ZRO</td>\n",
       "      <td>0.009521</td>\n",
       "      <td>0.005383</td>\n",
       "    </tr>\n",
       "    <tr>\n",
       "      <th>312</th>\n",
       "      <td>2024-07-21 00:00:00.000 UTC</td>\n",
       "      <td>1.747431e+23</td>\n",
       "      <td>2259.429530</td>\n",
       "      <td>5.430469e+06</td>\n",
       "      <td>7.531432e+05</td>\n",
       "      <td>642</td>\n",
       "      <td>0.138688</td>\n",
       "      <td>WETH-ZRO</td>\n",
       "      <td>0.009502</td>\n",
       "      <td>0.005291</td>\n",
       "    </tr>\n",
       "    <tr>\n",
       "      <th>313</th>\n",
       "      <td>2024-07-21 00:00:00.000 UTC</td>\n",
       "      <td>8.641557e+21</td>\n",
       "      <td>145.222984</td>\n",
       "      <td>1.082115e+06</td>\n",
       "      <td>1.452230e+04</td>\n",
       "      <td>31</td>\n",
       "      <td>0.013420</td>\n",
       "      <td>WETH-ZRO</td>\n",
       "      <td>0.009502</td>\n",
       "      <td>0.005291</td>\n",
       "    </tr>\n",
       "    <tr>\n",
       "      <th>314</th>\n",
       "      <td>2024-07-21 01:00:00.000 UTC</td>\n",
       "      <td>1.588970e+23</td>\n",
       "      <td>623.836085</td>\n",
       "      <td>5.436836e+06</td>\n",
       "      <td>2.079454e+05</td>\n",
       "      <td>156</td>\n",
       "      <td>0.038247</td>\n",
       "      <td>WETH-ZRO</td>\n",
       "      <td>0.009373</td>\n",
       "      <td>0.005222</td>\n",
       "    </tr>\n",
       "  </tbody>\n",
       "</table>\n",
       "<p>315 rows × 10 columns</p>\n",
       "</div>"
      ],
      "text/plain": [
       "                             day  arbitrum_avg_liquidity  arbitrum_fees_usd  \\\n",
       "0    2024-07-14 00:00:00.000 UTC            1.854139e+23         386.685410   \n",
       "1    2024-07-14 00:00:00.000 UTC            1.230389e+22           9.666580   \n",
       "2    2024-07-14 01:00:00.000 UTC            1.760607e+23         243.510673   \n",
       "3    2024-07-14 01:00:00.000 UTC            1.233287e+22          19.675448   \n",
       "4    2024-07-14 02:00:00.000 UTC            1.613444e+23         421.222300   \n",
       "..                           ...                     ...                ...   \n",
       "310  2024-07-20 23:00:00.000 UTC            1.394003e+23        3955.259495   \n",
       "311  2024-07-20 23:00:00.000 UTC            8.602772e+21         462.886009   \n",
       "312  2024-07-21 00:00:00.000 UTC            1.747431e+23        2259.429530   \n",
       "313  2024-07-21 00:00:00.000 UTC            8.641557e+21         145.222984   \n",
       "314  2024-07-21 01:00:00.000 UTC            1.588970e+23         623.836085   \n",
       "\n",
       "     arbitrum_tvl_usd  arbitrum_volume_usd  arbitrum_num_trades  \\\n",
       "0        3.732390e+06         1.288951e+05                  119   \n",
       "1        8.040533e+05         9.666580e+02                    6   \n",
       "2        3.724752e+06         8.117022e+04                   77   \n",
       "3        8.039304e+05         1.967545e+03                    8   \n",
       "4        3.691604e+06         1.404074e+05                  126   \n",
       "..                ...                  ...                  ...   \n",
       "310      5.387602e+06         1.318420e+06                  958   \n",
       "311      1.082125e+06         4.628860e+04                  121   \n",
       "312      5.430469e+06         7.531432e+05                  642   \n",
       "313      1.082115e+06         1.452230e+04                   31   \n",
       "314      5.436836e+06         2.079454e+05                  156   \n",
       "\n",
       "     arbitrum_volume_to_tvl arbitrum_token_pair  arbitrum_gas_usd_per_tx  \\\n",
       "0                  0.034534            WETH-ZRO                 0.010340   \n",
       "1                  0.001202            WETH-ZRO                 0.010340   \n",
       "2                  0.021792            WETH-ZRO                 0.007959   \n",
       "3                  0.002447            WETH-ZRO                 0.007959   \n",
       "4                  0.038034            WETH-ZRO                 0.005898   \n",
       "..                      ...                 ...                      ...   \n",
       "310                0.244714            WETH-ZRO                 0.009521   \n",
       "311                0.042776            WETH-ZRO                 0.009521   \n",
       "312                0.138688            WETH-ZRO                 0.009502   \n",
       "313                0.013420            WETH-ZRO                 0.009502   \n",
       "314                0.038247            WETH-ZRO                 0.009373   \n",
       "\n",
       "     arbitrum_median_gas_usd  \n",
       "0                   0.006240  \n",
       "1                   0.006240  \n",
       "2                   0.005059  \n",
       "3                   0.005059  \n",
       "4                   0.004483  \n",
       "..                       ...  \n",
       "310                 0.005383  \n",
       "311                 0.005383  \n",
       "312                 0.005291  \n",
       "313                 0.005291  \n",
       "314                 0.005222  \n",
       "\n",
       "[315 rows x 10 columns]"
      ]
     },
     "execution_count": 83,
     "metadata": {},
     "output_type": "execute_result"
    }
   ],
   "source": [
    "weth_zro = weth_zro.merge(arbitrum_gas_df, how='left', on=['day']) \n"
   ]
  },
  {
   "cell_type": "code",
   "execution_count": 91,
   "metadata": {},
   "outputs": [
    {
     "data": {
      "text/html": [
       "<div>\n",
       "<style scoped>\n",
       "    .dataframe tbody tr th:only-of-type {\n",
       "        vertical-align: middle;\n",
       "    }\n",
       "\n",
       "    .dataframe tbody tr th {\n",
       "        vertical-align: top;\n",
       "    }\n",
       "\n",
       "    .dataframe thead th {\n",
       "        text-align: right;\n",
       "    }\n",
       "</style>\n",
       "<table border=\"1\" class=\"dataframe\">\n",
       "  <thead>\n",
       "    <tr style=\"text-align: right;\">\n",
       "      <th></th>\n",
       "      <th>day</th>\n",
       "      <th>arbitrum_avg_liquidity</th>\n",
       "      <th>arbitrum_fees_usd</th>\n",
       "      <th>arbitrum_tvl_usd</th>\n",
       "      <th>arbitrum_volume_usd</th>\n",
       "      <th>arbitrum_num_trades</th>\n",
       "      <th>arbitrum_volume_to_tvl</th>\n",
       "      <th>arbitrum_token_pair</th>\n",
       "      <th>arbitrum_gas_usd_per_tx</th>\n",
       "      <th>arbitrum_median_gas_usd</th>\n",
       "      <th>arbitrum_net_liquidity</th>\n",
       "    </tr>\n",
       "  </thead>\n",
       "  <tbody>\n",
       "    <tr>\n",
       "      <th>0</th>\n",
       "      <td>2024-07-14 00:00:00.000 UTC</td>\n",
       "      <td>1.854139e+23</td>\n",
       "      <td>386.685410</td>\n",
       "      <td>3.732390e+06</td>\n",
       "      <td>1.288951e+05</td>\n",
       "      <td>119</td>\n",
       "      <td>0.034534</td>\n",
       "      <td>WETH-ZRO</td>\n",
       "      <td>0.010340</td>\n",
       "      <td>0.006240</td>\n",
       "      <td>NaN</td>\n",
       "    </tr>\n",
       "    <tr>\n",
       "      <th>1</th>\n",
       "      <td>2024-07-14 00:00:00.000 UTC</td>\n",
       "      <td>1.230389e+22</td>\n",
       "      <td>9.666580</td>\n",
       "      <td>8.040533e+05</td>\n",
       "      <td>9.666580e+02</td>\n",
       "      <td>6</td>\n",
       "      <td>0.001202</td>\n",
       "      <td>WETH-ZRO</td>\n",
       "      <td>0.010340</td>\n",
       "      <td>0.006240</td>\n",
       "      <td>-1.731100e+23</td>\n",
       "    </tr>\n",
       "    <tr>\n",
       "      <th>2</th>\n",
       "      <td>2024-07-14 01:00:00.000 UTC</td>\n",
       "      <td>1.760607e+23</td>\n",
       "      <td>243.510673</td>\n",
       "      <td>3.724752e+06</td>\n",
       "      <td>8.117022e+04</td>\n",
       "      <td>77</td>\n",
       "      <td>0.021792</td>\n",
       "      <td>WETH-ZRO</td>\n",
       "      <td>0.007959</td>\n",
       "      <td>0.005059</td>\n",
       "      <td>1.637568e+23</td>\n",
       "    </tr>\n",
       "    <tr>\n",
       "      <th>3</th>\n",
       "      <td>2024-07-14 01:00:00.000 UTC</td>\n",
       "      <td>1.233287e+22</td>\n",
       "      <td>19.675448</td>\n",
       "      <td>8.039304e+05</td>\n",
       "      <td>1.967545e+03</td>\n",
       "      <td>8</td>\n",
       "      <td>0.002447</td>\n",
       "      <td>WETH-ZRO</td>\n",
       "      <td>0.007959</td>\n",
       "      <td>0.005059</td>\n",
       "      <td>-1.637278e+23</td>\n",
       "    </tr>\n",
       "    <tr>\n",
       "      <th>4</th>\n",
       "      <td>2024-07-14 02:00:00.000 UTC</td>\n",
       "      <td>1.613444e+23</td>\n",
       "      <td>421.222300</td>\n",
       "      <td>3.691604e+06</td>\n",
       "      <td>1.404074e+05</td>\n",
       "      <td>126</td>\n",
       "      <td>0.038034</td>\n",
       "      <td>WETH-ZRO</td>\n",
       "      <td>0.005898</td>\n",
       "      <td>0.004483</td>\n",
       "      <td>1.490116e+23</td>\n",
       "    </tr>\n",
       "    <tr>\n",
       "      <th>...</th>\n",
       "      <td>...</td>\n",
       "      <td>...</td>\n",
       "      <td>...</td>\n",
       "      <td>...</td>\n",
       "      <td>...</td>\n",
       "      <td>...</td>\n",
       "      <td>...</td>\n",
       "      <td>...</td>\n",
       "      <td>...</td>\n",
       "      <td>...</td>\n",
       "      <td>...</td>\n",
       "    </tr>\n",
       "    <tr>\n",
       "      <th>310</th>\n",
       "      <td>2024-07-20 23:00:00.000 UTC</td>\n",
       "      <td>1.394003e+23</td>\n",
       "      <td>3955.259495</td>\n",
       "      <td>5.387602e+06</td>\n",
       "      <td>1.318420e+06</td>\n",
       "      <td>958</td>\n",
       "      <td>0.244714</td>\n",
       "      <td>WETH-ZRO</td>\n",
       "      <td>0.009521</td>\n",
       "      <td>0.005383</td>\n",
       "      <td>1.304331e+23</td>\n",
       "    </tr>\n",
       "    <tr>\n",
       "      <th>311</th>\n",
       "      <td>2024-07-20 23:00:00.000 UTC</td>\n",
       "      <td>8.602772e+21</td>\n",
       "      <td>462.886009</td>\n",
       "      <td>1.082125e+06</td>\n",
       "      <td>4.628860e+04</td>\n",
       "      <td>121</td>\n",
       "      <td>0.042776</td>\n",
       "      <td>WETH-ZRO</td>\n",
       "      <td>0.009521</td>\n",
       "      <td>0.005383</td>\n",
       "      <td>-1.307975e+23</td>\n",
       "    </tr>\n",
       "    <tr>\n",
       "      <th>312</th>\n",
       "      <td>2024-07-21 00:00:00.000 UTC</td>\n",
       "      <td>1.747431e+23</td>\n",
       "      <td>2259.429530</td>\n",
       "      <td>5.430469e+06</td>\n",
       "      <td>7.531432e+05</td>\n",
       "      <td>642</td>\n",
       "      <td>0.138688</td>\n",
       "      <td>WETH-ZRO</td>\n",
       "      <td>0.009502</td>\n",
       "      <td>0.005291</td>\n",
       "      <td>1.661403e+23</td>\n",
       "    </tr>\n",
       "    <tr>\n",
       "      <th>313</th>\n",
       "      <td>2024-07-21 00:00:00.000 UTC</td>\n",
       "      <td>8.641557e+21</td>\n",
       "      <td>145.222984</td>\n",
       "      <td>1.082115e+06</td>\n",
       "      <td>1.452230e+04</td>\n",
       "      <td>31</td>\n",
       "      <td>0.013420</td>\n",
       "      <td>WETH-ZRO</td>\n",
       "      <td>0.009502</td>\n",
       "      <td>0.005291</td>\n",
       "      <td>-1.661015e+23</td>\n",
       "    </tr>\n",
       "    <tr>\n",
       "      <th>314</th>\n",
       "      <td>2024-07-21 01:00:00.000 UTC</td>\n",
       "      <td>1.588970e+23</td>\n",
       "      <td>623.836085</td>\n",
       "      <td>5.436836e+06</td>\n",
       "      <td>2.079454e+05</td>\n",
       "      <td>156</td>\n",
       "      <td>0.038247</td>\n",
       "      <td>WETH-ZRO</td>\n",
       "      <td>0.009373</td>\n",
       "      <td>0.005222</td>\n",
       "      <td>1.502554e+23</td>\n",
       "    </tr>\n",
       "  </tbody>\n",
       "</table>\n",
       "<p>315 rows × 11 columns</p>\n",
       "</div>"
      ],
      "text/plain": [
       "                             day  arbitrum_avg_liquidity  arbitrum_fees_usd  \\\n",
       "0    2024-07-14 00:00:00.000 UTC            1.854139e+23         386.685410   \n",
       "1    2024-07-14 00:00:00.000 UTC            1.230389e+22           9.666580   \n",
       "2    2024-07-14 01:00:00.000 UTC            1.760607e+23         243.510673   \n",
       "3    2024-07-14 01:00:00.000 UTC            1.233287e+22          19.675448   \n",
       "4    2024-07-14 02:00:00.000 UTC            1.613444e+23         421.222300   \n",
       "..                           ...                     ...                ...   \n",
       "310  2024-07-20 23:00:00.000 UTC            1.394003e+23        3955.259495   \n",
       "311  2024-07-20 23:00:00.000 UTC            8.602772e+21         462.886009   \n",
       "312  2024-07-21 00:00:00.000 UTC            1.747431e+23        2259.429530   \n",
       "313  2024-07-21 00:00:00.000 UTC            8.641557e+21         145.222984   \n",
       "314  2024-07-21 01:00:00.000 UTC            1.588970e+23         623.836085   \n",
       "\n",
       "     arbitrum_tvl_usd  arbitrum_volume_usd  arbitrum_num_trades  \\\n",
       "0        3.732390e+06         1.288951e+05                  119   \n",
       "1        8.040533e+05         9.666580e+02                    6   \n",
       "2        3.724752e+06         8.117022e+04                   77   \n",
       "3        8.039304e+05         1.967545e+03                    8   \n",
       "4        3.691604e+06         1.404074e+05                  126   \n",
       "..                ...                  ...                  ...   \n",
       "310      5.387602e+06         1.318420e+06                  958   \n",
       "311      1.082125e+06         4.628860e+04                  121   \n",
       "312      5.430469e+06         7.531432e+05                  642   \n",
       "313      1.082115e+06         1.452230e+04                   31   \n",
       "314      5.436836e+06         2.079454e+05                  156   \n",
       "\n",
       "     arbitrum_volume_to_tvl arbitrum_token_pair  arbitrum_gas_usd_per_tx  \\\n",
       "0                  0.034534            WETH-ZRO                 0.010340   \n",
       "1                  0.001202            WETH-ZRO                 0.010340   \n",
       "2                  0.021792            WETH-ZRO                 0.007959   \n",
       "3                  0.002447            WETH-ZRO                 0.007959   \n",
       "4                  0.038034            WETH-ZRO                 0.005898   \n",
       "..                      ...                 ...                      ...   \n",
       "310                0.244714            WETH-ZRO                 0.009521   \n",
       "311                0.042776            WETH-ZRO                 0.009521   \n",
       "312                0.138688            WETH-ZRO                 0.009502   \n",
       "313                0.013420            WETH-ZRO                 0.009502   \n",
       "314                0.038247            WETH-ZRO                 0.009373   \n",
       "\n",
       "     arbitrum_median_gas_usd  arbitrum_net_liquidity  \n",
       "0                   0.006240                     NaN  \n",
       "1                   0.006240           -1.731100e+23  \n",
       "2                   0.005059            1.637568e+23  \n",
       "3                   0.005059           -1.637278e+23  \n",
       "4                   0.004483            1.490116e+23  \n",
       "..                       ...                     ...  \n",
       "310                 0.005383            1.304331e+23  \n",
       "311                 0.005383           -1.307975e+23  \n",
       "312                 0.005291            1.661403e+23  \n",
       "313                 0.005291           -1.661015e+23  \n",
       "314                 0.005222            1.502554e+23  \n",
       "\n",
       "[315 rows x 11 columns]"
      ]
     },
     "execution_count": 91,
     "metadata": {},
     "output_type": "execute_result"
    }
   ],
   "source": [
    "weth_zro"
   ]
  },
  {
   "cell_type": "code",
   "execution_count": 87,
   "metadata": {},
   "outputs": [
    {
     "name": "stdout",
     "output_type": "stream",
     "text": [
      "                           day  arbitrum_avg_liquidity  arbitrum_net_liquidity\n",
      "0  2024-07-14 00:00:00.000 UTC            1.854139e+23                     NaN\n",
      "1  2024-07-14 00:00:00.000 UTC            1.230389e+22           -1.731100e+23\n",
      "2  2024-07-14 01:00:00.000 UTC            1.760607e+23            1.637568e+23\n",
      "3  2024-07-14 01:00:00.000 UTC            1.233287e+22           -1.637278e+23\n",
      "4  2024-07-14 02:00:00.000 UTC            1.613444e+23            1.490116e+23\n"
     ]
    }
   ],
   "source": [
    "weth_zro['arbitrum_net_liquidity'] = weth_zro['arbitrum_avg_liquidity'] - weth_zro['arbitrum_avg_liquidity'].shift(1)\n",
    "weth_zro['arbitrum_net_liquidity'].fillna(0, inplace=True) \n",
    "print(weth_zro[['day', 'arbitrum_avg_liquidity', 'arbitrum_net_liquidity']].head())"
   ]
  },
  {
   "cell_type": "code",
   "execution_count": 90,
   "metadata": {},
   "outputs": [
    {
     "data": {
      "text/plain": [
       "day\n",
       "2024-07-14 00:00:00.000 UTC             NaN\n",
       "2024-07-14 00:00:00.000 UTC   -1.731100e+23\n",
       "2024-07-14 01:00:00.000 UTC    1.637568e+23\n",
       "2024-07-14 01:00:00.000 UTC   -1.637278e+23\n",
       "2024-07-14 02:00:00.000 UTC    1.490116e+23\n",
       "                                   ...     \n",
       "2024-07-20 23:00:00.000 UTC    1.304331e+23\n",
       "2024-07-20 23:00:00.000 UTC   -1.307975e+23\n",
       "2024-07-21 00:00:00.000 UTC    1.661403e+23\n",
       "2024-07-21 00:00:00.000 UTC   -1.661015e+23\n",
       "2024-07-21 01:00:00.000 UTC    1.502554e+23\n",
       "Name: arbitrum_net_liquidity, Length: 315, dtype: float64"
      ]
     },
     "execution_count": 90,
     "metadata": {},
     "output_type": "execute_result"
    }
   ],
   "source": [
    "weth_zro_timeseries = weth_zro.set_index('day')\n",
    "weth_zro_timeseries['arbitrum_net_liquidity']"
   ]
  },
  {
   "cell_type": "code",
   "execution_count": 85,
   "metadata": {},
   "outputs": [
    {
     "data": {
      "application/vnd.plotly.v1+json": {
       "config": {
        "plotlyServerURL": "https://plot.ly"
       },
       "data": [
        {
         "name": "# of Trades",
         "type": "bar",
         "x": [
          "2024-07-14 00:00:00.000 UTC",
          "2024-07-14 00:00:00.000 UTC",
          "2024-07-14 01:00:00.000 UTC",
          "2024-07-14 01:00:00.000 UTC",
          "2024-07-14 02:00:00.000 UTC",
          "2024-07-14 02:00:00.000 UTC",
          "2024-07-14 03:00:00.000 UTC",
          "2024-07-14 03:00:00.000 UTC",
          "2024-07-14 04:00:00.000 UTC",
          "2024-07-14 04:00:00.000 UTC",
          "2024-07-14 05:00:00.000 UTC",
          "2024-07-14 05:00:00.000 UTC",
          "2024-07-14 06:00:00.000 UTC",
          "2024-07-14 06:00:00.000 UTC",
          "2024-07-14 07:00:00.000 UTC",
          "2024-07-14 07:00:00.000 UTC",
          "2024-07-14 08:00:00.000 UTC",
          "2024-07-14 08:00:00.000 UTC",
          "2024-07-14 09:00:00.000 UTC",
          "2024-07-14 10:00:00.000 UTC",
          "2024-07-14 10:00:00.000 UTC",
          "2024-07-14 11:00:00.000 UTC",
          "2024-07-14 11:00:00.000 UTC",
          "2024-07-14 12:00:00.000 UTC",
          "2024-07-14 13:00:00.000 UTC",
          "2024-07-14 13:00:00.000 UTC",
          "2024-07-14 14:00:00.000 UTC",
          "2024-07-14 14:00:00.000 UTC",
          "2024-07-14 15:00:00.000 UTC",
          "2024-07-14 15:00:00.000 UTC",
          "2024-07-14 16:00:00.000 UTC",
          "2024-07-14 16:00:00.000 UTC",
          "2024-07-14 17:00:00.000 UTC",
          "2024-07-14 17:00:00.000 UTC",
          "2024-07-14 18:00:00.000 UTC",
          "2024-07-14 18:00:00.000 UTC",
          "2024-07-14 19:00:00.000 UTC",
          "2024-07-14 19:00:00.000 UTC",
          "2024-07-14 20:00:00.000 UTC",
          "2024-07-14 20:00:00.000 UTC",
          "2024-07-14 21:00:00.000 UTC",
          "2024-07-14 21:00:00.000 UTC",
          "2024-07-14 22:00:00.000 UTC",
          "2024-07-14 22:00:00.000 UTC",
          "2024-07-14 23:00:00.000 UTC",
          "2024-07-14 23:00:00.000 UTC",
          "2024-07-15 00:00:00.000 UTC",
          "2024-07-15 00:00:00.000 UTC",
          "2024-07-15 01:00:00.000 UTC",
          "2024-07-15 01:00:00.000 UTC",
          "2024-07-15 02:00:00.000 UTC",
          "2024-07-15 02:00:00.000 UTC",
          "2024-07-15 03:00:00.000 UTC",
          "2024-07-15 03:00:00.000 UTC",
          "2024-07-15 04:00:00.000 UTC",
          "2024-07-15 04:00:00.000 UTC",
          "2024-07-15 05:00:00.000 UTC",
          "2024-07-15 05:00:00.000 UTC",
          "2024-07-15 06:00:00.000 UTC",
          "2024-07-15 06:00:00.000 UTC",
          "2024-07-15 07:00:00.000 UTC",
          "2024-07-15 07:00:00.000 UTC",
          "2024-07-15 08:00:00.000 UTC",
          "2024-07-15 08:00:00.000 UTC",
          "2024-07-15 09:00:00.000 UTC",
          "2024-07-15 09:00:00.000 UTC",
          "2024-07-15 10:00:00.000 UTC",
          "2024-07-15 10:00:00.000 UTC",
          "2024-07-15 11:00:00.000 UTC",
          "2024-07-15 11:00:00.000 UTC",
          "2024-07-15 12:00:00.000 UTC",
          "2024-07-15 12:00:00.000 UTC",
          "2024-07-15 13:00:00.000 UTC",
          "2024-07-15 13:00:00.000 UTC",
          "2024-07-15 14:00:00.000 UTC",
          "2024-07-15 14:00:00.000 UTC",
          "2024-07-15 15:00:00.000 UTC",
          "2024-07-15 15:00:00.000 UTC",
          "2024-07-15 16:00:00.000 UTC",
          "2024-07-15 17:00:00.000 UTC",
          "2024-07-15 17:00:00.000 UTC",
          "2024-07-15 18:00:00.000 UTC",
          "2024-07-15 18:00:00.000 UTC",
          "2024-07-15 19:00:00.000 UTC",
          "2024-07-15 19:00:00.000 UTC",
          "2024-07-15 20:00:00.000 UTC",
          "2024-07-15 20:00:00.000 UTC",
          "2024-07-15 21:00:00.000 UTC",
          "2024-07-15 21:00:00.000 UTC",
          "2024-07-15 22:00:00.000 UTC",
          "2024-07-15 22:00:00.000 UTC",
          "2024-07-15 23:00:00.000 UTC",
          "2024-07-15 23:00:00.000 UTC",
          "2024-07-16 00:00:00.000 UTC",
          "2024-07-16 00:00:00.000 UTC",
          "2024-07-16 01:00:00.000 UTC",
          "2024-07-16 01:00:00.000 UTC",
          "2024-07-16 02:00:00.000 UTC",
          "2024-07-16 02:00:00.000 UTC",
          "2024-07-16 03:00:00.000 UTC",
          "2024-07-16 03:00:00.000 UTC",
          "2024-07-16 04:00:00.000 UTC",
          "2024-07-16 04:00:00.000 UTC",
          "2024-07-16 05:00:00.000 UTC",
          "2024-07-16 05:00:00.000 UTC",
          "2024-07-16 06:00:00.000 UTC",
          "2024-07-16 06:00:00.000 UTC",
          "2024-07-16 07:00:00.000 UTC",
          "2024-07-16 07:00:00.000 UTC",
          "2024-07-16 08:00:00.000 UTC",
          "2024-07-16 08:00:00.000 UTC",
          "2024-07-16 09:00:00.000 UTC",
          "2024-07-16 09:00:00.000 UTC",
          "2024-07-16 10:00:00.000 UTC",
          "2024-07-16 11:00:00.000 UTC",
          "2024-07-16 12:00:00.000 UTC",
          "2024-07-16 12:00:00.000 UTC",
          "2024-07-16 13:00:00.000 UTC",
          "2024-07-16 13:00:00.000 UTC",
          "2024-07-16 14:00:00.000 UTC",
          "2024-07-16 15:00:00.000 UTC",
          "2024-07-16 15:00:00.000 UTC",
          "2024-07-16 16:00:00.000 UTC",
          "2024-07-16 16:00:00.000 UTC",
          "2024-07-16 17:00:00.000 UTC",
          "2024-07-16 18:00:00.000 UTC",
          "2024-07-16 18:00:00.000 UTC",
          "2024-07-16 19:00:00.000 UTC",
          "2024-07-16 19:00:00.000 UTC",
          "2024-07-16 20:00:00.000 UTC",
          "2024-07-16 20:00:00.000 UTC",
          "2024-07-16 21:00:00.000 UTC",
          "2024-07-16 22:00:00.000 UTC",
          "2024-07-16 22:00:00.000 UTC",
          "2024-07-16 23:00:00.000 UTC",
          "2024-07-17 00:00:00.000 UTC",
          "2024-07-17 00:00:00.000 UTC",
          "2024-07-17 01:00:00.000 UTC",
          "2024-07-17 01:00:00.000 UTC",
          "2024-07-17 02:00:00.000 UTC",
          "2024-07-17 02:00:00.000 UTC",
          "2024-07-17 03:00:00.000 UTC",
          "2024-07-17 03:00:00.000 UTC",
          "2024-07-17 04:00:00.000 UTC",
          "2024-07-17 04:00:00.000 UTC",
          "2024-07-17 05:00:00.000 UTC",
          "2024-07-17 05:00:00.000 UTC",
          "2024-07-17 06:00:00.000 UTC",
          "2024-07-17 06:00:00.000 UTC",
          "2024-07-17 07:00:00.000 UTC",
          "2024-07-17 07:00:00.000 UTC",
          "2024-07-17 08:00:00.000 UTC",
          "2024-07-17 08:00:00.000 UTC",
          "2024-07-17 09:00:00.000 UTC",
          "2024-07-17 09:00:00.000 UTC",
          "2024-07-17 10:00:00.000 UTC",
          "2024-07-17 10:00:00.000 UTC",
          "2024-07-17 11:00:00.000 UTC",
          "2024-07-17 11:00:00.000 UTC",
          "2024-07-17 12:00:00.000 UTC",
          "2024-07-17 12:00:00.000 UTC",
          "2024-07-17 13:00:00.000 UTC",
          "2024-07-17 13:00:00.000 UTC",
          "2024-07-17 14:00:00.000 UTC",
          "2024-07-17 14:00:00.000 UTC",
          "2024-07-17 15:00:00.000 UTC",
          "2024-07-17 15:00:00.000 UTC",
          "2024-07-17 16:00:00.000 UTC",
          "2024-07-17 17:00:00.000 UTC",
          "2024-07-17 17:00:00.000 UTC",
          "2024-07-17 18:00:00.000 UTC",
          "2024-07-17 19:00:00.000 UTC",
          "2024-07-17 20:00:00.000 UTC",
          "2024-07-17 20:00:00.000 UTC",
          "2024-07-17 21:00:00.000 UTC",
          "2024-07-17 22:00:00.000 UTC",
          "2024-07-17 22:00:00.000 UTC",
          "2024-07-17 23:00:00.000 UTC",
          "2024-07-17 23:00:00.000 UTC",
          "2024-07-18 00:00:00.000 UTC",
          "2024-07-18 01:00:00.000 UTC",
          "2024-07-18 01:00:00.000 UTC",
          "2024-07-18 02:00:00.000 UTC",
          "2024-07-18 02:00:00.000 UTC",
          "2024-07-18 03:00:00.000 UTC",
          "2024-07-18 03:00:00.000 UTC",
          "2024-07-18 04:00:00.000 UTC",
          "2024-07-18 04:00:00.000 UTC",
          "2024-07-18 05:00:00.000 UTC",
          "2024-07-18 05:00:00.000 UTC",
          "2024-07-18 06:00:00.000 UTC",
          "2024-07-18 07:00:00.000 UTC",
          "2024-07-18 07:00:00.000 UTC",
          "2024-07-18 08:00:00.000 UTC",
          "2024-07-18 08:00:00.000 UTC",
          "2024-07-18 09:00:00.000 UTC",
          "2024-07-18 10:00:00.000 UTC",
          "2024-07-18 10:00:00.000 UTC",
          "2024-07-18 11:00:00.000 UTC",
          "2024-07-18 11:00:00.000 UTC",
          "2024-07-18 12:00:00.000 UTC",
          "2024-07-18 12:00:00.000 UTC",
          "2024-07-18 13:00:00.000 UTC",
          "2024-07-18 13:00:00.000 UTC",
          "2024-07-18 14:00:00.000 UTC",
          "2024-07-18 14:00:00.000 UTC",
          "2024-07-18 15:00:00.000 UTC",
          "2024-07-18 15:00:00.000 UTC",
          "2024-07-18 16:00:00.000 UTC",
          "2024-07-18 16:00:00.000 UTC",
          "2024-07-18 17:00:00.000 UTC",
          "2024-07-18 17:00:00.000 UTC",
          "2024-07-18 18:00:00.000 UTC",
          "2024-07-18 18:00:00.000 UTC",
          "2024-07-18 19:00:00.000 UTC",
          "2024-07-18 19:00:00.000 UTC",
          "2024-07-18 20:00:00.000 UTC",
          "2024-07-18 21:00:00.000 UTC",
          "2024-07-18 21:00:00.000 UTC",
          "2024-07-18 22:00:00.000 UTC",
          "2024-07-18 23:00:00.000 UTC",
          "2024-07-18 23:00:00.000 UTC",
          "2024-07-19 00:00:00.000 UTC",
          "2024-07-19 00:00:00.000 UTC",
          "2024-07-19 01:00:00.000 UTC",
          "2024-07-19 01:00:00.000 UTC",
          "2024-07-19 02:00:00.000 UTC",
          "2024-07-19 03:00:00.000 UTC",
          "2024-07-19 03:00:00.000 UTC",
          "2024-07-19 04:00:00.000 UTC",
          "2024-07-19 04:00:00.000 UTC",
          "2024-07-19 05:00:00.000 UTC",
          "2024-07-19 05:00:00.000 UTC",
          "2024-07-19 06:00:00.000 UTC",
          "2024-07-19 07:00:00.000 UTC",
          "2024-07-19 07:00:00.000 UTC",
          "2024-07-19 08:00:00.000 UTC",
          "2024-07-19 08:00:00.000 UTC",
          "2024-07-19 09:00:00.000 UTC",
          "2024-07-19 09:00:00.000 UTC",
          "2024-07-19 10:00:00.000 UTC",
          "2024-07-19 11:00:00.000 UTC",
          "2024-07-19 12:00:00.000 UTC",
          "2024-07-19 12:00:00.000 UTC",
          "2024-07-19 13:00:00.000 UTC",
          "2024-07-19 13:00:00.000 UTC",
          "2024-07-19 14:00:00.000 UTC",
          "2024-07-19 14:00:00.000 UTC",
          "2024-07-19 15:00:00.000 UTC",
          "2024-07-19 15:00:00.000 UTC",
          "2024-07-19 16:00:00.000 UTC",
          "2024-07-19 17:00:00.000 UTC",
          "2024-07-19 17:00:00.000 UTC",
          "2024-07-19 18:00:00.000 UTC",
          "2024-07-19 19:00:00.000 UTC",
          "2024-07-19 19:00:00.000 UTC",
          "2024-07-19 20:00:00.000 UTC",
          "2024-07-19 20:00:00.000 UTC",
          "2024-07-19 21:00:00.000 UTC",
          "2024-07-19 21:00:00.000 UTC",
          "2024-07-19 22:00:00.000 UTC",
          "2024-07-19 22:00:00.000 UTC",
          "2024-07-19 23:00:00.000 UTC",
          "2024-07-19 23:00:00.000 UTC",
          "2024-07-20 00:00:00.000 UTC",
          "2024-07-20 00:00:00.000 UTC",
          "2024-07-20 01:00:00.000 UTC",
          "2024-07-20 01:00:00.000 UTC",
          "2024-07-20 02:00:00.000 UTC",
          "2024-07-20 02:00:00.000 UTC",
          "2024-07-20 03:00:00.000 UTC",
          "2024-07-20 03:00:00.000 UTC",
          "2024-07-20 04:00:00.000 UTC",
          "2024-07-20 04:00:00.000 UTC",
          "2024-07-20 05:00:00.000 UTC",
          "2024-07-20 05:00:00.000 UTC",
          "2024-07-20 06:00:00.000 UTC",
          "2024-07-20 06:00:00.000 UTC",
          "2024-07-20 07:00:00.000 UTC",
          "2024-07-20 07:00:00.000 UTC",
          "2024-07-20 08:00:00.000 UTC",
          "2024-07-20 08:00:00.000 UTC",
          "2024-07-20 09:00:00.000 UTC",
          "2024-07-20 09:00:00.000 UTC",
          "2024-07-20 10:00:00.000 UTC",
          "2024-07-20 10:00:00.000 UTC",
          "2024-07-20 11:00:00.000 UTC",
          "2024-07-20 11:00:00.000 UTC",
          "2024-07-20 12:00:00.000 UTC",
          "2024-07-20 12:00:00.000 UTC",
          "2024-07-20 13:00:00.000 UTC",
          "2024-07-20 13:00:00.000 UTC",
          "2024-07-20 14:00:00.000 UTC",
          "2024-07-20 14:00:00.000 UTC",
          "2024-07-20 15:00:00.000 UTC",
          "2024-07-20 15:00:00.000 UTC",
          "2024-07-20 16:00:00.000 UTC",
          "2024-07-20 16:00:00.000 UTC",
          "2024-07-20 17:00:00.000 UTC",
          "2024-07-20 17:00:00.000 UTC",
          "2024-07-20 18:00:00.000 UTC",
          "2024-07-20 18:00:00.000 UTC",
          "2024-07-20 19:00:00.000 UTC",
          "2024-07-20 19:00:00.000 UTC",
          "2024-07-20 20:00:00.000 UTC",
          "2024-07-20 20:00:00.000 UTC",
          "2024-07-20 21:00:00.000 UTC",
          "2024-07-20 21:00:00.000 UTC",
          "2024-07-20 22:00:00.000 UTC",
          "2024-07-20 22:00:00.000 UTC",
          "2024-07-20 23:00:00.000 UTC",
          "2024-07-20 23:00:00.000 UTC",
          "2024-07-21 00:00:00.000 UTC",
          "2024-07-21 00:00:00.000 UTC",
          "2024-07-21 01:00:00.000 UTC"
         ],
         "xaxis": "x",
         "y": [
          119,
          6,
          77,
          8,
          126,
          36,
          118,
          4,
          237,
          2,
          229,
          22,
          294,
          40,
          84,
          24,
          123,
          1,
          73,
          87,
          8,
          102,
          9,
          184,
          101,
          1,
          61,
          5,
          56,
          8,
          175,
          13,
          245,
          29,
          177,
          1,
          50,
          14,
          311,
          65,
          259,
          9,
          187,
          5,
          218,
          21,
          331,
          21,
          374,
          32,
          236,
          40,
          180,
          21,
          217,
          53,
          160,
          20,
          188,
          2,
          236,
          34,
          367,
          32,
          153,
          14,
          167,
          3,
          231,
          6,
          146,
          7,
          158,
          5,
          28,
          108,
          103,
          14,
          174,
          190,
          7,
          108,
          2,
          126,
          9,
          110,
          7,
          117,
          1,
          269,
          20,
          254,
          14,
          328,
          21,
          171,
          14,
          145,
          9,
          36,
          6,
          19,
          97,
          45,
          109,
          166,
          18,
          145,
          3,
          16,
          157,
          120,
          17,
          117,
          70,
          107,
          2,
          149,
          4,
          137,
          262,
          17,
          238,
          2,
          102,
          61,
          1,
          26,
          1,
          109,
          5,
          67,
          72,
          5,
          53,
          221,
          1,
          302,
          36,
          172,
          833,
          625,
          44,
          54,
          362,
          194,
          6,
          143,
          1,
          37,
          155,
          331,
          30,
          20,
          249,
          35,
          231,
          252,
          6,
          143,
          13,
          184,
          6,
          143,
          1,
          312,
          4,
          222,
          282,
          7,
          89,
          62,
          181,
          1,
          117,
          89,
          6,
          102,
          5,
          233,
          211,
          31,
          321,
          39,
          162,
          2,
          20,
          104,
          50,
          183,
          111,
          349,
          26,
          210,
          25,
          155,
          119,
          3,
          120,
          1,
          69,
          12,
          22,
          65,
          52,
          193,
          3,
          112,
          180,
          13,
          43,
          215,
          105,
          6,
          202,
          15,
          104,
          98,
          5,
          43,
          50,
          1,
          225,
          39,
          165,
          23,
          112,
          104,
          1,
          67,
          2,
          108,
          1,
          70,
          15,
          84,
          164,
          26,
          104,
          3,
          60,
          45,
          123,
          9,
          172,
          4,
          95,
          6,
          105,
          3,
          127,
          69,
          2,
          79,
          81,
          11,
          100,
          1,
          85,
          1,
          71,
          15,
          38,
          9,
          194,
          1,
          140,
          9,
          121,
          3,
          40,
          3,
          42,
          151,
          109,
          1,
          244,
          37,
          129,
          22,
          581,
          98,
          346,
          31,
          204,
          18,
          161,
          3,
          60,
          363,
          183,
          927,
          1067,
          86,
          936,
          77,
          679,
          41,
          473,
          2,
          1249,
          155,
          1172,
          79,
          521,
          40,
          338,
          24,
          370,
          2,
          958,
          121,
          642,
          31,
          156
         ],
         "yaxis": "y"
        },
        {
         "mode": "lines",
         "name": "Median Gas",
         "type": "scatter",
         "x": [
          "2024-07-14 00:00:00.000 UTC",
          "2024-07-14 00:00:00.000 UTC",
          "2024-07-14 01:00:00.000 UTC",
          "2024-07-14 01:00:00.000 UTC",
          "2024-07-14 02:00:00.000 UTC",
          "2024-07-14 02:00:00.000 UTC",
          "2024-07-14 03:00:00.000 UTC",
          "2024-07-14 03:00:00.000 UTC",
          "2024-07-14 04:00:00.000 UTC",
          "2024-07-14 04:00:00.000 UTC",
          "2024-07-14 05:00:00.000 UTC",
          "2024-07-14 05:00:00.000 UTC",
          "2024-07-14 06:00:00.000 UTC",
          "2024-07-14 06:00:00.000 UTC",
          "2024-07-14 07:00:00.000 UTC",
          "2024-07-14 07:00:00.000 UTC",
          "2024-07-14 08:00:00.000 UTC",
          "2024-07-14 08:00:00.000 UTC",
          "2024-07-14 09:00:00.000 UTC",
          "2024-07-14 10:00:00.000 UTC",
          "2024-07-14 10:00:00.000 UTC",
          "2024-07-14 11:00:00.000 UTC",
          "2024-07-14 11:00:00.000 UTC",
          "2024-07-14 12:00:00.000 UTC",
          "2024-07-14 13:00:00.000 UTC",
          "2024-07-14 13:00:00.000 UTC",
          "2024-07-14 14:00:00.000 UTC",
          "2024-07-14 14:00:00.000 UTC",
          "2024-07-14 15:00:00.000 UTC",
          "2024-07-14 15:00:00.000 UTC",
          "2024-07-14 16:00:00.000 UTC",
          "2024-07-14 16:00:00.000 UTC",
          "2024-07-14 17:00:00.000 UTC",
          "2024-07-14 17:00:00.000 UTC",
          "2024-07-14 18:00:00.000 UTC",
          "2024-07-14 18:00:00.000 UTC",
          "2024-07-14 19:00:00.000 UTC",
          "2024-07-14 19:00:00.000 UTC",
          "2024-07-14 20:00:00.000 UTC",
          "2024-07-14 20:00:00.000 UTC",
          "2024-07-14 21:00:00.000 UTC",
          "2024-07-14 21:00:00.000 UTC",
          "2024-07-14 22:00:00.000 UTC",
          "2024-07-14 22:00:00.000 UTC",
          "2024-07-14 23:00:00.000 UTC",
          "2024-07-14 23:00:00.000 UTC",
          "2024-07-15 00:00:00.000 UTC",
          "2024-07-15 00:00:00.000 UTC",
          "2024-07-15 01:00:00.000 UTC",
          "2024-07-15 01:00:00.000 UTC",
          "2024-07-15 02:00:00.000 UTC",
          "2024-07-15 02:00:00.000 UTC",
          "2024-07-15 03:00:00.000 UTC",
          "2024-07-15 03:00:00.000 UTC",
          "2024-07-15 04:00:00.000 UTC",
          "2024-07-15 04:00:00.000 UTC",
          "2024-07-15 05:00:00.000 UTC",
          "2024-07-15 05:00:00.000 UTC",
          "2024-07-15 06:00:00.000 UTC",
          "2024-07-15 06:00:00.000 UTC",
          "2024-07-15 07:00:00.000 UTC",
          "2024-07-15 07:00:00.000 UTC",
          "2024-07-15 08:00:00.000 UTC",
          "2024-07-15 08:00:00.000 UTC",
          "2024-07-15 09:00:00.000 UTC",
          "2024-07-15 09:00:00.000 UTC",
          "2024-07-15 10:00:00.000 UTC",
          "2024-07-15 10:00:00.000 UTC",
          "2024-07-15 11:00:00.000 UTC",
          "2024-07-15 11:00:00.000 UTC",
          "2024-07-15 12:00:00.000 UTC",
          "2024-07-15 12:00:00.000 UTC",
          "2024-07-15 13:00:00.000 UTC",
          "2024-07-15 13:00:00.000 UTC",
          "2024-07-15 14:00:00.000 UTC",
          "2024-07-15 14:00:00.000 UTC",
          "2024-07-15 15:00:00.000 UTC",
          "2024-07-15 15:00:00.000 UTC",
          "2024-07-15 16:00:00.000 UTC",
          "2024-07-15 17:00:00.000 UTC",
          "2024-07-15 17:00:00.000 UTC",
          "2024-07-15 18:00:00.000 UTC",
          "2024-07-15 18:00:00.000 UTC",
          "2024-07-15 19:00:00.000 UTC",
          "2024-07-15 19:00:00.000 UTC",
          "2024-07-15 20:00:00.000 UTC",
          "2024-07-15 20:00:00.000 UTC",
          "2024-07-15 21:00:00.000 UTC",
          "2024-07-15 21:00:00.000 UTC",
          "2024-07-15 22:00:00.000 UTC",
          "2024-07-15 22:00:00.000 UTC",
          "2024-07-15 23:00:00.000 UTC",
          "2024-07-15 23:00:00.000 UTC",
          "2024-07-16 00:00:00.000 UTC",
          "2024-07-16 00:00:00.000 UTC",
          "2024-07-16 01:00:00.000 UTC",
          "2024-07-16 01:00:00.000 UTC",
          "2024-07-16 02:00:00.000 UTC",
          "2024-07-16 02:00:00.000 UTC",
          "2024-07-16 03:00:00.000 UTC",
          "2024-07-16 03:00:00.000 UTC",
          "2024-07-16 04:00:00.000 UTC",
          "2024-07-16 04:00:00.000 UTC",
          "2024-07-16 05:00:00.000 UTC",
          "2024-07-16 05:00:00.000 UTC",
          "2024-07-16 06:00:00.000 UTC",
          "2024-07-16 06:00:00.000 UTC",
          "2024-07-16 07:00:00.000 UTC",
          "2024-07-16 07:00:00.000 UTC",
          "2024-07-16 08:00:00.000 UTC",
          "2024-07-16 08:00:00.000 UTC",
          "2024-07-16 09:00:00.000 UTC",
          "2024-07-16 09:00:00.000 UTC",
          "2024-07-16 10:00:00.000 UTC",
          "2024-07-16 11:00:00.000 UTC",
          "2024-07-16 12:00:00.000 UTC",
          "2024-07-16 12:00:00.000 UTC",
          "2024-07-16 13:00:00.000 UTC",
          "2024-07-16 13:00:00.000 UTC",
          "2024-07-16 14:00:00.000 UTC",
          "2024-07-16 15:00:00.000 UTC",
          "2024-07-16 15:00:00.000 UTC",
          "2024-07-16 16:00:00.000 UTC",
          "2024-07-16 16:00:00.000 UTC",
          "2024-07-16 17:00:00.000 UTC",
          "2024-07-16 18:00:00.000 UTC",
          "2024-07-16 18:00:00.000 UTC",
          "2024-07-16 19:00:00.000 UTC",
          "2024-07-16 19:00:00.000 UTC",
          "2024-07-16 20:00:00.000 UTC",
          "2024-07-16 20:00:00.000 UTC",
          "2024-07-16 21:00:00.000 UTC",
          "2024-07-16 22:00:00.000 UTC",
          "2024-07-16 22:00:00.000 UTC",
          "2024-07-16 23:00:00.000 UTC",
          "2024-07-17 00:00:00.000 UTC",
          "2024-07-17 00:00:00.000 UTC",
          "2024-07-17 01:00:00.000 UTC",
          "2024-07-17 01:00:00.000 UTC",
          "2024-07-17 02:00:00.000 UTC",
          "2024-07-17 02:00:00.000 UTC",
          "2024-07-17 03:00:00.000 UTC",
          "2024-07-17 03:00:00.000 UTC",
          "2024-07-17 04:00:00.000 UTC",
          "2024-07-17 04:00:00.000 UTC",
          "2024-07-17 05:00:00.000 UTC",
          "2024-07-17 05:00:00.000 UTC",
          "2024-07-17 06:00:00.000 UTC",
          "2024-07-17 06:00:00.000 UTC",
          "2024-07-17 07:00:00.000 UTC",
          "2024-07-17 07:00:00.000 UTC",
          "2024-07-17 08:00:00.000 UTC",
          "2024-07-17 08:00:00.000 UTC",
          "2024-07-17 09:00:00.000 UTC",
          "2024-07-17 09:00:00.000 UTC",
          "2024-07-17 10:00:00.000 UTC",
          "2024-07-17 10:00:00.000 UTC",
          "2024-07-17 11:00:00.000 UTC",
          "2024-07-17 11:00:00.000 UTC",
          "2024-07-17 12:00:00.000 UTC",
          "2024-07-17 12:00:00.000 UTC",
          "2024-07-17 13:00:00.000 UTC",
          "2024-07-17 13:00:00.000 UTC",
          "2024-07-17 14:00:00.000 UTC",
          "2024-07-17 14:00:00.000 UTC",
          "2024-07-17 15:00:00.000 UTC",
          "2024-07-17 15:00:00.000 UTC",
          "2024-07-17 16:00:00.000 UTC",
          "2024-07-17 17:00:00.000 UTC",
          "2024-07-17 17:00:00.000 UTC",
          "2024-07-17 18:00:00.000 UTC",
          "2024-07-17 19:00:00.000 UTC",
          "2024-07-17 20:00:00.000 UTC",
          "2024-07-17 20:00:00.000 UTC",
          "2024-07-17 21:00:00.000 UTC",
          "2024-07-17 22:00:00.000 UTC",
          "2024-07-17 22:00:00.000 UTC",
          "2024-07-17 23:00:00.000 UTC",
          "2024-07-17 23:00:00.000 UTC",
          "2024-07-18 00:00:00.000 UTC",
          "2024-07-18 01:00:00.000 UTC",
          "2024-07-18 01:00:00.000 UTC",
          "2024-07-18 02:00:00.000 UTC",
          "2024-07-18 02:00:00.000 UTC",
          "2024-07-18 03:00:00.000 UTC",
          "2024-07-18 03:00:00.000 UTC",
          "2024-07-18 04:00:00.000 UTC",
          "2024-07-18 04:00:00.000 UTC",
          "2024-07-18 05:00:00.000 UTC",
          "2024-07-18 05:00:00.000 UTC",
          "2024-07-18 06:00:00.000 UTC",
          "2024-07-18 07:00:00.000 UTC",
          "2024-07-18 07:00:00.000 UTC",
          "2024-07-18 08:00:00.000 UTC",
          "2024-07-18 08:00:00.000 UTC",
          "2024-07-18 09:00:00.000 UTC",
          "2024-07-18 10:00:00.000 UTC",
          "2024-07-18 10:00:00.000 UTC",
          "2024-07-18 11:00:00.000 UTC",
          "2024-07-18 11:00:00.000 UTC",
          "2024-07-18 12:00:00.000 UTC",
          "2024-07-18 12:00:00.000 UTC",
          "2024-07-18 13:00:00.000 UTC",
          "2024-07-18 13:00:00.000 UTC",
          "2024-07-18 14:00:00.000 UTC",
          "2024-07-18 14:00:00.000 UTC",
          "2024-07-18 15:00:00.000 UTC",
          "2024-07-18 15:00:00.000 UTC",
          "2024-07-18 16:00:00.000 UTC",
          "2024-07-18 16:00:00.000 UTC",
          "2024-07-18 17:00:00.000 UTC",
          "2024-07-18 17:00:00.000 UTC",
          "2024-07-18 18:00:00.000 UTC",
          "2024-07-18 18:00:00.000 UTC",
          "2024-07-18 19:00:00.000 UTC",
          "2024-07-18 19:00:00.000 UTC",
          "2024-07-18 20:00:00.000 UTC",
          "2024-07-18 21:00:00.000 UTC",
          "2024-07-18 21:00:00.000 UTC",
          "2024-07-18 22:00:00.000 UTC",
          "2024-07-18 23:00:00.000 UTC",
          "2024-07-18 23:00:00.000 UTC",
          "2024-07-19 00:00:00.000 UTC",
          "2024-07-19 00:00:00.000 UTC",
          "2024-07-19 01:00:00.000 UTC",
          "2024-07-19 01:00:00.000 UTC",
          "2024-07-19 02:00:00.000 UTC",
          "2024-07-19 03:00:00.000 UTC",
          "2024-07-19 03:00:00.000 UTC",
          "2024-07-19 04:00:00.000 UTC",
          "2024-07-19 04:00:00.000 UTC",
          "2024-07-19 05:00:00.000 UTC",
          "2024-07-19 05:00:00.000 UTC",
          "2024-07-19 06:00:00.000 UTC",
          "2024-07-19 07:00:00.000 UTC",
          "2024-07-19 07:00:00.000 UTC",
          "2024-07-19 08:00:00.000 UTC",
          "2024-07-19 08:00:00.000 UTC",
          "2024-07-19 09:00:00.000 UTC",
          "2024-07-19 09:00:00.000 UTC",
          "2024-07-19 10:00:00.000 UTC",
          "2024-07-19 11:00:00.000 UTC",
          "2024-07-19 12:00:00.000 UTC",
          "2024-07-19 12:00:00.000 UTC",
          "2024-07-19 13:00:00.000 UTC",
          "2024-07-19 13:00:00.000 UTC",
          "2024-07-19 14:00:00.000 UTC",
          "2024-07-19 14:00:00.000 UTC",
          "2024-07-19 15:00:00.000 UTC",
          "2024-07-19 15:00:00.000 UTC",
          "2024-07-19 16:00:00.000 UTC",
          "2024-07-19 17:00:00.000 UTC",
          "2024-07-19 17:00:00.000 UTC",
          "2024-07-19 18:00:00.000 UTC",
          "2024-07-19 19:00:00.000 UTC",
          "2024-07-19 19:00:00.000 UTC",
          "2024-07-19 20:00:00.000 UTC",
          "2024-07-19 20:00:00.000 UTC",
          "2024-07-19 21:00:00.000 UTC",
          "2024-07-19 21:00:00.000 UTC",
          "2024-07-19 22:00:00.000 UTC",
          "2024-07-19 22:00:00.000 UTC",
          "2024-07-19 23:00:00.000 UTC",
          "2024-07-19 23:00:00.000 UTC",
          "2024-07-20 00:00:00.000 UTC",
          "2024-07-20 00:00:00.000 UTC",
          "2024-07-20 01:00:00.000 UTC",
          "2024-07-20 01:00:00.000 UTC",
          "2024-07-20 02:00:00.000 UTC",
          "2024-07-20 02:00:00.000 UTC",
          "2024-07-20 03:00:00.000 UTC",
          "2024-07-20 03:00:00.000 UTC",
          "2024-07-20 04:00:00.000 UTC",
          "2024-07-20 04:00:00.000 UTC",
          "2024-07-20 05:00:00.000 UTC",
          "2024-07-20 05:00:00.000 UTC",
          "2024-07-20 06:00:00.000 UTC",
          "2024-07-20 06:00:00.000 UTC",
          "2024-07-20 07:00:00.000 UTC",
          "2024-07-20 07:00:00.000 UTC",
          "2024-07-20 08:00:00.000 UTC",
          "2024-07-20 08:00:00.000 UTC",
          "2024-07-20 09:00:00.000 UTC",
          "2024-07-20 09:00:00.000 UTC",
          "2024-07-20 10:00:00.000 UTC",
          "2024-07-20 10:00:00.000 UTC",
          "2024-07-20 11:00:00.000 UTC",
          "2024-07-20 11:00:00.000 UTC",
          "2024-07-20 12:00:00.000 UTC",
          "2024-07-20 12:00:00.000 UTC",
          "2024-07-20 13:00:00.000 UTC",
          "2024-07-20 13:00:00.000 UTC",
          "2024-07-20 14:00:00.000 UTC",
          "2024-07-20 14:00:00.000 UTC",
          "2024-07-20 15:00:00.000 UTC",
          "2024-07-20 15:00:00.000 UTC",
          "2024-07-20 16:00:00.000 UTC",
          "2024-07-20 16:00:00.000 UTC",
          "2024-07-20 17:00:00.000 UTC",
          "2024-07-20 17:00:00.000 UTC",
          "2024-07-20 18:00:00.000 UTC",
          "2024-07-20 18:00:00.000 UTC",
          "2024-07-20 19:00:00.000 UTC",
          "2024-07-20 19:00:00.000 UTC",
          "2024-07-20 20:00:00.000 UTC",
          "2024-07-20 20:00:00.000 UTC",
          "2024-07-20 21:00:00.000 UTC",
          "2024-07-20 21:00:00.000 UTC",
          "2024-07-20 22:00:00.000 UTC",
          "2024-07-20 22:00:00.000 UTC",
          "2024-07-20 23:00:00.000 UTC",
          "2024-07-20 23:00:00.000 UTC",
          "2024-07-21 00:00:00.000 UTC",
          "2024-07-21 00:00:00.000 UTC",
          "2024-07-21 01:00:00.000 UTC"
         ],
         "xaxis": "x",
         "y": [
          0.0062396931178717,
          0.0062396931178717,
          0.0050588725563211,
          0.0050588725563211,
          0.004483389566266,
          0.004483389566266,
          0.004376565172068,
          0.004376565172068,
          0.0045992589307719,
          0.0045992589307719,
          0.004733452947132,
          0.004733452947132,
          0.0047130424126177,
          0.0047130424126177,
          0.0040011543820084,
          0.0040011543820084,
          0.0050162680848602,
          0.0050162680848602,
          0.004890020650958,
          0.0044590105471296,
          0.0044590105471296,
          0.0044446090336756,
          0.0044446090336756,
          0.004783570690763,
          0.0043077114123807,
          0.0043077114123807,
          0.0051474093946274,
          0.0051474093946274,
          0.0052503049494948,
          0.0052503049494948,
          0.0058658816883376,
          0.0058658816883376,
          0.0050581417262187,
          0.0050581417262187,
          0.0046379611325949,
          0.0046379611325949,
          0.0046717896789692,
          0.0046717896789692,
          0.0045604703913611,
          0.0045604703913611,
          0.005149209414802,
          0.005149209414802,
          0.0054213159797824,
          0.0054213159797824,
          0.0048436944631694,
          0.0048436944631694,
          0.0050070455710159,
          0.0050070455710159,
          0.0054474242965785,
          0.0054474242965785,
          0.0060339212056536,
          0.0060339212056536,
          0.0055388293094496,
          0.0055388293094496,
          0.0050701655538012,
          0.0050701655538012,
          0.0049272317485885,
          0.0049272317485885,
          0.0050740842403432,
          0.0050740842403432,
          0.005281655346667,
          0.005281655346667,
          0.0054343424401845,
          0.0054343424401845,
          0.0057502378448531,
          0.0057502378448531,
          0.0053855401499352,
          0.0053855401499352,
          0.005461406146308,
          0.005461406146308,
          0.0054823929671967,
          0.0054823929671967,
          0.0054631191564489,
          0.0054631191564489,
          0.0056014629713318,
          0.0056014629713318,
          0.0110720468110249,
          0.0110720468110249,
          0.0112253754006234,
          0.0123986019718074,
          0.0123986019718074,
          0.0106804750783467,
          0.0106804750783467,
          0.0161414053630119,
          0.0161414053630119,
          0.0072226417155905,
          0.0072226417155905,
          0.0081412969487998,
          0.0081412969487998,
          0.008939234277918,
          0.008939234277918,
          0.0074538264638033,
          0.0074538264638033,
          0.0071071321325336,
          0.0071071321325336,
          0.0053721977804504,
          0.0053721977804504,
          0.0059676534113301,
          0.0059676534113301,
          0.0057420980697528,
          0.0057420980697528,
          0.0058534105471053,
          0.0058534105471053,
          0.0066247296673266,
          0.0066247296673266,
          0.0064137955284424,
          0.0064137955284424,
          0.0072167150721094,
          0.0072167150721094,
          0.0075368319824894,
          0.0075368319824894,
          0.0068600308688541,
          0.0068600308688541,
          0.0060708513701731,
          0.0063654262932417,
          0.0067980612329457,
          0.0067980612329457,
          0.0035707640575142,
          0.0035707640575142,
          0.0056515454848659,
          0.0073058088054621,
          0.0073058088054621,
          0.0132241622224172,
          0.0132241622224172,
          0.0090441723866724,
          0.0087158461639841,
          0.0087158461639841,
          0.0085896766052424,
          0.0085896766052424,
          0.0082062523684802,
          0.0082062523684802,
          0.0070019897778354,
          0.0067975007826121,
          0.0067975007826121,
          0.0061832099379821,
          0.0059913060706752,
          0.0059913060706752,
          0.0068886257387762,
          0.0068886257387762,
          0.0064639882195654,
          0.0064639882195654,
          0.0073729897421762,
          0.0073729897421762,
          0.0060353426624292,
          0.0060353426624292,
          0.0075690216378774,
          0.0075690216378774,
          0.0072234306030651,
          0.0072234306030651,
          0.0066279803692569,
          0.0066279803692569,
          0.0074098787463994,
          0.0074098787463994,
          0.0079012865861907,
          0.0079012865861907,
          0.0072871167151276,
          0.0072871167151276,
          0.0069798970757191,
          0.0069798970757191,
          0.0068541539144614,
          0.0068541539144614,
          0.0082594728045548,
          0.0082594728045548,
          0.0144031661053958,
          0.0144031661053958,
          0.0112005905939284,
          0.0112005905939284,
          0.0386605687555539,
          0.0086272739540958,
          0.0086272739540958,
          0.0077649255926884,
          0.006826115640647,
          0.0076373248254642,
          0.0076373248254642,
          0.0071103376873236,
          0.0070410552236943,
          0.0070410552236943,
          0.0061963288137268,
          0.0061963288137268,
          0.0059653488649617,
          0.005766480868186,
          0.005766480868186,
          0.0067396250946962,
          0.0067396250946962,
          0.0056693225391333,
          0.0056693225391333,
          0.0060828942681043,
          0.0060828942681043,
          0.0083906244744096,
          0.0083906244744096,
          0.0076702427982923,
          0.0068538154807499,
          0.0068538154807499,
          0.0128234953882844,
          0.0128234953882844,
          0.0171032969627427,
          0.0200100043265027,
          0.0200100043265027,
          0.0047412048153584,
          0.0047412048153584,
          0.0078619501928646,
          0.0078619501928646,
          0.0090833812489005,
          0.0090833812489005,
          0.0110407638744607,
          0.0110407638744607,
          0.0155627659318321,
          0.0155627659318321,
          0.0101045975142803,
          0.0101045975142803,
          0.0104890519991613,
          0.0104890519991613,
          0.0096383182037784,
          0.0096383182037784,
          0.0072174876328158,
          0.0072174876328158,
          0.0065191221568818,
          0.0072117855442021,
          0.0072117855442021,
          0.007169609377469,
          0.0061341985349532,
          0.0061341985349532,
          0.0061560036743377,
          0.0061560036743377,
          0.0069414997044622,
          0.0069414997044622,
          0.0023308646940821,
          0.0070710540916236,
          0.0070710540916236,
          0.0066652186692586,
          0.0066652186692586,
          0.0061814154960493,
          0.0061814154960493,
          0.0055042286195738,
          0.005555976829432,
          0.005555976829432,
          0.0054790153762006,
          0.0054790153762006,
          0.0050062338573854,
          0.0050062338573854,
          0.0067482176838375,
          0.0059270709416043,
          0.0056381559330643,
          0.0056381559330643,
          0.0085655210849749,
          0.0085655210849749,
          0.0269542358583513,
          0.0269542358583513,
          0.0105702347057931,
          0.0105702347057931,
          0.0139917663629621,
          0.0079499352813864,
          0.0079499352813864,
          0.0064411874313898,
          0.0074661681004496,
          0.0074661681004496,
          0.0061166119528192,
          0.0061166119528192,
          0.0058221055769634,
          0.0058221055769634,
          0.0052639440009785,
          0.0052639440009785,
          0.005615135721509,
          0.005615135721509,
          0.0055170254191015,
          0.0055170254191015,
          0.0051874595949409,
          0.0051874595949409,
          0.0048330954172575,
          0.0048330954172575,
          0.0051815430153459,
          0.0051815430153459,
          0.0052072796264651,
          0.0052072796264651,
          0.0052455657527903,
          0.0052455657527903,
          0.0036607541000188,
          0.0036607541000188,
          0.0032125974880764,
          0.0032125974880764,
          0.00374976131953,
          0.00374976131953,
          0.0052992554483306,
          0.0052992554483306,
          0.0036785295402023,
          0.0036785295402023,
          0.003069949448795,
          0.003069949448795,
          0.0052783169634764,
          0.0052783169634764,
          0.0058202100030501,
          0.0058202100030501,
          0.0065991934902527,
          0.0065991934902527,
          0.0058331657805108,
          0.0058331657805108,
          0.00598498864582,
          0.00598498864582,
          0.0066833229234188,
          0.0066833229234188,
          0.0055953395208301,
          0.0055953395208301,
          0.0029347430298575,
          0.0029347430298575,
          0.0014907795254678,
          0.0014907795254678,
          0.0050516349671688,
          0.0050516349671688,
          0.0055632706625418,
          0.0055632706625418,
          0.0053830741575745,
          0.0053830741575745,
          0.0052914651843616,
          0.0052914651843616,
          0.0052218166061737
         ],
         "yaxis": "y2"
        },
        {
         "mode": "lines",
         "name": "Avg Gas",
         "type": "scatter",
         "x": [
          "2024-07-14 00:00:00.000 UTC",
          "2024-07-14 00:00:00.000 UTC",
          "2024-07-14 01:00:00.000 UTC",
          "2024-07-14 01:00:00.000 UTC",
          "2024-07-14 02:00:00.000 UTC",
          "2024-07-14 02:00:00.000 UTC",
          "2024-07-14 03:00:00.000 UTC",
          "2024-07-14 03:00:00.000 UTC",
          "2024-07-14 04:00:00.000 UTC",
          "2024-07-14 04:00:00.000 UTC",
          "2024-07-14 05:00:00.000 UTC",
          "2024-07-14 05:00:00.000 UTC",
          "2024-07-14 06:00:00.000 UTC",
          "2024-07-14 06:00:00.000 UTC",
          "2024-07-14 07:00:00.000 UTC",
          "2024-07-14 07:00:00.000 UTC",
          "2024-07-14 08:00:00.000 UTC",
          "2024-07-14 08:00:00.000 UTC",
          "2024-07-14 09:00:00.000 UTC",
          "2024-07-14 10:00:00.000 UTC",
          "2024-07-14 10:00:00.000 UTC",
          "2024-07-14 11:00:00.000 UTC",
          "2024-07-14 11:00:00.000 UTC",
          "2024-07-14 12:00:00.000 UTC",
          "2024-07-14 13:00:00.000 UTC",
          "2024-07-14 13:00:00.000 UTC",
          "2024-07-14 14:00:00.000 UTC",
          "2024-07-14 14:00:00.000 UTC",
          "2024-07-14 15:00:00.000 UTC",
          "2024-07-14 15:00:00.000 UTC",
          "2024-07-14 16:00:00.000 UTC",
          "2024-07-14 16:00:00.000 UTC",
          "2024-07-14 17:00:00.000 UTC",
          "2024-07-14 17:00:00.000 UTC",
          "2024-07-14 18:00:00.000 UTC",
          "2024-07-14 18:00:00.000 UTC",
          "2024-07-14 19:00:00.000 UTC",
          "2024-07-14 19:00:00.000 UTC",
          "2024-07-14 20:00:00.000 UTC",
          "2024-07-14 20:00:00.000 UTC",
          "2024-07-14 21:00:00.000 UTC",
          "2024-07-14 21:00:00.000 UTC",
          "2024-07-14 22:00:00.000 UTC",
          "2024-07-14 22:00:00.000 UTC",
          "2024-07-14 23:00:00.000 UTC",
          "2024-07-14 23:00:00.000 UTC",
          "2024-07-15 00:00:00.000 UTC",
          "2024-07-15 00:00:00.000 UTC",
          "2024-07-15 01:00:00.000 UTC",
          "2024-07-15 01:00:00.000 UTC",
          "2024-07-15 02:00:00.000 UTC",
          "2024-07-15 02:00:00.000 UTC",
          "2024-07-15 03:00:00.000 UTC",
          "2024-07-15 03:00:00.000 UTC",
          "2024-07-15 04:00:00.000 UTC",
          "2024-07-15 04:00:00.000 UTC",
          "2024-07-15 05:00:00.000 UTC",
          "2024-07-15 05:00:00.000 UTC",
          "2024-07-15 06:00:00.000 UTC",
          "2024-07-15 06:00:00.000 UTC",
          "2024-07-15 07:00:00.000 UTC",
          "2024-07-15 07:00:00.000 UTC",
          "2024-07-15 08:00:00.000 UTC",
          "2024-07-15 08:00:00.000 UTC",
          "2024-07-15 09:00:00.000 UTC",
          "2024-07-15 09:00:00.000 UTC",
          "2024-07-15 10:00:00.000 UTC",
          "2024-07-15 10:00:00.000 UTC",
          "2024-07-15 11:00:00.000 UTC",
          "2024-07-15 11:00:00.000 UTC",
          "2024-07-15 12:00:00.000 UTC",
          "2024-07-15 12:00:00.000 UTC",
          "2024-07-15 13:00:00.000 UTC",
          "2024-07-15 13:00:00.000 UTC",
          "2024-07-15 14:00:00.000 UTC",
          "2024-07-15 14:00:00.000 UTC",
          "2024-07-15 15:00:00.000 UTC",
          "2024-07-15 15:00:00.000 UTC",
          "2024-07-15 16:00:00.000 UTC",
          "2024-07-15 17:00:00.000 UTC",
          "2024-07-15 17:00:00.000 UTC",
          "2024-07-15 18:00:00.000 UTC",
          "2024-07-15 18:00:00.000 UTC",
          "2024-07-15 19:00:00.000 UTC",
          "2024-07-15 19:00:00.000 UTC",
          "2024-07-15 20:00:00.000 UTC",
          "2024-07-15 20:00:00.000 UTC",
          "2024-07-15 21:00:00.000 UTC",
          "2024-07-15 21:00:00.000 UTC",
          "2024-07-15 22:00:00.000 UTC",
          "2024-07-15 22:00:00.000 UTC",
          "2024-07-15 23:00:00.000 UTC",
          "2024-07-15 23:00:00.000 UTC",
          "2024-07-16 00:00:00.000 UTC",
          "2024-07-16 00:00:00.000 UTC",
          "2024-07-16 01:00:00.000 UTC",
          "2024-07-16 01:00:00.000 UTC",
          "2024-07-16 02:00:00.000 UTC",
          "2024-07-16 02:00:00.000 UTC",
          "2024-07-16 03:00:00.000 UTC",
          "2024-07-16 03:00:00.000 UTC",
          "2024-07-16 04:00:00.000 UTC",
          "2024-07-16 04:00:00.000 UTC",
          "2024-07-16 05:00:00.000 UTC",
          "2024-07-16 05:00:00.000 UTC",
          "2024-07-16 06:00:00.000 UTC",
          "2024-07-16 06:00:00.000 UTC",
          "2024-07-16 07:00:00.000 UTC",
          "2024-07-16 07:00:00.000 UTC",
          "2024-07-16 08:00:00.000 UTC",
          "2024-07-16 08:00:00.000 UTC",
          "2024-07-16 09:00:00.000 UTC",
          "2024-07-16 09:00:00.000 UTC",
          "2024-07-16 10:00:00.000 UTC",
          "2024-07-16 11:00:00.000 UTC",
          "2024-07-16 12:00:00.000 UTC",
          "2024-07-16 12:00:00.000 UTC",
          "2024-07-16 13:00:00.000 UTC",
          "2024-07-16 13:00:00.000 UTC",
          "2024-07-16 14:00:00.000 UTC",
          "2024-07-16 15:00:00.000 UTC",
          "2024-07-16 15:00:00.000 UTC",
          "2024-07-16 16:00:00.000 UTC",
          "2024-07-16 16:00:00.000 UTC",
          "2024-07-16 17:00:00.000 UTC",
          "2024-07-16 18:00:00.000 UTC",
          "2024-07-16 18:00:00.000 UTC",
          "2024-07-16 19:00:00.000 UTC",
          "2024-07-16 19:00:00.000 UTC",
          "2024-07-16 20:00:00.000 UTC",
          "2024-07-16 20:00:00.000 UTC",
          "2024-07-16 21:00:00.000 UTC",
          "2024-07-16 22:00:00.000 UTC",
          "2024-07-16 22:00:00.000 UTC",
          "2024-07-16 23:00:00.000 UTC",
          "2024-07-17 00:00:00.000 UTC",
          "2024-07-17 00:00:00.000 UTC",
          "2024-07-17 01:00:00.000 UTC",
          "2024-07-17 01:00:00.000 UTC",
          "2024-07-17 02:00:00.000 UTC",
          "2024-07-17 02:00:00.000 UTC",
          "2024-07-17 03:00:00.000 UTC",
          "2024-07-17 03:00:00.000 UTC",
          "2024-07-17 04:00:00.000 UTC",
          "2024-07-17 04:00:00.000 UTC",
          "2024-07-17 05:00:00.000 UTC",
          "2024-07-17 05:00:00.000 UTC",
          "2024-07-17 06:00:00.000 UTC",
          "2024-07-17 06:00:00.000 UTC",
          "2024-07-17 07:00:00.000 UTC",
          "2024-07-17 07:00:00.000 UTC",
          "2024-07-17 08:00:00.000 UTC",
          "2024-07-17 08:00:00.000 UTC",
          "2024-07-17 09:00:00.000 UTC",
          "2024-07-17 09:00:00.000 UTC",
          "2024-07-17 10:00:00.000 UTC",
          "2024-07-17 10:00:00.000 UTC",
          "2024-07-17 11:00:00.000 UTC",
          "2024-07-17 11:00:00.000 UTC",
          "2024-07-17 12:00:00.000 UTC",
          "2024-07-17 12:00:00.000 UTC",
          "2024-07-17 13:00:00.000 UTC",
          "2024-07-17 13:00:00.000 UTC",
          "2024-07-17 14:00:00.000 UTC",
          "2024-07-17 14:00:00.000 UTC",
          "2024-07-17 15:00:00.000 UTC",
          "2024-07-17 15:00:00.000 UTC",
          "2024-07-17 16:00:00.000 UTC",
          "2024-07-17 17:00:00.000 UTC",
          "2024-07-17 17:00:00.000 UTC",
          "2024-07-17 18:00:00.000 UTC",
          "2024-07-17 19:00:00.000 UTC",
          "2024-07-17 20:00:00.000 UTC",
          "2024-07-17 20:00:00.000 UTC",
          "2024-07-17 21:00:00.000 UTC",
          "2024-07-17 22:00:00.000 UTC",
          "2024-07-17 22:00:00.000 UTC",
          "2024-07-17 23:00:00.000 UTC",
          "2024-07-17 23:00:00.000 UTC",
          "2024-07-18 00:00:00.000 UTC",
          "2024-07-18 01:00:00.000 UTC",
          "2024-07-18 01:00:00.000 UTC",
          "2024-07-18 02:00:00.000 UTC",
          "2024-07-18 02:00:00.000 UTC",
          "2024-07-18 03:00:00.000 UTC",
          "2024-07-18 03:00:00.000 UTC",
          "2024-07-18 04:00:00.000 UTC",
          "2024-07-18 04:00:00.000 UTC",
          "2024-07-18 05:00:00.000 UTC",
          "2024-07-18 05:00:00.000 UTC",
          "2024-07-18 06:00:00.000 UTC",
          "2024-07-18 07:00:00.000 UTC",
          "2024-07-18 07:00:00.000 UTC",
          "2024-07-18 08:00:00.000 UTC",
          "2024-07-18 08:00:00.000 UTC",
          "2024-07-18 09:00:00.000 UTC",
          "2024-07-18 10:00:00.000 UTC",
          "2024-07-18 10:00:00.000 UTC",
          "2024-07-18 11:00:00.000 UTC",
          "2024-07-18 11:00:00.000 UTC",
          "2024-07-18 12:00:00.000 UTC",
          "2024-07-18 12:00:00.000 UTC",
          "2024-07-18 13:00:00.000 UTC",
          "2024-07-18 13:00:00.000 UTC",
          "2024-07-18 14:00:00.000 UTC",
          "2024-07-18 14:00:00.000 UTC",
          "2024-07-18 15:00:00.000 UTC",
          "2024-07-18 15:00:00.000 UTC",
          "2024-07-18 16:00:00.000 UTC",
          "2024-07-18 16:00:00.000 UTC",
          "2024-07-18 17:00:00.000 UTC",
          "2024-07-18 17:00:00.000 UTC",
          "2024-07-18 18:00:00.000 UTC",
          "2024-07-18 18:00:00.000 UTC",
          "2024-07-18 19:00:00.000 UTC",
          "2024-07-18 19:00:00.000 UTC",
          "2024-07-18 20:00:00.000 UTC",
          "2024-07-18 21:00:00.000 UTC",
          "2024-07-18 21:00:00.000 UTC",
          "2024-07-18 22:00:00.000 UTC",
          "2024-07-18 23:00:00.000 UTC",
          "2024-07-18 23:00:00.000 UTC",
          "2024-07-19 00:00:00.000 UTC",
          "2024-07-19 00:00:00.000 UTC",
          "2024-07-19 01:00:00.000 UTC",
          "2024-07-19 01:00:00.000 UTC",
          "2024-07-19 02:00:00.000 UTC",
          "2024-07-19 03:00:00.000 UTC",
          "2024-07-19 03:00:00.000 UTC",
          "2024-07-19 04:00:00.000 UTC",
          "2024-07-19 04:00:00.000 UTC",
          "2024-07-19 05:00:00.000 UTC",
          "2024-07-19 05:00:00.000 UTC",
          "2024-07-19 06:00:00.000 UTC",
          "2024-07-19 07:00:00.000 UTC",
          "2024-07-19 07:00:00.000 UTC",
          "2024-07-19 08:00:00.000 UTC",
          "2024-07-19 08:00:00.000 UTC",
          "2024-07-19 09:00:00.000 UTC",
          "2024-07-19 09:00:00.000 UTC",
          "2024-07-19 10:00:00.000 UTC",
          "2024-07-19 11:00:00.000 UTC",
          "2024-07-19 12:00:00.000 UTC",
          "2024-07-19 12:00:00.000 UTC",
          "2024-07-19 13:00:00.000 UTC",
          "2024-07-19 13:00:00.000 UTC",
          "2024-07-19 14:00:00.000 UTC",
          "2024-07-19 14:00:00.000 UTC",
          "2024-07-19 15:00:00.000 UTC",
          "2024-07-19 15:00:00.000 UTC",
          "2024-07-19 16:00:00.000 UTC",
          "2024-07-19 17:00:00.000 UTC",
          "2024-07-19 17:00:00.000 UTC",
          "2024-07-19 18:00:00.000 UTC",
          "2024-07-19 19:00:00.000 UTC",
          "2024-07-19 19:00:00.000 UTC",
          "2024-07-19 20:00:00.000 UTC",
          "2024-07-19 20:00:00.000 UTC",
          "2024-07-19 21:00:00.000 UTC",
          "2024-07-19 21:00:00.000 UTC",
          "2024-07-19 22:00:00.000 UTC",
          "2024-07-19 22:00:00.000 UTC",
          "2024-07-19 23:00:00.000 UTC",
          "2024-07-19 23:00:00.000 UTC",
          "2024-07-20 00:00:00.000 UTC",
          "2024-07-20 00:00:00.000 UTC",
          "2024-07-20 01:00:00.000 UTC",
          "2024-07-20 01:00:00.000 UTC",
          "2024-07-20 02:00:00.000 UTC",
          "2024-07-20 02:00:00.000 UTC",
          "2024-07-20 03:00:00.000 UTC",
          "2024-07-20 03:00:00.000 UTC",
          "2024-07-20 04:00:00.000 UTC",
          "2024-07-20 04:00:00.000 UTC",
          "2024-07-20 05:00:00.000 UTC",
          "2024-07-20 05:00:00.000 UTC",
          "2024-07-20 06:00:00.000 UTC",
          "2024-07-20 06:00:00.000 UTC",
          "2024-07-20 07:00:00.000 UTC",
          "2024-07-20 07:00:00.000 UTC",
          "2024-07-20 08:00:00.000 UTC",
          "2024-07-20 08:00:00.000 UTC",
          "2024-07-20 09:00:00.000 UTC",
          "2024-07-20 09:00:00.000 UTC",
          "2024-07-20 10:00:00.000 UTC",
          "2024-07-20 10:00:00.000 UTC",
          "2024-07-20 11:00:00.000 UTC",
          "2024-07-20 11:00:00.000 UTC",
          "2024-07-20 12:00:00.000 UTC",
          "2024-07-20 12:00:00.000 UTC",
          "2024-07-20 13:00:00.000 UTC",
          "2024-07-20 13:00:00.000 UTC",
          "2024-07-20 14:00:00.000 UTC",
          "2024-07-20 14:00:00.000 UTC",
          "2024-07-20 15:00:00.000 UTC",
          "2024-07-20 15:00:00.000 UTC",
          "2024-07-20 16:00:00.000 UTC",
          "2024-07-20 16:00:00.000 UTC",
          "2024-07-20 17:00:00.000 UTC",
          "2024-07-20 17:00:00.000 UTC",
          "2024-07-20 18:00:00.000 UTC",
          "2024-07-20 18:00:00.000 UTC",
          "2024-07-20 19:00:00.000 UTC",
          "2024-07-20 19:00:00.000 UTC",
          "2024-07-20 20:00:00.000 UTC",
          "2024-07-20 20:00:00.000 UTC",
          "2024-07-20 21:00:00.000 UTC",
          "2024-07-20 21:00:00.000 UTC",
          "2024-07-20 22:00:00.000 UTC",
          "2024-07-20 22:00:00.000 UTC",
          "2024-07-20 23:00:00.000 UTC",
          "2024-07-20 23:00:00.000 UTC",
          "2024-07-21 00:00:00.000 UTC",
          "2024-07-21 00:00:00.000 UTC",
          "2024-07-21 01:00:00.000 UTC"
         ],
         "xaxis": "x",
         "y": [
          0.0103401309276927,
          0.0103401309276927,
          0.0079585461038869,
          0.0079585461038869,
          0.0058975460283384,
          0.0058975460283384,
          0.0052644814787984,
          0.0052644814787984,
          0.0060682685090187,
          0.0060682685090187,
          0.0060323872084619,
          0.0060323872084619,
          0.0061994295247863,
          0.0061994295247863,
          0.0062000607309071,
          0.0062000607309071,
          0.0070473350624333,
          0.0070473350624333,
          0.0078216492641628,
          0.0071249057165158,
          0.0071249057165158,
          0.0065460788421721,
          0.0065460788421721,
          0.0077891972568087,
          0.0072868136890223,
          0.0072868136890223,
          0.0082453349391753,
          0.0082453349391753,
          0.0081858846986499,
          0.0081858846986499,
          0.0086240433547194,
          0.0086240433547194,
          0.0077105731973843,
          0.0077105731973843,
          0.0069099604786638,
          0.0069099604786638,
          0.0070246634762075,
          0.0070246634762075,
          0.0075121203080224,
          0.0075121203080224,
          0.0100701020809946,
          0.0100701020809946,
          0.0096566462999899,
          0.0096566462999899,
          0.0091157699243328,
          0.0091157699243328,
          0.0091664926208337,
          0.0091664926208337,
          0.0095181322017915,
          0.0095181322017915,
          0.0135962671864679,
          0.0135962671864679,
          0.0076522491890186,
          0.0076522491890186,
          0.006631097098852,
          0.006631097098852,
          0.0067441046219953,
          0.0067441046219953,
          0.008068712742248,
          0.008068712742248,
          0.0080852890412604,
          0.0080852890412604,
          0.008559537011277,
          0.008559537011277,
          0.007711460316826,
          0.007711460316826,
          0.0070376323690918,
          0.0070376323690918,
          0.0075521285126457,
          0.0075521285126457,
          0.0073667444701307,
          0.0073667444701307,
          0.0078925775782873,
          0.0078925775782873,
          0.0092927913149329,
          0.0092927913149329,
          0.0245147004793096,
          0.0245147004793096,
          0.0162619498844571,
          0.0177150528350583,
          0.0177150528350583,
          0.0152292844851606,
          0.0152292844851606,
          0.0299478131177824,
          0.0299478131177824,
          0.012840307018252,
          0.012840307018252,
          0.0125587912036181,
          0.0125587912036181,
          0.017102567674211,
          0.017102567674211,
          0.0124457469804961,
          0.0124457469804961,
          0.0119404905651584,
          0.0119404905651584,
          0.0084618112186833,
          0.0084618112186833,
          0.009022491758621,
          0.009022491758621,
          0.0085170672117919,
          0.0085170672117919,
          0.0084201668276364,
          0.0084201668276364,
          0.0119901012271721,
          0.0119901012271721,
          0.0125899641778994,
          0.0125899641778994,
          0.0136717429105623,
          0.0136717429105623,
          0.012874641775514,
          0.012874641775514,
          0.0099969716673122,
          0.0099969716673122,
          0.0087980802126838,
          0.0095622360532929,
          0.0102070361199914,
          0.0102070361199914,
          0.0073765419622956,
          0.0073765419622956,
          0.0100533475279317,
          0.0125513882728723,
          0.0125513882728723,
          0.0241653358232687,
          0.0241653358232687,
          0.0130535608439948,
          0.0122944279333533,
          0.0122944279333533,
          0.011971442372227,
          0.011971442372227,
          0.0109469594427562,
          0.0109469594427562,
          0.0104523258417415,
          0.010508359592442,
          0.010508359592442,
          0.010432399913085,
          0.0096961971562727,
          0.0096961971562727,
          0.0116282348462415,
          0.0116282348462415,
          0.0096086173344865,
          0.0096086173344865,
          0.0099615152711953,
          0.0099615152711953,
          0.008179513596821,
          0.008179513596821,
          0.01084835906298,
          0.01084835906298,
          0.0110248753158889,
          0.0110248753158889,
          0.0096010746976175,
          0.0096010746976175,
          0.0111985865972921,
          0.0111985865972921,
          0.0102521304728456,
          0.0102521304728456,
          0.0089886735512647,
          0.0089886735512647,
          0.0099278203595389,
          0.0099278203595389,
          0.008524404453435,
          0.008524404453435,
          0.0139161977343648,
          0.0139161977343648,
          0.021548494813498,
          0.021548494813498,
          0.0159999305454267,
          0.0159999305454267,
          0.0877838431269842,
          0.0113423651139165,
          0.0113423651139165,
          0.0096109165997446,
          0.0089986797173112,
          0.0101311025440309,
          0.0101311025440309,
          0.0111812300546566,
          0.0102320842245555,
          0.0102320842245555,
          0.0092443440279504,
          0.0092443440279504,
          0.0087123377427407,
          0.007214736429508,
          0.007214736429508,
          0.0095946180178358,
          0.0095946180178358,
          0.0066760098781022,
          0.0066760098781022,
          0.0071503558616753,
          0.0071503558616753,
          0.0092982880848331,
          0.0092982880848331,
          0.0092213762042635,
          0.0133399458234704,
          0.0133399458234704,
          0.0213423124853881,
          0.0213423124853881,
          0.0336730750299563,
          0.08025563950878,
          0.08025563950878,
          0.0073113442131197,
          0.0073113442131197,
          0.0092921885270281,
          0.0092921885270281,
          0.0117664305451181,
          0.0117664305451181,
          0.01854194561028,
          0.01854194561028,
          0.0242712478076362,
          0.0242712478076362,
          0.0264481438088981,
          0.0264481438088981,
          0.0143175390788965,
          0.0143175390788965,
          0.0142838834627078,
          0.0142838834627078,
          0.0097901298676501,
          0.0097901298676501,
          0.0102110072761613,
          0.010548035679383,
          0.010548035679383,
          0.0092522490280553,
          0.0073107871989885,
          0.0073107871989885,
          0.0073425130205072,
          0.0073425130205072,
          0.0089862600073101,
          0.0089862600073101,
          0.0059020402405761,
          0.0095361070257962,
          0.0095361070257962,
          0.0081965249361231,
          0.0081965249361231,
          0.006677164771509,
          0.006677164771509,
          0.008028929204927,
          0.0093917626222513,
          0.0093917626222513,
          0.0087091478153917,
          0.0087091478153917,
          0.0081519741420235,
          0.0081519741420235,
          0.0135778366533539,
          0.0095490812080395,
          0.0098495553832242,
          0.0098495553832242,
          0.0200483183898083,
          0.0200483183898083,
          0.0619371294175456,
          0.0619371294175456,
          0.0177477151816217,
          0.0177477151816217,
          0.0330861448853862,
          0.0137868886217727,
          0.0137868886217727,
          0.0108588201089866,
          0.0139021285275693,
          0.0139021285275693,
          0.0095678555531591,
          0.0095678555531591,
          0.0097225463090532,
          0.0097225463090532,
          0.0093480689604949,
          0.0093480689604949,
          0.0091255620261983,
          0.0091255620261983,
          0.0093700549994471,
          0.0093700549994471,
          0.0087787726368262,
          0.0087787726368262,
          0.0082016539750398,
          0.0082016539750398,
          0.0077518347163114,
          0.0077518347163114,
          0.0066720932990243,
          0.0066720932990243,
          0.0075611692438362,
          0.0075611692438362,
          0.0067074096882248,
          0.0067074096882248,
          0.0068991818605965,
          0.0068991818605965,
          0.0075464326326224,
          0.0075464326326224,
          0.0085755342657331,
          0.0085755342657331,
          0.0073924641796263,
          0.0073924641796263,
          0.0070240951477629,
          0.0070240951477629,
          0.0087519998282188,
          0.0087519998282188,
          0.0092898916987183,
          0.0092898916987183,
          0.0104273202513932,
          0.0104273202513932,
          0.0094809981611247,
          0.0094809981611247,
          0.0094280661854106,
          0.0094280661854106,
          0.0140987530799122,
          0.0140987530799122,
          0.0092307333177541,
          0.0092307333177541,
          0.0068753056715655,
          0.0068753056715655,
          0.00553924084829,
          0.00553924084829,
          0.0091921597801654,
          0.0091921597801654,
          0.01009405364689,
          0.01009405364689,
          0.0095214664382677,
          0.0095214664382677,
          0.0095023593260369,
          0.0095023593260369,
          0.0093728013062163
         ],
         "yaxis": "y2"
        }
       ],
       "layout": {
        "template": {
         "data": {
          "bar": [
           {
            "error_x": {
             "color": "#2a3f5f"
            },
            "error_y": {
             "color": "#2a3f5f"
            },
            "marker": {
             "line": {
              "color": "#E5ECF6",
              "width": 0.5
             },
             "pattern": {
              "fillmode": "overlay",
              "size": 10,
              "solidity": 0.2
             }
            },
            "type": "bar"
           }
          ],
          "barpolar": [
           {
            "marker": {
             "line": {
              "color": "#E5ECF6",
              "width": 0.5
             },
             "pattern": {
              "fillmode": "overlay",
              "size": 10,
              "solidity": 0.2
             }
            },
            "type": "barpolar"
           }
          ],
          "carpet": [
           {
            "aaxis": {
             "endlinecolor": "#2a3f5f",
             "gridcolor": "white",
             "linecolor": "white",
             "minorgridcolor": "white",
             "startlinecolor": "#2a3f5f"
            },
            "baxis": {
             "endlinecolor": "#2a3f5f",
             "gridcolor": "white",
             "linecolor": "white",
             "minorgridcolor": "white",
             "startlinecolor": "#2a3f5f"
            },
            "type": "carpet"
           }
          ],
          "choropleth": [
           {
            "colorbar": {
             "outlinewidth": 0,
             "ticks": ""
            },
            "type": "choropleth"
           }
          ],
          "contour": [
           {
            "colorbar": {
             "outlinewidth": 0,
             "ticks": ""
            },
            "colorscale": [
             [
              0,
              "#0d0887"
             ],
             [
              0.1111111111111111,
              "#46039f"
             ],
             [
              0.2222222222222222,
              "#7201a8"
             ],
             [
              0.3333333333333333,
              "#9c179e"
             ],
             [
              0.4444444444444444,
              "#bd3786"
             ],
             [
              0.5555555555555556,
              "#d8576b"
             ],
             [
              0.6666666666666666,
              "#ed7953"
             ],
             [
              0.7777777777777778,
              "#fb9f3a"
             ],
             [
              0.8888888888888888,
              "#fdca26"
             ],
             [
              1,
              "#f0f921"
             ]
            ],
            "type": "contour"
           }
          ],
          "contourcarpet": [
           {
            "colorbar": {
             "outlinewidth": 0,
             "ticks": ""
            },
            "type": "contourcarpet"
           }
          ],
          "heatmap": [
           {
            "colorbar": {
             "outlinewidth": 0,
             "ticks": ""
            },
            "colorscale": [
             [
              0,
              "#0d0887"
             ],
             [
              0.1111111111111111,
              "#46039f"
             ],
             [
              0.2222222222222222,
              "#7201a8"
             ],
             [
              0.3333333333333333,
              "#9c179e"
             ],
             [
              0.4444444444444444,
              "#bd3786"
             ],
             [
              0.5555555555555556,
              "#d8576b"
             ],
             [
              0.6666666666666666,
              "#ed7953"
             ],
             [
              0.7777777777777778,
              "#fb9f3a"
             ],
             [
              0.8888888888888888,
              "#fdca26"
             ],
             [
              1,
              "#f0f921"
             ]
            ],
            "type": "heatmap"
           }
          ],
          "heatmapgl": [
           {
            "colorbar": {
             "outlinewidth": 0,
             "ticks": ""
            },
            "colorscale": [
             [
              0,
              "#0d0887"
             ],
             [
              0.1111111111111111,
              "#46039f"
             ],
             [
              0.2222222222222222,
              "#7201a8"
             ],
             [
              0.3333333333333333,
              "#9c179e"
             ],
             [
              0.4444444444444444,
              "#bd3786"
             ],
             [
              0.5555555555555556,
              "#d8576b"
             ],
             [
              0.6666666666666666,
              "#ed7953"
             ],
             [
              0.7777777777777778,
              "#fb9f3a"
             ],
             [
              0.8888888888888888,
              "#fdca26"
             ],
             [
              1,
              "#f0f921"
             ]
            ],
            "type": "heatmapgl"
           }
          ],
          "histogram": [
           {
            "marker": {
             "pattern": {
              "fillmode": "overlay",
              "size": 10,
              "solidity": 0.2
             }
            },
            "type": "histogram"
           }
          ],
          "histogram2d": [
           {
            "colorbar": {
             "outlinewidth": 0,
             "ticks": ""
            },
            "colorscale": [
             [
              0,
              "#0d0887"
             ],
             [
              0.1111111111111111,
              "#46039f"
             ],
             [
              0.2222222222222222,
              "#7201a8"
             ],
             [
              0.3333333333333333,
              "#9c179e"
             ],
             [
              0.4444444444444444,
              "#bd3786"
             ],
             [
              0.5555555555555556,
              "#d8576b"
             ],
             [
              0.6666666666666666,
              "#ed7953"
             ],
             [
              0.7777777777777778,
              "#fb9f3a"
             ],
             [
              0.8888888888888888,
              "#fdca26"
             ],
             [
              1,
              "#f0f921"
             ]
            ],
            "type": "histogram2d"
           }
          ],
          "histogram2dcontour": [
           {
            "colorbar": {
             "outlinewidth": 0,
             "ticks": ""
            },
            "colorscale": [
             [
              0,
              "#0d0887"
             ],
             [
              0.1111111111111111,
              "#46039f"
             ],
             [
              0.2222222222222222,
              "#7201a8"
             ],
             [
              0.3333333333333333,
              "#9c179e"
             ],
             [
              0.4444444444444444,
              "#bd3786"
             ],
             [
              0.5555555555555556,
              "#d8576b"
             ],
             [
              0.6666666666666666,
              "#ed7953"
             ],
             [
              0.7777777777777778,
              "#fb9f3a"
             ],
             [
              0.8888888888888888,
              "#fdca26"
             ],
             [
              1,
              "#f0f921"
             ]
            ],
            "type": "histogram2dcontour"
           }
          ],
          "mesh3d": [
           {
            "colorbar": {
             "outlinewidth": 0,
             "ticks": ""
            },
            "type": "mesh3d"
           }
          ],
          "parcoords": [
           {
            "line": {
             "colorbar": {
              "outlinewidth": 0,
              "ticks": ""
             }
            },
            "type": "parcoords"
           }
          ],
          "pie": [
           {
            "automargin": true,
            "type": "pie"
           }
          ],
          "scatter": [
           {
            "fillpattern": {
             "fillmode": "overlay",
             "size": 10,
             "solidity": 0.2
            },
            "type": "scatter"
           }
          ],
          "scatter3d": [
           {
            "line": {
             "colorbar": {
              "outlinewidth": 0,
              "ticks": ""
             }
            },
            "marker": {
             "colorbar": {
              "outlinewidth": 0,
              "ticks": ""
             }
            },
            "type": "scatter3d"
           }
          ],
          "scattercarpet": [
           {
            "marker": {
             "colorbar": {
              "outlinewidth": 0,
              "ticks": ""
             }
            },
            "type": "scattercarpet"
           }
          ],
          "scattergeo": [
           {
            "marker": {
             "colorbar": {
              "outlinewidth": 0,
              "ticks": ""
             }
            },
            "type": "scattergeo"
           }
          ],
          "scattergl": [
           {
            "marker": {
             "colorbar": {
              "outlinewidth": 0,
              "ticks": ""
             }
            },
            "type": "scattergl"
           }
          ],
          "scattermapbox": [
           {
            "marker": {
             "colorbar": {
              "outlinewidth": 0,
              "ticks": ""
             }
            },
            "type": "scattermapbox"
           }
          ],
          "scatterpolar": [
           {
            "marker": {
             "colorbar": {
              "outlinewidth": 0,
              "ticks": ""
             }
            },
            "type": "scatterpolar"
           }
          ],
          "scatterpolargl": [
           {
            "marker": {
             "colorbar": {
              "outlinewidth": 0,
              "ticks": ""
             }
            },
            "type": "scatterpolargl"
           }
          ],
          "scatterternary": [
           {
            "marker": {
             "colorbar": {
              "outlinewidth": 0,
              "ticks": ""
             }
            },
            "type": "scatterternary"
           }
          ],
          "surface": [
           {
            "colorbar": {
             "outlinewidth": 0,
             "ticks": ""
            },
            "colorscale": [
             [
              0,
              "#0d0887"
             ],
             [
              0.1111111111111111,
              "#46039f"
             ],
             [
              0.2222222222222222,
              "#7201a8"
             ],
             [
              0.3333333333333333,
              "#9c179e"
             ],
             [
              0.4444444444444444,
              "#bd3786"
             ],
             [
              0.5555555555555556,
              "#d8576b"
             ],
             [
              0.6666666666666666,
              "#ed7953"
             ],
             [
              0.7777777777777778,
              "#fb9f3a"
             ],
             [
              0.8888888888888888,
              "#fdca26"
             ],
             [
              1,
              "#f0f921"
             ]
            ],
            "type": "surface"
           }
          ],
          "table": [
           {
            "cells": {
             "fill": {
              "color": "#EBF0F8"
             },
             "line": {
              "color": "white"
             }
            },
            "header": {
             "fill": {
              "color": "#C8D4E3"
             },
             "line": {
              "color": "white"
             }
            },
            "type": "table"
           }
          ]
         },
         "layout": {
          "annotationdefaults": {
           "arrowcolor": "#2a3f5f",
           "arrowhead": 0,
           "arrowwidth": 1
          },
          "autotypenumbers": "strict",
          "coloraxis": {
           "colorbar": {
            "outlinewidth": 0,
            "ticks": ""
           }
          },
          "colorscale": {
           "diverging": [
            [
             0,
             "#8e0152"
            ],
            [
             0.1,
             "#c51b7d"
            ],
            [
             0.2,
             "#de77ae"
            ],
            [
             0.3,
             "#f1b6da"
            ],
            [
             0.4,
             "#fde0ef"
            ],
            [
             0.5,
             "#f7f7f7"
            ],
            [
             0.6,
             "#e6f5d0"
            ],
            [
             0.7,
             "#b8e186"
            ],
            [
             0.8,
             "#7fbc41"
            ],
            [
             0.9,
             "#4d9221"
            ],
            [
             1,
             "#276419"
            ]
           ],
           "sequential": [
            [
             0,
             "#0d0887"
            ],
            [
             0.1111111111111111,
             "#46039f"
            ],
            [
             0.2222222222222222,
             "#7201a8"
            ],
            [
             0.3333333333333333,
             "#9c179e"
            ],
            [
             0.4444444444444444,
             "#bd3786"
            ],
            [
             0.5555555555555556,
             "#d8576b"
            ],
            [
             0.6666666666666666,
             "#ed7953"
            ],
            [
             0.7777777777777778,
             "#fb9f3a"
            ],
            [
             0.8888888888888888,
             "#fdca26"
            ],
            [
             1,
             "#f0f921"
            ]
           ],
           "sequentialminus": [
            [
             0,
             "#0d0887"
            ],
            [
             0.1111111111111111,
             "#46039f"
            ],
            [
             0.2222222222222222,
             "#7201a8"
            ],
            [
             0.3333333333333333,
             "#9c179e"
            ],
            [
             0.4444444444444444,
             "#bd3786"
            ],
            [
             0.5555555555555556,
             "#d8576b"
            ],
            [
             0.6666666666666666,
             "#ed7953"
            ],
            [
             0.7777777777777778,
             "#fb9f3a"
            ],
            [
             0.8888888888888888,
             "#fdca26"
            ],
            [
             1,
             "#f0f921"
            ]
           ]
          },
          "colorway": [
           "#636efa",
           "#EF553B",
           "#00cc96",
           "#ab63fa",
           "#FFA15A",
           "#19d3f3",
           "#FF6692",
           "#B6E880",
           "#FF97FF",
           "#FECB52"
          ],
          "font": {
           "color": "#2a3f5f"
          },
          "geo": {
           "bgcolor": "white",
           "lakecolor": "white",
           "landcolor": "#E5ECF6",
           "showlakes": true,
           "showland": true,
           "subunitcolor": "white"
          },
          "hoverlabel": {
           "align": "left"
          },
          "hovermode": "closest",
          "mapbox": {
           "style": "light"
          },
          "paper_bgcolor": "white",
          "plot_bgcolor": "#E5ECF6",
          "polar": {
           "angularaxis": {
            "gridcolor": "white",
            "linecolor": "white",
            "ticks": ""
           },
           "bgcolor": "#E5ECF6",
           "radialaxis": {
            "gridcolor": "white",
            "linecolor": "white",
            "ticks": ""
           }
          },
          "scene": {
           "xaxis": {
            "backgroundcolor": "#E5ECF6",
            "gridcolor": "white",
            "gridwidth": 2,
            "linecolor": "white",
            "showbackground": true,
            "ticks": "",
            "zerolinecolor": "white"
           },
           "yaxis": {
            "backgroundcolor": "#E5ECF6",
            "gridcolor": "white",
            "gridwidth": 2,
            "linecolor": "white",
            "showbackground": true,
            "ticks": "",
            "zerolinecolor": "white"
           },
           "zaxis": {
            "backgroundcolor": "#E5ECF6",
            "gridcolor": "white",
            "gridwidth": 2,
            "linecolor": "white",
            "showbackground": true,
            "ticks": "",
            "zerolinecolor": "white"
           }
          },
          "shapedefaults": {
           "line": {
            "color": "#2a3f5f"
           }
          },
          "ternary": {
           "aaxis": {
            "gridcolor": "white",
            "linecolor": "white",
            "ticks": ""
           },
           "baxis": {
            "gridcolor": "white",
            "linecolor": "white",
            "ticks": ""
           },
           "bgcolor": "#E5ECF6",
           "caxis": {
            "gridcolor": "white",
            "linecolor": "white",
            "ticks": ""
           }
          },
          "title": {
           "x": 0.05
          },
          "xaxis": {
           "automargin": true,
           "gridcolor": "white",
           "linecolor": "white",
           "ticks": "",
           "title": {
            "standoff": 15
           },
           "zerolinecolor": "white",
           "zerolinewidth": 2
          },
          "yaxis": {
           "automargin": true,
           "gridcolor": "white",
           "linecolor": "white",
           "ticks": "",
           "title": {
            "standoff": 15
           },
           "zerolinecolor": "white",
           "zerolinewidth": 2
          }
         }
        },
        "xaxis": {
         "anchor": "y",
         "domain": [
          0,
          0.94
         ],
         "title": {
          "text": "Date"
         }
        },
        "yaxis": {
         "anchor": "x",
         "domain": [
          0,
          1
         ]
        },
        "yaxis2": {
         "anchor": "x",
         "overlaying": "y",
         "side": "right"
        }
       }
      }
     },
     "metadata": {},
     "output_type": "display_data"
    }
   ],
   "source": [
    "weth_zro_gas_fig = make_subplots(specs=[[{\"secondary_y\": True}]])\n",
    "\n",
    "weth_zro_gas_fig.add_trace(\n",
    "    go.Bar(\n",
    "        x=weth_zro['day'],\n",
    "        y=weth_zro['arbitrum_num_trades'],\n",
    "        name='# of Trades'\n",
    "    ),\n",
    "    secondary_y=False\n",
    ")\n",
    "\n",
    "weth_zro_gas_fig.add_trace(\n",
    "    go.Scatter(\n",
    "        x=weth_zro['day'],\n",
    "        y=weth_zro['arbitrum_median_gas_usd'],\n",
    "        name='Median Gas',\n",
    "        mode='lines'\n",
    "    ),\n",
    "    secondary_y=True\n",
    ")\n",
    "\n",
    "weth_zro_gas_fig.add_trace(\n",
    "    go.Scatter(\n",
    "        x=weth_zro['day'],\n",
    "        y=weth_zro['arbitrum_gas_usd_per_tx'],\n",
    "        name='Avg Gas',\n",
    "        mode='lines'\n",
    "    ),\n",
    "    secondary_y=True\n",
    ")\n",
    "\n",
    "weth_zro_gas_fig.update_xaxes(title_text=\"Date\")\n",
    "\n",
    "weth_zro_gas_fig.show()\n"
   ]
  },
  {
   "cell_type": "markdown",
   "metadata": {},
   "source": [
    "## Optimism"
   ]
  },
  {
   "cell_type": "markdown",
   "metadata": {},
   "source": [
    "## Base"
   ]
  },
  {
   "cell_type": "markdown",
   "metadata": {},
   "source": [
    "## Trader Behavior"
   ]
  },
  {
   "cell_type": "markdown",
   "metadata": {},
   "source": [
    "# Correlation Analysis"
   ]
  },
  {
   "cell_type": "markdown",
   "metadata": {},
   "source": []
  }
 ],
 "metadata": {
  "kernelspec": {
   "display_name": "gas subsidy kernel",
   "language": "python",
   "name": "gas_subsidy"
  },
  "language_info": {
   "codemirror_mode": {
    "name": "ipython",
    "version": 3
   },
   "file_extension": ".py",
   "mimetype": "text/x-python",
   "name": "python",
   "nbconvert_exporter": "python",
   "pygments_lexer": "ipython3",
   "version": "3.11.9"
  }
 },
 "nbformat": 4,
 "nbformat_minor": 2
}
